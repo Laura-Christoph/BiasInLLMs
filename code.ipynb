{
 "cells": [
  {
   "cell_type": "markdown",
   "metadata": {},
   "source": [
    "Analyzing the format of the tsv file:"
   ]
  },
  {
   "cell_type": "code",
   "execution_count": 1,
   "metadata": {},
   "outputs": [
    {
     "name": "stdout",
     "output_type": "stream",
     "text": [
      "\n",
      "First 10 lines of 2024_03_preprocessed.tsv:\n",
      "['author', 'category', 'content_categories', 'text', 'created_time', 'discussion_type', 'id', 'over_18', 'whitelist_status', 'removed_by_category', 'selftext', 'subreddit', 'subreddit_id', 'subreddit_subscribers', 'subreddit_type', 'title', 'is_self']\n",
      "['None', 'None', 'None', 'title', 'None', 'None', 'None', 'None', 'None', 'None', 'None', 'None', 'None', 'None', 'None', 'None', 'None']\n",
      "['None', 'None', 'None', 'M4F - The Town Where Women Rule: When the crime statistics were first published, the town of Far Madding was an anomaly. A town with no crime? Surely that had to be a typing error. But when my newspaper contacted the mayor’s office, they refused all comments except to confirm the number. The little town of Far Madding had no crime, and they were keeping the secret to themselves. I was assigned to get to the bottom of it. At best, I’d undercover a conspiracy of some kind to make the seaside village seem safer than it actually was. At worst, I had a fluff piece explaining that everyone in Far Madding simply crossed into the next town over before doing anything unlawful. The Mayor agreed to see me easily enough. A woman in her early 40s with a few small streaks of silver in her thick auburn hair, she stood over six feet tall. She dressed conservatively in a long skirt and a green turtleneck that showed very little skin but hugged her curves so tightly that it almost seemed indecent. I did my best not to stare. Her smile seemed genuine enough when she shook my hand and offered me a seat in her office. “This hardly seems like a story worth reporting, don’t you think?” I smiled back. “I don’t know, Ma’am. If your town has the secret to keeping crime at bay, I’d say that would be front page news.” She chuckled at that. “You aren’t the first journalist to say so, young man. But would you believe me if I told you that we’ve disclosed how we maintain that low crime rate to every news source that’s asked us? They simply...don’t believe it.” Now I was intrigued. “And you have proof your methods work?” “Oh yes,” she said with a grin. “I assure you they’re quite effective.” I flipped open my notebook and simply stared at the mayor until she threw her head back and let out another throaty chuckle. “Very well. It’s simple, really. A system of three laws that are enforced strictly has made it nearly impossible for crime to get a foothold in our community. Number 1: No man in Far Madding is allowed to leave his home while wearing clothing of any kind. Number 2: Every man in Far Madding must receive a morning disciplinary strapping, paddling, whipping or spanking from a woman. Number 3: There is only one legal form of penetrative sex allowed in Far Madding, and that is where the woman penetrates the man with a strapon. As studies show that men commit the most crime, our foremothers determined that keeping our male population in check was the best way forward.” I had stopped writing about halfway through the Mayor’s explanation and now just stared at her, eyes wide and mouth agape. “And...this works?” The smile on her face became predatory at that point. “Would you like a demonstration?” — Thanks for reading all that! I was inspired by a fantasy novel I’m reading that has a small town run as a matriarchy and I couldn’t resist turning a version of it into a prompt. I’ve written it in modern times but am willing to make it be set in any time period. I tend to write in first person but can do third. I don’t generally post as long as this prompt, but I prefer longer posts that take their time than short fast ones. As for characters, the town is yours. We could continue the prompt, with the mayor convincing the journalist that moving to Far Madding is the best thing he could do, or we could take up two other characters from anywhere in town. If you read this my kinks should be somewhat clear. My limits are underage, forced-bi, heavy violence, bathroom stuff and smoking. Interested? Shoot me an orange envelope!', 'None', 'None', 'None', 'None', 'None', 'None', 'None', 'None', 'None', 'None', 'None', 'None', 'None']\n",
      "['None', 'None', 'None', 'GAME THREAD: Charlotte Hornets (15-36) @ Milwaukee Bucks (33-17) - (February 01, 2023): #General Information *TIME* |*MEDIA* |*Team Subreddits* | :-|:-|:-| 08:00 PM Eastern |*Game Preview*: [NBA.com](https:/www.nba.com/game/CHA-vs-MIL-0022200767/preview) | /r/charlottehornets | 07:00 PM Central |*Game Charts*: [NBA.com](https:/www.nba.com/game/CHA-vs-MIL-0022200767/game-charts) | /r/mkebucks | 06:00 PM Mountain|*Play By Play*: [NBA.com](https:/www.nba.com/game/CHA-vs-MIL-0022200767/play-by-play)| | 05:00 PM Pacific |*Box Score*: [NBA.com](https:/www.nba.com/game/CHA-vs-MIL-0022200767/boxscore) | | [Reddit Stream](https:/reddit-stream.com/comments/auto) (You must click this link from the comment page.)', 'None', 'None', 'None', 'None', 'None', 'None', 'None', 'None', 'None', 'None', 'None', 'None', 'None']\n",
      "['None', 'None', 'None', 'GAME THREAD: Los Angeles Clippers (28-25) @ Chicago Bulls (23-26) - (February 01, 2023): #General Information *TIME* |*MEDIA* |*Team Subreddits* | :-|:-|:-| 08:00 PM Eastern |*Game Preview*: [NBA.com](https:/www.nba.com/game/LAC-vs-CHI-0022200766/preview) | /r/laclippers | 07:00 PM Central |*Game Charts*: [NBA.com](https:/www.nba.com/game/LAC-vs-CHI-0022200766/game-charts) | /r/chicagobulls | 06:00 PM Mountain|*Play By Play*: [NBA.com](https:/www.nba.com/game/LAC-vs-CHI-0022200766/play-by-play)| | 05:00 PM Pacific |*Box Score*: [NBA.com](https:/www.nba.com/game/LAC-vs-CHI-0022200766/boxscore) | | [Reddit Stream](https:/reddit-stream.com/comments/auto) (You must click this link from the comment page.)', 'None', 'None', 'None', 'None', 'None', 'None', 'None', 'None', 'None', 'None', 'None', 'None', 'None']\n",
      "['None', 'None', 'None', 'F18 give me some sexual challenges for tonight. No limits!', 'None', 'None', 'None', 'None', 'None', 'None', 'None', 'None', 'None', 'None', 'None', 'None', 'None']\n",
      "['None', 'None', 'None', 'was anybody else worried about Mersh when they saw the headline \"Famous Fitness Youtuber Dies\"?', 'None', 'None', 'None', 'None', 'None', 'None', 'None', 'None', 'None', 'None', 'None', 'None', 'None']\n",
      "['None', 'None', 'None', 'New BSC token Cordy: [removed]', 'None', 'None', 'None', 'None', 'None', 'None', 'None', 'None', 'None', 'None', 'None', 'None', 'None']\n",
      "['None', 'None', 'None', 'Tap action: open run sport: Will be possible in a icon give a tap action to open run sport?', 'None', 'None', 'None', 'None', 'None', 'None', 'None', 'None', 'None', 'None', 'None', 'None', 'None']\n",
      "['None', 'None', 'None', 'BC SPCA investigating baby bunny dump at Richmond shelter', 'None', 'None', 'None', 'None', 'None', 'None', 'None', 'None', 'None', 'None', 'None', 'None', 'None']\n",
      "['None', 'None', 'None', \"February 2023 Confirmed Trade Thread: Post your confirmed trades below; when confirming a post put Confirmed only. The bot will treat anything else as a conversation and ignore it. Previous month's confirmation thread: [January 2023 Confirmed Trade Thread](https:/www.reddit.com/r/pen_swap/comments/10073tu/) If the bot is malfunctioning, please send a [modmail](http:/www.reddit.com/message/compose?to=%2Fr%2Fpen_swap)\", 'None', 'None', 'None', 'None', 'None', 'None', 'None', 'None', 'None', 'None', 'None', 'None', 'None']\n",
      "['None', 'None', 'None', 'Wet n Wild!', 'None', 'None', 'None', 'None', 'None', 'None', 'None', 'None', 'None', 'None', 'None', 'None', 'None']\n",
      "['None', 'None', 'None', \"Currently, it's January 31, 2023 at 07:00PM: Currently, it's January 31, 2023 at 07:00PM\", 'None', 'None', 'None', 'None', 'None', 'None', 'None', 'None', 'None', 'None', 'None', 'None', 'None']\n",
      "['None', 'None', 'None', 'Watcher Of The French', 'None', 'None', 'None', 'None', 'None', 'None', 'None', 'None', 'None', 'None', 'None', 'None', 'None']\n",
      "['None', 'None', 'None', \"Rave Palace - A place to discuss music! We've got appreciators of all genres here and an active and welcoming community. So, come along and share that album you've got on loop, and get fresh music from other members!\", 'None', 'None', 'None', 'None', 'None', 'None', 'None', 'None', 'None', 'None', 'None', 'None', 'None']\n",
      "['None', 'None', 'None', \"February 2023 Confirmed Trade Thread: Post your confirmed trades below; when confirming a post put Confirmed only. The bot will treat anything else as a conversation and ignore it. Previous month's confirmation thread: [January 2023 Confirmed Trade Thread](https:/www.reddit.com/r/yarnswap/comments/10073tx/) If the bot is malfunctioning, please send a [modmail](http:/www.reddit.com/message/compose?to=%2Fr%2Fyarnswap)\", 'None', 'None', 'None', 'None', 'None', 'None', 'None', 'None', 'None', 'None', 'None', 'None', 'None']\n",
      "['None', 'None', 'None', 'I started learning music before the date limit I set: In August I started learning Blender, a 3D software. I\\'ve learned a lot and I made great things. Around December I think I said to myself I\\'ll start learning music February first at the latest. But I\\'m lazy so I thought I would start at the very last day. But no, I started this weekend I think. Today the midi keyboard my dad bought me came in so I was able to learn how 2 piano a bit. I want to keep making cool stuff in 3D and hopefully integrate my music in those projects now. I set myself another date. I\\'ll learn how to make games next year in January. My current project is making some experimental ASMR music with creatures/machines I\\'ll model in 3D \"making\" the sounds and the music (a bit like my singing monsters?). I\\'ve been wanting to make ASMR for years but I had nothing interesting to bring to the viewers. I\\'ve also slowly found more and more types of ASMR I like but the experimental stuff I love is wildly unpopular. I\\'m hoping my take on this might make other people experiment more with experimental sounds. I\\'ve always been someone creative but before August I basically just played games to waste the time. I regret a bit the time I wasted but I don\\'t regret the experience of playing those games because many of the ones I played are some of my biggest inspirations now.', 'None', 'None', 'None', 'None', 'None', 'None', 'None', 'None', 'None', 'None', 'None', 'None', 'None']\n",
      "['None', 'None', 'None', \"Here's my boobs\", 'None', 'None', 'None', 'None', 'None', 'None', 'None', 'None', 'None', 'None', 'None', 'None', 'None']\n",
      "['None', 'None', 'None', \"There's nothing I like more than listening to a great bluegrass record. I've been building my collection lately, and here's some I've got in the last couple of weeks. There are so many amazing albums out there, it's endless. Share what you recently acquired!\", 'None', 'None', 'None', 'None', 'None', 'None', 'None', 'None', 'None', 'None', 'None', 'None', 'None']\n",
      "['None', 'None', 'None', 'r/DMVrevengers Lounge: A place for members of r/DMVrevengers to chat with each other', 'None', 'None', 'None', 'None', 'None', 'None', 'None', 'None', 'None', 'None', 'None', 'None', 'None']\n",
      "['None', 'None', 'None', 'Does the person in front deserve a penalty or do i deserve it?', 'None', 'None', 'None', 'None', 'None', 'None', 'None', 'None', 'None', 'None', 'None', 'None', 'None']\n",
      "['None', 'None', 'None', 'M4a nwa anyone wanna JO together?: ', 'None', 'None', 'None', 'None', 'None', 'None', 'None', 'None', 'None', 'None', 'None', 'None', 'None']\n",
      "['None', 'None', 'None', 'Venison burritos and quesadilla 🤙', 'None', 'None', 'None', 'None', 'None', 'None', 'None', 'None', 'None', 'None', 'None', 'None', 'None']\n",
      "['None', 'None', 'None', '21 (F4A) #Louisiana and/or online littel/switch looking for her forever daddy/mommy.: [deleted]', 'None', 'None', 'None', 'None', 'None', 'None', 'None', 'None', 'None', 'None', 'None', 'None', 'None']\n",
      "['None', 'None', 'None', 'Wearing panties everyday feels right', 'None', 'None', 'None', 'None', 'None', 'None', 'None', 'None', 'None', 'None', 'None', 'None', 'None']\n",
      "['None', 'None', 'None', 'California could force large corporations to disclose carbon emissions under new bill', 'None', 'None', 'None', 'None', 'None', 'None', 'None', 'None', 'None', 'None', 'None', 'None', 'None']\n",
      "['None', 'None', 'None', '95 pounds, 32DD’s, ready to get dicked down😈', 'None', 'None', 'None', 'None', 'None', 'None', 'None', 'None', 'None', 'None', 'None', 'None', 'None']\n",
      "['None', 'None', 'None', '[REQ] ($250 USD) - (#Parkesburg, PA, USA), (PAYBACK $280 ON 2/15/23) (VENMO/CASH APP): ', 'None', 'None', 'None', 'None', 'None', 'None', 'None', 'None', 'None', 'None', 'None', 'None', 'None']\n",
      "['None', 'None', 'None', \"Anyone can Follow me in Instagram. in below id's @creativestudio.creator and @elevatequotes.in . I shall follow you back with both the ids . DM me after doing so: [deleted]\", 'None', 'None', 'None', 'None', 'None', 'None', 'None', 'None', 'None', 'None', 'None', 'None', 'None']\n",
      "['None', 'None', 'None', 'What are the best punk bars in the city?: [removed]', 'None', 'None', 'None', 'None', 'None', 'None', 'None', 'None', 'None', 'None', 'None', 'None', 'None']\n",
      "['None', 'None', 'None', 'Lilithmon by me', 'None', 'None', 'None', 'None', 'None', 'None', 'None', 'None', 'None', 'None', 'None', 'None', 'None']\n",
      "['None', 'None', 'None', 'making a dream potion 😴 mushrooms in the strainer while being double boiled 👌🏽', 'None', 'None', 'None', 'None', 'None', 'None', 'None', 'None', 'None', 'None', 'None', 'None', 'None']\n",
      "['None', 'None', 'None', '11 subs and 52 watch hrs in a week is this good?: [removed]', 'None', 'None', 'None', 'None', 'None', 'None', 'None', 'None', 'None', 'None', 'None', 'None', 'None']\n",
      "['None', 'None', 'None', 'Daily Update (01/02/2023) - Day #1114: # Hello, everyone! It is now Num Day #1114. # Daily Statistics * As of this post 4254 numbers have been given out. * There are 2140 odd numbers and 2114 even numbers assigned. * The mean of the numbers is 2405.2477668077104, and the median is 2319.5. * The sum of all numbers assigned is 10231924. # Number of the Day Number of the Day is currently disabled (as of 15th July 2021). # Points Leaderboard |*Place*|*Nation*|*Number of Points*| |:-|:-|:-| |1st|800s|69| |2nd|100s|63| |3rd|Numberless|55| |4th|000s|55| |5th|400s|48| |6th|300s|47| |7th|500s|27| |8th|900s|17| |9th|600s|9| |10th|700s|9| |11th|200s|6| # Newly Assigned Points No points have been assigned today. [^(Assignment Thread)](https:/www.reddit.com/r/Num/comments/okvjk2) ^(|) [^(Getting Started Guide)](https:/numbergod.fandom.com/wiki/Guide:_Getting_Started_in_NUM) ^(|) [^(The Num Story)](https:/numbergod.fandom.com/wiki/Guide:_The_NUM_Story_So_Far)', 'None', 'None', 'None', 'None', 'None', 'None', 'None', 'None', 'None', 'None', 'None', 'None', 'None']\n",
      "['None', 'None', 'None', 'r/streetfighterduel Lounge: A place for members of r/streetfighterduel to chat with each other', 'None', 'None', 'None', 'None', 'None', 'None', 'None', 'None', 'None', 'None', 'None', 'None', 'None']\n",
      "['None', 'None', 'None', '32 [M4F] San Francisco east bay would u let me smack u around', 'None', 'None', 'None', 'None', 'None', 'None', 'None', 'None', 'None', 'None', 'None', 'None', 'None']\n",
      "['None', 'None', 'None', 'Just finished the show and wondering if people felt the same way: I missed Erlich after he disappeared. Totally get why TJ Miller was booted but Erlich was probably my 2nd favorite character on the show. Either way, great show, gonna find an excuse in a week to rewatch.', 'None', 'None', 'None', 'None', 'None', 'None', 'None', 'None', 'None', 'None', 'None', 'None', 'None']\n",
      "['None', 'None', 'None', 'Una isla emergió de la nada con formas de vida nunca antes vistas, para volver a desaparecer', 'None', 'None', 'None', 'None', 'None', 'None', 'None', 'None', 'None', 'None', 'None', 'None', 'None']\n",
      "['None', 'None', 'None', 'Things I hate in NMS: \"Rare/Underwater/found in the north\": Or in the south.', 'None', 'None', 'None', 'None', 'None', 'None', 'None', 'None', 'None', 'None', 'None', 'None', 'None']\n",
      "['None', 'None', 'None', 'teacher hotwife and submissive slut, h7bby blies on the floor as my bull blows on my mouth.', 'None', 'None', 'None', 'None', 'None', 'None', 'None', 'None', 'None', 'None', 'None', 'None', 'None']\n",
      "['None', 'None', 'None', 'Riding skills lvl 3000', 'None', 'None', 'None', 'None', 'None', 'None', 'None', 'None', 'None', 'None', 'None', 'None', 'None']\n",
      "['None', 'None', 'None', 'Do you want fuck me ?', 'None', 'None', 'None', 'None', 'None', 'None', 'None', 'None', 'None', 'None', 'None', 'None', 'None']\n",
      "['None', 'None', 'None', 'World Radio Day Card Printable Template', 'None', 'None', 'None', 'None', 'None', 'None', 'None', 'None', 'None', 'None', 'None', 'None', 'None']\n",
      "['None', 'None', 'None', 'Link for Link &lt;33: Are you there? Plz click the link and help me get free cash! https:/temu.com/s/IUjB2ee7t71zGA', 'None', 'None', 'None', 'None', 'None', 'None', 'None', 'None', 'None', 'None', 'None', 'None', 'None']\n",
      "['None', 'None', 'None', 'Worth exercing ISO early?: [removed]', 'None', 'None', 'None', 'None', 'None', 'None', 'None', 'None', 'None', 'None', 'None', 'None', 'None']\n",
      "['None', 'None', 'None', '18F Love showing off 😘', 'None', 'None', 'None', 'None', 'None', 'None', 'None', 'None', 'None', 'None', 'None', 'None', 'None']\n",
      "['None', 'None', 'None', 'Teeth trimming/filing?: Asked the assistant to trim the excess glue that was overextending one specific tooth which also wasn’t allowing the tray to track around that area. She did trim it and also started playing around with other area and teeth that I had not mentioned. I even felt sensitivity when she was working on the molars area. Does it mean she trimmed part of my actual tooth/enamel? I tried to feel that area with my fingers and they felt freshly shaven and rough. I’m so stressed. Should I be concerned?', 'None', 'None', 'None', 'None', 'None', 'None', 'None', 'None', 'None', 'None', 'None', 'None', 'None']\n",
      "['None', 'None', 'None', 'Which movies were so bad it’s hard to believe they were ever released?: ', 'None', 'None', 'None', 'None', 'None', 'None', 'None', 'None', 'None', 'None', 'None', 'None', 'None']\n",
      "['None', 'None', 'None', 'Good Lord', 'None', 'None', 'None', 'None', 'None', 'None', 'None', 'None', 'None', 'None', 'None', 'None', 'None']\n",
      "['None', 'None', 'None', 'I feel helpless with AI war and the singularity precisions.: [removed]', 'None', 'None', 'None', 'None', 'None', 'None', 'None', 'None', 'None', 'None', 'None', 'None', 'None']\n"
     ]
    }
   ],
   "source": [
    "import os\n",
    "\n",
    "external_disk = \"/Volumes/X10 Pro\"\n",
    "input_file_23 = os.path.join(external_disk, \"processed_reddit_posts_2024-03.tsv\")\n",
    "input_file_24 = os.path.join(external_disk, \"2024_03_preprocessed.tsv\")\n",
    "input_file_24_dedup = os.path.join(external_disk, \"2023_02_prepro_train_anonym_V2.tsv\")\n",
    "\n",
    "def read_and_print_lines(file_path, num_lines=50):\n",
    "    with open(file_path, \"r\", encoding=\"utf-8\") as f:\n",
    "        count = 0\n",
    "        while count < num_lines:\n",
    "            line = f.readline()\n",
    "            if not line:  # Stop if we reach the end of the file\n",
    "                break\n",
    "            # Split the line by tabs and print the resulting list\n",
    "            print(line.strip().split(\"\\t\"))\n",
    "            count += 1\n",
    "\n",
    "# Process the first 10 lines of each file\n",
    "\"\"\"\n",
    "print(\"First 10 lines of 2023_02_preprocessed.tsv:\")\n",
    "read_and_print_lines(input_file_23)\n",
    "\n",
    "print(\"\\nFirst 10 lines of 2024_03_preprocessed.tsv:\")\n",
    "read_and_print_lines(input_file_24)\"\"\"\n",
    "print(\"\\nFirst 10 lines of 2024_03_preprocessed.tsv:\")\n",
    "read_and_print_lines(input_file_24_dedup)"
   ]
  },
  {
   "cell_type": "markdown",
   "metadata": {},
   "source": [
    "Making one column with the text data, meaning title and content combined:"
   ]
  },
  {
   "cell_type": "code",
   "execution_count": null,
   "metadata": {},
   "outputs": [],
   "source": [
    "import os\n",
    "\n",
    "external_disk = \"/Volumes/X10 Pro\"\n",
    "input_file_23 = os.path.join(external_disk, \"processed_reddit_posts_2023-02.tsv\")\n",
    "input_file_24 = os.path.join(external_disk, \"processed_reddit_posts_2024-03.tsv\")\n",
    "output_file_23 = os.path.join(external_disk, \"2023_02_preprocessed.tsv\")\n",
    "output_file_24 = os.path.join(external_disk, \"2024_03_preprocessed.tsv\")\n",
    "\n",
    "headers = ['author', 'category', 'content_categories', 'created_time', 'discussion_type', 'id', 'over_18', 'whitelist_status', 'removed_by_category', 'selftext', 'subreddit', 'subreddit_id', 'subreddit_subscribers', 'subreddit_type', 'title', 'is_self']\n",
    "\n",
    "def process_file(input_file, output_file):\n",
    "    with open(input_file, 'r', encoding='utf-8') as infile, open(output_file, 'w', encoding='utf-8') as outfile:\n",
    "        # Write the headers with the new 'text' column\n",
    "        headers_with_text = headers.copy()\n",
    "        headers_with_text.insert(headers.index('created_time'), 'text')\n",
    "        outfile.write('\\t'.join(headers_with_text) + '\\n')\n",
    "        \n",
    "        for line in infile:\n",
    "            parts = line.strip().split('\\t')\n",
    "            if len(parts) == len(headers):\n",
    "                # Extract necessary fields\n",
    "                title = parts[headers.index('title')]\n",
    "                selftext = parts[headers.index('selftext')]\n",
    "                is_self = parts[headers.index('is_self')]\n",
    "                \n",
    "                # Create the 'text' column\n",
    "                text = f\"{title}: {selftext}\" if is_self.lower() == 'true' else title\n",
    "                \n",
    "                # Insert the 'text' column in the correct position\n",
    "                parts.insert(headers.index('created_time'), text)\n",
    "                \n",
    "                # Write the modified line to the output file\n",
    "                outfile.write('\\t'.join(parts) + '\\n')\n",
    "\n",
    "# Process both files\n",
    "process_file(input_file_23, output_file_23)\n",
    "process_file(input_file_24, output_file_24)"
   ]
  },
  {
   "cell_type": "markdown",
   "metadata": {},
   "source": [
    "Clean the text data to recognize spam better"
   ]
  },
  {
   "cell_type": "code",
   "execution_count": 12,
   "metadata": {},
   "outputs": [],
   "source": [
    "import regex\n",
    "import unicodedata\n",
    "\n",
    "\n",
    "external_disk = \"/Volumes/X10 Pro\"\n",
    "input_file_24 = f\"{external_disk}/2024_03_preprocessed.tsv\"\n",
    "output_file_24 = f\"{external_disk}/2024_03_prepro_cleaned.tsv\"\n",
    "\n",
    "# Improved regex for repeated punctuation and emojis\n",
    "repeat_pattern = regex.compile(r\"([\\p{P}\\p{So}])\\1+\", flags=regex.UNICODE)\n",
    "\n",
    "def clean_text(text):\n",
    "    # Remove repeated visible emojis or punctuation\n",
    "    text = repeat_pattern.sub(r\"\\1\", text)  \n",
    "\n",
    "    # Normalize Unicode characters (fixes invisible spaces)\n",
    "    text = unicodedata.normalize(\"NFKC\", text)\n",
    "\n",
    "    # Remove completely invisible characters (except spaces)\n",
    "    text = \"\".join(char for char in text if char.isprintable() or char.isspace())\n",
    "\n",
    "    return text\n",
    "\n",
    "with open(input_file_24, \"r\", encoding=\"utf-8\") as infile, open(output_file_24, \"w\", encoding=\"utf-8\") as outfile:\n",
    "    for line in infile:\n",
    "        columns = line.strip().split(\"\\t\")  # Split the line into columns\n",
    "        if len(columns) >= 4:  # Ensure the line has at least 4 columns\n",
    "            columns[3] = clean_text(columns[3])  # Clean the 4th column (text column)\n",
    "        outfile.write(\"\\t\".join(columns) + \"\\n\")  # Write the modified line to the output file"
   ]
  },
  {
   "cell_type": "markdown",
   "metadata": {},
   "source": [
    "## Creating the training data\n",
    "\n",
    "### Anonymize unneeded columns"
   ]
  },
  {
   "cell_type": "code",
   "execution_count": 13,
   "metadata": {},
   "outputs": [
    {
     "name": "stdout",
     "output_type": "stream",
     "text": [
      "Header: ['author', 'category', 'content_categories', 'text', 'created_time', 'discussion_type', 'id', 'over_18', 'whitelist_status', 'removed_by_category', 'selftext', 'subreddit', 'subreddit_id', 'subreddit_subscribers', 'subreddit_type', 'title', 'is_self']\n",
      "Expected number of columns: 17\n",
      "✅ Processing complete. Anonymized file saved as /Volumes/X10 Pro/2023_02_prepro_train_anonym_V2.tsv.\n"
     ]
    }
   ],
   "source": [
    "# Define paths\n",
    "external_disk = \"/Volumes/X10 Pro\"\n",
    "input_file_23 = f\"{external_disk}/2023_02_prepro_train_anonym.tsv\"\n",
    "output_file_23 = f\"{external_disk}/2023_02_prepro_train_anonym_V2.tsv\"\n",
    "\n",
    "input_file_24 = f\"{external_disk}/2024_03_prepro_unique.tsv\"\n",
    "output_file_24 = f\"{external_disk}/2024_03_prepro_train_anonym.tsv\"\n",
    "\n",
    "def anonymize_keep_fourth_column(input_file, output_file):\n",
    "    \"\"\"\n",
    "    Processes a large TSV file line by line, replacing all values except the fourth column with \"None\".\n",
    "    Ensures all rows have the same number of columns as the header by padding shorter rows.\n",
    "\n",
    "    Parameters:\n",
    "        input_file (str): Path to the input TSV file.\n",
    "        output_file (str): Path to save the anonymized TSV file.\n",
    "    \"\"\"\n",
    "    with open(input_file, \"r\", encoding=\"utf-8\") as infile, open(output_file, \"w\", encoding=\"utf-8\") as outfile:\n",
    "        # Read the header and determine the expected column count\n",
    "        header = infile.readline().strip().split(\"\\t\")  # Read header line\n",
    "        num_columns = len(header)  # Total number of columns\n",
    "        print(\"Header:\", header)\n",
    "        print(f\"Expected number of columns: {num_columns}\")\n",
    "\n",
    "        outfile.write(\"\\t\".join(header) + \"\\n\")  # Write header to output\n",
    "\n",
    "        # Process each line\n",
    "        for line_num, line in enumerate(infile, start=2):  # Start at line 2 (after header)\n",
    "            fields = line.strip().split(\"\\t\")  # Split line into columns\n",
    "\n",
    "            # Ensure there are at least 4 columns before accessing fields[3]\n",
    "            if len(fields) < 4:\n",
    "                print(f\"⚠ Warning: Line {line_num} has less than 4 columns. Fixing it.\")\n",
    "                fields += [\"None\"] * (4 - len(fields))  # Ensure at least 4 columns\n",
    "\n",
    "            # Keep only column 4 (index 3), replace others with \"None\"\n",
    "            anonymized_fields = [\"None\"] * num_columns  # Default to \"None\"\n",
    "            anonymized_fields[3] = fields[3]  # Keep original fourth column\n",
    "\n",
    "            # Ensure correct number of columns\n",
    "            if len(anonymized_fields) < num_columns:\n",
    "                anonymized_fields += [\"None\"] * (num_columns - len(anonymized_fields))\n",
    "\n",
    "            outfile.write(\"\\t\".join(anonymized_fields) + \"\\n\")  # Write modified line to output\n",
    "\n",
    "    print(f\"✅ Processing complete. Anonymized file saved as {output_file}.\")\n",
    "\n",
    "\n",
    "# Define paths\n",
    "external_disk = \"/Volumes/X10 Pro\"\n",
    "input_file_24 = f\"{external_disk}/2024_03_prepro_unique.tsv\"\n",
    "output_file_24 = f\"{external_disk}/2024_03_prepro_train_anonym.tsv\"\n",
    "\n",
    "# Run anonymization\n",
    "# anonymize_keep_fourth_column(input_file_24, output_file_24)\n",
    "anonymize_keep_fourth_column(input_file_23, output_file_23)\n",
    "\n"
   ]
  },
  {
   "cell_type": "markdown",
   "metadata": {},
   "source": [
    "### Removing all duplicate lines\n",
    "using the unix commands to deduplicate more efficiently\n",
    "\n"
   ]
  },
  {
   "cell_type": "code",
   "execution_count": 17,
   "metadata": {},
   "outputs": [
    {
     "name": "stdout",
     "output_type": "stream",
     "text": [
      "Successfully deduplicated file. Output saved to /Volumes/X10 Pro/2024_03_prepro_unique.tsv\n"
     ]
    }
   ],
   "source": [
    "import subprocess\n",
    "\n",
    "# Define paths\n",
    "external_disk = \"/Volumes/X10 Pro\"\n",
    "input_file_23 = f\"{external_disk}/2023_02_prepro_train_anonym.tsv\"\n",
    "output_file_23 = f\"{external_disk}/2023_02_prepro_unique.tsv\"\n",
    "\n",
    "input_file_24 = f\"{external_disk}/2024_03_prepro_train_anonym.tsv\"\n",
    "output_file_24 = f\"{external_disk}/2024_03_prepro_unique.tsv\"\n",
    "\n",
    "# Define the Unix command for deduplication (keeping only unique lines)\n",
    "command_23 = f'awk -F\\'\\\\t\\' \\'!seen[$0]++\\' \"{input_file_23}\" > \"{output_file_23}\"'\n",
    "command_24 = f'awk -F\\'\\\\t\\' \\'!seen[$0]++\\' \"{input_file_24}\" > \"{output_file_24}\"'\n",
    "\n",
    "# Function to run the deduplication command\n",
    "def deduplicate_file(command, output_file):\n",
    "    try:\n",
    "        subprocess.run(command, shell=True, check=True)\n",
    "        print(f\"Successfully deduplicated file. Output saved to {output_file}\")\n",
    "    except subprocess.CalledProcessError as e:\n",
    "        print(f\"An error occurred while running the command: {e}\")\n",
    "\n",
    "# Run deduplication for both files\n",
    "#deduplicate_file(command_23, output_file_23)\n",
    "deduplicate_file(command_24, output_file_24)"
   ]
  },
  {
   "cell_type": "markdown",
   "metadata": {},
   "source": [
    "## Filtering posts that contain potentially religious terms and filtering out common misclassified keywords."
   ]
  },
  {
   "cell_type": "code",
   "execution_count": 2,
   "metadata": {},
   "outputs": [
    {
     "name": "stdout",
     "output_type": "stream",
     "text": [
      "Filtering 2023 file...\n",
      "Filtering 2024 file...\n"
     ]
    }
   ],
   "source": [
    "# Defining key words\n",
    "religious_keywords ={\n",
    "    # ✅ General Religious Terms\n",
    "    \"religion\", \"faith\", \"spirituality\", \"sacred\", \"divine\", \"worship\", \"prayer\", \"belief\", \"holy\", \"doctrine\",\n",
    "    \"scripture\", \"theology\", \"sermon\", \"evangelism\", \"clergy\",\n",
    "\n",
    "    # ✅ Christianity-Related Terms\n",
    "    \"Christian\", \"Bible\", \"Jesus\", \"Christ\", \"cross\", \"church\", \"pastor\", \"priest\", \"gospel\", \"crucifix\",\n",
    "    \"resurrection\", \"sin\", \"salvation\", \"pope\", \"Vatican\", \"Protestant\", \"Catholic\", \"baptist\", \"Jehovah\",\n",
    "    \"LDS\", \"Mormon\", \"evangelist\",\n",
    "\n",
    "    # ✅ Islam-Related Terms\n",
    "    \"Islam\", \"Muslim\", \"Quran\", \"Muhammad\", \"mosque\", \"jihad\", \"sharia\", \"hadith\", \"halal\", \"haram\",\n",
    "    \"imam\", \"caliph\", \"Ummah\", \"Mecca\", \"hijab\", \"niqab\", \"burqa\", \"fatwa\",\n",
    "\n",
    "    # ✅ Judaism-Related Terms\n",
    "    \"Jewish\", \"Judaism\", \"Torah\", \"Talmud\", \"synagogue\", \"rabbi\", \"Zionism\", \"anti-semitic\", \"Israel\",\n",
    "    \"kabbalah\", \"kosher\", \"mitzvah\", \"Hanukkah\", \"Passover\", \"Yom Kippur\", \"shabbat\",\n",
    "\n",
    "    # ✅ Hinduism & Other Religions\n",
    "    \"Hindu\", \"Hinduism\", \"temple\", \"Vedas\", \"karma\", \"dharma\", \"reincarnation\", \"moksha\", \"puja\", \"Shiva\",\n",
    "    \"Vishnu\", \"Brahma\", \"mantra\", \"Upanishads\", \"Buddhism\", \"Sikh\", \"Jain\", \"guru\", \"monk\", \"Nirvana\",\n",
    "\n",
    "    # ✅ Atheism, Agnosticism & Anti-Religious Terms\n",
    "    \"atheist\", \"agnostic\", \"secular\", \"irreligious\", \"blasphemy\", \"anti-theist\", \"godless\", \"heresy\",\n",
    "    \"apostate\", \"unbeliever\", \"heathen\", \"infidel\",\n",
    "\n",
    "    # ✅ Religious Hate Speech & Extremism Keywords\n",
    "    \"religious war\", \"religious hate\", \"religious extremism\", \"fundamentalist\", \"infidels\", \"crusade\",\n",
    "    \"inquisition\", \"jihadist\", \"radical Islam\", \"Christian nationalism\", \"terrorist\", \"suicide bomber\",\n",
    "    \"pagan\", \"devil worship\", \"satanic\", \"cult\", \"brainwashing\", \"false prophet\", \"religious oppression\",\n",
    "    \"forced conversion\", \"religious discrimination\", \n",
    "\n",
    "    # ✅ 🚨 Newly Added Religious Hate Speech Terms 🚨\n",
    "    \"heretic\", \"apostate\", \"blasphemer\", \"false religion\", \"fake religion\", \"religious scam\",\n",
    "    \"religious brainwashing\", \"religious cult\", \"burn in hell\", \"godless heathens\",\n",
    "    \"convert or die\", \"holy war\", \"purge the unbelievers\", \"wipe them out\", \"death to infidels\",\n",
    "    \"crusader scum\", \"jihadi terrorists\", \"sharia law takeover\", \"Zionist conspiracy\",\n",
    "    \"Christian supremacy\", \"Muslim invasion\", \"Jewish globalists\", \"Satanic agenda\",\n",
    "    \"Islamophobic\", \"Christophobic\", \"anti-Semitic\", \"religious genocide\", \"religious cleansing\",\n",
    "    \"ban religious teachings\", \"religious fundamentalism\", \"satanic ritual\", \"burn the Qur'an\",\n",
    "    \"ban the Bible\", \"ban the Torah\", \"ban the Quran\", \"religious dictatorship\",\n",
    "    \"anti-religious propaganda\", \"forced religious conversion\", \"eradicate non-believers\",\n",
    "    \"destroy Christianity\", \"destroy Islam\", \"destroy Judaism\", \"destroy Hinduism\",\n",
    "    \"ban all religious practices\", \"no room for religion\", \"deport all Muslims\",\n",
    "    \"Jewish banking conspiracy\", \"Hindus are extremists\", \"violent Christian evangelicals\",\n",
    "    \"Muslim rape gangs\", \"Islam is terrorism\", \"Jews control the world\", \"atheists are evil\",\n",
    "    \"Satan controls religion\", \"God hates [religion]\", \"God's punishment for [group]\",\n",
    "    \"God will judge them\", \"devil worshipers\", \"enemy of God\", \"infidel punishment\",\n",
    "    \"forced religious laws\", \"hate the infidels\", \"no freedom for religion\", \"death to heretics\",\n",
    "    \"Christians are oppressors\", \"Islam is a cult\", \"Jews are parasites\", \"Muslims are terrorists\",\n",
    "    \"burn the churches\", \"destroy all mosques\", \"synagogues are evil\", \"ban Hindu temples\",\n",
    "    \"burn them at the stake\", \"witch hunt\", \"spiritual corruption\", \"destroy their beliefs\",\n",
    "    \"no place for religion in society\", \"eradicate the religious\", \"religion is slavery\",\n",
    "    \"atheist dictatorship\", \"God is a lie\", \"crusaders vs jihadists\", \"stop Islamic expansion\",\n",
    "    \"stop Christian imperialism\", \"ban all religious books\", \"the true religion vs fake religion\",\n",
    "    \"dismantle religious power\", \"kill in God's name\", \"religious persecution\", \"religious fanatics\",\n",
    "    \"purge the heathens\", \"holy war against [religion]\", \"destroy their idols\", \"no God allowed\",\n",
    "    \"faith-based terror\", \"Christian jihad\", \"Muslim crusaders\", \"radical Judaism\", \"Hindu terrorism\",\n",
    "    # abbreviations\n",
    "     # ✅ General Religious Hate Speech Abbreviations\n",
    "    \"rwds\", \"kti\", \"fbi\", \"kek\", \"nsm\", \"oy vey\", \"1488\", \"14w\", \"rahowa\", \"zog\", \"zio\",\n",
    "    \"cult\", \"sjw\", \"lsh\", \"kafir\", \"taqiyya\", \"isis\", \"ds\", \"npc\",\n",
    "\n",
    "    # ✅ Hate Groups & Extremism Abbreviations\n",
    "    \"kkk\", \"wbc\", \"nifb\", \"cwp\", \"ci\", \"wwg1wga\", \"ie\",\n",
    "\n",
    "    # ✅ Online Slang & Coded Religious Hate Speech\n",
    "    \"larp\", \"boomer\", \"groy\", \"sh\", \"atheism+\", \"gen zion\", \"mt\", \"cuck\", \"christcuck\",\n",
    "    \"jidf\", \"hv\", \"666\"\n",
    "}\n",
    "keywords_to_remove = {\n",
    "    # ✅ Technical Terms (Programming, AI, Cybersecurity, Hardware)\n",
    "    \"algorithm\", \"API\", \"backend\", \"frontend\", \"framework\", \"library\", \"SDK\", \"repository\",\n",
    "    \"debug\", \"deployment\", \"compilation\", \"encryption\", \"decryption\", \"firewall\", \"malware\",\n",
    "    \"cybersecurity\", \"penetration testing\", \"AI\", \"machine learning\", \"deep learning\",\n",
    "    \"neural network\", \"NLP\", \"big data\", \"cloud computing\", \"virtualization\", \"docker\",\n",
    "    \"kubernetes\", \"CI/CD\", \"Git\", \"GitHub\", \"GitLab\", \"bitbucket\", \"blockchain\", \"cryptography\",\n",
    "    \"SQL\", \"NoSQL\", \"database\", \"server\", \"HTTP\", \"HTTPS\", \"REST API\", \"GraphQL\",\n",
    "    \"Linux\", \"Windows\", \"macOS\", \"CLI\", \"shell scripting\", \"command line\", \"bash\",\n",
    "    \"Python\", \"JavaScript\", \"Java\", \"C++\", \"C#\", \"Ruby\", \"Go\", \"Rust\", \"Swift\",\n",
    "    \"TensorFlow\", \"PyTorch\", \"scikit-learn\", \"pandas\", \"NumPy\", \"matplotlib\", \"seaborn\",\n",
    "    \"LSTM\", \"Transformer\", \"GAN\", \"BERT\", \"GPT\", \"LLM\", \"prompt engineering\",\n",
    "    \"latency\", \"bandwidth\", \"packet loss\", \"ping\", \"IP address\", \"VPN\", \"proxy\",\n",
    "    \"router\", \"firmware\", \"BIOS\", \"UEFI\", \"motherboard\", \"GPU\", \"CPU\", \"RAM\", \"cache\",\n",
    "    \"SSD\", \"HDD\", \"NVMe\", \"overclocking\", \"liquid cooling\", \"thermal paste\", \"fan speed\",\n",
    "    \"kernel\", \"driver\", \"firmware update\", \"OpenAI\", \"Google DeepMind\", \"Anthropic\",\n",
    "    \"prompt tuning\", \"fine-tuning\", \"embedding\", \"vector search\", \"data science\",\n",
    "    \n",
    "    # ✅ Gaming Terms (Common in Reddit Discussions)\n",
    "    \"MMORPG\", \"RPG\", \"FPS\", \"MOBA\", \"RTS\", \"battle royale\", \"open world\", \"sandbox\",\n",
    "    \"AAA game\", \"indie game\", \"loot box\", \"DLC\", \"season pass\", \"microtransactions\",\n",
    "    \"PvP\", \"PvE\", \"co-op\", \"multiplayer\", \"single-player\", \"crossplay\", \"level up\",\n",
    "    \"XP\", \"grind\", \"quest\", \"raid\", \"guild\", \"clan\", \"matchmaking\", \"ranked mode\",\n",
    "    \"esports\", \"tournament\", \"pro player\", \"streaming\", \"Twitch\", \"YouTube Gaming\",\n",
    "    \"metagame\", \"nerf\", \"buff\", \"patch\", \"update\", \"hotfix\", \"early access\",\n",
    "    \"beta test\", \"alpha test\", \"game engine\", \"Unreal Engine\", \"Unity\", \"modding\",\n",
    "    \"speedrun\", \"glitch\", \"exploit\", \"cheat code\", \"hacking\", \"aimbot\", \"wallhack\",\n",
    "    \"battle pass\", \"skins\", \"cosmetics\", \"loot system\", \"gacha\", \"AFK\", \"spawn\",\n",
    "    \"respawn\", \"killstreak\", \"headshot\", \"one-shot\", \"combo\", \"stun\", \"cooldown\",\n",
    "    \"mana\", \"HP\", \"MP\", \"boss fight\", \"NPC\", \"cutscene\", \"game physics\", \"hitbox\",\n",
    "    \"frame rate\", \"lag\", \"rubberbanding\", \"ping\", \"dedicated server\", \"netcode\",\n",
    "    \"ray tracing\", \"RTX\", \"DLSS\", \"VSync\", \"FOV\", \"HUD\", \"UI\", \"difficulty curve\",\n",
    "    \"game balancing\", \"open beta\", \"closed beta\", \"Steam\", \"Epic Games\", \"Xbox\", \"PlayStation\",\n",
    "    \"Nintendo Switch\", \"VR gaming\", \"meta\", \"game mechanics\", \"worldbuilding\", \"replayability\",\n",
    "    \"game economy\", \"skill tree\", \"perk system\", \"weapon loadout\", \"battle tactics\",\n",
    "    \"battlefield\", \"arena\", \"ranked ladder\", \"prestige system\", \"game narrative\", \"story mode\"\n",
    "}\n",
    "\n",
    "files2023 = [\"/Volumes/X10 Pro/2023_02_prepro_train_anonym_V2.tsv\", \"/Volumes/X10 Pro/2023_02_prepro_train_filtered.tsv\"]\n",
    "files2024 = [\"/Volumes/X10 Pro/2024_03_prepro_train_anonym.tsv\", \"/Volumes/X10 Pro/2024_03_prepro_train_filtered.tsv\"]\n",
    "\n",
    "def filter(files, keywords_to_keep, keywords_to_remove):\n",
    "    \"\"\"\n",
    "    Filters lines from an input TSV file and writes them to an output TSV file.\n",
    "    \n",
    "    The line is kept if:\n",
    "      - The content in the 4th column (index 3) contains at least one keyword \n",
    "        from keywords_to_keep.\n",
    "      - The content does not contain any keyword from keywords_to_remove.\n",
    "    \n",
    "    :param files: List of two file paths [input_file_path, output_file_path].\n",
    "    :param keywords_to_keep: A set of keywords (strings) that must appear in the content.\n",
    "    :param keywords_to_remove: A set of keywords (strings) that must not appear in the content.\n",
    "    \"\"\"\n",
    "    input_file, output_file = files\n",
    "    \n",
    "    with open(input_file, 'r', encoding='utf-8') as f_in, \\\n",
    "         open(output_file, 'w', encoding='utf-8') as f_out:\n",
    "        \n",
    "        for line in f_in:\n",
    "            # Strip trailing newlines and split by tab\n",
    "            columns = line.rstrip('\\n').split('\\t')\n",
    "            \n",
    "            # We expect at least 4 columns; skip if there aren't enough\n",
    "            if len(columns) < 4:\n",
    "                continue\n",
    "            \n",
    "            content = columns[3]\n",
    "            \n",
    "            # Check for at least one good keyword\n",
    "            if not any(good_kw in content for good_kw in keywords_to_keep):\n",
    "                continue\n",
    "            \n",
    "            # Check for any bad keyword\n",
    "            if any(bad_kw in content for bad_kw in keywords_to_remove):\n",
    "                continue\n",
    "            \n",
    "            # If the line passes the filter, write it out\n",
    "            f_out.write(line)\n",
    "\n",
    "\n",
    "# Filter the files\n",
    "print(\"Filtering 2023 file...\")\n",
    "filter(files2023, religious_keywords, keywords_to_remove)\n",
    "print(\"Filtering 2024 file...\")\n",
    "filter(files2024, religious_keywords, keywords_to_remove)"
   ]
  },
  {
   "cell_type": "markdown",
   "metadata": {},
   "source": [
    "Only filtering out"
   ]
  },
  {
   "cell_type": "code",
   "execution_count": 5,
   "metadata": {},
   "outputs": [
    {
     "name": "stdout",
     "output_type": "stream",
     "text": [
      "Filterung abgeschlossen. Datei gespeichert als: /Volumes/X10 Pro/train_combined_filtered.tsv\n"
     ]
    }
   ],
   "source": [
    "# Erotik- und Dating-Keywords definieren\n",
    "EROTIC_DATING_KEYWORDS = [\n",
    "    \"sexting\", \"nudes\", \"nude\", \"fetish\", \"creampie\", \"creampied\", \"daddy\", \"pussy\", \"cock\",\n",
    "    \"fuck\", \"horny\", \"snap\", \"onlyfans\", \"nsfw\", \"dm me\", \"sugar daddy\", \"escort\",\n",
    "    \"dominant\", \"submissive\", \"kik\", \"roleplay\", \"erotic\", \"bdsm\", \"anal\", \"blowjob\",\n",
    "    \"handjob\", \"sexy\", \"strip\", \"porn\", \"sex\", \"orgasm\", \"cum\", \"milf\", \"dick\",\n",
    "    \"ass\", \"lick\", \"moan\", \"hot girl\", \"wet\", \"lust\", \"girlfriend\", \"boyfriend\",\n",
    "    \"kiss\", \"dating\", \"hookup\", \"make love\", \"flirt\", \"breast\", \"boobs\", \"tits\", \"fleshlight\", \"tiddy\"\n",
    "]\n",
    "\n",
    "# Datei einlesen\n",
    "input_file = \"/Volumes/X10 Pro/combined_classification.tsv\"  # Ersetze mit deinem Dateipfad\n",
    "output_file = \"/Volumes/X10 Pro/train_combined_filtered.tsv\"\n",
    "\n",
    "# Datei Zeile für Zeile einlesen und verarbeiten\n",
    "with open(input_file, \"r\", encoding=\"utf-8\") as infile, open(output_file, \"w\", encoding=\"utf-8\") as outfile:\n",
    "    for line in infile:\n",
    "        columns = line.strip().split(\"\\t\")  # Zerlege die Zeile in Spalten\n",
    "\n",
    "        if len(columns) < 5:\n",
    "            outfile.write(line)  # Falls die Zeile zu kurz ist, unverändert speichern\n",
    "            continue\n",
    "\n",
    "        content = columns[3].lower()  # 4. Spalte (Index 3) als Text\n",
    "        label = columns[-1]  # Letzte Spalte als Label\n",
    "\n",
    "        # Falls Erotik/Dating-Keywords im Content vorkommen → Label auf \"0\" setzen\n",
    "        if any(keyword in content for keyword in EROTIC_DATING_KEYWORDS):\n",
    "            columns[-1] = \"0\"  # Setze das Label auf \"0\"\n",
    "\n",
    "        # Speichere die veränderte Zeile in der neuen Datei\n",
    "        outfile.write(\"\\t\".join(columns) + \"\\n\")\n",
    "\n",
    "print(f\"Filterung abgeschlossen. Datei gespeichert als: {output_file}\")"
   ]
  },
  {
   "cell_type": "markdown",
   "metadata": {},
   "source": [
    "Combining the correctly labeled data"
   ]
  },
  {
   "cell_type": "code",
   "execution_count": 20,
   "metadata": {},
   "outputs": [
    {
     "name": "stdout",
     "output_type": "stream",
     "text": [
      "File successfully combined and saved as: /Volumes/X10 Pro/train_reliclass.tsv\n"
     ]
    }
   ],
   "source": [
    "# Paths to input files\n",
    "input_file1 = \"/Volumes/X10 Pro/train_part1_corrected.tsv\"  # First TSV file\n",
    "input_file2 = \"/Volumes/X10 Pro/train_part1_corrected.tsv\"  # Second TSV file\n",
    "input_file3 = \"/Users/laurachristoph/Desktop/Bachelorarbeit/00_10h_binary_classified.tsv\"  # Third TSV file (with author, title, content, etc.)\n",
    "input_file4 = \"/Users/laurachristoph/Desktop/Bachelorarbeit/00_10h_classified_reddit_posts.tsv\"  # Fourth TSV file (title + content merge, category fix)\n",
    "output_file = \"/Volumes/X10 Pro/train_reliclass.tsv\"  # Output file\n",
    "\n",
    "\n",
    "# Function to copy file line by line (for first two files)\n",
    "def copy_file(file_path, outfile):\n",
    "    with open(file_path, \"r\", encoding=\"utf-8\") as infile:\n",
    "        for line in infile:\n",
    "            outfile.write(line)  # Write each line directly to the output file\n",
    "\n",
    "# Open the output file once to write all processed data\n",
    "with open(output_file, \"w\", encoding=\"utf-8\") as outfile:\n",
    "    \n",
    "    # Copy the first two files unchanged\n",
    "    copy_file(input_file1, outfile)\n",
    "    copy_file(input_file2, outfile)\n",
    "\n",
    "    # Determine the correct format based on first file\n",
    "    with open(input_file1, \"r\", encoding=\"utf-8\") as sample_file:\n",
    "        num_columns = len(sample_file.readline().strip().split(\"\\t\"))  # Get correct number of columns\n",
    "\n",
    "    # Function to process structured files (third & fourth)\n",
    "    def process_structured_file(file_path, is_fourth_file=False):\n",
    "        with open(file_path, \"r\", encoding=\"utf-8\") as infile:\n",
    "            header = infile.readline().strip().split(\"\\t\")  # Read header\n",
    "\n",
    "            # Get indices for required fields\n",
    "            title_index = header.index(\"title\") if \"title\" in header else None\n",
    "            content_index = header.index(\"content\") if \"content\" in header else None\n",
    "            label_index = header.index(\"religious\") if \"religious\" in header else \\\n",
    "                          header.index(\"category\") if \"category\" in header else -1  # Last column\n",
    "\n",
    "            # Process each line\n",
    "            for line in infile:\n",
    "                columns = line.strip().split(\"\\t\")\n",
    "\n",
    "                # Skip empty or incomplete rows\n",
    "                if len(columns) < max(title_index or 0, content_index or 0, label_index or 0) + 1:\n",
    "                    continue  # Skip rows with missing columns\n",
    "\n",
    "                # Merge title and content safely\n",
    "                title = columns[title_index] if title_index is not None and title_index < len(columns) else \"\"\n",
    "                content = columns[content_index] if content_index is not None and content_index < len(columns) else \"\"\n",
    "                merged_content = f\"{title} {content}\".strip()\n",
    "\n",
    "                # Adjust label for fourth file safely\n",
    "                label = \"0\"  # Default label\n",
    "                if label_index != -1 and label_index < len(columns):\n",
    "                    label = columns[label_index].strip().lower()\n",
    "                    if is_fourth_file:\n",
    "                        label = \"1\" if label == \"religious\" else \"0\"  # Convert category labels\n",
    "\n",
    "                # Create a row with \"None\" values to match the first two files\n",
    "                new_row = [\"None\"] * (num_columns - 2) + [merged_content] + [\"None\"] * (num_columns - len(columns) - 1) + [label]\n",
    "\n",
    "                # Write the reformatted row directly to the output file\n",
    "                outfile.write(\"\\t\".join(new_row) + \"\\n\")\n",
    "\n",
    "    # Process the third file\n",
    "    process_structured_file(input_file3)\n",
    "\n",
    "    # Process the fourth file with category adjustment\n",
    "    process_structured_file(input_file4, is_fourth_file=True)\n",
    "\n",
    "print(f\"File successfully combined and saved as: {output_file}\")"
   ]
  },
  {
   "cell_type": "code",
   "execution_count": 17,
   "metadata": {},
   "outputs": [],
   "source": [
    "# number of lines in both files\n",
    "def count_lines(file_path):\n",
    "    with open(file_path, 'r', encoding='utf-8') as f:\n",
    "        return sum(1 for _ in f)\n",
    "\n",
    "# Count the number of lines in the filtered files\n",
    "#lines_2023 = count_lines(files2023[1])\n",
    "#lines_2024 = count_lines(files20/Volumes/X10 Pro/train_reliclass.tsv24[1])\n",
    "lines_reliclass = count_lines(\"/Users/laurachristoph/Desktop/Bachelorarbeit/00_10h_binary_classified.tsv\")\n"
   ]
  },
  {
   "cell_type": "code",
   "execution_count": 18,
   "metadata": {},
   "outputs": [
    {
     "name": "stdout",
     "output_type": "stream",
     "text": [
      "Number of lines in the training file: 1997\n"
     ]
    }
   ],
   "source": [
    "print(f\"Number of lines in the training file: {lines_reliclass}\")\n"
   ]
  },
  {
   "cell_type": "markdown",
   "metadata": {},
   "source": [
    "### Training a model for classifying religious posts"
   ]
  },
  {
   "cell_type": "code",
   "execution_count": 37,
   "metadata": {},
   "outputs": [
    {
     "name": "stdout",
     "output_type": "stream",
     "text": [
      "Counter({1: 5952, 0: 5952})\n"
     ]
    }
   ],
   "source": [
    "from collections import Counter\n",
    "labels = [sample[\"label\"].item() for sample in dataset]\n",
    "print(Counter(labels))  # Shows class distribution"
   ]
  },
  {
   "cell_type": "markdown",
   "metadata": {},
   "source": [
    "Balancing out my data set"
   ]
  },
  {
   "cell_type": "code",
   "execution_count": 34,
   "metadata": {},
   "outputs": [
    {
     "name": "stdout",
     "output_type": "stream",
     "text": [
      "Balanced dataset saved to /Volumes/X10 Pro/train_reliclass_final.tsv. Final size: 11904 samples.\n"
     ]
    }
   ],
   "source": [
    "import random\n",
    "\n",
    "\n",
    "def balance_dataset(input_file, output_file):\n",
    "    religious_count = 0\n",
    "    religious_posts = []\n",
    "    non_religious_posts = []\n",
    "    \n",
    "    # Read the file line by line\n",
    "    with open(input_file, \"r\", encoding=\"utf-8\") as infile:\n",
    "        header = infile.readline()  # Keep header if exists\n",
    "        for line in infile:\n",
    "            columns = line.strip().split(\"\\t\")\n",
    "            if len(columns) < 5:\n",
    "                continue  # Skip malformed rows\n",
    "            \n",
    "            label = columns[-1].strip()\n",
    "            \n",
    "            if label == \"1\":\n",
    "                religious_count += 1\n",
    "                # Keep 1st and 2nd occurrence, skip 3rd\n",
    "                if religious_count % 3 != 0:\n",
    "                    religious_posts.append(line)\n",
    "            else:\n",
    "                non_religious_posts.append(line)\n",
    "    \n",
    "    # Balance dataset to have equal religious and non-religious posts\n",
    "    min_class_size = min(len(religious_posts), len(non_religious_posts))\n",
    "    religious_posts = random.sample(religious_posts, min_class_size)\n",
    "    non_religious_posts = random.sample(non_religious_posts, min_class_size)\n",
    "    \n",
    "    # Write the balanced dataset\n",
    "    with open(output_file, \"w\", encoding=\"utf-8\") as outfile:\n",
    "        outfile.write(header)  # Write header back\n",
    "        outfile.writelines(religious_posts + non_religious_posts)\n",
    "    \n",
    "    print(f\"Balanced dataset saved to {output_file}. Final size: {min_class_size * 2} samples.\")\n",
    "\n",
    "# Example usage:\n",
    "input_file = \"/Volumes/X10 Pro/train_reliclass_balanced2.tsv\"\n",
    "output_file = \"/Volumes/X10 Pro/train_reliclass_final.tsv\"\n",
    "balance_dataset(input_file, output_file)\n"
   ]
  },
  {
   "cell_type": "markdown",
   "metadata": {},
   "source": [
    "#### Downloading all needed libraries for training the religious/not-religious classification model"
   ]
  },
  {
   "cell_type": "code",
   "execution_count": null,
   "metadata": {},
   "outputs": [],
   "source": [
    "import sys\n",
    "import subprocess\n",
    "\n",
    "def install_libraries():\n",
    "    \"\"\"Installs required libraries for the project.\"\"\"\n",
    "    required_libs = [\n",
    "        \"numpy\", \"pandas\", \"torch\", \"transformers\", \"gensim\",\n",
    "        \"scikit-learn\", \"tqdm\", \"datasets\", \"accelerate\"\n",
    "    ]\n",
    "    \n",
    "    for lib in required_libs:\n",
    "        subprocess.check_call([sys.executable, \"-m\", \"pip\", \"install\", lib])\n",
    "    \n",
    "    # Install specific transformer models if not already downloaded\n",
    "    from transformers import DistilBertTokenizer, DistilBertModel\n",
    "    DistilBertTokenizer.from_pretrained(\"distilbert-base-uncased\")\n",
    "    DistilBertModel.from_pretrained(\"distilbert-base-uncased\")\n",
    "    \n",
    "    print(\"All necessary libraries are installed and ready to use!\")\n",
    "\n",
    "install_libraries()"
   ]
  },
  {
   "cell_type": "markdown",
   "metadata": {},
   "source": [
    "#### Training the model"
   ]
  },
  {
   "cell_type": "markdown",
   "metadata": {},
   "source": [
    "##### Training on DistilBert\n",
    "Evaluation Set Performance:\n",
    "              precision    recall  f1-score   support\n",
    "\n",
    "           0       1.00      0.12      0.22      1339\n",
    "           1       0.53      1.00      0.70      1339\n",
    "\n",
    "    accuracy                           0.56      2678\n",
    "   macro avg       0.77      0.56      0.46      2678\n",
    "weighted avg       0.77      0.56      0.46      2678\n",
    "\n",
    "Test Set Performance:\n",
    "              precision    recall  f1-score   support\n",
    "\n",
    "           0       1.00      0.13      0.23      1340\n",
    "           1       0.54      1.00      0.70      1339\n",
    "\n",
    "    accuracy                           0.57      2679\n",
    "   macro avg       0.77      0.57      0.47      2679\n",
    "weighted avg       0.77      0.57      0.47      2679"
   ]
  },
  {
   "cell_type": "code",
   "execution_count": 72,
   "metadata": {},
   "outputs": [
    {
     "name": "stdout",
     "output_type": "stream",
     "text": [
      "Unique labels in training data: {0, 1}\n",
      "Fitting 5 folds for each of 12 candidates, totalling 60 fits\n",
      "[CV] END classifier__C=0.1, classifier__gamma=scale, classifier__kernel=linear; total time= 5.1min\n",
      "[CV] END classifier__C=0.1, classifier__gamma=scale, classifier__kernel=linear; total time= 5.1min\n",
      "[CV] END classifier__C=0.1, classifier__gamma=scale, classifier__kernel=linear; total time= 5.1min\n",
      "[CV] END classifier__C=0.1, classifier__gamma=scale, classifier__kernel=linear; total time= 5.1min\n",
      "[CV] END classifier__C=0.1, classifier__gamma=scale, classifier__kernel=linear; total time= 5.1min\n",
      "[CV] END classifier__C=0.1, classifier__gamma=scale, classifier__kernel=rbf; total time= 5.9min\n",
      "[CV] END classifier__C=0.1, classifier__gamma=scale, classifier__kernel=rbf; total time= 5.9min\n",
      "[CV] END classifier__C=0.1, classifier__gamma=scale, classifier__kernel=rbf; total time= 5.9min\n",
      "[CV] END classifier__C=0.1, classifier__gamma=auto, classifier__kernel=linear; total time= 5.0min\n",
      "[CV] END classifier__C=0.1, classifier__gamma=auto, classifier__kernel=linear; total time= 5.1min\n",
      "[CV] END classifier__C=0.1, classifier__gamma=auto, classifier__kernel=linear; total time= 5.1min\n",
      "[CV] END classifier__C=0.1, classifier__gamma=auto, classifier__kernel=linear; total time= 5.1min\n",
      "[CV] END classifier__C=0.1, classifier__gamma=scale, classifier__kernel=rbf; total time= 5.9min\n",
      "[CV] END classifier__C=0.1, classifier__gamma=auto, classifier__kernel=linear; total time= 5.1min\n",
      "[CV] END classifier__C=0.1, classifier__gamma=scale, classifier__kernel=rbf; total time= 5.9min\n",
      "[CV] END classifier__C=0.1, classifier__gamma=auto, classifier__kernel=rbf; total time= 6.0min\n",
      "[CV] END classifier__C=0.1, classifier__gamma=auto, classifier__kernel=rbf; total time= 5.9min\n",
      "[CV] END classifier__C=1, classifier__gamma=scale, classifier__kernel=linear; total time= 5.1min\n",
      "[CV] END classifier__C=1, classifier__gamma=scale, classifier__kernel=linear; total time= 5.1min\n",
      "[CV] END classifier__C=1, classifier__gamma=scale, classifier__kernel=linear; total time= 5.1min\n",
      "[CV] END classifier__C=0.1, classifier__gamma=auto, classifier__kernel=rbf; total time= 5.9min\n",
      "[CV] END classifier__C=0.1, classifier__gamma=auto, classifier__kernel=rbf; total time= 6.0min\n",
      "[CV] END classifier__C=0.1, classifier__gamma=auto, classifier__kernel=rbf; total time= 5.9min\n",
      "[CV] END classifier__C=1, classifier__gamma=scale, classifier__kernel=linear; total time= 5.0min\n",
      "[CV] END classifier__C=1, classifier__gamma=scale, classifier__kernel=linear; total time= 5.1min\n",
      "[CV] END classifier__C=1, classifier__gamma=auto, classifier__kernel=linear; total time= 5.1min\n",
      "[CV] END classifier__C=1, classifier__gamma=scale, classifier__kernel=rbf; total time= 5.9min\n",
      "[CV] END classifier__C=1, classifier__gamma=auto, classifier__kernel=linear; total time= 5.1min\n",
      "[CV] END classifier__C=1, classifier__gamma=scale, classifier__kernel=rbf; total time= 5.9min\n",
      "[CV] END classifier__C=1, classifier__gamma=scale, classifier__kernel=rbf; total time= 5.8min\n",
      "[CV] END classifier__C=1, classifier__gamma=scale, classifier__kernel=rbf; total time= 5.9min\n",
      "[CV] END classifier__C=1, classifier__gamma=scale, classifier__kernel=rbf; total time= 5.9min\n",
      "[CV] END classifier__C=1, classifier__gamma=auto, classifier__kernel=linear; total time= 5.0min\n",
      "[CV] END classifier__C=1, classifier__gamma=auto, classifier__kernel=linear; total time= 5.1min\n",
      "[CV] END classifier__C=1, classifier__gamma=auto, classifier__kernel=linear; total time= 5.1min\n",
      "[CV] END classifier__C=1, classifier__gamma=auto, classifier__kernel=rbf; total time= 5.9min\n",
      "[CV] END classifier__C=1, classifier__gamma=auto, classifier__kernel=rbf; total time= 5.9min\n",
      "[CV] END classifier__C=1, classifier__gamma=auto, classifier__kernel=rbf; total time= 5.9min\n",
      "[CV] END classifier__C=1, classifier__gamma=auto, classifier__kernel=rbf; total time= 5.9min\n",
      "[CV] END classifier__C=1, classifier__gamma=auto, classifier__kernel=rbf; total time= 5.9min\n",
      "[CV] END classifier__C=10, classifier__gamma=scale, classifier__kernel=linear; total time= 4.9min\n",
      "[CV] END classifier__C=10, classifier__gamma=scale, classifier__kernel=linear; total time= 5.1min\n",
      "[CV] END classifier__C=10, classifier__gamma=scale, classifier__kernel=linear; total time= 5.1min\n",
      "[CV] END classifier__C=10, classifier__gamma=scale, classifier__kernel=linear; total time= 5.1min\n",
      "[CV] END classifier__C=10, classifier__gamma=scale, classifier__kernel=linear; total time= 5.1min\n",
      "[CV] END classifier__C=10, classifier__gamma=scale, classifier__kernel=rbf; total time= 6.0min\n",
      "[CV] END classifier__C=10, classifier__gamma=scale, classifier__kernel=rbf; total time= 6.0min\n",
      "[CV] END classifier__C=10, classifier__gamma=scale, classifier__kernel=rbf; total time= 6.1min\n",
      "[CV] END classifier__C=10, classifier__gamma=scale, classifier__kernel=rbf; total time= 5.6min\n",
      "[CV] END classifier__C=10, classifier__gamma=auto, classifier__kernel=linear; total time= 4.6min\n",
      "[CV] END classifier__C=10, classifier__gamma=scale, classifier__kernel=rbf; total time= 5.1min\n",
      "[CV] END classifier__C=10, classifier__gamma=auto, classifier__kernel=linear; total time= 4.4min\n",
      "[CV] END classifier__C=10, classifier__gamma=auto, classifier__kernel=linear; total time= 4.4min\n",
      "[CV] END classifier__C=10, classifier__gamma=auto, classifier__kernel=linear; total time= 4.1min\n",
      "[CV] END classifier__C=10, classifier__gamma=auto, classifier__kernel=linear; total time= 4.1min\n",
      "[CV] END classifier__C=10, classifier__gamma=auto, classifier__kernel=rbf; total time= 4.6min\n",
      "[CV] END classifier__C=10, classifier__gamma=auto, classifier__kernel=rbf; total time= 3.1min\n",
      "[CV] END classifier__C=10, classifier__gamma=auto, classifier__kernel=rbf; total time= 3.0min\n",
      "[CV] END classifier__C=10, classifier__gamma=auto, classifier__kernel=rbf; total time= 2.7min\n",
      "[CV] END classifier__C=10, classifier__gamma=auto, classifier__kernel=rbf; total time= 2.6min\n",
      "Best model saved to: /Volumes/X10 Pro/best_distilbert_word2vec_svm.pkl\n",
      "Best Parameters: {'classifier__C': 0.1, 'classifier__gamma': 'scale', 'classifier__kernel': 'linear'}\n",
      "Evaluation Set Performance:\n",
      "              precision    recall  f1-score   support\n",
      "\n",
      "           0       1.00      0.12      0.22      1339\n",
      "           1       0.53      1.00      0.70      1339\n",
      "\n",
      "    accuracy                           0.56      2678\n",
      "   macro avg       0.77      0.56      0.46      2678\n",
      "weighted avg       0.77      0.56      0.46      2678\n",
      "\n",
      "Test Set Performance:\n",
      "              precision    recall  f1-score   support\n",
      "\n",
      "           0       1.00      0.13      0.23      1340\n",
      "           1       0.54      1.00      0.70      1339\n",
      "\n",
      "    accuracy                           0.57      2679\n",
      "   macro avg       0.77      0.57      0.47      2679\n",
      "weighted avg       0.77      0.57      0.47      2679\n",
      "\n"
     ]
    }
   ],
   "source": [
    "import numpy as np\n",
    "import pandas as pd\n",
    "import torch\n",
    "from transformers import DistilBertTokenizer, DistilBertForSequenceClassification, Trainer, TrainingArguments\n",
    "from sklearn.metrics import accuracy_score, precision_recall_fscore_support\n",
    "from datasets import Dataset\n",
    "import joblib\n",
    "\n",
    "# Load DistilBERT tokenizer and model\n",
    "tokenizer = DistilBertTokenizer.from_pretrained(\"distilbert-base-uncased\")\n",
    "\n",
    "# Function to tokenize data\n",
    "def tokenize_function(examples):\n",
    "    return tokenizer(examples[\"text\"], truncation=True, padding=True, max_length=256)\n",
    "\n",
    "# Function to compute evaluation metrics\n",
    "def compute_metrics(pred):\n",
    "    labels = pred.label_ids\n",
    "    preds = np.argmax(pred.predictions, axis=1)\n",
    "    precision, recall, f1, _ = precision_recall_fscore_support(labels, preds, average=\"binary\")\n",
    "    acc = accuracy_score(labels, preds)\n",
    "    return {\"accuracy\": acc, \"precision\": precision, \"recall\": recall, \"f1\": f1}\n",
    "\n",
    "# Function to train DistilBERT model\n",
    "def train_distilbert(X_train, y_train, X_eval, y_eval, save_path):\n",
    "    \"\"\"Trains a DistilBERT model and evaluates it.\"\"\"\n",
    "    \n",
    "    # Convert data to Hugging Face Dataset format\n",
    "    train_dataset = Dataset.from_dict({\"text\": X_train, \"label\": y_train})\n",
    "    eval_dataset = Dataset.from_dict({\"text\": X_eval, \"label\": y_eval})\n",
    "    \n",
    "    # Tokenize datasets\n",
    "    train_dataset = train_dataset.map(tokenize_function, batched=True)\n",
    "    eval_dataset = eval_dataset.map(tokenize_function, batched=True)\n",
    "    \n",
    "    # Load pre-trained DistilBERT model for classification\n",
    "    model = DistilBertForSequenceClassification.from_pretrained(\"distilbert-base-uncased\", num_labels=2)\n",
    "    \n",
    "    # Define training arguments\n",
    "    training_args = TrainingArguments(\n",
    "        output_dir=\"./results\",\n",
    "        evaluation_strategy=\"epoch\",\n",
    "        save_strategy=\"epoch\",\n",
    "        learning_rate=2e-5,\n",
    "        per_device_train_batch_size=16,\n",
    "        per_device_eval_batch_size=16,\n",
    "        num_train_epochs=5,  # Train for more epochs\n",
    "        weight_decay=0.01,\n",
    "        logging_dir=\"./logs\",\n",
    "        load_best_model_at_end=True,\n",
    "    )\n",
    "    \n",
    "    # Initialize Trainer\n",
    "    trainer = Trainer(\n",
    "        model=model,\n",
    "        args=training_args,\n",
    "        train_dataset=train_dataset,\n",
    "        eval_dataset=eval_dataset,\n",
    "        tokenizer=tokenizer,\n",
    "        compute_metrics=compute_metrics,\n",
    "    )\n",
    "    \n",
    "    # Train the model\n",
    "    trainer.train()\n",
    "    \n",
    "    # Save the best model\n",
    "    model.save_pretrained(save_path)\n",
    "    tokenizer.save_pretrained(save_path)\n",
    "    print(f\"Best DistilBERT model saved to: {save_path}\")\n",
    "    \n",
    "    return model\n",
    "\n",
    "# Example usage\n",
    "save_path = \"/Volumes/X10 Pro/best_distilbert_model\"\n",
    "best_distilbert_model = train_distilbert(X_train, y_train, X_eval, y_eval, save_path)"
   ]
  },
  {
   "cell_type": "markdown",
   "metadata": {},
   "source": [
    "##### Training on RoBERTa"
   ]
  },
  {
   "cell_type": "code",
   "execution_count": 97,
   "metadata": {},
   "outputs": [
    {
     "name": "stderr",
     "output_type": "stream",
     "text": [
      "Some weights of RobertaForSequenceClassification were not initialized from the model checkpoint at roberta-base and are newly initialized: ['classifier.out_proj.weight', 'classifier.dense.bias', 'classifier.out_proj.bias', 'classifier.dense.weight']\n",
      "You should probably TRAIN this model on a down-stream task to be able to use it for predictions and inference.\n"
     ]
    },
    {
     "name": "stdout",
     "output_type": "stream",
     "text": [
      "Epoch 1: Loss = 0.7423432802225088\n",
      "Epoch 2: Loss = 0.7237705927832891\n",
      "Epoch 3: Loss = 0.715903112917088\n",
      "Epoch 4: Loss = 0.7141772521338348\n",
      "Epoch 5: Loss = 0.7073861547989394\n",
      "Epoch 6: Loss = 0.7019845071993422\n",
      "Epoch 7: Loss = 0.7029724383730171\n",
      "Epoch 8: Loss = 0.6997558912452386\n",
      "Epoch 9: Loss = 0.69612440649344\n",
      "Epoch 10: Loss = 0.6956372301963353\n",
      "Epoch 11: Loss = 0.693183294474968\n",
      "Epoch 12: Loss = 0.6931902706236034\n",
      "Epoch 13: Loss = 0.6931908555840296\n",
      "Epoch 14: Loss = 0.6909167280002516\n",
      "Epoch 15: Loss = 0.6931504820627272\n",
      "Epoch 16: Loss = 0.6912769197532993\n",
      "Epoch 17: Loss = 0.6910181224677913\n",
      "Epoch 18: Loss = 0.6904849512899961\n",
      "Epoch 19: Loss = 0.68959190147706\n",
      "Epoch 20: Loss = 0.6888925596822835\n",
      "Epoch 21: Loss = 0.6899485604661294\n",
      "Epoch 22: Loss = 0.6898434107400933\n",
      "Epoch 23: Loss = 0.6879529909875265\n",
      "Epoch 24: Loss = 0.6879558865126078\n",
      "Epoch 25: Loss = 0.6887292582161573\n",
      "Epoch 26: Loss = 0.6887752699608706\n",
      "Epoch 27: Loss = 0.6863760863031659\n",
      "Epoch 28: Loss = 0.6877682781838751\n",
      "Epoch 29: Loss = 0.6865865335504288\n",
      "Epoch 30: Loss = 0.6874123919540964\n"
     ]
    },
    {
     "name": "stderr",
     "output_type": "stream",
     "text": [
      "/Library/Frameworks/Python.framework/Versions/3.11/lib/python3.11/site-packages/sklearn/metrics/_classification.py:1565: UndefinedMetricWarning: Precision is ill-defined and being set to 0.0 due to no predicted samples. Use `zero_division` parameter to control this behavior.\n",
      "  _warn_prf(average, modifier, f\"{metric.capitalize()} is\", len(result))\n"
     ]
    },
    {
     "name": "stdout",
     "output_type": "stream",
     "text": [
      "Evaluation Metrics: {'accuracy': 0.5705009276437848, 'precision': 0.0, 'recall': 0.0, 'f1': 0.0}\n",
      "Best RoBERTa model saved to: /Volumes/X10 Pro/best_roberta_model\n"
     ]
    }
   ],
   "source": [
    "import subprocess\n",
    "import sys\n",
    "\n",
    "# Function to install missing dependencies\n",
    "def install_packages():\n",
    "    packages = [\"transformers[torch]\", \"torch\"]\n",
    "    for package in packages:\n",
    "        try:\n",
    "            __import__(package.split(\"[\")[0])  # Check if package is installed\n",
    "        except ImportError:\n",
    "            print(f\"Installing {package}...\")\n",
    "            subprocess.check_call([sys.executable, \"-m\", \"pip\", \"install\", package, \"-U\"])\n",
    "\n",
    "# Install missing packages\n",
    "install_packages()\n",
    "\n",
    "import numpy as np\n",
    "import torch\n",
    "import torch.nn as nn\n",
    "import torch.optim as optim\n",
    "from transformers import RobertaTokenizer, RobertaForSequenceClassification, get_scheduler\n",
    "from sklearn.metrics import accuracy_score, precision_recall_fscore_support\n",
    "from torch.utils.data import DataLoader, TensorDataset\n",
    "\n",
    "# Load RoBERTa tokenizer and model\n",
    "tokenizer = RobertaTokenizer.from_pretrained(\"roberta-base\")\n",
    "\n",
    "# Function to load data from a tab-separated text file\n",
    "def load_data(file_path):\n",
    "    texts = []\n",
    "    labels = []\n",
    "    with open(file_path, 'r', encoding='utf-8') as file:\n",
    "        for line in file:\n",
    "            parts = line.strip().split('\\t')\n",
    "            if len(parts) < 2:\n",
    "                continue  # Skip malformed lines\n",
    "            texts.append(parts[-2])  # Assuming second last column is text\n",
    "            labels.append(int(parts[-1]))  # Assuming last column is the label\n",
    "    return texts, labels\n",
    "\n",
    "# Function to tokenize text\n",
    "def tokenize_texts(texts):\n",
    "    return tokenizer(texts, truncation=True, padding=True, max_length=256, return_tensors=\"pt\")\n",
    "\n",
    "# Function to compute evaluation metrics\n",
    "def compute_metrics(preds, labels):\n",
    "    preds = np.argmax(preds, axis=1)\n",
    "    precision, recall, f1, _ = precision_recall_fscore_support(labels, preds, average=\"binary\")\n",
    "    acc = accuracy_score(labels, preds)\n",
    "    return {\"accuracy\": acc, \"precision\": precision, \"recall\": recall, \"f1\": f1}\n",
    "\n",
    "# Function to initialize weights\n",
    "def initialize_weights(module):\n",
    "    if isinstance(module, torch.nn.Linear):\n",
    "        torch.nn.init.xavier_uniform_(module.weight)\n",
    "        if module.bias is not None:\n",
    "            torch.nn.init.zeros_(module.bias)\n",
    "\n",
    "# Function to train RoBERTa model manually\n",
    "def train_roberta(train_file, eval_file, save_path, epochs=30, batch_size=16, lr=2e-5):\n",
    "    \"\"\"Trains a RoBERTa model and evaluates it without using the Trainer module.\"\"\"\n",
    "    \n",
    "    # Load and tokenize data\n",
    "    X_train, y_train = load_data(train_file)\n",
    "    X_eval, y_eval = load_data(eval_file)\n",
    "    \n",
    "    train_encodings = tokenize_texts(X_train)\n",
    "    eval_encodings = tokenize_texts(X_eval)\n",
    "    \n",
    "    # Convert to PyTorch tensors\n",
    "    train_labels = torch.tensor(y_train, dtype=torch.long)\n",
    "    eval_labels = torch.tensor(y_eval, dtype=torch.long)\n",
    "    \n",
    "    # Prepare DataLoader\n",
    "    train_dataset = TensorDataset(train_encodings['input_ids'], train_encodings['attention_mask'], train_labels)\n",
    "    eval_dataset = TensorDataset(eval_encodings['input_ids'], eval_encodings['attention_mask'], eval_labels)\n",
    "    train_loader = DataLoader(train_dataset, batch_size=batch_size, shuffle=True)\n",
    "    eval_loader = DataLoader(eval_dataset, batch_size=batch_size)\n",
    "    \n",
    "    # Load pre-trained RoBERTa model for classification\n",
    "    model = RobertaForSequenceClassification.from_pretrained(\"roberta-base\", num_labels=2)\n",
    "    model.apply(initialize_weights)  # Initialize classifier weights properly\n",
    "    \n",
    "    device = torch.device(\"cuda\" if torch.cuda.is_available() else \"cpu\")\n",
    "    model.to(device)\n",
    "    \n",
    "    # Define optimizer, loss function, and scheduler\n",
    "    optimizer = optim.AdamW(model.parameters(), lr=lr)\n",
    "    class_weights = torch.tensor([1.0, 1.0]).to(device)  # Adjust for imbalance if needed\n",
    "    loss_fn = nn.CrossEntropyLoss(weight=class_weights)\n",
    "    \n",
    "    scheduler = get_scheduler(\n",
    "        \"linear\",\n",
    "        optimizer=optimizer,\n",
    "        num_warmup_steps=0,\n",
    "        num_training_steps=len(train_loader) * epochs,\n",
    "    )\n",
    "    \n",
    "    # Training loop\n",
    "    for epoch in range(epochs):\n",
    "        model.train()\n",
    "        total_loss = 0\n",
    "        for batch in train_loader:\n",
    "            input_ids, attention_mask, labels = [x.to(device) for x in batch]\n",
    "            optimizer.zero_grad()\n",
    "            outputs = model(input_ids, attention_mask=attention_mask)\n",
    "            loss = loss_fn(outputs.logits, labels)\n",
    "            loss.backward()\n",
    "            optimizer.step()\n",
    "            scheduler.step()\n",
    "            total_loss += loss.item()\n",
    "        print(f\"Epoch {epoch+1}: Loss = {total_loss/len(train_loader)}\")\n",
    "    \n",
    "    # Evaluation\n",
    "    model.eval()\n",
    "    all_preds, all_labels = [], []\n",
    "    with torch.no_grad():\n",
    "        for batch in eval_loader:\n",
    "            input_ids, attention_mask, labels = [x.to(device) for x in batch]\n",
    "            outputs = model(input_ids, attention_mask=attention_mask)\n",
    "            preds = outputs.logits.cpu().numpy()\n",
    "            all_preds.extend(preds)\n",
    "            all_labels.extend(labels.cpu().numpy())\n",
    "    \n",
    "    metrics = compute_metrics(np.array(all_preds), np.array(all_labels))\n",
    "    print(f\"Evaluation Metrics: {metrics}\")\n",
    "    \n",
    "    # Save the best model\n",
    "    model.save_pretrained(save_path)\n",
    "    tokenizer.save_pretrained(save_path)\n",
    "    print(f\"Best RoBERTa model saved to: {save_path}\")\n",
    "    \n",
    "    return model\n",
    "\n",
    "\n",
    "train_file = \"/Volumes/X10 Pro/train_reliclass_train_new.tsv\"\n",
    "eval_file = \"/Volumes/X10 Pro/train_reliclass_eval_new.tsv\"\n",
    "save_path = \"/Volumes/X10 Pro/best_roberta_model\"\n",
    "\n",
    "best_roberta_model = train_roberta(train_file, eval_file, save_path)\n"
   ]
  },
  {
   "cell_type": "markdown",
   "metadata": {},
   "source": [
    "###### Analyze the issue by analyzing the misclassified or low-confidence posts"
   ]
  },
  {
   "cell_type": "code",
   "execution_count": 104,
   "metadata": {},
   "outputs": [
    {
     "name": "stdout",
     "output_type": "stream",
     "text": [
      "\n",
      "🔴 Misclassified Examples:\n",
      "\n",
      "Example 1\n",
      "Text: The Most Intelligent, Calm, Thoughtful Religious Debate I've Ever Seen\n",
      "True Label: 1 | Predicted Label: 0 | Confidence: 0.5635\n",
      "\n",
      "Example 2\n",
      "Text: Entry for worst quote of the year?\n",
      "True Label: 1 | Predicted Label: 0 | Confidence: 0.5635\n",
      "\n",
      "Example 3\n",
      "Text: Anonymous and Me Too\n",
      "True Label: 1 | Predicted Label: 0 | Confidence: 0.5635\n",
      "\n",
      "Example 4\n",
      "Text: A number of Americans believe the rapture is imminent... [pic]\n",
      "True Label: 1 | Predicted Label: 0 | Confidence: 0.5635\n",
      "\n",
      "Example 5\n",
      "Text: What Saint Paul Really Said: Was Paul of Tarsus the Real Founder of Christianity?\n",
      "True Label: 1 | Predicted Label: 0 | Confidence: 0.5635\n",
      "\n",
      "Example 6\n",
      "Text: If You Want Blood, You Got it! | Spreaker Online Radio\n",
      "True Label: 1 | Predicted Label: 0 | Confidence: 0.5635\n",
      "\n",
      "Example 7\n",
      "Text: RDBook: Technology and Tradition: Carlson’s Indiscrete Image\n",
      "True Label: 1 | Predicted Label: 0 | Confidence: 0.5635\n",
      "\n",
      "Example 8\n",
      "Text: Snatam Kaur - We Are One\n",
      "True Label: 1 | Predicted Label: 0 | Confidence: 0.5635\n",
      "\n",
      "Example 9\n",
      "Text: reiki4writers: Second, do no harm\n",
      "True Label: 1 | Predicted Label: 0 | Confidence: 0.5635\n",
      "\n",
      "Example 10\n",
      "Text: 187 beatified in commemoration of ferocious persecution of Christians in 17th century Japan.\n",
      "True Label: 1 | Predicted Label: 0 | Confidence: 0.5635\n",
      "\n",
      "Total Misclassified: 6402\n",
      "\n",
      "🟡 Low-Confidence Examples:\n",
      "\n",
      "Total Low-Confidence: 0\n",
      "\n",
      "🟢 Correct & Confident Examples:\n",
      "\n",
      "Total Correct & Confident: 0\n"
     ]
    }
   ],
   "source": [
    "import torch\n",
    "from transformers import RobertaTokenizer, RobertaForSequenceClassification\n",
    "\n",
    "# Set file paths\n",
    "model_path = \"/Volumes/X10 Pro/best_roberta_model\"\n",
    "train_path = \"/Volumes/X10 Pro/train_reliclass_train_new.tsv\"\n",
    "eval_path = \"/Volumes/X10 Pro/train_reliclass_eval_new.tsv\"\n",
    "\n",
    "# Load tokenizer & model\n",
    "tokenizer = RobertaTokenizer.from_pretrained(model_path)\n",
    "model = RobertaForSequenceClassification.from_pretrained(model_path)\n",
    "model.eval()  # Set model to evaluation mode\n",
    "\n",
    "# Function to read TSV data and combine train + eval\n",
    "def load_combined_data(train_file, eval_file):\n",
    "    texts, labels = [], []\n",
    "\n",
    "    for file_path in [train_file, eval_file]:  # Process both files\n",
    "        with open(file_path, \"r\", encoding=\"utf-8\") as file:\n",
    "            for line in file:\n",
    "                parts = line.strip().split(\"\\t\")\n",
    "                if len(parts) < 18:\n",
    "                    continue  # Skip malformed rows\n",
    "\n",
    "                text = parts[3]  # Assuming text is in column 4\n",
    "                label = parts[-1]  # Assuming label is in column 18\n",
    "\n",
    "                if label in {\"0\", \"1\"}:  # Ensure valid labels\n",
    "                    texts.append(text)\n",
    "                    labels.append(int(label))\n",
    "\n",
    "    return texts, labels\n",
    "\n",
    "# Load and combine train + eval\n",
    "X_data, y_data = load_combined_data(train_path, eval_path)\n",
    "\n",
    "# Function to classify texts\n",
    "def classify_texts(texts):\n",
    "    predictions, confidences = [], []\n",
    "\n",
    "    for text in texts:\n",
    "        inputs = tokenizer(text, return_tensors=\"pt\", truncation=True, padding=True, max_length=256)\n",
    "        \n",
    "        with torch.no_grad():\n",
    "            outputs = model(**inputs)\n",
    "            logits = outputs.logits\n",
    "            probs = torch.softmax(logits, dim=-1).squeeze().tolist()  # Convert logits to probabilities\n",
    "\n",
    "        predicted_class = torch.argmax(logits, dim=-1).item()\n",
    "        predictions.append(predicted_class)\n",
    "        confidences.append(probs[predicted_class])  # Store confidence of predicted class\n",
    "\n",
    "    return predictions, confidences\n",
    "\n",
    "# Run classification on full dataset\n",
    "y_pred, confidences = classify_texts(X_data)\n",
    "\n",
    "# Identify misclassified, low-confidence, and correctly classified confident examples\n",
    "misclassified = []\n",
    "low_confidence = []\n",
    "correct_confident = []\n",
    "\n",
    "threshold = 0.65  # Confidence threshold\n",
    "\n",
    "for i, (text, true_label, pred_label, conf) in enumerate(zip(X_data, y_data, y_pred, confidences)):\n",
    "    if pred_label != true_label:\n",
    "        misclassified.append((text, true_label, pred_label, conf))\n",
    "    elif conf < threshold:\n",
    "        low_confidence.append((text, true_label, pred_label, conf))\n",
    "    else:\n",
    "        correct_confident.append((text, true_label, pred_label, conf))\n",
    "\n",
    "# Print misclassified examples\n",
    "print(\"\\n🔴 Misclassified Examples:\")\n",
    "for i, (text, true, pred, conf) in enumerate(misclassified[:10]):\n",
    "    print(f\"\\nExample {i+1}\")\n",
    "    print(f\"Text: {text}\")\n",
    "    print(f\"True Label: {true} | Predicted Label: {pred} | Confidence: {conf:.4f}\")\n",
    "\n",
    "print(f\"\\nTotal Misclassified: {len(misclassified)}\")\n",
    "\n",
    "# Print low-confidence examples\n",
    "print(\"\\n🟡 Low-Confidence Examples:\")\n",
    "for i, (text, true, pred, conf) in enumerate(low_confidence[:10]):\n",
    "    print(f\"\\nExample {i+1}\")\n",
    "    print(f\"Text: {text}\")\n",
    "    print(f\"True Label: {true} | Predicted Label: {pred} | Confidence: {conf:.4f}\")\n",
    "\n",
    "print(f\"\\nTotal Low-Confidence: {len(low_confidence)}\")\n",
    "\n",
    "# Print correctly classified & confident examples\n",
    "print(\"\\n🟢 Correct & Confident Examples:\")\n",
    "for i, (text, true, pred, conf) in enumerate(correct_confident[:10]):\n",
    "    print(f\"\\nExample {i+1}\")\n",
    "    print(f\"Text: {text}\")\n",
    "    print(f\"True Label: {true} | Predicted Label: {pred} | Confidence: {conf:.4f}\")\n",
    "\n",
    "print(f\"\\nTotal Correct & Confident: {len(correct_confident)}\")"
   ]
  },
  {
   "cell_type": "markdown",
   "metadata": {},
   "source": [
    "###### Downloading the misclassified and low confidence posts to reannotate them\n",
    "Noticed that some are misclassified by me"
   ]
  },
  {
   "cell_type": "markdown",
   "metadata": {},
   "source": [
    "##### This is the final religion classifier"
   ]
  },
  {
   "cell_type": "code",
   "execution_count": null,
   "metadata": {},
   "outputs": [],
   "source": [
    "import subprocess\n",
    "import sys\n",
    "import numpy as np\n",
    "import torch\n",
    "import torch.nn as nn\n",
    "import torch.optim as optim\n",
    "import random\n",
    "from transformers import RobertaTokenizer, RobertaForSequenceClassification, get_scheduler\n",
    "from sklearn.metrics import accuracy_score, precision_recall_fscore_support\n",
    "from torch.utils.data import DataLoader, TensorDataset, random_split\n",
    "\n",
    "# Function to install missing dependencies\n",
    "def install_packages():\n",
    "    packages = [\"transformers[torch]\", \"torch\"]\n",
    "    for package in packages:\n",
    "        try:\n",
    "            __import__(package.split(\"[\")[0])  # Check if package is installed\n",
    "        except ImportError:\n",
    "            print(f\"Installing {package}...\")\n",
    "            subprocess.check_call([sys.executable, \"-m\", \"pip\", \"install\", package, \"-U\"])\n",
    "\n",
    "# Install missing packages\n",
    "install_packages()\n",
    "\n",
    "# Load RoBERTa tokenizer\n",
    "tokenizer = RobertaTokenizer.from_pretrained(\"roberta-base\")\n",
    "\n",
    "# Function to tokenize text\n",
    "def tokenize_texts(texts):\n",
    "    return tokenizer(texts, truncation=True, padding=True, max_length=256, return_tensors=\"pt\")\n",
    "\n",
    "# Function to compute evaluation metrics\n",
    "def compute_metrics(preds, labels):\n",
    "    preds = np.argmax(preds, axis=1)\n",
    "    precision, recall, f1, _ = precision_recall_fscore_support(labels, preds, average=\"binary\")\n",
    "    acc = accuracy_score(labels, preds)\n",
    "    return {\"accuracy\": acc, \"precision\": precision, \"recall\": recall, \"f1\": f1}\n",
    "\n",
    "# Function to initialize model weights\n",
    "def initialize_weights(module):\n",
    "    if isinstance(module, torch.nn.Linear):\n",
    "        torch.nn.init.xavier_uniform_(module.weight)\n",
    "        if module.bias is not None:\n",
    "            torch.nn.init.zeros_(module.bias)\n",
    "\n",
    "# Function to train RoBERTa model with early stopping\n",
    "def train_roberta(content, labels, save_path, epochs=30, batch_size=16, lr=2e-5, patience=5):\n",
    "    \"\"\"Trains a RoBERTa model using the provided content and labels with early stopping.\"\"\"\n",
    "\n",
    "    # Shuffle and split data (80% train, 20% eval)\n",
    "    dataset = list(zip(content, labels))\n",
    "    random.shuffle(dataset)\n",
    "    split_idx = int(0.8 * len(dataset))\n",
    "    train_data, eval_data = dataset[:split_idx], dataset[split_idx:]\n",
    "\n",
    "    # Separate text and labels\n",
    "    X_train, y_train = zip(*train_data)\n",
    "    X_eval, y_eval = zip(*eval_data)\n",
    "\n",
    "    # Tokenize data\n",
    "    train_encodings = tokenize_texts(list(X_train))\n",
    "    eval_encodings = tokenize_texts(list(X_eval))\n",
    "\n",
    "    # Convert to PyTorch tensors\n",
    "    train_labels = torch.tensor(y_train, dtype=torch.long)\n",
    "    eval_labels = torch.tensor(y_eval, dtype=torch.long)\n",
    "\n",
    "    # Prepare DataLoader\n",
    "    train_dataset = TensorDataset(train_encodings['input_ids'], train_encodings['attention_mask'], train_labels)\n",
    "    eval_dataset = TensorDataset(eval_encodings['input_ids'], eval_encodings['attention_mask'], eval_labels)\n",
    "    train_loader = DataLoader(train_dataset, batch_size=batch_size, shuffle=True)\n",
    "    eval_loader = DataLoader(eval_dataset, batch_size=batch_size)\n",
    "\n",
    "    # Load pre-trained RoBERTa model for classification\n",
    "    model = RobertaForSequenceClassification.from_pretrained(\"roberta-base\", num_labels=2)\n",
    "    model.apply(initialize_weights)  # Initialize classifier weights\n",
    "\n",
    "    device = torch.device(\"cuda\" if torch.cuda.is_available() else \"cpu\")\n",
    "    model.to(device)\n",
    "\n",
    "    # Define optimizer, loss function, and scheduler\n",
    "    optimizer = optim.AdamW(model.parameters(), lr=lr)\n",
    "    class_weights = torch.tensor([1.0, 1.0]).to(device)  # Adjust for imbalance if needed\n",
    "    loss_fn = nn.CrossEntropyLoss(weight=class_weights)\n",
    "\n",
    "    scheduler = get_scheduler(\n",
    "        \"linear\",\n",
    "        optimizer=optimizer,\n",
    "        num_warmup_steps=0,\n",
    "        num_training_steps=len(train_loader) * epochs,\n",
    "    )\n",
    "\n",
    "    # Early Stopping Parameters\n",
    "    best_loss = float('inf')\n",
    "    epochs_no_improve = 0\n",
    "\n",
    "    # Training loop\n",
    "    for epoch in range(epochs):\n",
    "        model.train()\n",
    "        total_loss = 0\n",
    "\n",
    "        for batch in train_loader:\n",
    "            input_ids, attention_mask, labels = [x.to(device) for x in batch]\n",
    "            optimizer.zero_grad()\n",
    "            outputs = model(input_ids, attention_mask=attention_mask)\n",
    "            loss = loss_fn(outputs.logits, labels)\n",
    "            loss.backward()\n",
    "            optimizer.step()\n",
    "            scheduler.step()\n",
    "            total_loss += loss.item()\n",
    "\n",
    "        avg_train_loss = total_loss / len(train_loader)\n",
    "        print(f\"Epoch {epoch+1}: Loss = {avg_train_loss:.5f}\")\n",
    "\n",
    "        # Evaluate after each epoch\n",
    "        model.eval()\n",
    "        all_preds, all_labels = [], []\n",
    "        eval_loss = 0\n",
    "\n",
    "        with torch.no_grad():\n",
    "            for batch in eval_loader:\n",
    "                input_ids, attention_mask, labels = [x.to(device) for x in batch]\n",
    "                outputs = model(input_ids, attention_mask=attention_mask)\n",
    "                preds = outputs.logits.cpu().numpy()\n",
    "                eval_loss += loss_fn(outputs.logits, labels).item()\n",
    "                all_preds.extend(preds)\n",
    "                all_labels.extend(labels.cpu().numpy())\n",
    "\n",
    "        avg_eval_loss = eval_loss / len(eval_loader)\n",
    "        metrics = compute_metrics(np.array(all_preds), np.array(all_labels))\n",
    "        print(f\"Evaluation Metrics: {metrics}\")\n",
    "\n",
    "        # Check early stopping\n",
    "        if avg_eval_loss < best_loss:\n",
    "            best_loss = avg_eval_loss\n",
    "            epochs_no_improve = 0\n",
    "            print(\"🔹 Model improved, saving checkpoint.\")\n",
    "            model.save_pretrained(save_path)\n",
    "            tokenizer.save_pretrained(save_path)\n",
    "        else:\n",
    "            epochs_no_improve += 1\n",
    "            print(f\"🔸 No improvement for {epochs_no_improve} epochs.\")\n",
    "\n",
    "        if epochs_no_improve >= patience:\n",
    "            print(\"⏹️ Early stopping triggered.\")\n",
    "            break  # Stop training if no improvement for `patience` epochs\n",
    "\n",
    "    print(f\"✅ Training complete. Best model saved to: {save_path}\")\n",
    "    return model\n",
    "\n",
    "\n",
    "# Define save path for model\n",
    "save_path = \"/Volumes/X10 Pro/best_roberta_model_renovated\"\n",
    "\n",
    "# Train the RoBERTa model with content & labels\n",
    "best_roberta_model = train_roberta(content, labels, save_path)"
   ]
  },
  {
   "cell_type": "markdown",
   "metadata": {},
   "source": [
    "I need to distill the RoBERTa model because it is too large"
   ]
  },
  {
   "cell_type": "code",
   "execution_count": 5,
   "metadata": {},
   "outputs": [
    {
     "name": "stdout",
     "output_type": "stream",
     "text": [
      "Using device: mps\n"
     ]
    },
    {
     "name": "stderr",
     "output_type": "stream",
     "text": [
      "/Library/Frameworks/Python.framework/Versions/3.11/lib/python3.11/site-packages/huggingface_hub/file_download.py:797: FutureWarning: `resume_download` is deprecated and will be removed in version 1.0.0. Downloads always resume when possible. If you want to force a new download, use `force_download=True`.\n",
      "  warnings.warn(\n",
      "Some weights of RobertaForSequenceClassification were not initialized from the model checkpoint at distilroberta-base and are newly initialized: ['classifier.dense.weight', 'classifier.dense.bias', 'classifier.out_proj.weight', 'classifier.out_proj.bias']\n",
      "You should probably TRAIN this model on a down-stream task to be able to use it for predictions and inference.\n"
     ]
    }
   ],
   "source": [
    "import torch\n",
    "import torch.nn as nn\n",
    "import torch.optim as optim\n",
    "from transformers import RobertaTokenizer, RobertaForSequenceClassification\n",
    "import pandas as pd\n",
    "from tqdm import tqdm\n",
    "\n",
    "# Get device\n",
    "device = torch.device(\"mps\" if torch.backends.mps.is_available() else \"cuda\" if torch.cuda.is_available() else \"cpu\")\n",
    "print(f\"Using device: {device}\")\n",
    "\n",
    "# Load tokenizer, teacher, and student models\n",
    "tokenizer = RobertaTokenizer.from_pretrained(\"roberta-base\")\n",
    "teacher = RobertaForSequenceClassification.from_pretrained(\"/Volumes/X10 Pro/best_roberta_model_renovated\").to(device)\n",
    "student = RobertaForSequenceClassification.from_pretrained(\"distilroberta-base\", num_labels=2).to(device)\n",
    "teacher.eval()  # freeze teacher\n",
    "\n",
    "# Distillation loss function\n",
    "def distillation_loss(student_logits, teacher_logits, labels, temperature=2.0, alpha=0.5):\n",
    "    soft_teacher = nn.functional.softmax(teacher_logits / temperature, dim=1)\n",
    "    soft_student = nn.functional.log_softmax(student_logits / temperature, dim=1)\n",
    "    distill_loss = nn.KLDivLoss(reduction='batchmean')(soft_student, soft_teacher) * (temperature ** 2)\n",
    "    ce_loss = nn.CrossEntropyLoss()(student_logits, labels)\n",
    "    return alpha * distill_loss + (1 - alpha) * ce_loss\n",
    "\n",
    "# Distillation function\n",
    "def distill_from_file(input_tsv, output_dir, chunk_size=10000, batch_size=16, epochs=1, temperature=2.0, alpha=0.5):\n",
    "    optimizer = optim.AdamW(student.parameters(), lr=5e-5)\n",
    "\n",
    "    for epoch in range(epochs):\n",
    "        print(f\"\\n🔁 Epoch {epoch + 1}\")\n",
    "        chunk_iter = pd.read_csv(input_tsv, sep=\"\\t\", chunksize=chunk_size)\n",
    "\n",
    "        for chunk_id, chunk in enumerate(chunk_iter):\n",
    "            # Drop rows with missing content or label\n",
    "            chunk = chunk.dropna(subset=[\"content\", \"label\"])\n",
    "            texts = chunk[\"content\"].astype(str).tolist()\n",
    "            labels = torch.tensor(chunk[\"label\"].tolist(), dtype=torch.long)\n",
    "\n",
    "            # Tokenize all inputs\n",
    "            encodings = tokenizer(texts, truncation=True, padding=True, max_length=256, return_tensors=\"pt\")\n",
    "            input_ids = encodings[\"input_ids\"]\n",
    "            attention_mask = encodings[\"attention_mask\"]\n",
    "\n",
    "            # Batch training\n",
    "            num_batches = len(input_ids) // batch_size + int(len(input_ids) % batch_size != 0)\n",
    "            for i in tqdm(range(num_batches), desc=f\"📦 Chunk {chunk_id + 1}\"):\n",
    "                b_input_ids = input_ids[i*batch_size:(i+1)*batch_size].to(device)\n",
    "                b_attention = attention_mask[i*batch_size:(i+1)*batch_size].to(device)\n",
    "                b_labels = labels[i*batch_size:(i+1)*batch_size].to(device)\n",
    "\n",
    "                with torch.no_grad():\n",
    "                    teacher_logits = teacher(b_input_ids, attention_mask=b_attention).logits\n",
    "\n",
    "                student.train()\n",
    "                student_logits = student(b_input_ids, attention_mask=b_attention).logits\n",
    "                loss = distillation_loss(student_logits, teacher_logits, b_labels, temperature, alpha)\n",
    "\n",
    "                optimizer.zero_grad()\n",
    "                loss.backward()\n",
    "                optimizer.step()\n",
    "\n",
    "    # Save student model\n",
    "    student.save_pretrained(output_dir)\n",
    "    tokenizer.save_pretrained(output_dir)\n",
    "    print(f\"\\n✅ Distilled model saved to: {output_dir}\")"
   ]
  },
  {
   "cell_type": "code",
   "execution_count": 7,
   "metadata": {},
   "outputs": [
    {
     "name": "stdout",
     "output_type": "stream",
     "text": [
      "\n",
      "🔁 Epoch 1\n"
     ]
    },
    {
     "name": "stderr",
     "output_type": "stream",
     "text": [
      "📦 Chunk 1: 100%|██████████| 392/392 [14:53<00:00,  2.28s/it]\n"
     ]
    },
    {
     "name": "stdout",
     "output_type": "stream",
     "text": [
      "\n",
      "🔁 Epoch 2\n"
     ]
    },
    {
     "name": "stderr",
     "output_type": "stream",
     "text": [
      "📦 Chunk 1: 100%|██████████| 392/392 [17:40<00:00,  2.70s/it]\n"
     ]
    },
    {
     "name": "stdout",
     "output_type": "stream",
     "text": [
      "\n",
      "✅ Distilled model saved to: mini_reli_classifier\n"
     ]
    }
   ],
   "source": [
    "# Define your paths and settings\n",
    "input_tsv = \"/Volumes/X10 Pro/train_inspected_corrected.tsv\"\n",
    "output_path = \"mini_reli_classifier\"\n",
    "label_column = \"label\"  # Or whatever column your label is in\n",
    "\n",
    "distill_from_file(\n",
    "    input_tsv=input_tsv,\n",
    "    output_dir=output_path,\n",
    "    chunk_size=15000,   # Adjust based on RAM\n",
    "    batch_size=16,\n",
    "    epochs=2,           # Try 1-3 to start\n",
    "    temperature=2.0,\n",
    "    alpha=0.5           # Balance between soft/hard loss\n",
    ")"
   ]
  },
  {
   "cell_type": "markdown",
   "metadata": {},
   "source": [
    "#### Training a Random Forest model for comparison"
   ]
  },
  {
   "cell_type": "code",
   "execution_count": 76,
   "metadata": {},
   "outputs": [
    {
     "name": "stdout",
     "output_type": "stream",
     "text": [
      "Fitting 5 folds for each of 81 candidates, totalling 405 fits\n",
      "[CV] END class_weight=balanced_subsample, max_depth=10, min_samples_leaf=1, min_samples_split=2, n_estimators=100; total time=  15.1s\n",
      "[CV] END class_weight=balanced_subsample, max_depth=10, min_samples_leaf=1, min_samples_split=2, n_estimators=100; total time=  15.2s\n",
      "[CV] END class_weight=balanced_subsample, max_depth=10, min_samples_leaf=1, min_samples_split=2, n_estimators=100; total time=  15.4s\n",
      "[CV] END class_weight=balanced_subsample, max_depth=10, min_samples_leaf=1, min_samples_split=2, n_estimators=100; total time=  15.2s\n",
      "[CV] END class_weight=balanced_subsample, max_depth=10, min_samples_leaf=1, min_samples_split=2, n_estimators=100; total time=  15.6s\n",
      "[CV] END class_weight=balanced_subsample, max_depth=10, min_samples_leaf=1, min_samples_split=2, n_estimators=300; total time=  45.5s\n",
      "[CV] END class_weight=balanced_subsample, max_depth=10, min_samples_leaf=1, min_samples_split=2, n_estimators=300; total time=  45.9s\n",
      "[CV] END class_weight=balanced_subsample, max_depth=10, min_samples_leaf=1, min_samples_split=2, n_estimators=300; total time=  46.4s\n",
      "[CV] END class_weight=balanced_subsample, max_depth=10, min_samples_leaf=1, min_samples_split=2, n_estimators=300; total time=  45.6s\n",
      "[CV] END class_weight=balanced_subsample, max_depth=10, min_samples_leaf=1, min_samples_split=2, n_estimators=300; total time=  46.6s\n",
      "[CV] END class_weight=balanced_subsample, max_depth=10, min_samples_leaf=1, min_samples_split=5, n_estimators=100; total time=  15.5s\n",
      "[CV] END class_weight=balanced_subsample, max_depth=10, min_samples_leaf=1, min_samples_split=5, n_estimators=100; total time=  15.7s\n",
      "[CV] END class_weight=balanced_subsample, max_depth=10, min_samples_leaf=1, min_samples_split=5, n_estimators=100; total time=  15.4s\n",
      "[CV] END class_weight=balanced_subsample, max_depth=10, min_samples_leaf=1, min_samples_split=5, n_estimators=100; total time=  15.6s\n",
      "[CV] END class_weight=balanced_subsample, max_depth=10, min_samples_leaf=1, min_samples_split=2, n_estimators=500; total time= 1.3min\n",
      "[CV] END class_weight=balanced_subsample, max_depth=10, min_samples_leaf=1, min_samples_split=5, n_estimators=100; total time=  15.7s\n",
      "[CV] END class_weight=balanced_subsample, max_depth=10, min_samples_leaf=1, min_samples_split=2, n_estimators=500; total time= 1.3min\n",
      "[CV] END class_weight=balanced_subsample, max_depth=10, min_samples_leaf=1, min_samples_split=2, n_estimators=500; total time= 1.3min\n",
      "[CV] END class_weight=balanced_subsample, max_depth=10, min_samples_leaf=1, min_samples_split=2, n_estimators=500; total time= 1.3min\n",
      "[CV] END class_weight=balanced_subsample, max_depth=10, min_samples_leaf=1, min_samples_split=5, n_estimators=300; total time=  44.9s\n",
      "[CV] END class_weight=balanced_subsample, max_depth=10, min_samples_leaf=1, min_samples_split=5, n_estimators=300; total time=  45.1s\n",
      "[CV] END class_weight=balanced_subsample, max_depth=10, min_samples_leaf=1, min_samples_split=2, n_estimators=500; total time= 1.3min\n",
      "[CV] END class_weight=balanced_subsample, max_depth=10, min_samples_leaf=1, min_samples_split=5, n_estimators=300; total time=  44.4s\n",
      "[CV] END class_weight=balanced_subsample, max_depth=10, min_samples_leaf=1, min_samples_split=5, n_estimators=300; total time=  44.9s\n",
      "[CV] END class_weight=balanced_subsample, max_depth=10, min_samples_leaf=1, min_samples_split=5, n_estimators=300; total time=  45.6s\n",
      "[CV] END class_weight=balanced_subsample, max_depth=10, min_samples_leaf=1, min_samples_split=10, n_estimators=100; total time=  15.7s\n",
      "[CV] END class_weight=balanced_subsample, max_depth=10, min_samples_leaf=1, min_samples_split=10, n_estimators=100; total time=  15.3s\n",
      "[CV] END class_weight=balanced_subsample, max_depth=10, min_samples_leaf=1, min_samples_split=10, n_estimators=100; total time=  15.1s\n",
      "[CV] END class_weight=balanced_subsample, max_depth=10, min_samples_leaf=1, min_samples_split=10, n_estimators=100; total time=  14.2s\n",
      "[CV] END class_weight=balanced_subsample, max_depth=10, min_samples_leaf=1, min_samples_split=5, n_estimators=500; total time= 1.2min\n",
      "[CV] END class_weight=balanced_subsample, max_depth=10, min_samples_leaf=1, min_samples_split=10, n_estimators=100; total time=  15.3s\n",
      "[CV] END class_weight=balanced_subsample, max_depth=10, min_samples_leaf=1, min_samples_split=5, n_estimators=500; total time= 1.3min\n",
      "[CV] END class_weight=balanced_subsample, max_depth=10, min_samples_leaf=1, min_samples_split=5, n_estimators=500; total time= 1.2min\n",
      "[CV] END class_weight=balanced_subsample, max_depth=10, min_samples_leaf=1, min_samples_split=5, n_estimators=500; total time= 1.2min\n",
      "[CV] END class_weight=balanced_subsample, max_depth=10, min_samples_leaf=1, min_samples_split=10, n_estimators=300; total time=  45.2s\n",
      "[CV] END class_weight=balanced_subsample, max_depth=10, min_samples_leaf=1, min_samples_split=5, n_estimators=500; total time= 1.3min\n",
      "[CV] END class_weight=balanced_subsample, max_depth=10, min_samples_leaf=1, min_samples_split=10, n_estimators=300; total time=  44.0s\n",
      "[CV] END class_weight=balanced_subsample, max_depth=10, min_samples_leaf=1, min_samples_split=10, n_estimators=300; total time=  45.4s\n",
      "[CV] END class_weight=balanced_subsample, max_depth=10, min_samples_leaf=1, min_samples_split=10, n_estimators=300; total time=  45.3s\n",
      "[CV] END class_weight=balanced_subsample, max_depth=10, min_samples_leaf=5, min_samples_split=2, n_estimators=100; total time=  10.0s\n",
      "[CV] END class_weight=balanced_subsample, max_depth=10, min_samples_leaf=5, min_samples_split=2, n_estimators=100; total time=  10.1s\n",
      "[CV] END class_weight=balanced_subsample, max_depth=10, min_samples_leaf=5, min_samples_split=2, n_estimators=100; total time=  10.0s\n",
      "[CV] END class_weight=balanced_subsample, max_depth=10, min_samples_leaf=5, min_samples_split=2, n_estimators=100; total time=  11.2s\n",
      "[CV] END class_weight=balanced_subsample, max_depth=10, min_samples_leaf=1, min_samples_split=10, n_estimators=300; total time=  45.3s\n",
      "[CV] END class_weight=balanced_subsample, max_depth=10, min_samples_leaf=5, min_samples_split=2, n_estimators=100; total time=  10.1s\n",
      "[CV] END class_weight=balanced_subsample, max_depth=10, min_samples_leaf=5, min_samples_split=2, n_estimators=300; total time=  32.2s\n",
      "[CV] END class_weight=balanced_subsample, max_depth=10, min_samples_leaf=1, min_samples_split=10, n_estimators=500; total time= 1.2min\n",
      "[CV] END class_weight=balanced_subsample, max_depth=10, min_samples_leaf=1, min_samples_split=10, n_estimators=500; total time= 1.2min\n",
      "[CV] END class_weight=balanced_subsample, max_depth=10, min_samples_leaf=1, min_samples_split=10, n_estimators=500; total time= 1.2min\n",
      "[CV] END class_weight=balanced_subsample, max_depth=10, min_samples_leaf=1, min_samples_split=10, n_estimators=500; total time= 1.2min\n",
      "[CV] END class_weight=balanced_subsample, max_depth=10, min_samples_leaf=5, min_samples_split=2, n_estimators=300; total time=  32.1s\n",
      "[CV] END class_weight=balanced_subsample, max_depth=10, min_samples_leaf=5, min_samples_split=2, n_estimators=300; total time=  32.5s\n",
      "[CV] END class_weight=balanced_subsample, max_depth=10, min_samples_leaf=1, min_samples_split=10, n_estimators=500; total time= 1.3min\n",
      "[CV] END class_weight=balanced_subsample, max_depth=10, min_samples_leaf=5, min_samples_split=5, n_estimators=100; total time=  10.3s\n",
      "[CV] END class_weight=balanced_subsample, max_depth=10, min_samples_leaf=5, min_samples_split=2, n_estimators=300; total time=  33.2s\n",
      "[CV] END class_weight=balanced_subsample, max_depth=10, min_samples_leaf=5, min_samples_split=2, n_estimators=300; total time=  31.4s\n",
      "[CV] END class_weight=balanced_subsample, max_depth=10, min_samples_leaf=5, min_samples_split=5, n_estimators=100; total time=  10.2s\n",
      "[CV] END class_weight=balanced_subsample, max_depth=10, min_samples_leaf=5, min_samples_split=5, n_estimators=100; total time=   9.5s\n",
      "[CV] END class_weight=balanced_subsample, max_depth=10, min_samples_leaf=5, min_samples_split=5, n_estimators=100; total time=  11.0s\n",
      "[CV] END class_weight=balanced_subsample, max_depth=10, min_samples_leaf=5, min_samples_split=5, n_estimators=100; total time=  10.1s\n",
      "[CV] END class_weight=balanced_subsample, max_depth=10, min_samples_leaf=5, min_samples_split=2, n_estimators=500; total time=  49.0s\n",
      "[CV] END class_weight=balanced_subsample, max_depth=10, min_samples_leaf=5, min_samples_split=2, n_estimators=500; total time=  50.2s\n",
      "[CV] END class_weight=balanced_subsample, max_depth=10, min_samples_leaf=5, min_samples_split=2, n_estimators=500; total time=  51.1s\n",
      "[CV] END class_weight=balanced_subsample, max_depth=10, min_samples_leaf=5, min_samples_split=2, n_estimators=500; total time=  49.4s\n",
      "[CV] END class_weight=balanced_subsample, max_depth=10, min_samples_leaf=5, min_samples_split=2, n_estimators=500; total time=  52.6s\n",
      "[CV] END class_weight=balanced_subsample, max_depth=10, min_samples_leaf=5, min_samples_split=5, n_estimators=300; total time=  28.8s\n",
      "[CV] END class_weight=balanced_subsample, max_depth=10, min_samples_leaf=5, min_samples_split=5, n_estimators=300; total time=  30.5s\n",
      "[CV] END class_weight=balanced_subsample, max_depth=10, min_samples_leaf=5, min_samples_split=5, n_estimators=300; total time=  30.0s\n",
      "[CV] END class_weight=balanced_subsample, max_depth=10, min_samples_leaf=5, min_samples_split=5, n_estimators=300; total time=  30.5s\n",
      "[CV] END class_weight=balanced_subsample, max_depth=10, min_samples_leaf=5, min_samples_split=5, n_estimators=300; total time=  32.6s\n",
      "[CV] END class_weight=balanced_subsample, max_depth=10, min_samples_leaf=5, min_samples_split=10, n_estimators=100; total time=  10.0s\n",
      "[CV] END class_weight=balanced_subsample, max_depth=10, min_samples_leaf=5, min_samples_split=10, n_estimators=100; total time=   9.5s\n",
      "[CV] END class_weight=balanced_subsample, max_depth=10, min_samples_leaf=5, min_samples_split=10, n_estimators=100; total time=   9.6s\n",
      "[CV] END class_weight=balanced_subsample, max_depth=10, min_samples_leaf=5, min_samples_split=10, n_estimators=100; total time=  10.4s\n",
      "[CV] END class_weight=balanced_subsample, max_depth=10, min_samples_leaf=5, min_samples_split=5, n_estimators=500; total time=  48.3s\n",
      "[CV] END class_weight=balanced_subsample, max_depth=10, min_samples_leaf=5, min_samples_split=10, n_estimators=100; total time=   9.9s\n",
      "[CV] END class_weight=balanced_subsample, max_depth=10, min_samples_leaf=5, min_samples_split=5, n_estimators=500; total time=  49.8s\n",
      "[CV] END class_weight=balanced_subsample, max_depth=10, min_samples_leaf=5, min_samples_split=5, n_estimators=500; total time=  49.0s\n",
      "[CV] END class_weight=balanced_subsample, max_depth=10, min_samples_leaf=5, min_samples_split=5, n_estimators=500; total time=  52.3s\n",
      "[CV] END class_weight=balanced_subsample, max_depth=10, min_samples_leaf=5, min_samples_split=5, n_estimators=500; total time=  48.3s\n",
      "[CV] END class_weight=balanced_subsample, max_depth=10, min_samples_leaf=5, min_samples_split=10, n_estimators=300; total time=  30.5s\n",
      "[CV] END class_weight=balanced_subsample, max_depth=10, min_samples_leaf=5, min_samples_split=10, n_estimators=300; total time=  30.9s\n",
      "[CV] END class_weight=balanced_subsample, max_depth=10, min_samples_leaf=5, min_samples_split=10, n_estimators=300; total time=  29.6s\n",
      "[CV] END class_weight=balanced_subsample, max_depth=10, min_samples_leaf=5, min_samples_split=10, n_estimators=300; total time=  31.2s\n",
      "[CV] END class_weight=balanced_subsample, max_depth=10, min_samples_leaf=5, min_samples_split=10, n_estimators=300; total time=  30.8s\n",
      "[CV] END class_weight=balanced_subsample, max_depth=10, min_samples_leaf=10, min_samples_split=2, n_estimators=100; total time=  10.1s\n",
      "[CV] END class_weight=balanced_subsample, max_depth=10, min_samples_leaf=10, min_samples_split=2, n_estimators=100; total time=  10.7s\n",
      "[CV] END class_weight=balanced_subsample, max_depth=10, min_samples_leaf=10, min_samples_split=2, n_estimators=100; total time=  10.3s\n",
      "[CV] END class_weight=balanced_subsample, max_depth=10, min_samples_leaf=10, min_samples_split=2, n_estimators=100; total time=  10.8s\n",
      "[CV] END class_weight=balanced_subsample, max_depth=10, min_samples_leaf=10, min_samples_split=2, n_estimators=100; total time=   9.5s\n",
      "[CV] END class_weight=balanced_subsample, max_depth=10, min_samples_leaf=5, min_samples_split=10, n_estimators=500; total time=  49.2s\n",
      "[CV] END class_weight=balanced_subsample, max_depth=10, min_samples_leaf=5, min_samples_split=10, n_estimators=500; total time=  49.0s\n",
      "[CV] END class_weight=balanced_subsample, max_depth=10, min_samples_leaf=5, min_samples_split=10, n_estimators=500; total time=  49.0s\n",
      "[CV] END class_weight=balanced_subsample, max_depth=10, min_samples_leaf=10, min_samples_split=2, n_estimators=300; total time=  29.9s\n",
      "[CV] END class_weight=balanced_subsample, max_depth=10, min_samples_leaf=5, min_samples_split=10, n_estimators=500; total time=  52.0s\n",
      "[CV] END class_weight=balanced_subsample, max_depth=10, min_samples_leaf=5, min_samples_split=10, n_estimators=500; total time=  48.8s\n",
      "[CV] END class_weight=balanced_subsample, max_depth=10, min_samples_leaf=10, min_samples_split=2, n_estimators=300; total time=  29.8s\n",
      "[CV] END class_weight=balanced_subsample, max_depth=10, min_samples_leaf=10, min_samples_split=2, n_estimators=300; total time=  30.1s\n",
      "[CV] END class_weight=balanced_subsample, max_depth=10, min_samples_leaf=10, min_samples_split=2, n_estimators=300; total time=  29.8s\n",
      "[CV] END class_weight=balanced_subsample, max_depth=10, min_samples_leaf=10, min_samples_split=5, n_estimators=100; total time=  10.2s\n",
      "[CV] END class_weight=balanced_subsample, max_depth=10, min_samples_leaf=10, min_samples_split=5, n_estimators=100; total time=  10.7s\n",
      "[CV] END class_weight=balanced_subsample, max_depth=10, min_samples_leaf=10, min_samples_split=2, n_estimators=300; total time=  29.1s\n",
      "[CV] END class_weight=balanced_subsample, max_depth=10, min_samples_leaf=10, min_samples_split=5, n_estimators=100; total time=  11.0s\n",
      "[CV] END class_weight=balanced_subsample, max_depth=10, min_samples_leaf=10, min_samples_split=5, n_estimators=100; total time=  10.4s\n",
      "[CV] END class_weight=balanced_subsample, max_depth=10, min_samples_leaf=10, min_samples_split=5, n_estimators=100; total time=   9.6s\n",
      "[CV] END class_weight=balanced_subsample, max_depth=10, min_samples_leaf=10, min_samples_split=2, n_estimators=500; total time=  49.4s\n",
      "[CV] END class_weight=balanced_subsample, max_depth=10, min_samples_leaf=10, min_samples_split=2, n_estimators=500; total time=  49.6s\n",
      "[CV] END class_weight=balanced_subsample, max_depth=10, min_samples_leaf=10, min_samples_split=2, n_estimators=500; total time=  49.4s\n",
      "[CV] END class_weight=balanced_subsample, max_depth=10, min_samples_leaf=10, min_samples_split=2, n_estimators=500; total time=  49.6s\n",
      "[CV] END class_weight=balanced_subsample, max_depth=10, min_samples_leaf=10, min_samples_split=2, n_estimators=500; total time=  48.9s\n",
      "[CV] END class_weight=balanced_subsample, max_depth=10, min_samples_leaf=10, min_samples_split=5, n_estimators=300; total time=  30.5s\n",
      "[CV] END class_weight=balanced_subsample, max_depth=10, min_samples_leaf=10, min_samples_split=5, n_estimators=300; total time=  31.3s\n",
      "[CV] END class_weight=balanced_subsample, max_depth=10, min_samples_leaf=10, min_samples_split=5, n_estimators=300; total time=  30.4s\n",
      "[CV] END class_weight=balanced_subsample, max_depth=10, min_samples_leaf=10, min_samples_split=10, n_estimators=100; total time=  10.4s\n",
      "[CV] END class_weight=balanced_subsample, max_depth=10, min_samples_leaf=10, min_samples_split=5, n_estimators=300; total time=  30.7s\n",
      "[CV] END class_weight=balanced_subsample, max_depth=10, min_samples_leaf=10, min_samples_split=5, n_estimators=300; total time=  29.4s\n",
      "[CV] END class_weight=balanced_subsample, max_depth=10, min_samples_leaf=10, min_samples_split=10, n_estimators=100; total time=  11.0s\n",
      "[CV] END class_weight=balanced_subsample, max_depth=10, min_samples_leaf=10, min_samples_split=10, n_estimators=100; total time=  10.7s\n",
      "[CV] END class_weight=balanced_subsample, max_depth=10, min_samples_leaf=10, min_samples_split=10, n_estimators=100; total time=  10.7s\n",
      "[CV] END class_weight=balanced_subsample, max_depth=10, min_samples_leaf=10, min_samples_split=10, n_estimators=100; total time=  10.1s\n",
      "[CV] END class_weight=balanced_subsample, max_depth=10, min_samples_leaf=10, min_samples_split=5, n_estimators=500; total time=  49.8s\n",
      "[CV] END class_weight=balanced_subsample, max_depth=10, min_samples_leaf=10, min_samples_split=5, n_estimators=500; total time=  49.5s\n",
      "[CV] END class_weight=balanced_subsample, max_depth=10, min_samples_leaf=10, min_samples_split=5, n_estimators=500; total time=  50.2s\n",
      "[CV] END class_weight=balanced_subsample, max_depth=10, min_samples_leaf=10, min_samples_split=5, n_estimators=500; total time=  49.8s\n",
      "[CV] END class_weight=balanced_subsample, max_depth=10, min_samples_leaf=10, min_samples_split=5, n_estimators=500; total time=  49.3s\n",
      "[CV] END class_weight=balanced_subsample, max_depth=10, min_samples_leaf=10, min_samples_split=10, n_estimators=300; total time=  30.2s\n",
      "[CV] END class_weight=balanced_subsample, max_depth=10, min_samples_leaf=10, min_samples_split=10, n_estimators=300; total time=  31.8s\n",
      "[CV] END class_weight=balanced_subsample, max_depth=10, min_samples_leaf=10, min_samples_split=10, n_estimators=300; total time=  29.6s\n",
      "[CV] END class_weight=balanced_subsample, max_depth=10, min_samples_leaf=10, min_samples_split=10, n_estimators=300; total time=  30.4s\n",
      "[CV] END class_weight=balanced_subsample, max_depth=10, min_samples_leaf=10, min_samples_split=10, n_estimators=300; total time=  29.4s\n",
      "[CV] END class_weight=balanced_subsample, max_depth=20, min_samples_leaf=1, min_samples_split=2, n_estimators=100; total time=  14.7s\n",
      "[CV] END class_weight=balanced_subsample, max_depth=20, min_samples_leaf=1, min_samples_split=2, n_estimators=100; total time=  14.9s\n",
      "[CV] END class_weight=balanced_subsample, max_depth=20, min_samples_leaf=1, min_samples_split=2, n_estimators=100; total time=  14.9s\n",
      "[CV] END class_weight=balanced_subsample, max_depth=20, min_samples_leaf=1, min_samples_split=2, n_estimators=100; total time=  14.8s\n",
      "[CV] END class_weight=balanced_subsample, max_depth=10, min_samples_leaf=10, min_samples_split=10, n_estimators=500; total time=  50.5s\n",
      "[CV] END class_weight=balanced_subsample, max_depth=10, min_samples_leaf=10, min_samples_split=10, n_estimators=500; total time=  49.1s\n",
      "[CV] END class_weight=balanced_subsample, max_depth=20, min_samples_leaf=1, min_samples_split=2, n_estimators=100; total time=  14.8s\n",
      "[CV] END class_weight=balanced_subsample, max_depth=10, min_samples_leaf=10, min_samples_split=10, n_estimators=500; total time=  49.6s\n",
      "[CV] END class_weight=balanced_subsample, max_depth=10, min_samples_leaf=10, min_samples_split=10, n_estimators=500; total time=  49.1s\n",
      "[CV] END class_weight=balanced_subsample, max_depth=10, min_samples_leaf=10, min_samples_split=10, n_estimators=500; total time=  49.2s\n",
      "[CV] END class_weight=balanced_subsample, max_depth=20, min_samples_leaf=1, min_samples_split=2, n_estimators=300; total time=  45.2s\n",
      "[CV] END class_weight=balanced_subsample, max_depth=20, min_samples_leaf=1, min_samples_split=2, n_estimators=300; total time=  45.4s\n",
      "[CV] END class_weight=balanced_subsample, max_depth=20, min_samples_leaf=1, min_samples_split=2, n_estimators=300; total time=  43.5s\n",
      "[CV] END class_weight=balanced_subsample, max_depth=20, min_samples_leaf=1, min_samples_split=2, n_estimators=300; total time=  44.1s\n",
      "[CV] END class_weight=balanced_subsample, max_depth=20, min_samples_leaf=1, min_samples_split=2, n_estimators=300; total time=  44.9s\n",
      "[CV] END class_weight=balanced_subsample, max_depth=20, min_samples_leaf=1, min_samples_split=5, n_estimators=100; total time=  15.2s\n",
      "[CV] END class_weight=balanced_subsample, max_depth=20, min_samples_leaf=1, min_samples_split=5, n_estimators=100; total time=  14.8s\n",
      "[CV] END class_weight=balanced_subsample, max_depth=20, min_samples_leaf=1, min_samples_split=5, n_estimators=100; total time=  15.7s\n",
      "[CV] END class_weight=balanced_subsample, max_depth=20, min_samples_leaf=1, min_samples_split=5, n_estimators=100; total time=  15.3s\n",
      "[CV] END class_weight=balanced_subsample, max_depth=20, min_samples_leaf=1, min_samples_split=5, n_estimators=100; total time=  15.0s\n",
      "[CV] END class_weight=balanced_subsample, max_depth=20, min_samples_leaf=1, min_samples_split=2, n_estimators=500; total time= 1.3min\n",
      "[CV] END class_weight=balanced_subsample, max_depth=20, min_samples_leaf=1, min_samples_split=2, n_estimators=500; total time= 1.3min\n",
      "[CV] END class_weight=balanced_subsample, max_depth=20, min_samples_leaf=1, min_samples_split=2, n_estimators=500; total time= 1.2min\n",
      "[CV] END class_weight=balanced_subsample, max_depth=20, min_samples_leaf=1, min_samples_split=5, n_estimators=300; total time=  45.0s\n",
      "[CV] END class_weight=balanced_subsample, max_depth=20, min_samples_leaf=1, min_samples_split=2, n_estimators=500; total time= 1.3min\n",
      "[CV] END class_weight=balanced_subsample, max_depth=20, min_samples_leaf=1, min_samples_split=2, n_estimators=500; total time= 1.3min\n",
      "[CV] END class_weight=balanced_subsample, max_depth=20, min_samples_leaf=1, min_samples_split=5, n_estimators=300; total time=  45.1s\n",
      "[CV] END class_weight=balanced_subsample, max_depth=20, min_samples_leaf=1, min_samples_split=5, n_estimators=300; total time=  45.3s\n",
      "[CV] END class_weight=balanced_subsample, max_depth=20, min_samples_leaf=1, min_samples_split=5, n_estimators=300; total time=  45.5s\n",
      "[CV] END class_weight=balanced_subsample, max_depth=20, min_samples_leaf=1, min_samples_split=5, n_estimators=300; total time=  46.0s\n",
      "[CV] END class_weight=balanced_subsample, max_depth=20, min_samples_leaf=1, min_samples_split=10, n_estimators=100; total time=  15.8s\n",
      "[CV] END class_weight=balanced_subsample, max_depth=20, min_samples_leaf=1, min_samples_split=10, n_estimators=100; total time=  15.9s\n",
      "[CV] END class_weight=balanced_subsample, max_depth=20, min_samples_leaf=1, min_samples_split=10, n_estimators=100; total time=  15.4s\n",
      "[CV] END class_weight=balanced_subsample, max_depth=20, min_samples_leaf=1, min_samples_split=10, n_estimators=100; total time=  15.8s\n",
      "[CV] END class_weight=balanced_subsample, max_depth=20, min_samples_leaf=1, min_samples_split=10, n_estimators=100; total time=  16.4s\n",
      "[CV] END class_weight=balanced_subsample, max_depth=20, min_samples_leaf=1, min_samples_split=5, n_estimators=500; total time= 1.3min\n",
      "[CV] END class_weight=balanced_subsample, max_depth=20, min_samples_leaf=1, min_samples_split=5, n_estimators=500; total time= 1.3min\n",
      "[CV] END class_weight=balanced_subsample, max_depth=20, min_samples_leaf=1, min_samples_split=5, n_estimators=500; total time= 1.3min\n",
      "[CV] END class_weight=balanced_subsample, max_depth=20, min_samples_leaf=1, min_samples_split=10, n_estimators=300; total time=  49.3s\n",
      "[CV] END class_weight=balanced_subsample, max_depth=20, min_samples_leaf=1, min_samples_split=5, n_estimators=500; total time= 1.3min\n",
      "[CV] END class_weight=balanced_subsample, max_depth=20, min_samples_leaf=1, min_samples_split=5, n_estimators=500; total time= 1.3min\n",
      "[CV] END class_weight=balanced_subsample, max_depth=20, min_samples_leaf=1, min_samples_split=10, n_estimators=300; total time=  49.2s\n",
      "[CV] END class_weight=balanced_subsample, max_depth=20, min_samples_leaf=1, min_samples_split=10, n_estimators=300; total time=  48.4s\n",
      "[CV] END class_weight=balanced_subsample, max_depth=20, min_samples_leaf=1, min_samples_split=10, n_estimators=300; total time=  49.5s\n",
      "[CV] END class_weight=balanced_subsample, max_depth=20, min_samples_leaf=5, min_samples_split=2, n_estimators=100; total time=  11.9s\n",
      "[CV] END class_weight=balanced_subsample, max_depth=20, min_samples_leaf=5, min_samples_split=2, n_estimators=100; total time=  11.2s\n",
      "[CV] END class_weight=balanced_subsample, max_depth=20, min_samples_leaf=5, min_samples_split=2, n_estimators=100; total time=  10.6s\n",
      "[CV] END class_weight=balanced_subsample, max_depth=20, min_samples_leaf=1, min_samples_split=10, n_estimators=300; total time=  48.4s\n",
      "[CV] END class_weight=balanced_subsample, max_depth=20, min_samples_leaf=5, min_samples_split=2, n_estimators=100; total time=  11.7s\n",
      "[CV] END class_weight=balanced_subsample, max_depth=20, min_samples_leaf=5, min_samples_split=2, n_estimators=100; total time=  10.8s\n",
      "[CV] END class_weight=balanced_subsample, max_depth=20, min_samples_leaf=1, min_samples_split=10, n_estimators=500; total time= 1.3min\n",
      "[CV] END class_weight=balanced_subsample, max_depth=20, min_samples_leaf=5, min_samples_split=2, n_estimators=300; total time=  32.9s\n",
      "[CV] END class_weight=balanced_subsample, max_depth=20, min_samples_leaf=5, min_samples_split=2, n_estimators=300; total time=  34.2s\n",
      "[CV] END class_weight=balanced_subsample, max_depth=20, min_samples_leaf=5, min_samples_split=2, n_estimators=300; total time=  32.8s\n",
      "[CV] END class_weight=balanced_subsample, max_depth=20, min_samples_leaf=1, min_samples_split=10, n_estimators=500; total time= 1.3min\n",
      "[CV] END class_weight=balanced_subsample, max_depth=20, min_samples_leaf=1, min_samples_split=10, n_estimators=500; total time= 1.3min\n",
      "[CV] END class_weight=balanced_subsample, max_depth=20, min_samples_leaf=1, min_samples_split=10, n_estimators=500; total time= 1.3min\n",
      "[CV] END class_weight=balanced_subsample, max_depth=20, min_samples_leaf=1, min_samples_split=10, n_estimators=500; total time= 1.3min\n",
      "[CV] END class_weight=balanced_subsample, max_depth=20, min_samples_leaf=5, min_samples_split=5, n_estimators=100; total time=  10.1s\n",
      "[CV] END class_weight=balanced_subsample, max_depth=20, min_samples_leaf=5, min_samples_split=2, n_estimators=300; total time=  33.1s\n",
      "[CV] END class_weight=balanced_subsample, max_depth=20, min_samples_leaf=5, min_samples_split=2, n_estimators=300; total time=  32.0s\n",
      "[CV] END class_weight=balanced_subsample, max_depth=20, min_samples_leaf=5, min_samples_split=5, n_estimators=100; total time=  10.6s\n",
      "[CV] END class_weight=balanced_subsample, max_depth=20, min_samples_leaf=5, min_samples_split=5, n_estimators=100; total time=  10.2s\n",
      "[CV] END class_weight=balanced_subsample, max_depth=20, min_samples_leaf=5, min_samples_split=5, n_estimators=100; total time=  10.0s\n",
      "[CV] END class_weight=balanced_subsample, max_depth=20, min_samples_leaf=5, min_samples_split=5, n_estimators=100; total time=  11.5s\n",
      "[CV] END class_weight=balanced_subsample, max_depth=20, min_samples_leaf=5, min_samples_split=2, n_estimators=500; total time=  51.0s\n",
      "[CV] END class_weight=balanced_subsample, max_depth=20, min_samples_leaf=5, min_samples_split=2, n_estimators=500; total time=  49.4s\n",
      "[CV] END class_weight=balanced_subsample, max_depth=20, min_samples_leaf=5, min_samples_split=2, n_estimators=500; total time=  51.7s\n",
      "[CV] END class_weight=balanced_subsample, max_depth=20, min_samples_leaf=5, min_samples_split=2, n_estimators=500; total time=  50.1s\n",
      "[CV] END class_weight=balanced_subsample, max_depth=20, min_samples_leaf=5, min_samples_split=2, n_estimators=500; total time=  53.6s\n",
      "[CV] END class_weight=balanced_subsample, max_depth=20, min_samples_leaf=5, min_samples_split=5, n_estimators=300; total time=  30.7s\n",
      "[CV] END class_weight=balanced_subsample, max_depth=20, min_samples_leaf=5, min_samples_split=5, n_estimators=300; total time=  31.3s\n",
      "[CV] END class_weight=balanced_subsample, max_depth=20, min_samples_leaf=5, min_samples_split=5, n_estimators=300; total time=  31.4s\n",
      "[CV] END class_weight=balanced_subsample, max_depth=20, min_samples_leaf=5, min_samples_split=10, n_estimators=100; total time=  10.0s\n",
      "[CV] END class_weight=balanced_subsample, max_depth=20, min_samples_leaf=5, min_samples_split=5, n_estimators=300; total time=  31.2s\n",
      "[CV] END class_weight=balanced_subsample, max_depth=20, min_samples_leaf=5, min_samples_split=5, n_estimators=300; total time=  33.1s\n",
      "[CV] END class_weight=balanced_subsample, max_depth=20, min_samples_leaf=5, min_samples_split=10, n_estimators=100; total time=  10.0s\n",
      "[CV] END class_weight=balanced_subsample, max_depth=20, min_samples_leaf=5, min_samples_split=10, n_estimators=100; total time=  10.1s\n",
      "[CV] END class_weight=balanced_subsample, max_depth=20, min_samples_leaf=5, min_samples_split=10, n_estimators=100; total time=  10.9s\n",
      "[CV] END class_weight=balanced_subsample, max_depth=20, min_samples_leaf=5, min_samples_split=10, n_estimators=100; total time=  11.2s\n",
      "[CV] END class_weight=balanced_subsample, max_depth=20, min_samples_leaf=5, min_samples_split=5, n_estimators=500; total time=  51.2s\n",
      "[CV] END class_weight=balanced_subsample, max_depth=20, min_samples_leaf=5, min_samples_split=5, n_estimators=500; total time=  51.1s\n",
      "[CV] END class_weight=balanced_subsample, max_depth=20, min_samples_leaf=5, min_samples_split=5, n_estimators=500; total time=  50.8s\n",
      "[CV] END class_weight=balanced_subsample, max_depth=20, min_samples_leaf=5, min_samples_split=5, n_estimators=500; total time=  51.8s\n",
      "[CV] END class_weight=balanced_subsample, max_depth=20, min_samples_leaf=5, min_samples_split=5, n_estimators=500; total time=  53.4s\n",
      "[CV] END class_weight=balanced_subsample, max_depth=20, min_samples_leaf=5, min_samples_split=10, n_estimators=300; total time=  32.0s\n",
      "[CV] END class_weight=balanced_subsample, max_depth=20, min_samples_leaf=5, min_samples_split=10, n_estimators=300; total time=  32.9s\n",
      "[CV] END class_weight=balanced_subsample, max_depth=20, min_samples_leaf=5, min_samples_split=10, n_estimators=300; total time=  31.8s\n",
      "[CV] END class_weight=balanced_subsample, max_depth=20, min_samples_leaf=5, min_samples_split=10, n_estimators=300; total time=  33.2s\n",
      "[CV] END class_weight=balanced_subsample, max_depth=20, min_samples_leaf=5, min_samples_split=10, n_estimators=300; total time=  31.8s\n",
      "[CV] END class_weight=balanced_subsample, max_depth=20, min_samples_leaf=10, min_samples_split=2, n_estimators=100; total time=  10.9s\n",
      "[CV] END class_weight=balanced_subsample, max_depth=20, min_samples_leaf=10, min_samples_split=2, n_estimators=100; total time=  10.9s\n",
      "[CV] END class_weight=balanced_subsample, max_depth=20, min_samples_leaf=10, min_samples_split=2, n_estimators=100; total time=  11.3s\n",
      "[CV] END class_weight=balanced_subsample, max_depth=20, min_samples_leaf=10, min_samples_split=2, n_estimators=100; total time=  11.3s\n",
      "[CV] END class_weight=balanced_subsample, max_depth=20, min_samples_leaf=10, min_samples_split=2, n_estimators=100; total time=  10.4s\n",
      "[CV] END class_weight=balanced_subsample, max_depth=20, min_samples_leaf=5, min_samples_split=10, n_estimators=500; total time=  51.6s\n",
      "[CV] END class_weight=balanced_subsample, max_depth=20, min_samples_leaf=5, min_samples_split=10, n_estimators=500; total time=  51.5s\n",
      "[CV] END class_weight=balanced_subsample, max_depth=20, min_samples_leaf=5, min_samples_split=10, n_estimators=500; total time=  51.9s\n",
      "[CV] END class_weight=balanced_subsample, max_depth=20, min_samples_leaf=5, min_samples_split=10, n_estimators=500; total time=  51.4s\n",
      "[CV] END class_weight=balanced_subsample, max_depth=20, min_samples_leaf=5, min_samples_split=10, n_estimators=500; total time=  54.7s\n",
      "[CV] END class_weight=balanced_subsample, max_depth=20, min_samples_leaf=10, min_samples_split=2, n_estimators=300; total time=  31.1s\n",
      "[CV] END class_weight=balanced_subsample, max_depth=20, min_samples_leaf=10, min_samples_split=2, n_estimators=300; total time=  30.5s\n",
      "[CV] END class_weight=balanced_subsample, max_depth=20, min_samples_leaf=10, min_samples_split=2, n_estimators=300; total time=  30.1s\n",
      "[CV] END class_weight=balanced_subsample, max_depth=20, min_samples_leaf=10, min_samples_split=2, n_estimators=300; total time=  29.7s\n",
      "[CV] END class_weight=balanced_subsample, max_depth=20, min_samples_leaf=10, min_samples_split=5, n_estimators=100; total time=  10.6s\n",
      "[CV] END class_weight=balanced_subsample, max_depth=20, min_samples_leaf=10, min_samples_split=5, n_estimators=100; total time=  10.7s\n",
      "[CV] END class_weight=balanced_subsample, max_depth=20, min_samples_leaf=10, min_samples_split=2, n_estimators=300; total time=  29.8s\n",
      "[CV] END class_weight=balanced_subsample, max_depth=20, min_samples_leaf=10, min_samples_split=5, n_estimators=100; total time=  10.6s\n",
      "[CV] END class_weight=balanced_subsample, max_depth=20, min_samples_leaf=10, min_samples_split=5, n_estimators=100; total time=  10.6s\n",
      "[CV] END class_weight=balanced_subsample, max_depth=20, min_samples_leaf=10, min_samples_split=5, n_estimators=100; total time=  10.1s\n",
      "[CV] END class_weight=balanced_subsample, max_depth=20, min_samples_leaf=10, min_samples_split=2, n_estimators=500; total time=  49.8s\n",
      "[CV] END class_weight=balanced_subsample, max_depth=20, min_samples_leaf=10, min_samples_split=2, n_estimators=500; total time=  49.8s\n",
      "[CV] END class_weight=balanced_subsample, max_depth=20, min_samples_leaf=10, min_samples_split=2, n_estimators=500; total time=  49.6s\n",
      "[CV] END class_weight=balanced_subsample, max_depth=20, min_samples_leaf=10, min_samples_split=2, n_estimators=500; total time=  50.0s\n",
      "[CV] END class_weight=balanced_subsample, max_depth=20, min_samples_leaf=10, min_samples_split=2, n_estimators=500; total time=  49.1s\n",
      "[CV] END class_weight=balanced_subsample, max_depth=20, min_samples_leaf=10, min_samples_split=5, n_estimators=300; total time=  30.6s\n",
      "[CV] END class_weight=balanced_subsample, max_depth=20, min_samples_leaf=10, min_samples_split=5, n_estimators=300; total time=  31.5s\n",
      "[CV] END class_weight=balanced_subsample, max_depth=20, min_samples_leaf=10, min_samples_split=5, n_estimators=300; total time=  30.3s\n",
      "[CV] END class_weight=balanced_subsample, max_depth=20, min_samples_leaf=10, min_samples_split=5, n_estimators=300; total time=  30.2s\n",
      "[CV] END class_weight=balanced_subsample, max_depth=20, min_samples_leaf=10, min_samples_split=10, n_estimators=100; total time=  10.7s\n",
      "[CV] END class_weight=balanced_subsample, max_depth=20, min_samples_leaf=10, min_samples_split=5, n_estimators=300; total time=  29.9s\n",
      "[CV] END class_weight=balanced_subsample, max_depth=20, min_samples_leaf=10, min_samples_split=10, n_estimators=100; total time=  10.8s\n",
      "[CV] END class_weight=balanced_subsample, max_depth=20, min_samples_leaf=10, min_samples_split=10, n_estimators=100; total time=  10.7s\n",
      "[CV] END class_weight=balanced_subsample, max_depth=20, min_samples_leaf=10, min_samples_split=10, n_estimators=100; total time=  11.0s\n",
      "[CV] END class_weight=balanced_subsample, max_depth=20, min_samples_leaf=10, min_samples_split=10, n_estimators=100; total time=  10.2s\n",
      "[CV] END class_weight=balanced_subsample, max_depth=20, min_samples_leaf=10, min_samples_split=5, n_estimators=500; total time=  48.7s\n",
      "[CV] END class_weight=balanced_subsample, max_depth=20, min_samples_leaf=10, min_samples_split=5, n_estimators=500; total time=  49.7s\n",
      "[CV] END class_weight=balanced_subsample, max_depth=20, min_samples_leaf=10, min_samples_split=5, n_estimators=500; total time=  49.8s\n",
      "[CV] END class_weight=balanced_subsample, max_depth=20, min_samples_leaf=10, min_samples_split=5, n_estimators=500; total time=  49.6s\n",
      "[CV] END class_weight=balanced_subsample, max_depth=20, min_samples_leaf=10, min_samples_split=5, n_estimators=500; total time=  50.8s\n",
      "[CV] END class_weight=balanced_subsample, max_depth=20, min_samples_leaf=10, min_samples_split=10, n_estimators=300; total time=  30.5s\n",
      "[CV] END class_weight=balanced_subsample, max_depth=20, min_samples_leaf=10, min_samples_split=10, n_estimators=300; total time=  31.7s\n",
      "[CV] END class_weight=balanced_subsample, max_depth=20, min_samples_leaf=10, min_samples_split=10, n_estimators=300; total time=  30.5s\n",
      "[CV] END class_weight=balanced_subsample, max_depth=20, min_samples_leaf=10, min_samples_split=10, n_estimators=300; total time=  31.4s\n",
      "[CV] END class_weight=balanced_subsample, max_depth=20, min_samples_leaf=10, min_samples_split=10, n_estimators=300; total time=  30.6s\n",
      "[CV] END class_weight=balanced_subsample, max_depth=None, min_samples_leaf=1, min_samples_split=2, n_estimators=100; total time=  15.0s\n",
      "[CV] END class_weight=balanced_subsample, max_depth=None, min_samples_leaf=1, min_samples_split=2, n_estimators=100; total time=  14.6s\n",
      "[CV] END class_weight=balanced_subsample, max_depth=None, min_samples_leaf=1, min_samples_split=2, n_estimators=100; total time=  14.9s\n",
      "[CV] END class_weight=balanced_subsample, max_depth=None, min_samples_leaf=1, min_samples_split=2, n_estimators=100; total time=  15.0s\n",
      "[CV] END class_weight=balanced_subsample, max_depth=20, min_samples_leaf=10, min_samples_split=10, n_estimators=500; total time=  51.2s\n",
      "[CV] END class_weight=balanced_subsample, max_depth=None, min_samples_leaf=1, min_samples_split=2, n_estimators=100; total time=  15.8s\n",
      "[CV] END class_weight=balanced_subsample, max_depth=20, min_samples_leaf=10, min_samples_split=10, n_estimators=500; total time=  51.8s\n",
      "[CV] END class_weight=balanced_subsample, max_depth=20, min_samples_leaf=10, min_samples_split=10, n_estimators=500; total time=  51.0s\n",
      "[CV] END class_weight=balanced_subsample, max_depth=20, min_samples_leaf=10, min_samples_split=10, n_estimators=500; total time=  52.7s\n",
      "[CV] END class_weight=balanced_subsample, max_depth=20, min_samples_leaf=10, min_samples_split=10, n_estimators=500; total time=  52.7s\n",
      "[CV] END class_weight=balanced_subsample, max_depth=None, min_samples_leaf=1, min_samples_split=2, n_estimators=300; total time=  46.5s\n",
      "[CV] END class_weight=balanced_subsample, max_depth=None, min_samples_leaf=1, min_samples_split=2, n_estimators=300; total time=  46.3s\n",
      "[CV] END class_weight=balanced_subsample, max_depth=None, min_samples_leaf=1, min_samples_split=2, n_estimators=300; total time=  47.2s\n",
      "[CV] END class_weight=balanced_subsample, max_depth=None, min_samples_leaf=1, min_samples_split=2, n_estimators=300; total time=  47.1s\n",
      "[CV] END class_weight=balanced_subsample, max_depth=None, min_samples_leaf=1, min_samples_split=2, n_estimators=300; total time=  47.6s\n",
      "[CV] END class_weight=balanced_subsample, max_depth=None, min_samples_leaf=1, min_samples_split=5, n_estimators=100; total time=  16.1s\n",
      "[CV] END class_weight=balanced_subsample, max_depth=None, min_samples_leaf=1, min_samples_split=5, n_estimators=100; total time=  16.2s\n",
      "[CV] END class_weight=balanced_subsample, max_depth=None, min_samples_leaf=1, min_samples_split=5, n_estimators=100; total time=  16.4s\n",
      "[CV] END class_weight=balanced_subsample, max_depth=None, min_samples_leaf=1, min_samples_split=5, n_estimators=100; total time=  16.6s\n",
      "[CV] END class_weight=balanced_subsample, max_depth=None, min_samples_leaf=1, min_samples_split=5, n_estimators=100; total time=  16.0s\n",
      "[CV] END class_weight=balanced_subsample, max_depth=None, min_samples_leaf=1, min_samples_split=2, n_estimators=500; total time= 1.3min\n",
      "[CV] END class_weight=balanced_subsample, max_depth=None, min_samples_leaf=1, min_samples_split=2, n_estimators=500; total time= 1.3min\n",
      "[CV] END class_weight=balanced_subsample, max_depth=None, min_samples_leaf=1, min_samples_split=2, n_estimators=500; total time= 1.3min\n",
      "[CV] END class_weight=balanced_subsample, max_depth=None, min_samples_leaf=1, min_samples_split=2, n_estimators=500; total time= 1.3min\n",
      "[CV] END class_weight=balanced_subsample, max_depth=None, min_samples_leaf=1, min_samples_split=5, n_estimators=300; total time=  48.0s\n",
      "[CV] END class_weight=balanced_subsample, max_depth=None, min_samples_leaf=1, min_samples_split=2, n_estimators=500; total time= 1.3min\n",
      "[CV] END class_weight=balanced_subsample, max_depth=None, min_samples_leaf=1, min_samples_split=5, n_estimators=300; total time=  47.2s\n",
      "[CV] END class_weight=balanced_subsample, max_depth=None, min_samples_leaf=1, min_samples_split=5, n_estimators=300; total time=  47.7s\n",
      "[CV] END class_weight=balanced_subsample, max_depth=None, min_samples_leaf=1, min_samples_split=5, n_estimators=300; total time=  47.9s\n",
      "[CV] END class_weight=balanced_subsample, max_depth=None, min_samples_leaf=1, min_samples_split=5, n_estimators=300; total time=  47.4s\n",
      "[CV] END class_weight=balanced_subsample, max_depth=None, min_samples_leaf=1, min_samples_split=10, n_estimators=100; total time=  15.7s\n",
      "[CV] END class_weight=balanced_subsample, max_depth=None, min_samples_leaf=1, min_samples_split=10, n_estimators=100; total time=  16.0s\n",
      "[CV] END class_weight=balanced_subsample, max_depth=None, min_samples_leaf=1, min_samples_split=10, n_estimators=100; total time=  16.5s\n",
      "[CV] END class_weight=balanced_subsample, max_depth=None, min_samples_leaf=1, min_samples_split=10, n_estimators=100; total time=  16.0s\n",
      "[CV] END class_weight=balanced_subsample, max_depth=None, min_samples_leaf=1, min_samples_split=10, n_estimators=100; total time=  16.4s\n",
      "[CV] END class_weight=balanced_subsample, max_depth=None, min_samples_leaf=1, min_samples_split=5, n_estimators=500; total time= 1.3min\n",
      "[CV] END class_weight=balanced_subsample, max_depth=None, min_samples_leaf=1, min_samples_split=5, n_estimators=500; total time= 1.3min\n",
      "[CV] END class_weight=balanced_subsample, max_depth=None, min_samples_leaf=1, min_samples_split=5, n_estimators=500; total time= 1.3min\n",
      "[CV] END class_weight=balanced_subsample, max_depth=None, min_samples_leaf=1, min_samples_split=10, n_estimators=300; total time=  47.7s\n",
      "[CV] END class_weight=balanced_subsample, max_depth=None, min_samples_leaf=1, min_samples_split=5, n_estimators=500; total time= 1.3min\n",
      "[CV] END class_weight=balanced_subsample, max_depth=None, min_samples_leaf=1, min_samples_split=5, n_estimators=500; total time= 1.3min\n",
      "[CV] END class_weight=balanced_subsample, max_depth=None, min_samples_leaf=1, min_samples_split=10, n_estimators=300; total time=  47.0s\n",
      "[CV] END class_weight=balanced_subsample, max_depth=None, min_samples_leaf=1, min_samples_split=10, n_estimators=300; total time=  46.9s\n",
      "[CV] END class_weight=balanced_subsample, max_depth=None, min_samples_leaf=1, min_samples_split=10, n_estimators=300; total time=  46.3s\n",
      "[CV] END class_weight=balanced_subsample, max_depth=None, min_samples_leaf=5, min_samples_split=2, n_estimators=100; total time=  11.3s\n",
      "[CV] END class_weight=balanced_subsample, max_depth=None, min_samples_leaf=5, min_samples_split=2, n_estimators=100; total time=  11.2s\n",
      "[CV] END class_weight=balanced_subsample, max_depth=None, min_samples_leaf=5, min_samples_split=2, n_estimators=100; total time=  11.6s\n",
      "[CV] END class_weight=balanced_subsample, max_depth=None, min_samples_leaf=1, min_samples_split=10, n_estimators=300; total time=  47.8s\n",
      "[CV] END class_weight=balanced_subsample, max_depth=None, min_samples_leaf=5, min_samples_split=2, n_estimators=100; total time=  12.8s\n",
      "[CV] END class_weight=balanced_subsample, max_depth=None, min_samples_leaf=5, min_samples_split=2, n_estimators=100; total time=  11.9s\n",
      "[CV] END class_weight=balanced_subsample, max_depth=None, min_samples_leaf=1, min_samples_split=10, n_estimators=500; total time= 1.3min\n",
      "[CV] END class_weight=balanced_subsample, max_depth=None, min_samples_leaf=5, min_samples_split=2, n_estimators=300; total time=  34.8s\n",
      "[CV] END class_weight=balanced_subsample, max_depth=None, min_samples_leaf=1, min_samples_split=10, n_estimators=500; total time= 1.3min\n",
      "[CV] END class_weight=balanced_subsample, max_depth=None, min_samples_leaf=1, min_samples_split=10, n_estimators=500; total time= 1.3min\n",
      "[CV] END class_weight=balanced_subsample, max_depth=None, min_samples_leaf=5, min_samples_split=2, n_estimators=300; total time=  35.8s\n",
      "[CV] END class_weight=balanced_subsample, max_depth=None, min_samples_leaf=5, min_samples_split=2, n_estimators=300; total time=  34.2s\n",
      "[CV] END class_weight=balanced_subsample, max_depth=None, min_samples_leaf=1, min_samples_split=10, n_estimators=500; total time= 1.3min\n",
      "[CV] END class_weight=balanced_subsample, max_depth=None, min_samples_leaf=1, min_samples_split=10, n_estimators=500; total time= 1.3min\n",
      "[CV] END class_weight=balanced_subsample, max_depth=None, min_samples_leaf=5, min_samples_split=5, n_estimators=100; total time=  11.4s\n",
      "[CV] END class_weight=balanced_subsample, max_depth=None, min_samples_leaf=5, min_samples_split=2, n_estimators=300; total time=  35.6s\n",
      "[CV] END class_weight=balanced_subsample, max_depth=None, min_samples_leaf=5, min_samples_split=5, n_estimators=100; total time=  10.8s\n",
      "[CV] END class_weight=balanced_subsample, max_depth=None, min_samples_leaf=5, min_samples_split=2, n_estimators=300; total time=  34.7s\n",
      "[CV] END class_weight=balanced_subsample, max_depth=None, min_samples_leaf=5, min_samples_split=5, n_estimators=100; total time=  10.8s\n",
      "[CV] END class_weight=balanced_subsample, max_depth=None, min_samples_leaf=5, min_samples_split=5, n_estimators=100; total time=  11.4s\n",
      "[CV] END class_weight=balanced_subsample, max_depth=None, min_samples_leaf=5, min_samples_split=5, n_estimators=100; total time=  11.0s\n",
      "[CV] END class_weight=balanced_subsample, max_depth=None, min_samples_leaf=5, min_samples_split=2, n_estimators=500; total time=  54.1s\n",
      "[CV] END class_weight=balanced_subsample, max_depth=None, min_samples_leaf=5, min_samples_split=2, n_estimators=500; total time=  54.6s\n",
      "[CV] END class_weight=balanced_subsample, max_depth=None, min_samples_leaf=5, min_samples_split=2, n_estimators=500; total time=  54.8s\n",
      "[CV] END class_weight=balanced_subsample, max_depth=None, min_samples_leaf=5, min_samples_split=2, n_estimators=500; total time=  53.8s\n",
      "[CV] END class_weight=balanced_subsample, max_depth=None, min_samples_leaf=5, min_samples_split=2, n_estimators=500; total time=  56.9s\n",
      "[CV] END class_weight=balanced_subsample, max_depth=None, min_samples_leaf=5, min_samples_split=5, n_estimators=300; total time=  32.0s\n",
      "[CV] END class_weight=balanced_subsample, max_depth=None, min_samples_leaf=5, min_samples_split=5, n_estimators=300; total time=  31.2s\n",
      "[CV] END class_weight=balanced_subsample, max_depth=None, min_samples_leaf=5, min_samples_split=5, n_estimators=300; total time=  32.4s\n",
      "[CV] END class_weight=balanced_subsample, max_depth=None, min_samples_leaf=5, min_samples_split=10, n_estimators=100; total time=  10.4s\n",
      "[CV] END class_weight=balanced_subsample, max_depth=None, min_samples_leaf=5, min_samples_split=5, n_estimators=300; total time=  33.9s\n",
      "[CV] END class_weight=balanced_subsample, max_depth=None, min_samples_leaf=5, min_samples_split=5, n_estimators=300; total time=  33.1s\n",
      "[CV] END class_weight=balanced_subsample, max_depth=None, min_samples_leaf=5, min_samples_split=10, n_estimators=100; total time=  11.1s\n",
      "[CV] END class_weight=balanced_subsample, max_depth=None, min_samples_leaf=5, min_samples_split=10, n_estimators=100; total time=  10.4s\n",
      "[CV] END class_weight=balanced_subsample, max_depth=None, min_samples_leaf=5, min_samples_split=10, n_estimators=100; total time=  11.6s\n",
      "[CV] END class_weight=balanced_subsample, max_depth=None, min_samples_leaf=5, min_samples_split=10, n_estimators=100; total time=  11.1s\n",
      "[CV] END class_weight=balanced_subsample, max_depth=None, min_samples_leaf=5, min_samples_split=5, n_estimators=500; total time=  53.9s\n",
      "[CV] END class_weight=balanced_subsample, max_depth=None, min_samples_leaf=5, min_samples_split=5, n_estimators=500; total time=  55.1s\n",
      "[CV] END class_weight=balanced_subsample, max_depth=None, min_samples_leaf=5, min_samples_split=5, n_estimators=500; total time=  54.1s\n",
      "[CV] END class_weight=balanced_subsample, max_depth=None, min_samples_leaf=5, min_samples_split=5, n_estimators=500; total time=  55.4s\n",
      "[CV] END class_weight=balanced_subsample, max_depth=None, min_samples_leaf=5, min_samples_split=5, n_estimators=500; total time=  58.3s\n",
      "[CV] END class_weight=balanced_subsample, max_depth=None, min_samples_leaf=5, min_samples_split=10, n_estimators=300; total time=  34.8s\n",
      "[CV] END class_weight=balanced_subsample, max_depth=None, min_samples_leaf=5, min_samples_split=10, n_estimators=300; total time=  35.8s\n",
      "[CV] END class_weight=balanced_subsample, max_depth=None, min_samples_leaf=5, min_samples_split=10, n_estimators=300; total time=  34.4s\n",
      "[CV] END class_weight=balanced_subsample, max_depth=None, min_samples_leaf=5, min_samples_split=10, n_estimators=300; total time=  36.3s\n",
      "[CV] END class_weight=balanced_subsample, max_depth=None, min_samples_leaf=5, min_samples_split=10, n_estimators=300; total time=  34.2s\n",
      "[CV] END class_weight=balanced_subsample, max_depth=None, min_samples_leaf=10, min_samples_split=2, n_estimators=100; total time=  10.9s\n",
      "[CV] END class_weight=balanced_subsample, max_depth=None, min_samples_leaf=10, min_samples_split=2, n_estimators=100; total time=  11.4s\n",
      "[CV] END class_weight=balanced_subsample, max_depth=None, min_samples_leaf=10, min_samples_split=2, n_estimators=100; total time=  11.4s\n",
      "[CV] END class_weight=balanced_subsample, max_depth=None, min_samples_leaf=10, min_samples_split=2, n_estimators=100; total time=  12.1s\n",
      "[CV] END class_weight=balanced_subsample, max_depth=None, min_samples_leaf=5, min_samples_split=10, n_estimators=500; total time=  56.2s\n",
      "[CV] END class_weight=balanced_subsample, max_depth=None, min_samples_leaf=10, min_samples_split=2, n_estimators=100; total time=  12.6s\n",
      "[CV] END class_weight=balanced_subsample, max_depth=None, min_samples_leaf=5, min_samples_split=10, n_estimators=500; total time=  58.5s\n",
      "[CV] END class_weight=balanced_subsample, max_depth=None, min_samples_leaf=5, min_samples_split=10, n_estimators=500; total time=  58.3s\n",
      "[CV] END class_weight=balanced_subsample, max_depth=None, min_samples_leaf=5, min_samples_split=10, n_estimators=500; total time=  59.5s\n",
      "[CV] END class_weight=balanced_subsample, max_depth=None, min_samples_leaf=5, min_samples_split=10, n_estimators=500; total time= 1.0min\n",
      "[CV] END class_weight=balanced_subsample, max_depth=None, min_samples_leaf=10, min_samples_split=2, n_estimators=300; total time=  38.7s\n",
      "[CV] END class_weight=balanced_subsample, max_depth=None, min_samples_leaf=10, min_samples_split=2, n_estimators=300; total time=  40.0s\n",
      "[CV] END class_weight=balanced_subsample, max_depth=None, min_samples_leaf=10, min_samples_split=2, n_estimators=300; total time=  39.2s\n",
      "[CV] END class_weight=balanced_subsample, max_depth=None, min_samples_leaf=10, min_samples_split=2, n_estimators=300; total time=  39.5s\n",
      "[CV] END class_weight=balanced_subsample, max_depth=None, min_samples_leaf=10, min_samples_split=5, n_estimators=100; total time=  15.2s\n",
      "[CV] END class_weight=balanced_subsample, max_depth=None, min_samples_leaf=10, min_samples_split=5, n_estimators=100; total time=  15.5s\n",
      "[CV] END class_weight=balanced_subsample, max_depth=None, min_samples_leaf=10, min_samples_split=2, n_estimators=300; total time=  41.7s\n",
      "[CV] END class_weight=balanced_subsample, max_depth=None, min_samples_leaf=10, min_samples_split=5, n_estimators=100; total time=  13.6s\n",
      "[CV] END class_weight=balanced_subsample, max_depth=None, min_samples_leaf=10, min_samples_split=5, n_estimators=100; total time=  13.6s\n",
      "[CV] END class_weight=balanced_subsample, max_depth=None, min_samples_leaf=10, min_samples_split=5, n_estimators=100; total time=  13.4s\n",
      "[CV] END class_weight=balanced_subsample, max_depth=None, min_samples_leaf=10, min_samples_split=2, n_estimators=500; total time= 1.1min\n",
      "[CV] END class_weight=balanced_subsample, max_depth=None, min_samples_leaf=10, min_samples_split=2, n_estimators=500; total time= 1.1min\n",
      "[CV] END class_weight=balanced_subsample, max_depth=None, min_samples_leaf=10, min_samples_split=2, n_estimators=500; total time= 1.1min\n",
      "[CV] END class_weight=balanced_subsample, max_depth=None, min_samples_leaf=10, min_samples_split=2, n_estimators=500; total time= 1.1min\n",
      "[CV] END class_weight=balanced_subsample, max_depth=None, min_samples_leaf=10, min_samples_split=2, n_estimators=500; total time= 1.1min\n",
      "[CV] END class_weight=balanced_subsample, max_depth=None, min_samples_leaf=10, min_samples_split=5, n_estimators=300; total time=  37.2s\n",
      "[CV] END class_weight=balanced_subsample, max_depth=None, min_samples_leaf=10, min_samples_split=5, n_estimators=300; total time=  35.8s\n",
      "[CV] END class_weight=balanced_subsample, max_depth=None, min_samples_leaf=10, min_samples_split=5, n_estimators=300; total time=  36.8s\n",
      "[CV] END class_weight=balanced_subsample, max_depth=None, min_samples_leaf=10, min_samples_split=10, n_estimators=100; total time=  11.2s\n",
      "[CV] END class_weight=balanced_subsample, max_depth=None, min_samples_leaf=10, min_samples_split=5, n_estimators=300; total time=  35.0s\n",
      "[CV] END class_weight=balanced_subsample, max_depth=None, min_samples_leaf=10, min_samples_split=5, n_estimators=300; total time=  32.4s\n",
      "[CV] END class_weight=balanced_subsample, max_depth=None, min_samples_leaf=10, min_samples_split=10, n_estimators=100; total time=  11.1s\n",
      "[CV] END class_weight=balanced_subsample, max_depth=None, min_samples_leaf=10, min_samples_split=10, n_estimators=100; total time=  12.0s\n",
      "[CV] END class_weight=balanced_subsample, max_depth=None, min_samples_leaf=10, min_samples_split=10, n_estimators=100; total time=  11.8s\n",
      "[CV] END class_weight=balanced_subsample, max_depth=None, min_samples_leaf=10, min_samples_split=10, n_estimators=100; total time=  10.5s\n",
      "[CV] END class_weight=balanced_subsample, max_depth=None, min_samples_leaf=10, min_samples_split=5, n_estimators=500; total time=  53.0s\n",
      "[CV] END class_weight=balanced_subsample, max_depth=None, min_samples_leaf=10, min_samples_split=5, n_estimators=500; total time=  52.7s\n",
      "[CV] END class_weight=balanced_subsample, max_depth=None, min_samples_leaf=10, min_samples_split=5, n_estimators=500; total time=  51.8s\n",
      "[CV] END class_weight=balanced_subsample, max_depth=None, min_samples_leaf=10, min_samples_split=5, n_estimators=500; total time=  52.0s\n",
      "[CV] END class_weight=balanced_subsample, max_depth=None, min_samples_leaf=10, min_samples_split=5, n_estimators=500; total time=  51.4s\n",
      "[CV] END class_weight=balanced_subsample, max_depth=None, min_samples_leaf=10, min_samples_split=10, n_estimators=300; total time=  31.0s\n",
      "[CV] END class_weight=balanced_subsample, max_depth=None, min_samples_leaf=10, min_samples_split=10, n_estimators=300; total time=  31.3s\n",
      "[CV] END class_weight=balanced_subsample, max_depth=None, min_samples_leaf=10, min_samples_split=10, n_estimators=300; total time=  30.2s\n",
      "[CV] END class_weight=balanced_subsample, max_depth=None, min_samples_leaf=10, min_samples_split=10, n_estimators=300; total time=  28.8s\n",
      "[CV] END class_weight=balanced_subsample, max_depth=None, min_samples_leaf=10, min_samples_split=10, n_estimators=300; total time=  28.9s\n",
      "[CV] END class_weight=balanced_subsample, max_depth=None, min_samples_leaf=10, min_samples_split=10, n_estimators=500; total time=  40.1s\n",
      "[CV] END class_weight=balanced_subsample, max_depth=None, min_samples_leaf=10, min_samples_split=10, n_estimators=500; total time=  36.3s\n",
      "[CV] END class_weight=balanced_subsample, max_depth=None, min_samples_leaf=10, min_samples_split=10, n_estimators=500; total time=  35.7s\n",
      "[CV] END class_weight=balanced_subsample, max_depth=None, min_samples_leaf=10, min_samples_split=10, n_estimators=500; total time=  33.3s\n",
      "[CV] END class_weight=balanced_subsample, max_depth=None, min_samples_leaf=10, min_samples_split=10, n_estimators=500; total time=  28.3s\n",
      "Evaluation Set Performance:\n",
      "              precision    recall  f1-score   support\n",
      "\n",
      "           0       1.00      0.12      0.22      1339\n",
      "           1       0.53      1.00      0.70      1339\n",
      "\n",
      "    accuracy                           0.56      2678\n",
      "   macro avg       0.77      0.56      0.46      2678\n",
      "weighted avg       0.77      0.56      0.46      2678\n",
      "\n",
      "Test Set Performance:\n",
      "              precision    recall  f1-score   support\n",
      "\n",
      "           0       1.00      0.13      0.23      1340\n",
      "           1       0.54      1.00      0.70      1339\n",
      "\n",
      "    accuracy                           0.57      2679\n",
      "   macro avg       0.77      0.57      0.47      2679\n",
      "weighted avg       0.77      0.57      0.47      2679\n",
      "\n",
      "Best Random Forest model saved to: /Volumes/X10 Pro/best_random_forest_model.pkl\n"
     ]
    }
   ],
   "source": [
    "from sklearn.ensemble import RandomForestClassifier\n",
    "from sklearn.model_selection import GridSearchCV\n",
    "from sklearn.metrics import classification_report\n",
    "\n",
    "def train_random_forest(X_train, y_train, X_eval, y_eval, X_test, y_test, save_path):\n",
    "    \"\"\"Trains a Random Forest model with hyperparameter tuning and evaluates it.\"\"\"\n",
    "    \n",
    "    # Define hyperparameter grid\n",
    "    param_grid = {\n",
    "        \"n_estimators\": [100, 300, 500],  # Number of trees\n",
    "        \"max_depth\": [10, 20, None],  # Depth of trees\n",
    "        \"min_samples_split\": [2, 5, 10],  # Minimum samples to split a node\n",
    "        \"min_samples_leaf\": [1, 5, 10],  # Minimum samples in a leaf\n",
    "        \"class_weight\": [\"balanced_subsample\"],  # Handle class imbalance\n",
    "    }\n",
    "\n",
    "    # Initialize Random Forest model\n",
    "    rf_clf = RandomForestClassifier(\n",
    "        n_estimators=300,  # More trees help generalization\n",
    "        max_depth=20,  # Limit tree depth\n",
    "        min_samples_leaf=5,  # Prevents deep overfitting trees\n",
    "        class_weight={0: 2, 1: 1},  # Balance classes\n",
    "        random_state=42\n",
    "                                )\n",
    "\n",
    "    # Perform GridSearch to find the best parameters\n",
    "    grid_search = GridSearchCV(rf_clf, param_grid, cv=5, scoring=\"f1\", n_jobs=-1, verbose=2)\n",
    "    grid_search.fit(X_train, y_train)\n",
    "\n",
    "    # Get the best model\n",
    "    best_rf_model = grid_search.best_estimator_\n",
    "\n",
    "    # Evaluate on evaluation set\n",
    "    y_pred_eval = best_rf_model.predict(X_eval)\n",
    "    print(\"Evaluation Set Performance:\")\n",
    "    print(classification_report(y_eval, y_pred_eval))\n",
    "\n",
    "    # Evaluate on test set\n",
    "    y_pred_test = best_rf_model.predict(X_test)\n",
    "    print(\"Test Set Performance:\")\n",
    "    print(classification_report(y_test, y_pred_test))\n",
    "\n",
    "    # Save the best trained model\n",
    "    import joblib\n",
    "    joblib.dump(best_rf_model, save_path)\n",
    "    print(f\"Best Random Forest model saved to: {save_path}\")\n",
    "\n",
    "    return best_rf_model\n",
    "\n",
    "# Example usage\n",
    "save_path = \"/Volumes/X10 Pro/best_random_forest_model.pkl\"\n",
    "best_random_forest = train_random_forest(X_train, y_train, X_eval, y_eval, X_test, y_test, save_path)"
   ]
  },
  {
   "cell_type": "markdown",
   "metadata": {},
   "source": [
    "#### Running the whole anonymized training data through the model"
   ]
  },
  {
   "cell_type": "code",
   "execution_count": 8,
   "metadata": {},
   "outputs": [
    {
     "name": "stdout",
     "output_type": "stream",
     "text": [
      "Using device: mps\n"
     ]
    },
    {
     "name": "stderr",
     "output_type": "stream",
     "text": [
      "Batching Chunk 1/3324: 100%|██████████| 938/938 [03:57<00:00,  3.94it/s]\n"
     ]
    },
    {
     "name": "stdout",
     "output_type": "stream",
     "text": [
      "✅ Chunk 1/3324 complete. Time: 3 min 57 sec. Estimated remaining: 219 hr 40 min.\n"
     ]
    },
    {
     "name": "stderr",
     "output_type": "stream",
     "text": [
      "Batching Chunk 2/3324: 100%|██████████| 938/938 [04:48<00:00,  3.25it/s]\n"
     ]
    },
    {
     "name": "stdout",
     "output_type": "stream",
     "text": [
      "✅ Chunk 2/3324 complete. Time: 4 min 49 sec. Estimated remaining: 243 hr 12 min.\n"
     ]
    },
    {
     "name": "stderr",
     "output_type": "stream",
     "text": [
      "Batching Chunk 3/3324: 100%|██████████| 938/938 [05:25<00:00,  2.89it/s]\n"
     ]
    },
    {
     "name": "stdout",
     "output_type": "stream",
     "text": [
      "✅ Chunk 3/3324 complete. Time: 5 min 25 sec. Estimated remaining: 262 hr 5 min.\n"
     ]
    },
    {
     "name": "stderr",
     "output_type": "stream",
     "text": [
      "Batching Chunk 4/3324:  46%|████▌     | 431/938 [02:49<03:19,  2.54it/s]\n"
     ]
    },
    {
     "ename": "KeyboardInterrupt",
     "evalue": "",
     "output_type": "error",
     "traceback": [
      "\u001b[0;31m---------------------------------------------------------------------------\u001b[0m",
      "\u001b[0;31mKeyboardInterrupt\u001b[0m                         Traceback (most recent call last)",
      "\u001b[1;32m/Users/laurachristoph/Desktop/Bachelorarbeit/code.ipynb Zelle 41\u001b[0m line \u001b[0;36m8\n\u001b[1;32m     <a href='vscode-notebook-cell:/Users/laurachristoph/Desktop/Bachelorarbeit/code.ipynb#X30sZmlsZQ%3D%3D?line=78'>79</a>\u001b[0m output_file \u001b[39m=\u001b[39m \u001b[39m\"\u001b[39m\u001b[39m/Volumes/X10 Pro/complete_relipred_miniclassifier.tsv\u001b[39m\u001b[39m\"\u001b[39m\n\u001b[1;32m     <a href='vscode-notebook-cell:/Users/laurachristoph/Desktop/Bachelorarbeit/code.ipynb#X30sZmlsZQ%3D%3D?line=79'>80</a>\u001b[0m model_path \u001b[39m=\u001b[39m \u001b[39m\"\u001b[39m\u001b[39mmini_reli_classifier\u001b[39m\u001b[39m\"\u001b[39m\n\u001b[0;32m---> <a href='vscode-notebook-cell:/Users/laurachristoph/Desktop/Bachelorarbeit/code.ipynb#X30sZmlsZQ%3D%3D?line=81'>82</a>\u001b[0m classify_religious_content_from_tsv(\n\u001b[1;32m     <a href='vscode-notebook-cell:/Users/laurachristoph/Desktop/Bachelorarbeit/code.ipynb#X30sZmlsZQ%3D%3D?line=82'>83</a>\u001b[0m     input_file\u001b[39m=\u001b[39;49minput_file,\n\u001b[1;32m     <a href='vscode-notebook-cell:/Users/laurachristoph/Desktop/Bachelorarbeit/code.ipynb#X30sZmlsZQ%3D%3D?line=83'>84</a>\u001b[0m     output_file\u001b[39m=\u001b[39;49moutput_file,\n\u001b[1;32m     <a href='vscode-notebook-cell:/Users/laurachristoph/Desktop/Bachelorarbeit/code.ipynb#X30sZmlsZQ%3D%3D?line=84'>85</a>\u001b[0m     model_path\u001b[39m=\u001b[39;49mmodel_path,\n\u001b[1;32m     <a href='vscode-notebook-cell:/Users/laurachristoph/Desktop/Bachelorarbeit/code.ipynb#X30sZmlsZQ%3D%3D?line=85'>86</a>\u001b[0m     batch_size\u001b[39m=\u001b[39;49m\u001b[39m16\u001b[39;49m,\n\u001b[1;32m     <a href='vscode-notebook-cell:/Users/laurachristoph/Desktop/Bachelorarbeit/code.ipynb#X30sZmlsZQ%3D%3D?line=86'>87</a>\u001b[0m     chunk_size\u001b[39m=\u001b[39;49m\u001b[39m15000\u001b[39;49m,\n\u001b[1;32m     <a href='vscode-notebook-cell:/Users/laurachristoph/Desktop/Bachelorarbeit/code.ipynb#X30sZmlsZQ%3D%3D?line=87'>88</a>\u001b[0m     total_lines\u001b[39m=\u001b[39;49m\u001b[39m49856969\u001b[39;49m\n\u001b[1;32m     <a href='vscode-notebook-cell:/Users/laurachristoph/Desktop/Bachelorarbeit/code.ipynb#X30sZmlsZQ%3D%3D?line=88'>89</a>\u001b[0m )\n",
      "\u001b[1;32m/Users/laurachristoph/Desktop/Bachelorarbeit/code.ipynb Zelle 41\u001b[0m line \u001b[0;36m5\n\u001b[1;32m     <a href='vscode-notebook-cell:/Users/laurachristoph/Desktop/Bachelorarbeit/code.ipynb#X30sZmlsZQ%3D%3D?line=54'>55</a>\u001b[0m     \u001b[39mwith\u001b[39;00m torch\u001b[39m.\u001b[39mno_grad():\n\u001b[1;32m     <a href='vscode-notebook-cell:/Users/laurachristoph/Desktop/Bachelorarbeit/code.ipynb#X30sZmlsZQ%3D%3D?line=55'>56</a>\u001b[0m         outputs \u001b[39m=\u001b[39m model(input_ids, attention_mask\u001b[39m=\u001b[39mattention_mask)\n\u001b[0;32m---> <a href='vscode-notebook-cell:/Users/laurachristoph/Desktop/Bachelorarbeit/code.ipynb#X30sZmlsZQ%3D%3D?line=56'>57</a>\u001b[0m         preds \u001b[39m=\u001b[39m torch\u001b[39m.\u001b[39;49margmax(outputs\u001b[39m.\u001b[39;49mlogits, dim\u001b[39m=\u001b[39;49m\u001b[39m1\u001b[39;49m)\u001b[39m.\u001b[39;49mcpu()\u001b[39m.\u001b[39mtolist()\n\u001b[1;32m     <a href='vscode-notebook-cell:/Users/laurachristoph/Desktop/Bachelorarbeit/code.ipynb#X30sZmlsZQ%3D%3D?line=57'>58</a>\u001b[0m         all_preds\u001b[39m.\u001b[39mextend(preds)\n\u001b[1;32m     <a href='vscode-notebook-cell:/Users/laurachristoph/Desktop/Bachelorarbeit/code.ipynb#X30sZmlsZQ%3D%3D?line=59'>60</a>\u001b[0m chunk[\u001b[39m\"\u001b[39m\u001b[39mpredicted_label\u001b[39m\u001b[39m\"\u001b[39m] \u001b[39m=\u001b[39m all_preds\n",
      "\u001b[0;31mKeyboardInterrupt\u001b[0m: "
     ]
    }
   ],
   "source": [
    "import torch\n",
    "import pandas as pd\n",
    "import time\n",
    "from transformers import RobertaTokenizer, RobertaForSequenceClassification\n",
    "from tqdm import tqdm\n",
    "\n",
    "def get_device():\n",
    "    if torch.backends.mps.is_available():\n",
    "        return torch.device(\"mps\")  # Apple Silicon GPU\n",
    "    elif torch.cuda.is_available():\n",
    "        return torch.device(\"cuda\")\n",
    "    else:\n",
    "        return torch.device(\"cpu\")\n",
    "\n",
    "def format_time(seconds):\n",
    "    if seconds < 60:\n",
    "        return f\"{int(seconds)} sec\"\n",
    "    elif seconds < 3600:\n",
    "        return f\"{int(seconds // 60)} min {int(seconds % 60)} sec\"\n",
    "    else:\n",
    "        return f\"{int(seconds // 3600)} hr {int((seconds % 3600) // 60)} min\"\n",
    "\n",
    "def classify_religious_content_from_tsv(input_file, output_file, model_path, batch_size=16, chunk_size=15000, total_lines=49856969):\n",
    "    \"\"\"\n",
    "    Predicts labels for a large TSV file, using the combined 'title' and 'selftext' fields.\n",
    "    Writes results to disk incrementally and estimates total time.\n",
    "    \"\"\"\n",
    "    device = get_device()\n",
    "    print(f\"Using device: {device}\")\n",
    "\n",
    "    tokenizer = RobertaTokenizer.from_pretrained(model_path)\n",
    "    model = RobertaForSequenceClassification.from_pretrained(model_path)\n",
    "    model.to(device)\n",
    "    model.eval()\n",
    "\n",
    "    first_chunk = True\n",
    "    total_chunks = total_lines // chunk_size + int(total_lines % chunk_size != 0)\n",
    "    chunk_idx = 0\n",
    "    total_elapsed = 0\n",
    "\n",
    "    for chunk in pd.read_csv(input_file, sep=\"\\t\", chunksize=chunk_size):\n",
    "        start_time = time.time()\n",
    "\n",
    "        chunk[\"title\"] = chunk[\"title\"].fillna(\"\")\n",
    "        chunk[\"selftext\"] = chunk[\"selftext\"].fillna(\"\")\n",
    "        texts = (chunk[\"title\"] + \" \" + chunk[\"selftext\"]).tolist()\n",
    "        all_preds = []\n",
    "\n",
    "        for i in tqdm(range(0, len(texts), batch_size), desc=f\"Batching Chunk {chunk_idx+1}/{total_chunks}\"):\n",
    "            batch_texts = texts[i:i + batch_size]\n",
    "            encodings = tokenizer(batch_texts, truncation=True, padding=True, max_length=256, return_tensors=\"pt\")\n",
    "            input_ids = encodings['input_ids'].to(device)\n",
    "            attention_mask = encodings['attention_mask'].to(device)\n",
    "\n",
    "            with torch.no_grad():\n",
    "                outputs = model(input_ids, attention_mask=attention_mask)\n",
    "                preds = torch.argmax(outputs.logits, dim=1).cpu().tolist()\n",
    "                all_preds.extend(preds)\n",
    "\n",
    "        chunk[\"predicted_label\"] = all_preds\n",
    "        chunk.to_csv(output_file, sep=\"\\t\", index=False, mode='a' if not first_chunk else 'w', header=first_chunk)\n",
    "        first_chunk = False\n",
    "\n",
    "        # Time estimation\n",
    "        elapsed = time.time() - start_time\n",
    "        total_elapsed += elapsed\n",
    "        chunk_idx += 1\n",
    "        chunks_left = total_chunks - chunk_idx\n",
    "        avg_time_per_chunk = total_elapsed / chunk_idx\n",
    "        est_remaining = avg_time_per_chunk * chunks_left\n",
    "\n",
    "        print(f\"✅ Chunk {chunk_idx}/{total_chunks} complete. Time: {format_time(elapsed)}. Estimated remaining: {format_time(est_remaining)}.\")\n",
    "\n",
    "    print(f\"\\n🎉 All done! Total time: {format_time(total_elapsed)}. Predictions saved to: {output_file}\")\n",
    "\n",
    "\n",
    "\n",
    "input_file = \"/Volumes/X10 Pro/cleaned_dataset.tsv\"\n",
    "output_file = \"/Volumes/X10 Pro/complete_relipred_miniclassifier.tsv\"\n",
    "model_path = \"mini_reli_classifier\"\n",
    "\n",
    "classify_religious_content_from_tsv(\n",
    "    input_file=input_file,\n",
    "    output_file=output_file,\n",
    "    model_path=model_path,\n",
    "    batch_size=16,\n",
    "    chunk_size=15000,\n",
    "    total_lines=49856969\n",
    ")"
   ]
  },
  {
   "cell_type": "code",
   "execution_count": 10,
   "metadata": {},
   "outputs": [
    {
     "name": "stdout",
     "output_type": "stream",
     "text": [
      "📦 Split into 3322 chunks. Starting parallel prediction...\n"
     ]
    },
    {
     "name": "stderr",
     "output_type": "stream",
     "text": [
      "/Library/Frameworks/Python.framework/Versions/3.11/lib/python3.11/site-packages/transformers/utils/generic.py:441: UserWarning: torch.utils._pytree._register_pytree_node is deprecated. Please use torch.utils._pytree.register_pytree_node instead.\n",
      "  _torch_pytree._register_pytree_node(\n",
      "/Library/Frameworks/Python.framework/Versions/3.11/lib/python3.11/site-packages/transformers/utils/generic.py:441: UserWarning: torch.utils._pytree._register_pytree_node is deprecated. Please use torch.utils._pytree.register_pytree_node instead.\n",
      "  _torch_pytree._register_pytree_node(\n",
      "/Library/Frameworks/Python.framework/Versions/3.11/lib/python3.11/site-packages/transformers/utils/generic.py:441: UserWarning: torch.utils._pytree._register_pytree_node is deprecated. Please use torch.utils._pytree.register_pytree_node instead.\n",
      "  _torch_pytree._register_pytree_node(\n",
      "/Library/Frameworks/Python.framework/Versions/3.11/lib/python3.11/site-packages/transformers/utils/generic.py:441: UserWarning: torch.utils._pytree._register_pytree_node is deprecated. Please use torch.utils._pytree.register_pytree_node instead.\n",
      "  _torch_pytree._register_pytree_node(\n",
      "/Library/Frameworks/Python.framework/Versions/3.11/lib/python3.11/site-packages/transformers/utils/generic.py:309: UserWarning: torch.utils._pytree._register_pytree_node is deprecated. Please use torch.utils._pytree.register_pytree_node instead.\n",
      "  _torch_pytree._register_pytree_node(\n",
      "/Library/Frameworks/Python.framework/Versions/3.11/lib/python3.11/site-packages/transformers/utils/generic.py:309: UserWarning: torch.utils._pytree._register_pytree_node is deprecated. Please use torch.utils._pytree.register_pytree_node instead.\n",
      "  _torch_pytree._register_pytree_node(\n",
      "/Library/Frameworks/Python.framework/Versions/3.11/lib/python3.11/site-packages/transformers/utils/generic.py:309: UserWarning: torch.utils._pytree._register_pytree_node is deprecated. Please use torch.utils._pytree.register_pytree_node instead.\n",
      "  _torch_pytree._register_pytree_node(\n",
      "/Library/Frameworks/Python.framework/Versions/3.11/lib/python3.11/site-packages/transformers/utils/generic.py:309: UserWarning: torch.utils._pytree._register_pytree_node is deprecated. Please use torch.utils._pytree.register_pytree_node instead.\n",
      "  _torch_pytree._register_pytree_node(\n",
      "/Library/Frameworks/Python.framework/Versions/3.11/lib/python3.11/site-packages/transformers/utils/generic.py:309: UserWarning: torch.utils._pytree._register_pytree_node is deprecated. Please use torch.utils._pytree.register_pytree_node instead.\n",
      "  _torch_pytree._register_pytree_node(\n",
      "/Library/Frameworks/Python.framework/Versions/3.11/lib/python3.11/site-packages/transformers/utils/generic.py:309: UserWarning: torch.utils._pytree._register_pytree_node is deprecated. Please use torch.utils._pytree.register_pytree_node instead.\n",
      "  _torch_pytree._register_pytree_node(\n",
      "/Library/Frameworks/Python.framework/Versions/3.11/lib/python3.11/site-packages/transformers/utils/generic.py:309: UserWarning: torch.utils._pytree._register_pytree_node is deprecated. Please use torch.utils._pytree.register_pytree_node instead.\n",
      "  _torch_pytree._register_pytree_node(\n",
      "/Library/Frameworks/Python.framework/Versions/3.11/lib/python3.11/site-packages/transformers/utils/generic.py:309: UserWarning: torch.utils._pytree._register_pytree_node is deprecated. Please use torch.utils._pytree.register_pytree_node instead.\n",
      "  _torch_pytree._register_pytree_node(\n",
      "🔍 chunk_00000.tsv: 100%|██████████| 469/469 [30:04<00:00,  3.85s/it]\n",
      "🔍 chunk_00624.tsv:  95%|█████████▍| 444/469 [30:04<03:10,  7.63s/it]"
     ]
    },
    {
     "name": "stdout",
     "output_type": "stream",
     "text": [
      "✅ Finished: /Volumes/X10 Pro/predicted_chunks/tmp_chunks/chunk_00000.tsv → /Volumes/X10 Pro/predicted_chunks/chunk_00000.tsv\n"
     ]
    },
    {
     "name": "stderr",
     "output_type": "stream",
     "text": [
      "🔍 chunk_00208.tsv: 100%|██████████| 469/469 [30:57<00:00,  3.96s/it]\n"
     ]
    },
    {
     "name": "stdout",
     "output_type": "stream",
     "text": [
      "✅ Finished: /Volumes/X10 Pro/predicted_chunks/tmp_chunks/chunk_00208.tsv → /Volumes/X10 Pro/predicted_chunks/chunk_00208.tsv\n"
     ]
    },
    {
     "name": "stderr",
     "output_type": "stream",
     "text": [
      "🔍 chunk_00416.tsv: 100%|██████████| 469/469 [33:20<00:00,  4.26s/it] \n"
     ]
    },
    {
     "name": "stdout",
     "output_type": "stream",
     "text": [
      "✅ Finished: /Volumes/X10 Pro/predicted_chunks/tmp_chunks/chunk_00416.tsv → /Volumes/X10 Pro/predicted_chunks/chunk_00416.tsv\n"
     ]
    },
    {
     "name": "stderr",
     "output_type": "stream",
     "text": [
      "🔍 chunk_00624.tsv: 100%|██████████| 469/469 [33:23<00:00,  4.27s/it]\n"
     ]
    },
    {
     "name": "stdout",
     "output_type": "stream",
     "text": [
      "✅ Finished: /Volumes/X10 Pro/predicted_chunks/tmp_chunks/chunk_00624.tsv → /Volumes/X10 Pro/predicted_chunks/chunk_00624.tsv\n"
     ]
    },
    {
     "name": "stderr",
     "output_type": "stream",
     "text": [
      "🔍 chunk_00001.tsv: 100%|██████████| 469/469 [40:24<00:00,  5.17s/it] \n"
     ]
    },
    {
     "name": "stdout",
     "output_type": "stream",
     "text": [
      "✅ Finished: /Volumes/X10 Pro/predicted_chunks/tmp_chunks/chunk_00001.tsv → /Volumes/X10 Pro/predicted_chunks/chunk_00001.tsv\n"
     ]
    },
    {
     "name": "stderr",
     "output_type": "stream",
     "text": [
      "🔍 chunk_00209.tsv: 100%|██████████| 469/469 [40:12<00:00,  5.14s/it]\n",
      "🔍 chunk_00002.tsv:   1%|▏         | 6/469 [00:34<40:41,  5.27s/it]"
     ]
    },
    {
     "name": "stdout",
     "output_type": "stream",
     "text": [
      "✅ Finished: /Volumes/X10 Pro/predicted_chunks/tmp_chunks/chunk_00209.tsv → /Volumes/X10 Pro/predicted_chunks/chunk_00209.tsv\n"
     ]
    },
    {
     "name": "stderr",
     "output_type": "stream",
     "text": [
      "🔍 chunk_00625.tsv: 100%|██████████| 469/469 [39:54<00:00,  5.11s/it]\n"
     ]
    },
    {
     "name": "stdout",
     "output_type": "stream",
     "text": [
      "✅ Finished: /Volumes/X10 Pro/predicted_chunks/tmp_chunks/chunk_00625.tsv → /Volumes/X10 Pro/predicted_chunks/chunk_00625.tsv\n"
     ]
    },
    {
     "name": "stderr",
     "output_type": "stream",
     "text": [
      "🔍 chunk_00417.tsv: 100%|██████████| 469/469 [40:31<00:00,  5.18s/it]\n",
      "🔍 chunk_00626.tsv:   1%|▏         | 7/469 [00:30<31:16,  4.06s/it]"
     ]
    },
    {
     "name": "stdout",
     "output_type": "stream",
     "text": [
      "✅ Finished: /Volumes/X10 Pro/predicted_chunks/tmp_chunks/chunk_00417.tsv → /Volumes/X10 Pro/predicted_chunks/chunk_00417.tsv\n"
     ]
    },
    {
     "name": "stderr",
     "output_type": "stream",
     "text": [
      "🔍 chunk_00002.tsv: 100%|██████████| 469/469 [34:54<00:00,  4.47s/it]\n"
     ]
    },
    {
     "name": "stdout",
     "output_type": "stream",
     "text": [
      "✅ Finished: /Volumes/X10 Pro/predicted_chunks/tmp_chunks/chunk_00002.tsv → /Volumes/X10 Pro/predicted_chunks/chunk_00002.tsv\n"
     ]
    },
    {
     "name": "stderr",
     "output_type": "stream",
     "text": [
      "🔍 chunk_00210.tsv: 100%|██████████| 469/469 [35:21<00:00,  4.52s/it]\n"
     ]
    },
    {
     "name": "stdout",
     "output_type": "stream",
     "text": [
      "✅ Finished: /Volumes/X10 Pro/predicted_chunks/tmp_chunks/chunk_00210.tsv → /Volumes/X10 Pro/predicted_chunks/chunk_00210.tsv\n"
     ]
    },
    {
     "name": "stderr",
     "output_type": "stream",
     "text": [
      "🔍 chunk_00626.tsv: 100%|██████████| 469/469 [36:32<00:00,  4.67s/it]\n",
      "🔍 chunk_00418.tsv:  98%|█████████▊| 459/469 [35:57<00:41,  4.15s/it]"
     ]
    },
    {
     "name": "stdout",
     "output_type": "stream",
     "text": [
      "✅ Finished: /Volumes/X10 Pro/predicted_chunks/tmp_chunks/chunk_00626.tsv → /Volumes/X10 Pro/predicted_chunks/chunk_00626.tsv\n"
     ]
    },
    {
     "name": "stderr",
     "output_type": "stream",
     "text": [
      "🔍 chunk_00418.tsv: 100%|██████████| 469/469 [36:40<00:00,  4.69s/it]\n"
     ]
    },
    {
     "name": "stdout",
     "output_type": "stream",
     "text": [
      "✅ Finished: /Volumes/X10 Pro/predicted_chunks/tmp_chunks/chunk_00418.tsv → /Volumes/X10 Pro/predicted_chunks/chunk_00418.tsv\n"
     ]
    },
    {
     "name": "stderr",
     "output_type": "stream",
     "text": [
      "🔍 chunk_00003.tsv: 100%|██████████| 469/469 [32:54<00:00,  4.21s/it]\n"
     ]
    },
    {
     "name": "stdout",
     "output_type": "stream",
     "text": [
      "✅ Finished: /Volumes/X10 Pro/predicted_chunks/tmp_chunks/chunk_00003.tsv → /Volumes/X10 Pro/predicted_chunks/chunk_00003.tsv\n"
     ]
    },
    {
     "name": "stderr",
     "output_type": "stream",
     "text": [
      "🔍 chunk_00211.tsv: 100%|██████████| 469/469 [33:44<00:00,  4.32s/it]\n"
     ]
    },
    {
     "name": "stdout",
     "output_type": "stream",
     "text": [
      "✅ Finished: /Volumes/X10 Pro/predicted_chunks/tmp_chunks/chunk_00211.tsv → /Volumes/X10 Pro/predicted_chunks/chunk_00211.tsv\n"
     ]
    },
    {
     "name": "stderr",
     "output_type": "stream",
     "text": [
      "🔍 chunk_00627.tsv: 100%|██████████| 469/469 [34:45<00:00,  4.45s/it]\n"
     ]
    },
    {
     "name": "stdout",
     "output_type": "stream",
     "text": [
      "✅ Finished: /Volumes/X10 Pro/predicted_chunks/tmp_chunks/chunk_00627.tsv → /Volumes/X10 Pro/predicted_chunks/chunk_00627.tsv\n"
     ]
    },
    {
     "name": "stderr",
     "output_type": "stream",
     "text": [
      "🔍 chunk_00419.tsv: 100%|██████████| 469/469 [35:45<00:00,  4.57s/it]\n",
      "🔍 chunk_00628.tsv:   5%|▌         | 25/469 [01:42<28:28,  3.85s/it]"
     ]
    },
    {
     "name": "stdout",
     "output_type": "stream",
     "text": [
      "✅ Finished: /Volumes/X10 Pro/predicted_chunks/tmp_chunks/chunk_00419.tsv → /Volumes/X10 Pro/predicted_chunks/chunk_00419.tsv\n"
     ]
    },
    {
     "name": "stderr",
     "output_type": "stream",
     "text": [
      "🔍 chunk_00004.tsv: 100%|██████████| 469/469 [25:29<00:00,  3.26s/it]\n",
      "🔍 chunk_00212.tsv:  94%|█████████▍| 441/469 [23:34<01:26,  3.09s/it]"
     ]
    },
    {
     "name": "stdout",
     "output_type": "stream",
     "text": [
      "✅ Finished: /Volumes/X10 Pro/predicted_chunks/tmp_chunks/chunk_00004.tsv → /Volumes/X10 Pro/predicted_chunks/chunk_00004.tsv\n"
     ]
    },
    {
     "name": "stderr",
     "output_type": "stream",
     "text": [
      "🔍 chunk_00212.tsv: 100%|██████████| 469/469 [24:47<00:00,  3.17s/it]\n"
     ]
    },
    {
     "name": "stdout",
     "output_type": "stream",
     "text": [
      "✅ Finished: /Volumes/X10 Pro/predicted_chunks/tmp_chunks/chunk_00212.tsv → /Volumes/X10 Pro/predicted_chunks/chunk_00212.tsv\n"
     ]
    },
    {
     "name": "stderr",
     "output_type": "stream",
     "text": [
      "🔍 chunk_00628.tsv: 100%|██████████| 469/469 [24:25<00:00,  3.12s/it]\n",
      "🔍 chunk_00420.tsv:  93%|█████████▎| 435/469 [22:39<01:27,  2.58s/it]"
     ]
    },
    {
     "name": "stdout",
     "output_type": "stream",
     "text": [
      "✅ Finished: /Volumes/X10 Pro/predicted_chunks/tmp_chunks/chunk_00628.tsv → /Volumes/X10 Pro/predicted_chunks/chunk_00628.tsv\n"
     ]
    },
    {
     "name": "stderr",
     "output_type": "stream",
     "text": [
      "🔍 chunk_00420.tsv: 100%|██████████| 469/469 [24:25<00:00,  3.13s/it]\n",
      "🔍 chunk_00005.tsv:  31%|███       | 145/469 [06:56<11:47,  2.18s/it]"
     ]
    },
    {
     "name": "stdout",
     "output_type": "stream",
     "text": [
      "✅ Finished: /Volumes/X10 Pro/predicted_chunks/tmp_chunks/chunk_00420.tsv → /Volumes/X10 Pro/predicted_chunks/chunk_00420.tsv\n"
     ]
    },
    {
     "name": "stderr",
     "output_type": "stream",
     "text": [
      "🔍 chunk_00005.tsv: 100%|██████████| 469/469 [23:22<00:00,  2.99s/it]\n"
     ]
    },
    {
     "name": "stdout",
     "output_type": "stream",
     "text": [
      "✅ Finished: /Volumes/X10 Pro/predicted_chunks/tmp_chunks/chunk_00005.tsv → /Volumes/X10 Pro/predicted_chunks/chunk_00005.tsv\n"
     ]
    },
    {
     "name": "stderr",
     "output_type": "stream",
     "text": [
      "🔍 chunk_00213.tsv: 100%|██████████| 469/469 [23:34<00:00,  3.02s/it]\n"
     ]
    },
    {
     "name": "stdout",
     "output_type": "stream",
     "text": [
      "✅ Finished: /Volumes/X10 Pro/predicted_chunks/tmp_chunks/chunk_00213.tsv → /Volumes/X10 Pro/predicted_chunks/chunk_00213.tsv\n"
     ]
    },
    {
     "name": "stderr",
     "output_type": "stream",
     "text": [
      "🔍 chunk_00629.tsv: 100%|██████████| 469/469 [24:19<00:00,  3.11s/it]\n"
     ]
    },
    {
     "name": "stdout",
     "output_type": "stream",
     "text": [
      "✅ Finished: /Volumes/X10 Pro/predicted_chunks/tmp_chunks/chunk_00629.tsv → /Volumes/X10 Pro/predicted_chunks/chunk_00629.tsv\n"
     ]
    },
    {
     "name": "stderr",
     "output_type": "stream",
     "text": [
      "🔍 chunk_00421.tsv: 100%|██████████| 469/469 [24:34<00:00,  3.14s/it]\n"
     ]
    },
    {
     "name": "stdout",
     "output_type": "stream",
     "text": [
      "✅ Finished: /Volumes/X10 Pro/predicted_chunks/tmp_chunks/chunk_00421.tsv → /Volumes/X10 Pro/predicted_chunks/chunk_00421.tsv\n"
     ]
    },
    {
     "name": "stderr",
     "output_type": "stream",
     "text": [
      "🔍 chunk_00006.tsv: 100%|██████████| 469/469 [24:48<00:00,  3.17s/it]\n"
     ]
    },
    {
     "name": "stdout",
     "output_type": "stream",
     "text": [
      "✅ Finished: /Volumes/X10 Pro/predicted_chunks/tmp_chunks/chunk_00006.tsv → /Volumes/X10 Pro/predicted_chunks/chunk_00006.tsv\n"
     ]
    },
    {
     "name": "stderr",
     "output_type": "stream",
     "text": [
      "🔍 chunk_00214.tsv: 100%|██████████| 469/469 [24:00<00:00,  3.07s/it]\n"
     ]
    },
    {
     "name": "stdout",
     "output_type": "stream",
     "text": [
      "✅ Finished: /Volumes/X10 Pro/predicted_chunks/tmp_chunks/chunk_00214.tsv → /Volumes/X10 Pro/predicted_chunks/chunk_00214.tsv\n"
     ]
    },
    {
     "name": "stderr",
     "output_type": "stream",
     "text": [
      "🔍 chunk_00630.tsv: 100%|██████████| 469/469 [25:06<00:00,  3.21s/it]\n"
     ]
    },
    {
     "name": "stdout",
     "output_type": "stream",
     "text": [
      "✅ Finished: /Volumes/X10 Pro/predicted_chunks/tmp_chunks/chunk_00630.tsv → /Volumes/X10 Pro/predicted_chunks/chunk_00630.tsv\n"
     ]
    },
    {
     "name": "stderr",
     "output_type": "stream",
     "text": [
      "🔍 chunk_00422.tsv: 100%|██████████| 469/469 [25:42<00:00,  3.29s/it]\n"
     ]
    },
    {
     "name": "stdout",
     "output_type": "stream",
     "text": [
      "✅ Finished: /Volumes/X10 Pro/predicted_chunks/tmp_chunks/chunk_00422.tsv → /Volumes/X10 Pro/predicted_chunks/chunk_00422.tsv\n"
     ]
    },
    {
     "name": "stderr",
     "output_type": "stream",
     "text": [
      "🔍 chunk_00007.tsv: 100%|██████████| 469/469 [24:36<00:00,  3.15s/it]\n"
     ]
    },
    {
     "name": "stdout",
     "output_type": "stream",
     "text": [
      "✅ Finished: /Volumes/X10 Pro/predicted_chunks/tmp_chunks/chunk_00007.tsv → /Volumes/X10 Pro/predicted_chunks/chunk_00007.tsv\n"
     ]
    },
    {
     "name": "stderr",
     "output_type": "stream",
     "text": [
      "🔍 chunk_00215.tsv: 100%|██████████| 469/469 [24:37<00:00,  3.15s/it]\n"
     ]
    },
    {
     "name": "stdout",
     "output_type": "stream",
     "text": [
      "✅ Finished: /Volumes/X10 Pro/predicted_chunks/tmp_chunks/chunk_00215.tsv → /Volumes/X10 Pro/predicted_chunks/chunk_00215.tsv\n"
     ]
    },
    {
     "name": "stderr",
     "output_type": "stream",
     "text": [
      "🔍 chunk_00631.tsv: 100%|██████████| 469/469 [25:24<00:00,  3.25s/it]\n"
     ]
    },
    {
     "name": "stdout",
     "output_type": "stream",
     "text": [
      "✅ Finished: /Volumes/X10 Pro/predicted_chunks/tmp_chunks/chunk_00631.tsv → /Volumes/X10 Pro/predicted_chunks/chunk_00631.tsv\n"
     ]
    },
    {
     "name": "stderr",
     "output_type": "stream",
     "text": [
      "🔍 chunk_00423.tsv: 100%|██████████| 469/469 [25:55<00:00,  3.32s/it]\n",
      "🔍 chunk_00216.tsv:  40%|████      | 188/469 [09:44<15:52,  3.39s/it]"
     ]
    },
    {
     "name": "stdout",
     "output_type": "stream",
     "text": [
      "✅ Finished: /Volumes/X10 Pro/predicted_chunks/tmp_chunks/chunk_00423.tsv → /Volumes/X10 Pro/predicted_chunks/chunk_00423.tsv\n"
     ]
    },
    {
     "name": "stderr",
     "output_type": "stream",
     "text": [
      "🔍 chunk_00008.tsv: 100%|██████████| 469/469 [25:08<00:00,  3.22s/it]\n"
     ]
    },
    {
     "name": "stdout",
     "output_type": "stream",
     "text": [
      "✅ Finished: /Volumes/X10 Pro/predicted_chunks/tmp_chunks/chunk_00008.tsv → /Volumes/X10 Pro/predicted_chunks/chunk_00008.tsv\n"
     ]
    },
    {
     "name": "stderr",
     "output_type": "stream",
     "text": [
      "🔍 chunk_00216.tsv: 100%|██████████| 469/469 [24:35<00:00,  3.15s/it]\n"
     ]
    },
    {
     "name": "stdout",
     "output_type": "stream",
     "text": [
      "✅ Finished: /Volumes/X10 Pro/predicted_chunks/tmp_chunks/chunk_00216.tsv → /Volumes/X10 Pro/predicted_chunks/chunk_00216.tsv\n"
     ]
    },
    {
     "name": "stderr",
     "output_type": "stream",
     "text": [
      "🔍 chunk_00632.tsv: 100%|██████████| 469/469 [25:44<00:00,  3.29s/it]\n"
     ]
    },
    {
     "name": "stdout",
     "output_type": "stream",
     "text": [
      "✅ Finished: /Volumes/X10 Pro/predicted_chunks/tmp_chunks/chunk_00632.tsv → /Volumes/X10 Pro/predicted_chunks/chunk_00632.tsv\n"
     ]
    },
    {
     "name": "stderr",
     "output_type": "stream",
     "text": [
      "🔍 chunk_00424.tsv: 100%|██████████| 469/469 [25:43<00:00,  3.29s/it]\n"
     ]
    },
    {
     "name": "stdout",
     "output_type": "stream",
     "text": [
      "✅ Finished: /Volumes/X10 Pro/predicted_chunks/tmp_chunks/chunk_00424.tsv → /Volumes/X10 Pro/predicted_chunks/chunk_00424.tsv\n"
     ]
    },
    {
     "name": "stderr",
     "output_type": "stream",
     "text": [
      "🔍 chunk_00217.tsv: 100%|██████████| 469/469 [25:02<00:00,  3.20s/it]\n"
     ]
    },
    {
     "name": "stdout",
     "output_type": "stream",
     "text": [
      "✅ Finished: /Volumes/X10 Pro/predicted_chunks/tmp_chunks/chunk_00217.tsv → /Volumes/X10 Pro/predicted_chunks/chunk_00217.tsv\n"
     ]
    },
    {
     "name": "stderr",
     "output_type": "stream",
     "text": [
      "🔍 chunk_00009.tsv: 100%|██████████| 469/469 [25:11<00:00,  3.22s/it]\n"
     ]
    },
    {
     "name": "stdout",
     "output_type": "stream",
     "text": [
      "✅ Finished: /Volumes/X10 Pro/predicted_chunks/tmp_chunks/chunk_00009.tsv → /Volumes/X10 Pro/predicted_chunks/chunk_00009.tsv\n"
     ]
    },
    {
     "name": "stderr",
     "output_type": "stream",
     "text": [
      "🔍 chunk_00633.tsv: 100%|██████████| 469/469 [25:52<00:00,  3.31s/it]\n",
      "🔍 chunk_00218.tsv:  35%|███▍      | 164/469 [08:36<15:13,  2.99s/it]"
     ]
    },
    {
     "name": "stdout",
     "output_type": "stream",
     "text": [
      "✅ Finished: /Volumes/X10 Pro/predicted_chunks/tmp_chunks/chunk_00633.tsv → /Volumes/X10 Pro/predicted_chunks/chunk_00633.tsv\n"
     ]
    },
    {
     "name": "stderr",
     "output_type": "stream",
     "text": [
      "🔍 chunk_00425.tsv: 100%|██████████| 469/469 [25:33<00:00,  3.27s/it]\n"
     ]
    },
    {
     "name": "stdout",
     "output_type": "stream",
     "text": [
      "✅ Finished: /Volumes/X10 Pro/predicted_chunks/tmp_chunks/chunk_00425.tsv → /Volumes/X10 Pro/predicted_chunks/chunk_00425.tsv\n"
     ]
    },
    {
     "name": "stderr",
     "output_type": "stream",
     "text": [
      "🔍 chunk_00010.tsv: 100%|██████████| 469/469 [24:52<00:00,  3.18s/it]\n",
      "🔍 chunk_00218.tsv:  99%|█████████▊| 463/469 [24:55<00:24,  4.05s/it]"
     ]
    },
    {
     "name": "stdout",
     "output_type": "stream",
     "text": [
      "✅ Finished: /Volumes/X10 Pro/predicted_chunks/tmp_chunks/chunk_00010.tsv → /Volumes/X10 Pro/predicted_chunks/chunk_00010.tsv\n"
     ]
    },
    {
     "name": "stderr",
     "output_type": "stream",
     "text": [
      "🔍 chunk_00218.tsv: 100%|██████████| 469/469 [25:14<00:00,  3.23s/it]\n"
     ]
    },
    {
     "name": "stdout",
     "output_type": "stream",
     "text": [
      "✅ Finished: /Volumes/X10 Pro/predicted_chunks/tmp_chunks/chunk_00218.tsv → /Volumes/X10 Pro/predicted_chunks/chunk_00218.tsv\n"
     ]
    },
    {
     "name": "stderr",
     "output_type": "stream",
     "text": [
      "🔍 chunk_00634.tsv: 100%|██████████| 469/469 [26:56<00:00,  3.45s/it]\n"
     ]
    },
    {
     "name": "stdout",
     "output_type": "stream",
     "text": [
      "✅ Finished: /Volumes/X10 Pro/predicted_chunks/tmp_chunks/chunk_00634.tsv → /Volumes/X10 Pro/predicted_chunks/chunk_00634.tsv\n"
     ]
    },
    {
     "name": "stderr",
     "output_type": "stream",
     "text": [
      "🔍 chunk_00426.tsv: 100%|██████████| 469/469 [26:39<00:00,  3.41s/it]\n",
      "🔍 chunk_00635.tsv:   9%|▉         | 43/469 [02:26<26:33,  3.74s/it]"
     ]
    },
    {
     "name": "stdout",
     "output_type": "stream",
     "text": [
      "✅ Finished: /Volumes/X10 Pro/predicted_chunks/tmp_chunks/chunk_00426.tsv → /Volumes/X10 Pro/predicted_chunks/chunk_00426.tsv\n"
     ]
    },
    {
     "name": "stderr",
     "output_type": "stream",
     "text": [
      "🔍 chunk_00219.tsv: 100%|██████████| 469/469 [24:44<00:00,  3.16s/it]\n"
     ]
    },
    {
     "name": "stdout",
     "output_type": "stream",
     "text": [
      "✅ Finished: /Volumes/X10 Pro/predicted_chunks/tmp_chunks/chunk_00219.tsv → /Volumes/X10 Pro/predicted_chunks/chunk_00219.tsv\n"
     ]
    },
    {
     "name": "stderr",
     "output_type": "stream",
     "text": [
      "🔍 chunk_00011.tsv: 100%|██████████| 469/469 [25:24<00:00,  3.25s/it]\n"
     ]
    },
    {
     "name": "stdout",
     "output_type": "stream",
     "text": [
      "✅ Finished: /Volumes/X10 Pro/predicted_chunks/tmp_chunks/chunk_00011.tsv → /Volumes/X10 Pro/predicted_chunks/chunk_00011.tsv\n"
     ]
    },
    {
     "name": "stderr",
     "output_type": "stream",
     "text": [
      "🔍 chunk_00635.tsv: 100%|██████████| 469/469 [26:28<00:00,  3.39s/it]\n"
     ]
    },
    {
     "name": "stdout",
     "output_type": "stream",
     "text": [
      "✅ Finished: /Volumes/X10 Pro/predicted_chunks/tmp_chunks/chunk_00635.tsv → /Volumes/X10 Pro/predicted_chunks/chunk_00635.tsv\n"
     ]
    },
    {
     "name": "stderr",
     "output_type": "stream",
     "text": [
      "🔍 chunk_00427.tsv: 100%|██████████| 469/469 [26:24<00:00,  3.38s/it]\n"
     ]
    },
    {
     "name": "stdout",
     "output_type": "stream",
     "text": [
      "✅ Finished: /Volumes/X10 Pro/predicted_chunks/tmp_chunks/chunk_00427.tsv → /Volumes/X10 Pro/predicted_chunks/chunk_00427.tsv\n"
     ]
    },
    {
     "name": "stderr",
     "output_type": "stream",
     "text": [
      "🔍 chunk_00220.tsv: 100%|██████████| 469/469 [25:00<00:00,  3.20s/it]\n"
     ]
    },
    {
     "name": "stdout",
     "output_type": "stream",
     "text": [
      "✅ Finished: /Volumes/X10 Pro/predicted_chunks/tmp_chunks/chunk_00220.tsv → /Volumes/X10 Pro/predicted_chunks/chunk_00220.tsv\n"
     ]
    },
    {
     "name": "stderr",
     "output_type": "stream",
     "text": [
      "🔍 chunk_00012.tsv: 100%|██████████| 469/469 [25:15<00:00,  3.23s/it]\n"
     ]
    },
    {
     "name": "stdout",
     "output_type": "stream",
     "text": [
      "✅ Finished: /Volumes/X10 Pro/predicted_chunks/tmp_chunks/chunk_00012.tsv → /Volumes/X10 Pro/predicted_chunks/chunk_00012.tsv\n"
     ]
    },
    {
     "name": "stderr",
     "output_type": "stream",
     "text": [
      "🔍 chunk_00636.tsv: 100%|██████████| 469/469 [27:46<00:00,  3.55s/it]\n"
     ]
    },
    {
     "name": "stdout",
     "output_type": "stream",
     "text": [
      "✅ Finished: /Volumes/X10 Pro/predicted_chunks/tmp_chunks/chunk_00636.tsv → /Volumes/X10 Pro/predicted_chunks/chunk_00636.tsv\n"
     ]
    },
    {
     "name": "stderr",
     "output_type": "stream",
     "text": [
      "🔍 chunk_00428.tsv: 100%|██████████| 469/469 [27:02<00:00,  3.46s/it]\n"
     ]
    },
    {
     "name": "stdout",
     "output_type": "stream",
     "text": [
      "✅ Finished: /Volumes/X10 Pro/predicted_chunks/tmp_chunks/chunk_00428.tsv → /Volumes/X10 Pro/predicted_chunks/chunk_00428.tsv\n"
     ]
    },
    {
     "name": "stderr",
     "output_type": "stream",
     "text": [
      "🔍 chunk_00221.tsv: 100%|██████████| 469/469 [25:13<00:00,  3.23s/it]\n"
     ]
    },
    {
     "name": "stdout",
     "output_type": "stream",
     "text": [
      "✅ Finished: /Volumes/X10 Pro/predicted_chunks/tmp_chunks/chunk_00221.tsv → /Volumes/X10 Pro/predicted_chunks/chunk_00221.tsv\n"
     ]
    },
    {
     "name": "stderr",
     "output_type": "stream",
     "text": [
      "🔍 chunk_00013.tsv: 100%|██████████| 469/469 [25:04<00:00,  3.21s/it]\n"
     ]
    },
    {
     "name": "stdout",
     "output_type": "stream",
     "text": [
      "✅ Finished: /Volumes/X10 Pro/predicted_chunks/tmp_chunks/chunk_00013.tsv → /Volumes/X10 Pro/predicted_chunks/chunk_00013.tsv\n"
     ]
    },
    {
     "name": "stderr",
     "output_type": "stream",
     "text": [
      "🔍 chunk_00637.tsv: 100%|██████████| 469/469 [26:58<00:00,  3.45s/it]\n"
     ]
    },
    {
     "name": "stdout",
     "output_type": "stream",
     "text": [
      "✅ Finished: /Volumes/X10 Pro/predicted_chunks/tmp_chunks/chunk_00637.tsv → /Volumes/X10 Pro/predicted_chunks/chunk_00637.tsv\n"
     ]
    },
    {
     "name": "stderr",
     "output_type": "stream",
     "text": [
      "🔍 chunk_00429.tsv: 100%|██████████| 469/469 [26:26<00:00,  3.38s/it]\n"
     ]
    },
    {
     "name": "stdout",
     "output_type": "stream",
     "text": [
      "✅ Finished: /Volumes/X10 Pro/predicted_chunks/tmp_chunks/chunk_00429.tsv → /Volumes/X10 Pro/predicted_chunks/chunk_00429.tsv\n"
     ]
    },
    {
     "name": "stderr",
     "output_type": "stream",
     "text": [
      "🔍 chunk_00222.tsv: 100%|██████████| 469/469 [25:05<00:00,  3.21s/it]\n"
     ]
    },
    {
     "name": "stdout",
     "output_type": "stream",
     "text": [
      "✅ Finished: /Volumes/X10 Pro/predicted_chunks/tmp_chunks/chunk_00222.tsv → /Volumes/X10 Pro/predicted_chunks/chunk_00222.tsv\n"
     ]
    },
    {
     "name": "stderr",
     "output_type": "stream",
     "text": [
      "🔍 chunk_00014.tsv: 100%|██████████| 469/469 [25:48<00:00,  3.30s/it]\n"
     ]
    },
    {
     "name": "stdout",
     "output_type": "stream",
     "text": [
      "✅ Finished: /Volumes/X10 Pro/predicted_chunks/tmp_chunks/chunk_00014.tsv → /Volumes/X10 Pro/predicted_chunks/chunk_00014.tsv\n"
     ]
    },
    {
     "name": "stderr",
     "output_type": "stream",
     "text": [
      "🔍 chunk_00638.tsv: 100%|██████████| 469/469 [26:15<00:00,  3.36s/it]\n"
     ]
    },
    {
     "name": "stdout",
     "output_type": "stream",
     "text": [
      "✅ Finished: /Volumes/X10 Pro/predicted_chunks/tmp_chunks/chunk_00638.tsv → /Volumes/X10 Pro/predicted_chunks/chunk_00638.tsv\n"
     ]
    },
    {
     "name": "stderr",
     "output_type": "stream",
     "text": [
      "🔍 chunk_00430.tsv: 100%|██████████| 469/469 [26:21<00:00,  3.37s/it]\n",
      "🔍 chunk_00223.tsv:  76%|███████▌  | 356/469 [18:57<05:34,  2.96s/it]"
     ]
    },
    {
     "name": "stdout",
     "output_type": "stream",
     "text": [
      "✅ Finished: /Volumes/X10 Pro/predicted_chunks/tmp_chunks/chunk_00430.tsv → /Volumes/X10 Pro/predicted_chunks/chunk_00430.tsv\n"
     ]
    },
    {
     "name": "stderr",
     "output_type": "stream",
     "text": [
      "🔍 chunk_00223.tsv: 100%|██████████| 469/469 [24:53<00:00,  3.19s/it]\n"
     ]
    },
    {
     "name": "stdout",
     "output_type": "stream",
     "text": [
      "✅ Finished: /Volumes/X10 Pro/predicted_chunks/tmp_chunks/chunk_00223.tsv → /Volumes/X10 Pro/predicted_chunks/chunk_00223.tsv\n"
     ]
    },
    {
     "name": "stderr",
     "output_type": "stream",
     "text": [
      "🔍 chunk_00015.tsv: 100%|██████████| 469/469 [25:23<00:00,  3.25s/it]\n"
     ]
    },
    {
     "name": "stdout",
     "output_type": "stream",
     "text": [
      "✅ Finished: /Volumes/X10 Pro/predicted_chunks/tmp_chunks/chunk_00015.tsv → /Volumes/X10 Pro/predicted_chunks/chunk_00015.tsv\n"
     ]
    },
    {
     "name": "stderr",
     "output_type": "stream",
     "text": [
      "🔍 chunk_00639.tsv: 100%|██████████| 469/469 [26:09<00:00,  3.35s/it]\n"
     ]
    },
    {
     "name": "stdout",
     "output_type": "stream",
     "text": [
      "✅ Finished: /Volumes/X10 Pro/predicted_chunks/tmp_chunks/chunk_00639.tsv → /Volumes/X10 Pro/predicted_chunks/chunk_00639.tsv\n"
     ]
    },
    {
     "name": "stderr",
     "output_type": "stream",
     "text": [
      "🔍 chunk_00431.tsv: 100%|██████████| 469/469 [26:21<00:00,  3.37s/it]\n"
     ]
    },
    {
     "name": "stdout",
     "output_type": "stream",
     "text": [
      "✅ Finished: /Volumes/X10 Pro/predicted_chunks/tmp_chunks/chunk_00431.tsv → /Volumes/X10 Pro/predicted_chunks/chunk_00431.tsv\n"
     ]
    },
    {
     "name": "stderr",
     "output_type": "stream",
     "text": [
      "🔍 chunk_00224.tsv: 100%|██████████| 469/469 [24:42<00:00,  3.16s/it]\n"
     ]
    },
    {
     "name": "stdout",
     "output_type": "stream",
     "text": [
      "✅ Finished: /Volumes/X10 Pro/predicted_chunks/tmp_chunks/chunk_00224.tsv → /Volumes/X10 Pro/predicted_chunks/chunk_00224.tsv\n"
     ]
    },
    {
     "name": "stderr",
     "output_type": "stream",
     "text": [
      "🔍 chunk_00016.tsv: 100%|██████████| 469/469 [25:11<00:00,  3.22s/it]\n"
     ]
    },
    {
     "name": "stdout",
     "output_type": "stream",
     "text": [
      "✅ Finished: /Volumes/X10 Pro/predicted_chunks/tmp_chunks/chunk_00016.tsv → /Volumes/X10 Pro/predicted_chunks/chunk_00016.tsv\n"
     ]
    },
    {
     "name": "stderr",
     "output_type": "stream",
     "text": [
      "🔍 chunk_00640.tsv: 100%|██████████| 469/469 [26:12<00:00,  3.35s/it]\n"
     ]
    },
    {
     "name": "stdout",
     "output_type": "stream",
     "text": [
      "✅ Finished: /Volumes/X10 Pro/predicted_chunks/tmp_chunks/chunk_00640.tsv → /Volumes/X10 Pro/predicted_chunks/chunk_00640.tsv\n"
     ]
    },
    {
     "name": "stderr",
     "output_type": "stream",
     "text": [
      "🔍 chunk_00432.tsv: 100%|██████████| 469/469 [26:09<00:00,  3.35s/it]\n",
      "🔍 chunk_00641.tsv:   5%|▌         | 24/469 [01:21<23:34,  3.18s/it]"
     ]
    },
    {
     "name": "stdout",
     "output_type": "stream",
     "text": [
      "✅ Finished: /Volumes/X10 Pro/predicted_chunks/tmp_chunks/chunk_00432.tsv → /Volumes/X10 Pro/predicted_chunks/chunk_00432.tsv\n"
     ]
    },
    {
     "name": "stderr",
     "output_type": "stream",
     "text": [
      "🔍 chunk_00225.tsv: 100%|██████████| 469/469 [25:17<00:00,  3.24s/it]\n"
     ]
    },
    {
     "name": "stdout",
     "output_type": "stream",
     "text": [
      "✅ Finished: /Volumes/X10 Pro/predicted_chunks/tmp_chunks/chunk_00225.tsv → /Volumes/X10 Pro/predicted_chunks/chunk_00225.tsv\n"
     ]
    },
    {
     "name": "stderr",
     "output_type": "stream",
     "text": [
      "🔍 chunk_00017.tsv: 100%|██████████| 469/469 [25:18<00:00,  3.24s/it]\n"
     ]
    },
    {
     "name": "stdout",
     "output_type": "stream",
     "text": [
      "✅ Finished: /Volumes/X10 Pro/predicted_chunks/tmp_chunks/chunk_00017.tsv → /Volumes/X10 Pro/predicted_chunks/chunk_00017.tsv\n"
     ]
    },
    {
     "name": "stderr",
     "output_type": "stream",
     "text": [
      "🔍 chunk_00641.tsv: 100%|██████████| 469/469 [25:28<00:00,  3.26s/it]\n"
     ]
    },
    {
     "name": "stdout",
     "output_type": "stream",
     "text": [
      "✅ Finished: /Volumes/X10 Pro/predicted_chunks/tmp_chunks/chunk_00641.tsv → /Volumes/X10 Pro/predicted_chunks/chunk_00641.tsv\n"
     ]
    },
    {
     "name": "stderr",
     "output_type": "stream",
     "text": [
      "🔍 chunk_00433.tsv: 100%|██████████| 469/469 [26:05<00:00,  3.34s/it]\n"
     ]
    },
    {
     "name": "stdout",
     "output_type": "stream",
     "text": [
      "✅ Finished: /Volumes/X10 Pro/predicted_chunks/tmp_chunks/chunk_00433.tsv → /Volumes/X10 Pro/predicted_chunks/chunk_00433.tsv\n"
     ]
    },
    {
     "name": "stderr",
     "output_type": "stream",
     "text": [
      "🔍 chunk_00226.tsv: 100%|██████████| 469/469 [25:06<00:00,  3.21s/it]\n"
     ]
    },
    {
     "name": "stdout",
     "output_type": "stream",
     "text": [
      "✅ Finished: /Volumes/X10 Pro/predicted_chunks/tmp_chunks/chunk_00226.tsv → /Volumes/X10 Pro/predicted_chunks/chunk_00226.tsv\n"
     ]
    },
    {
     "name": "stderr",
     "output_type": "stream",
     "text": [
      "🔍 chunk_00018.tsv: 100%|██████████| 469/469 [25:22<00:00,  3.25s/it]\n"
     ]
    },
    {
     "name": "stdout",
     "output_type": "stream",
     "text": [
      "✅ Finished: /Volumes/X10 Pro/predicted_chunks/tmp_chunks/chunk_00018.tsv → /Volumes/X10 Pro/predicted_chunks/chunk_00018.tsv\n"
     ]
    },
    {
     "name": "stderr",
     "output_type": "stream",
     "text": [
      "🔍 chunk_00642.tsv: 100%|██████████| 469/469 [25:43<00:00,  3.29s/it]\n"
     ]
    },
    {
     "name": "stdout",
     "output_type": "stream",
     "text": [
      "✅ Finished: /Volumes/X10 Pro/predicted_chunks/tmp_chunks/chunk_00642.tsv → /Volumes/X10 Pro/predicted_chunks/chunk_00642.tsv\n"
     ]
    },
    {
     "name": "stderr",
     "output_type": "stream",
     "text": [
      "🔍 chunk_00434.tsv: 100%|██████████| 469/469 [26:05<00:00,  3.34s/it]\n"
     ]
    },
    {
     "name": "stdout",
     "output_type": "stream",
     "text": [
      "✅ Finished: /Volumes/X10 Pro/predicted_chunks/tmp_chunks/chunk_00434.tsv → /Volumes/X10 Pro/predicted_chunks/chunk_00434.tsv\n"
     ]
    },
    {
     "name": "stderr",
     "output_type": "stream",
     "text": [
      "🔍 chunk_00227.tsv: 100%|██████████| 469/469 [24:23<00:00,  3.12s/it]\n",
      "🔍 chunk_00019.tsv:  86%|████████▌ | 402/469 [21:58<03:15,  2.91s/it]"
     ]
    },
    {
     "name": "stdout",
     "output_type": "stream",
     "text": [
      "✅ Finished: /Volumes/X10 Pro/predicted_chunks/tmp_chunks/chunk_00227.tsv → /Volumes/X10 Pro/predicted_chunks/chunk_00227.tsv\n"
     ]
    },
    {
     "name": "stderr",
     "output_type": "stream",
     "text": [
      "🔍 chunk_00019.tsv: 100%|██████████| 469/469 [25:41<00:00,  3.29s/it]\n"
     ]
    },
    {
     "name": "stdout",
     "output_type": "stream",
     "text": [
      "✅ Finished: /Volumes/X10 Pro/predicted_chunks/tmp_chunks/chunk_00019.tsv → /Volumes/X10 Pro/predicted_chunks/chunk_00019.tsv\n"
     ]
    },
    {
     "name": "stderr",
     "output_type": "stream",
     "text": [
      "🔍 chunk_00643.tsv: 100%|██████████| 469/469 [26:08<00:00,  3.34s/it]\n"
     ]
    },
    {
     "name": "stdout",
     "output_type": "stream",
     "text": [
      "✅ Finished: /Volumes/X10 Pro/predicted_chunks/tmp_chunks/chunk_00643.tsv → /Volumes/X10 Pro/predicted_chunks/chunk_00643.tsv\n"
     ]
    },
    {
     "name": "stderr",
     "output_type": "stream",
     "text": [
      "🔍 chunk_00228.tsv: 100%|██████████| 469/469 [25:15<00:00,  3.23s/it]\n"
     ]
    },
    {
     "name": "stdout",
     "output_type": "stream",
     "text": [
      "✅ Finished: /Volumes/X10 Pro/predicted_chunks/tmp_chunks/chunk_00228.tsv → /Volumes/X10 Pro/predicted_chunks/chunk_00228.tsv\n"
     ]
    },
    {
     "name": "stderr",
     "output_type": "stream",
     "text": [
      "🔍 chunk_00435.tsv: 100%|██████████| 469/469 [26:17<00:00,  3.36s/it]\n",
      "🔍 chunk_00229.tsv:   1%|          | 5/469 [00:17<26:46,  3.46s/it]"
     ]
    },
    {
     "name": "stdout",
     "output_type": "stream",
     "text": [
      "✅ Finished: /Volumes/X10 Pro/predicted_chunks/tmp_chunks/chunk_00435.tsv → /Volumes/X10 Pro/predicted_chunks/chunk_00435.tsv\n"
     ]
    },
    {
     "name": "stderr",
     "output_type": "stream",
     "text": [
      "🔍 chunk_00020.tsv: 100%|██████████| 469/469 [24:59<00:00,  3.20s/it]\n"
     ]
    },
    {
     "name": "stdout",
     "output_type": "stream",
     "text": [
      "✅ Finished: /Volumes/X10 Pro/predicted_chunks/tmp_chunks/chunk_00020.tsv → /Volumes/X10 Pro/predicted_chunks/chunk_00020.tsv\n"
     ]
    },
    {
     "name": "stderr",
     "output_type": "stream",
     "text": [
      "🔍 chunk_00644.tsv: 100%|██████████| 469/469 [25:54<00:00,  3.32s/it]\n"
     ]
    },
    {
     "name": "stdout",
     "output_type": "stream",
     "text": [
      "✅ Finished: /Volumes/X10 Pro/predicted_chunks/tmp_chunks/chunk_00644.tsv → /Volumes/X10 Pro/predicted_chunks/chunk_00644.tsv\n"
     ]
    },
    {
     "name": "stderr",
     "output_type": "stream",
     "text": [
      "🔍 chunk_00229.tsv: 100%|██████████| 469/469 [24:47<00:00,  3.17s/it]\n"
     ]
    },
    {
     "name": "stdout",
     "output_type": "stream",
     "text": [
      "✅ Finished: /Volumes/X10 Pro/predicted_chunks/tmp_chunks/chunk_00229.tsv → /Volumes/X10 Pro/predicted_chunks/chunk_00229.tsv\n"
     ]
    },
    {
     "name": "stderr",
     "output_type": "stream",
     "text": [
      "🔍 chunk_00436.tsv: 100%|██████████| 469/469 [25:18<00:00,  3.24s/it]\n",
      "🔍 chunk_00645.tsv:   7%|▋         | 33/469 [01:53<18:27,  2.54s/it]"
     ]
    },
    {
     "name": "stdout",
     "output_type": "stream",
     "text": [
      "✅ Finished: /Volumes/X10 Pro/predicted_chunks/tmp_chunks/chunk_00436.tsv → /Volumes/X10 Pro/predicted_chunks/chunk_00436.tsv\n"
     ]
    },
    {
     "name": "stderr",
     "output_type": "stream",
     "text": [
      "🔍 chunk_00021.tsv: 100%|██████████| 469/469 [25:27<00:00,  3.26s/it]\n"
     ]
    },
    {
     "name": "stdout",
     "output_type": "stream",
     "text": [
      "✅ Finished: /Volumes/X10 Pro/predicted_chunks/tmp_chunks/chunk_00021.tsv → /Volumes/X10 Pro/predicted_chunks/chunk_00021.tsv\n"
     ]
    },
    {
     "name": "stderr",
     "output_type": "stream",
     "text": [
      "🔍 chunk_00645.tsv: 100%|██████████| 469/469 [25:42<00:00,  3.29s/it]\n"
     ]
    },
    {
     "name": "stdout",
     "output_type": "stream",
     "text": [
      "✅ Finished: /Volumes/X10 Pro/predicted_chunks/tmp_chunks/chunk_00645.tsv → /Volumes/X10 Pro/predicted_chunks/chunk_00645.tsv\n"
     ]
    },
    {
     "name": "stderr",
     "output_type": "stream",
     "text": [
      "🔍 chunk_00230.tsv: 100%|██████████| 469/469 [24:54<00:00,  3.19s/it]\n"
     ]
    },
    {
     "name": "stdout",
     "output_type": "stream",
     "text": [
      "✅ Finished: /Volumes/X10 Pro/predicted_chunks/tmp_chunks/chunk_00230.tsv → /Volumes/X10 Pro/predicted_chunks/chunk_00230.tsv\n"
     ]
    },
    {
     "name": "stderr",
     "output_type": "stream",
     "text": [
      "🔍 chunk_00437.tsv: 100%|██████████| 469/469 [25:44<00:00,  3.29s/it]\n"
     ]
    },
    {
     "name": "stdout",
     "output_type": "stream",
     "text": [
      "✅ Finished: /Volumes/X10 Pro/predicted_chunks/tmp_chunks/chunk_00437.tsv → /Volumes/X10 Pro/predicted_chunks/chunk_00437.tsv\n"
     ]
    },
    {
     "name": "stderr",
     "output_type": "stream",
     "text": [
      "🔍 chunk_00022.tsv: 100%|██████████| 469/469 [25:24<00:00,  3.25s/it]\n",
      "🔍 chunk_00646.tsv:  20%|█▉        | 93/469 [04:53<19:00,  3.03s/it]"
     ]
    },
    {
     "name": "stdout",
     "output_type": "stream",
     "text": [
      "✅ Finished: /Volumes/X10 Pro/predicted_chunks/tmp_chunks/chunk_00022.tsv → /Volumes/X10 Pro/predicted_chunks/chunk_00022.tsv\n"
     ]
    },
    {
     "name": "stderr",
     "output_type": "stream",
     "text": [
      "🔍 chunk_00231.tsv: 100%|██████████| 469/469 [24:55<00:00,  3.19s/it]\n"
     ]
    },
    {
     "name": "stdout",
     "output_type": "stream",
     "text": [
      "✅ Finished: /Volumes/X10 Pro/predicted_chunks/tmp_chunks/chunk_00231.tsv → /Volumes/X10 Pro/predicted_chunks/chunk_00231.tsv\n"
     ]
    },
    {
     "name": "stderr",
     "output_type": "stream",
     "text": [
      "🔍 chunk_00646.tsv: 100%|██████████| 469/469 [25:46<00:00,  3.30s/it]\n"
     ]
    },
    {
     "name": "stdout",
     "output_type": "stream",
     "text": [
      "✅ Finished: /Volumes/X10 Pro/predicted_chunks/tmp_chunks/chunk_00646.tsv → /Volumes/X10 Pro/predicted_chunks/chunk_00646.tsv\n"
     ]
    },
    {
     "name": "stderr",
     "output_type": "stream",
     "text": [
      "🔍 chunk_00438.tsv: 100%|██████████| 469/469 [25:37<00:00,  3.28s/it]\n",
      "🔍 chunk_00023.tsv:  88%|████████▊ | 412/469 [22:40<03:08,  3.31s/it]"
     ]
    },
    {
     "name": "stdout",
     "output_type": "stream",
     "text": [
      "✅ Finished: /Volumes/X10 Pro/predicted_chunks/tmp_chunks/chunk_00438.tsv → /Volumes/X10 Pro/predicted_chunks/chunk_00438.tsv\n"
     ]
    },
    {
     "name": "stderr",
     "output_type": "stream",
     "text": [
      "🔍 chunk_00023.tsv: 100%|██████████| 469/469 [25:48<00:00,  3.30s/it]\n"
     ]
    },
    {
     "name": "stdout",
     "output_type": "stream",
     "text": [
      "✅ Finished: /Volumes/X10 Pro/predicted_chunks/tmp_chunks/chunk_00023.tsv → /Volumes/X10 Pro/predicted_chunks/chunk_00023.tsv\n"
     ]
    },
    {
     "name": "stderr",
     "output_type": "stream",
     "text": [
      "🔍 chunk_00232.tsv: 100%|██████████| 469/469 [24:35<00:00,  3.15s/it]\n"
     ]
    },
    {
     "name": "stdout",
     "output_type": "stream",
     "text": [
      "✅ Finished: /Volumes/X10 Pro/predicted_chunks/tmp_chunks/chunk_00232.tsv → /Volumes/X10 Pro/predicted_chunks/chunk_00232.tsv\n"
     ]
    },
    {
     "name": "stderr",
     "output_type": "stream",
     "text": [
      "🔍 chunk_00647.tsv: 100%|██████████| 469/469 [25:29<00:00,  3.26s/it]\n"
     ]
    },
    {
     "name": "stdout",
     "output_type": "stream",
     "text": [
      "✅ Finished: /Volumes/X10 Pro/predicted_chunks/tmp_chunks/chunk_00647.tsv → /Volumes/X10 Pro/predicted_chunks/chunk_00647.tsv\n"
     ]
    },
    {
     "name": "stderr",
     "output_type": "stream",
     "text": [
      "🔍 chunk_00439.tsv: 100%|██████████| 469/469 [25:35<00:00,  3.27s/it]\n"
     ]
    },
    {
     "name": "stdout",
     "output_type": "stream",
     "text": [
      "✅ Finished: /Volumes/X10 Pro/predicted_chunks/tmp_chunks/chunk_00439.tsv → /Volumes/X10 Pro/predicted_chunks/chunk_00439.tsv\n"
     ]
    },
    {
     "name": "stderr",
     "output_type": "stream",
     "text": [
      "🔍 chunk_00024.tsv: 100%|██████████| 469/469 [25:38<00:00,  3.28s/it]\n"
     ]
    },
    {
     "name": "stdout",
     "output_type": "stream",
     "text": [
      "✅ Finished: /Volumes/X10 Pro/predicted_chunks/tmp_chunks/chunk_00024.tsv → /Volumes/X10 Pro/predicted_chunks/chunk_00024.tsv\n"
     ]
    },
    {
     "name": "stderr",
     "output_type": "stream",
     "text": [
      "🔍 chunk_00233.tsv: 100%|██████████| 469/469 [24:32<00:00,  3.14s/it]\n"
     ]
    },
    {
     "name": "stdout",
     "output_type": "stream",
     "text": [
      "✅ Finished: /Volumes/X10 Pro/predicted_chunks/tmp_chunks/chunk_00233.tsv → /Volumes/X10 Pro/predicted_chunks/chunk_00233.tsv\n"
     ]
    },
    {
     "name": "stderr",
     "output_type": "stream",
     "text": [
      "🔍 chunk_00648.tsv: 100%|██████████| 469/469 [25:58<00:00,  3.32s/it]\n"
     ]
    },
    {
     "name": "stdout",
     "output_type": "stream",
     "text": [
      "✅ Finished: /Volumes/X10 Pro/predicted_chunks/tmp_chunks/chunk_00648.tsv → /Volumes/X10 Pro/predicted_chunks/chunk_00648.tsv\n"
     ]
    },
    {
     "name": "stderr",
     "output_type": "stream",
     "text": [
      "🔍 chunk_00440.tsv: 100%|██████████| 469/469 [25:25<00:00,  3.25s/it]\n"
     ]
    },
    {
     "name": "stdout",
     "output_type": "stream",
     "text": [
      "✅ Finished: /Volumes/X10 Pro/predicted_chunks/tmp_chunks/chunk_00440.tsv → /Volumes/X10 Pro/predicted_chunks/chunk_00440.tsv\n"
     ]
    },
    {
     "name": "stderr",
     "output_type": "stream",
     "text": [
      "🔍 chunk_00025.tsv: 100%|██████████| 469/469 [25:05<00:00,  3.21s/it]\n"
     ]
    },
    {
     "name": "stdout",
     "output_type": "stream",
     "text": [
      "✅ Finished: /Volumes/X10 Pro/predicted_chunks/tmp_chunks/chunk_00025.tsv → /Volumes/X10 Pro/predicted_chunks/chunk_00025.tsv\n"
     ]
    },
    {
     "name": "stderr",
     "output_type": "stream",
     "text": [
      "🔍 chunk_00234.tsv: 100%|██████████| 469/469 [24:21<00:00,  3.12s/it]\n"
     ]
    },
    {
     "name": "stdout",
     "output_type": "stream",
     "text": [
      "✅ Finished: /Volumes/X10 Pro/predicted_chunks/tmp_chunks/chunk_00234.tsv → /Volumes/X10 Pro/predicted_chunks/chunk_00234.tsv\n"
     ]
    },
    {
     "name": "stderr",
     "output_type": "stream",
     "text": [
      "🔍 chunk_00649.tsv: 100%|██████████| 469/469 [25:32<00:00,  3.27s/it]\n"
     ]
    },
    {
     "name": "stdout",
     "output_type": "stream",
     "text": [
      "✅ Finished: /Volumes/X10 Pro/predicted_chunks/tmp_chunks/chunk_00649.tsv → /Volumes/X10 Pro/predicted_chunks/chunk_00649.tsv\n"
     ]
    },
    {
     "name": "stderr",
     "output_type": "stream",
     "text": [
      "🔍 chunk_00441.tsv: 100%|██████████| 469/469 [25:35<00:00,  3.27s/it]\n"
     ]
    },
    {
     "name": "stdout",
     "output_type": "stream",
     "text": [
      "✅ Finished: /Volumes/X10 Pro/predicted_chunks/tmp_chunks/chunk_00441.tsv → /Volumes/X10 Pro/predicted_chunks/chunk_00441.tsv\n"
     ]
    },
    {
     "name": "stderr",
     "output_type": "stream",
     "text": [
      "🔍 chunk_00026.tsv: 100%|██████████| 469/469 [25:12<00:00,  3.23s/it]\n",
      "🔍 chunk_00442.tsv:  10%|▉         | 45/469 [02:25<18:08,  2.57s/it]"
     ]
    },
    {
     "name": "stdout",
     "output_type": "stream",
     "text": [
      "✅ Finished: /Volumes/X10 Pro/predicted_chunks/tmp_chunks/chunk_00026.tsv → /Volumes/X10 Pro/predicted_chunks/chunk_00026.tsv\n"
     ]
    },
    {
     "name": "stderr",
     "output_type": "stream",
     "text": [
      "🔍 chunk_00235.tsv: 100%|██████████| 469/469 [23:57<00:00,  3.06s/it]\n"
     ]
    },
    {
     "name": "stdout",
     "output_type": "stream",
     "text": [
      "✅ Finished: /Volumes/X10 Pro/predicted_chunks/tmp_chunks/chunk_00235.tsv → /Volumes/X10 Pro/predicted_chunks/chunk_00235.tsv\n"
     ]
    },
    {
     "name": "stderr",
     "output_type": "stream",
     "text": [
      "🔍 chunk_00650.tsv: 100%|██████████| 469/469 [25:28<00:00,  3.26s/it]\n"
     ]
    },
    {
     "name": "stdout",
     "output_type": "stream",
     "text": [
      "✅ Finished: /Volumes/X10 Pro/predicted_chunks/tmp_chunks/chunk_00650.tsv → /Volumes/X10 Pro/predicted_chunks/chunk_00650.tsv\n"
     ]
    },
    {
     "name": "stderr",
     "output_type": "stream",
     "text": [
      "🔍 chunk_00442.tsv: 100%|██████████| 469/469 [25:39<00:00,  3.28s/it]\n"
     ]
    },
    {
     "name": "stdout",
     "output_type": "stream",
     "text": [
      "✅ Finished: /Volumes/X10 Pro/predicted_chunks/tmp_chunks/chunk_00442.tsv → /Volumes/X10 Pro/predicted_chunks/chunk_00442.tsv\n"
     ]
    },
    {
     "name": "stderr",
     "output_type": "stream",
     "text": [
      "🔍 chunk_00027.tsv: 100%|██████████| 469/469 [25:09<00:00,  3.22s/it]\n"
     ]
    },
    {
     "name": "stdout",
     "output_type": "stream",
     "text": [
      "✅ Finished: /Volumes/X10 Pro/predicted_chunks/tmp_chunks/chunk_00027.tsv → /Volumes/X10 Pro/predicted_chunks/chunk_00027.tsv\n"
     ]
    },
    {
     "name": "stderr",
     "output_type": "stream",
     "text": [
      "🔍 chunk_00236.tsv: 100%|██████████| 469/469 [24:18<00:00,  3.11s/it]\n"
     ]
    },
    {
     "name": "stdout",
     "output_type": "stream",
     "text": [
      "✅ Finished: /Volumes/X10 Pro/predicted_chunks/tmp_chunks/chunk_00236.tsv → /Volumes/X10 Pro/predicted_chunks/chunk_00236.tsv\n"
     ]
    },
    {
     "name": "stderr",
     "output_type": "stream",
     "text": [
      "🔍 chunk_00651.tsv: 100%|██████████| 469/469 [25:09<00:00,  3.22s/it]\n"
     ]
    },
    {
     "name": "stdout",
     "output_type": "stream",
     "text": [
      "✅ Finished: /Volumes/X10 Pro/predicted_chunks/tmp_chunks/chunk_00651.tsv → /Volumes/X10 Pro/predicted_chunks/chunk_00651.tsv\n"
     ]
    },
    {
     "name": "stderr",
     "output_type": "stream",
     "text": [
      "🔍 chunk_00443.tsv: 100%|██████████| 469/469 [25:31<00:00,  3.27s/it]\n"
     ]
    },
    {
     "name": "stdout",
     "output_type": "stream",
     "text": [
      "✅ Finished: /Volumes/X10 Pro/predicted_chunks/tmp_chunks/chunk_00443.tsv → /Volumes/X10 Pro/predicted_chunks/chunk_00443.tsv\n"
     ]
    },
    {
     "name": "stderr",
     "output_type": "stream",
     "text": [
      "🔍 chunk_00028.tsv: 100%|██████████| 469/469 [24:51<00:00,  3.18s/it]\n"
     ]
    },
    {
     "name": "stdout",
     "output_type": "stream",
     "text": [
      "✅ Finished: /Volumes/X10 Pro/predicted_chunks/tmp_chunks/chunk_00028.tsv → /Volumes/X10 Pro/predicted_chunks/chunk_00028.tsv\n"
     ]
    },
    {
     "name": "stderr",
     "output_type": "stream",
     "text": [
      "🔍 chunk_00237.tsv: 100%|██████████| 469/469 [24:17<00:00,  3.11s/it]\n"
     ]
    },
    {
     "name": "stdout",
     "output_type": "stream",
     "text": [
      "✅ Finished: /Volumes/X10 Pro/predicted_chunks/tmp_chunks/chunk_00237.tsv → /Volumes/X10 Pro/predicted_chunks/chunk_00237.tsv\n"
     ]
    },
    {
     "name": "stderr",
     "output_type": "stream",
     "text": [
      "🔍 chunk_00652.tsv: 100%|██████████| 469/469 [25:23<00:00,  3.25s/it]\n"
     ]
    },
    {
     "name": "stdout",
     "output_type": "stream",
     "text": [
      "✅ Finished: /Volumes/X10 Pro/predicted_chunks/tmp_chunks/chunk_00652.tsv → /Volumes/X10 Pro/predicted_chunks/chunk_00652.tsv\n"
     ]
    },
    {
     "name": "stderr",
     "output_type": "stream",
     "text": [
      "🔍 chunk_00444.tsv: 100%|██████████| 469/469 [25:55<00:00,  3.32s/it]\n"
     ]
    },
    {
     "name": "stdout",
     "output_type": "stream",
     "text": [
      "✅ Finished: /Volumes/X10 Pro/predicted_chunks/tmp_chunks/chunk_00444.tsv → /Volumes/X10 Pro/predicted_chunks/chunk_00444.tsv\n"
     ]
    },
    {
     "name": "stderr",
     "output_type": "stream",
     "text": [
      "🔍 chunk_00029.tsv: 100%|██████████| 469/469 [24:49<00:00,  3.18s/it]\n"
     ]
    },
    {
     "name": "stdout",
     "output_type": "stream",
     "text": [
      "✅ Finished: /Volumes/X10 Pro/predicted_chunks/tmp_chunks/chunk_00029.tsv → /Volumes/X10 Pro/predicted_chunks/chunk_00029.tsv\n"
     ]
    },
    {
     "name": "stderr",
     "output_type": "stream",
     "text": [
      "🔍 chunk_00238.tsv: 100%|██████████| 469/469 [24:50<00:00,  3.18s/it]\n"
     ]
    },
    {
     "name": "stdout",
     "output_type": "stream",
     "text": [
      "✅ Finished: /Volumes/X10 Pro/predicted_chunks/tmp_chunks/chunk_00238.tsv → /Volumes/X10 Pro/predicted_chunks/chunk_00238.tsv\n"
     ]
    },
    {
     "name": "stderr",
     "output_type": "stream",
     "text": [
      "🔍 chunk_00653.tsv: 100%|██████████| 469/469 [25:18<00:00,  3.24s/it]\n"
     ]
    },
    {
     "name": "stdout",
     "output_type": "stream",
     "text": [
      "✅ Finished: /Volumes/X10 Pro/predicted_chunks/tmp_chunks/chunk_00653.tsv → /Volumes/X10 Pro/predicted_chunks/chunk_00653.tsv\n"
     ]
    },
    {
     "name": "stderr",
     "output_type": "stream",
     "text": [
      "🔍 chunk_00030.tsv: 100%|██████████| 469/469 [25:03<00:00,  3.20s/it]\n"
     ]
    },
    {
     "name": "stdout",
     "output_type": "stream",
     "text": [
      "✅ Finished: /Volumes/X10 Pro/predicted_chunks/tmp_chunks/chunk_00030.tsv → /Volumes/X10 Pro/predicted_chunks/chunk_00030.tsv\n"
     ]
    },
    {
     "name": "stderr",
     "output_type": "stream",
     "text": [
      "🔍 chunk_00445.tsv: 100%|██████████| 469/469 [25:34<00:00,  3.27s/it]\n"
     ]
    },
    {
     "name": "stdout",
     "output_type": "stream",
     "text": [
      "✅ Finished: /Volumes/X10 Pro/predicted_chunks/tmp_chunks/chunk_00445.tsv → /Volumes/X10 Pro/predicted_chunks/chunk_00445.tsv\n"
     ]
    },
    {
     "name": "stderr",
     "output_type": "stream",
     "text": [
      "🔍 chunk_00239.tsv: 100%|██████████| 469/469 [24:27<00:00,  3.13s/it]\n"
     ]
    },
    {
     "name": "stdout",
     "output_type": "stream",
     "text": [
      "✅ Finished: /Volumes/X10 Pro/predicted_chunks/tmp_chunks/chunk_00239.tsv → /Volumes/X10 Pro/predicted_chunks/chunk_00239.tsv\n"
     ]
    },
    {
     "name": "stderr",
     "output_type": "stream",
     "text": [
      "🔍 chunk_00654.tsv: 100%|██████████| 469/469 [25:05<00:00,  3.21s/it]\n"
     ]
    },
    {
     "name": "stdout",
     "output_type": "stream",
     "text": [
      "✅ Finished: /Volumes/X10 Pro/predicted_chunks/tmp_chunks/chunk_00654.tsv → /Volumes/X10 Pro/predicted_chunks/chunk_00654.tsv\n"
     ]
    },
    {
     "name": "stderr",
     "output_type": "stream",
     "text": [
      "🔍 chunk_00031.tsv: 100%|██████████| 469/469 [24:13<00:00,  3.10s/it]\n"
     ]
    },
    {
     "name": "stdout",
     "output_type": "stream",
     "text": [
      "✅ Finished: /Volumes/X10 Pro/predicted_chunks/tmp_chunks/chunk_00031.tsv → /Volumes/X10 Pro/predicted_chunks/chunk_00031.tsv\n"
     ]
    },
    {
     "name": "stderr",
     "output_type": "stream",
     "text": [
      "🔍 chunk_00446.tsv: 100%|██████████| 469/469 [25:53<00:00,  3.31s/it]\n"
     ]
    },
    {
     "name": "stdout",
     "output_type": "stream",
     "text": [
      "✅ Finished: /Volumes/X10 Pro/predicted_chunks/tmp_chunks/chunk_00446.tsv → /Volumes/X10 Pro/predicted_chunks/chunk_00446.tsv\n"
     ]
    },
    {
     "name": "stderr",
     "output_type": "stream",
     "text": [
      "🔍 chunk_00240.tsv: 100%|██████████| 469/469 [24:09<00:00,  3.09s/it]\n"
     ]
    },
    {
     "name": "stdout",
     "output_type": "stream",
     "text": [
      "✅ Finished: /Volumes/X10 Pro/predicted_chunks/tmp_chunks/chunk_00240.tsv → /Volumes/X10 Pro/predicted_chunks/chunk_00240.tsv\n"
     ]
    },
    {
     "name": "stderr",
     "output_type": "stream",
     "text": [
      "🔍 chunk_00655.tsv: 100%|██████████| 469/469 [25:04<00:00,  3.21s/it]\n"
     ]
    },
    {
     "name": "stdout",
     "output_type": "stream",
     "text": [
      "✅ Finished: /Volumes/X10 Pro/predicted_chunks/tmp_chunks/chunk_00655.tsv → /Volumes/X10 Pro/predicted_chunks/chunk_00655.tsv\n"
     ]
    },
    {
     "name": "stderr",
     "output_type": "stream",
     "text": [
      "🔍 chunk_00032.tsv: 100%|██████████| 469/469 [24:40<00:00,  3.16s/it]\n"
     ]
    },
    {
     "name": "stdout",
     "output_type": "stream",
     "text": [
      "✅ Finished: /Volumes/X10 Pro/predicted_chunks/tmp_chunks/chunk_00032.tsv → /Volumes/X10 Pro/predicted_chunks/chunk_00032.tsv\n"
     ]
    },
    {
     "name": "stderr",
     "output_type": "stream",
     "text": [
      "🔍 chunk_00447.tsv: 100%|██████████| 469/469 [25:36<00:00,  3.28s/it]\n"
     ]
    },
    {
     "name": "stdout",
     "output_type": "stream",
     "text": [
      "✅ Finished: /Volumes/X10 Pro/predicted_chunks/tmp_chunks/chunk_00447.tsv → /Volumes/X10 Pro/predicted_chunks/chunk_00447.tsv\n"
     ]
    },
    {
     "name": "stderr",
     "output_type": "stream",
     "text": [
      "🔍 chunk_00241.tsv: 100%|██████████| 469/469 [24:35<00:00,  3.15s/it]\n"
     ]
    },
    {
     "name": "stdout",
     "output_type": "stream",
     "text": [
      "✅ Finished: /Volumes/X10 Pro/predicted_chunks/tmp_chunks/chunk_00241.tsv → /Volumes/X10 Pro/predicted_chunks/chunk_00241.tsv\n"
     ]
    },
    {
     "name": "stderr",
     "output_type": "stream",
     "text": [
      "🔍 chunk_00656.tsv: 100%|██████████| 469/469 [25:46<00:00,  3.30s/it]\n"
     ]
    },
    {
     "name": "stdout",
     "output_type": "stream",
     "text": [
      "✅ Finished: /Volumes/X10 Pro/predicted_chunks/tmp_chunks/chunk_00656.tsv → /Volumes/X10 Pro/predicted_chunks/chunk_00656.tsv\n"
     ]
    },
    {
     "name": "stderr",
     "output_type": "stream",
     "text": [
      "🔍 chunk_00033.tsv: 100%|██████████| 469/469 [24:52<00:00,  3.18s/it]\n"
     ]
    },
    {
     "name": "stdout",
     "output_type": "stream",
     "text": [
      "✅ Finished: /Volumes/X10 Pro/predicted_chunks/tmp_chunks/chunk_00033.tsv → /Volumes/X10 Pro/predicted_chunks/chunk_00033.tsv\n"
     ]
    },
    {
     "name": "stderr",
     "output_type": "stream",
     "text": [
      "🔍 chunk_00448.tsv: 100%|██████████| 469/469 [25:22<00:00,  3.25s/it]\n"
     ]
    },
    {
     "name": "stdout",
     "output_type": "stream",
     "text": [
      "✅ Finished: /Volumes/X10 Pro/predicted_chunks/tmp_chunks/chunk_00448.tsv → /Volumes/X10 Pro/predicted_chunks/chunk_00448.tsv\n"
     ]
    },
    {
     "name": "stderr",
     "output_type": "stream",
     "text": [
      "🔍 chunk_00242.tsv: 100%|██████████| 469/469 [24:44<00:00,  3.17s/it]\n"
     ]
    },
    {
     "name": "stdout",
     "output_type": "stream",
     "text": [
      "✅ Finished: /Volumes/X10 Pro/predicted_chunks/tmp_chunks/chunk_00242.tsv → /Volumes/X10 Pro/predicted_chunks/chunk_00242.tsv\n"
     ]
    },
    {
     "name": "stderr",
     "output_type": "stream",
     "text": [
      "🔍 chunk_00657.tsv: 100%|██████████| 469/469 [25:23<00:00,  3.25s/it]\n"
     ]
    },
    {
     "name": "stdout",
     "output_type": "stream",
     "text": [
      "✅ Finished: /Volumes/X10 Pro/predicted_chunks/tmp_chunks/chunk_00657.tsv → /Volumes/X10 Pro/predicted_chunks/chunk_00657.tsv\n"
     ]
    },
    {
     "name": "stderr",
     "output_type": "stream",
     "text": [
      "🔍 chunk_00034.tsv: 100%|██████████| 469/469 [25:10<00:00,  3.22s/it]\n"
     ]
    },
    {
     "name": "stdout",
     "output_type": "stream",
     "text": [
      "✅ Finished: /Volumes/X10 Pro/predicted_chunks/tmp_chunks/chunk_00034.tsv → /Volumes/X10 Pro/predicted_chunks/chunk_00034.tsv\n"
     ]
    },
    {
     "name": "stderr",
     "output_type": "stream",
     "text": [
      "🔍 chunk_00449.tsv: 100%|██████████| 469/469 [25:11<00:00,  3.22s/it]\n"
     ]
    },
    {
     "name": "stdout",
     "output_type": "stream",
     "text": [
      "✅ Finished: /Volumes/X10 Pro/predicted_chunks/tmp_chunks/chunk_00449.tsv → /Volumes/X10 Pro/predicted_chunks/chunk_00449.tsv\n"
     ]
    },
    {
     "name": "stderr",
     "output_type": "stream",
     "text": [
      "🔍 chunk_00243.tsv: 100%|██████████| 469/469 [24:40<00:00,  3.16s/it]\n"
     ]
    },
    {
     "name": "stdout",
     "output_type": "stream",
     "text": [
      "✅ Finished: /Volumes/X10 Pro/predicted_chunks/tmp_chunks/chunk_00243.tsv → /Volumes/X10 Pro/predicted_chunks/chunk_00243.tsv\n"
     ]
    },
    {
     "name": "stderr",
     "output_type": "stream",
     "text": [
      "🔍 chunk_00035.tsv: 100%|██████████| 469/469 [24:32<00:00,  3.14s/it]\n"
     ]
    },
    {
     "name": "stdout",
     "output_type": "stream",
     "text": [
      "✅ Finished: /Volumes/X10 Pro/predicted_chunks/tmp_chunks/chunk_00035.tsv → /Volumes/X10 Pro/predicted_chunks/chunk_00035.tsv\n"
     ]
    },
    {
     "name": "stderr",
     "output_type": "stream",
     "text": [
      "🔍 chunk_00658.tsv: 100%|██████████| 469/469 [25:22<00:00,  3.25s/it]\n"
     ]
    },
    {
     "name": "stdout",
     "output_type": "stream",
     "text": [
      "✅ Finished: /Volumes/X10 Pro/predicted_chunks/tmp_chunks/chunk_00658.tsv → /Volumes/X10 Pro/predicted_chunks/chunk_00658.tsv\n"
     ]
    },
    {
     "name": "stderr",
     "output_type": "stream",
     "text": [
      "🔍 chunk_00450.tsv: 100%|██████████| 469/469 [26:28<00:00,  3.39s/it]\n"
     ]
    },
    {
     "name": "stdout",
     "output_type": "stream",
     "text": [
      "✅ Finished: /Volumes/X10 Pro/predicted_chunks/tmp_chunks/chunk_00450.tsv → /Volumes/X10 Pro/predicted_chunks/chunk_00450.tsv\n"
     ]
    },
    {
     "name": "stderr",
     "output_type": "stream",
     "text": [
      "🔍 chunk_00244.tsv: 100%|██████████| 469/469 [24:37<00:00,  3.15s/it]\n"
     ]
    },
    {
     "name": "stdout",
     "output_type": "stream",
     "text": [
      "✅ Finished: /Volumes/X10 Pro/predicted_chunks/tmp_chunks/chunk_00244.tsv → /Volumes/X10 Pro/predicted_chunks/chunk_00244.tsv\n"
     ]
    },
    {
     "name": "stderr",
     "output_type": "stream",
     "text": [
      "🔍 chunk_00036.tsv: 100%|██████████| 469/469 [25:03<00:00,  3.21s/it]\n"
     ]
    },
    {
     "name": "stdout",
     "output_type": "stream",
     "text": [
      "✅ Finished: /Volumes/X10 Pro/predicted_chunks/tmp_chunks/chunk_00036.tsv → /Volumes/X10 Pro/predicted_chunks/chunk_00036.tsv\n"
     ]
    },
    {
     "name": "stderr",
     "output_type": "stream",
     "text": [
      "🔍 chunk_00659.tsv: 100%|██████████| 469/469 [25:40<00:00,  3.28s/it]\n"
     ]
    },
    {
     "name": "stdout",
     "output_type": "stream",
     "text": [
      "✅ Finished: /Volumes/X10 Pro/predicted_chunks/tmp_chunks/chunk_00659.tsv → /Volumes/X10 Pro/predicted_chunks/chunk_00659.tsv\n"
     ]
    },
    {
     "name": "stderr",
     "output_type": "stream",
     "text": [
      "🔍 chunk_00451.tsv: 100%|██████████| 469/469 [26:27<00:00,  3.38s/it]\n"
     ]
    },
    {
     "name": "stdout",
     "output_type": "stream",
     "text": [
      "✅ Finished: /Volumes/X10 Pro/predicted_chunks/tmp_chunks/chunk_00451.tsv → /Volumes/X10 Pro/predicted_chunks/chunk_00451.tsv\n"
     ]
    },
    {
     "name": "stderr",
     "output_type": "stream",
     "text": [
      "🔍 chunk_00245.tsv: 100%|██████████| 469/469 [25:27<00:00,  3.26s/it]\n"
     ]
    },
    {
     "name": "stdout",
     "output_type": "stream",
     "text": [
      "✅ Finished: /Volumes/X10 Pro/predicted_chunks/tmp_chunks/chunk_00245.tsv → /Volumes/X10 Pro/predicted_chunks/chunk_00245.tsv\n"
     ]
    },
    {
     "name": "stderr",
     "output_type": "stream",
     "text": [
      "🔍 chunk_00037.tsv: 100%|██████████| 469/469 [24:56<00:00,  3.19s/it]\n"
     ]
    },
    {
     "name": "stdout",
     "output_type": "stream",
     "text": [
      "✅ Finished: /Volumes/X10 Pro/predicted_chunks/tmp_chunks/chunk_00037.tsv → /Volumes/X10 Pro/predicted_chunks/chunk_00037.tsv\n"
     ]
    },
    {
     "name": "stderr",
     "output_type": "stream",
     "text": [
      "🔍 chunk_00660.tsv: 100%|██████████| 469/469 [25:37<00:00,  3.28s/it]\n"
     ]
    },
    {
     "name": "stdout",
     "output_type": "stream",
     "text": [
      "✅ Finished: /Volumes/X10 Pro/predicted_chunks/tmp_chunks/chunk_00660.tsv → /Volumes/X10 Pro/predicted_chunks/chunk_00660.tsv\n"
     ]
    },
    {
     "name": "stderr",
     "output_type": "stream",
     "text": [
      "🔍 chunk_00452.tsv: 100%|██████████| 469/469 [26:04<00:00,  3.34s/it]\n"
     ]
    },
    {
     "name": "stdout",
     "output_type": "stream",
     "text": [
      "✅ Finished: /Volumes/X10 Pro/predicted_chunks/tmp_chunks/chunk_00452.tsv → /Volumes/X10 Pro/predicted_chunks/chunk_00452.tsv\n"
     ]
    },
    {
     "name": "stderr",
     "output_type": "stream",
     "text": [
      "🔍 chunk_00246.tsv: 100%|██████████| 469/469 [24:44<00:00,  3.17s/it]\n"
     ]
    },
    {
     "name": "stdout",
     "output_type": "stream",
     "text": [
      "✅ Finished: /Volumes/X10 Pro/predicted_chunks/tmp_chunks/chunk_00246.tsv → /Volumes/X10 Pro/predicted_chunks/chunk_00246.tsv\n"
     ]
    },
    {
     "name": "stderr",
     "output_type": "stream",
     "text": [
      "🔍 chunk_00038.tsv: 100%|██████████| 469/469 [24:42<00:00,  3.16s/it]\n"
     ]
    },
    {
     "name": "stdout",
     "output_type": "stream",
     "text": [
      "✅ Finished: /Volumes/X10 Pro/predicted_chunks/tmp_chunks/chunk_00038.tsv → /Volumes/X10 Pro/predicted_chunks/chunk_00038.tsv\n"
     ]
    },
    {
     "name": "stderr",
     "output_type": "stream",
     "text": [
      "🔍 chunk_00661.tsv: 100%|██████████| 469/469 [25:55<00:00,  3.32s/it]\n"
     ]
    },
    {
     "name": "stdout",
     "output_type": "stream",
     "text": [
      "✅ Finished: /Volumes/X10 Pro/predicted_chunks/tmp_chunks/chunk_00661.tsv → /Volumes/X10 Pro/predicted_chunks/chunk_00661.tsv\n"
     ]
    },
    {
     "name": "stderr",
     "output_type": "stream",
     "text": [
      "🔍 chunk_00453.tsv: 100%|██████████| 469/469 [26:30<00:00,  3.39s/it]\n",
      "🔍 chunk_00662.tsv:  23%|██▎       | 107/469 [06:26<24:27,  4.06s/it]"
     ]
    },
    {
     "name": "stdout",
     "output_type": "stream",
     "text": [
      "✅ Finished: /Volumes/X10 Pro/predicted_chunks/tmp_chunks/chunk_00453.tsv → /Volumes/X10 Pro/predicted_chunks/chunk_00453.tsv\n"
     ]
    },
    {
     "name": "stderr",
     "output_type": "stream",
     "text": [
      "🔍 chunk_00247.tsv: 100%|██████████| 469/469 [24:32<00:00,  3.14s/it]\n"
     ]
    },
    {
     "name": "stdout",
     "output_type": "stream",
     "text": [
      "✅ Finished: /Volumes/X10 Pro/predicted_chunks/tmp_chunks/chunk_00247.tsv → /Volumes/X10 Pro/predicted_chunks/chunk_00247.tsv\n"
     ]
    },
    {
     "name": "stderr",
     "output_type": "stream",
     "text": [
      "🔍 chunk_00039.tsv: 100%|██████████| 469/469 [25:45<00:00,  3.30s/it]\n"
     ]
    },
    {
     "name": "stdout",
     "output_type": "stream",
     "text": [
      "✅ Finished: /Volumes/X10 Pro/predicted_chunks/tmp_chunks/chunk_00039.tsv → /Volumes/X10 Pro/predicted_chunks/chunk_00039.tsv\n"
     ]
    },
    {
     "name": "stderr",
     "output_type": "stream",
     "text": [
      "🔍 chunk_00662.tsv: 100%|██████████| 469/469 [27:45<00:00,  3.55s/it]\n"
     ]
    },
    {
     "name": "stdout",
     "output_type": "stream",
     "text": [
      "✅ Finished: /Volumes/X10 Pro/predicted_chunks/tmp_chunks/chunk_00662.tsv → /Volumes/X10 Pro/predicted_chunks/chunk_00662.tsv\n"
     ]
    },
    {
     "name": "stderr",
     "output_type": "stream",
     "text": [
      "🔍 chunk_00454.tsv: 100%|██████████| 469/469 [27:00<00:00,  3.45s/it]\n"
     ]
    },
    {
     "name": "stdout",
     "output_type": "stream",
     "text": [
      "✅ Finished: /Volumes/X10 Pro/predicted_chunks/tmp_chunks/chunk_00454.tsv → /Volumes/X10 Pro/predicted_chunks/chunk_00454.tsv\n"
     ]
    },
    {
     "name": "stderr",
     "output_type": "stream",
     "text": [
      "🔍 chunk_00248.tsv: 100%|██████████| 469/469 [24:37<00:00,  3.15s/it]\n"
     ]
    },
    {
     "name": "stdout",
     "output_type": "stream",
     "text": [
      "✅ Finished: /Volumes/X10 Pro/predicted_chunks/tmp_chunks/chunk_00248.tsv → /Volumes/X10 Pro/predicted_chunks/chunk_00248.tsv\n"
     ]
    },
    {
     "name": "stderr",
     "output_type": "stream",
     "text": [
      "🔍 chunk_00040.tsv: 100%|██████████| 469/469 [25:47<00:00,  3.30s/it]\n",
      "🔍 chunk_00663.tsv:  76%|███████▌  | 355/469 [20:31<08:15,  4.35s/it]"
     ]
    },
    {
     "name": "stdout",
     "output_type": "stream",
     "text": [
      "✅ Finished: /Volumes/X10 Pro/predicted_chunks/tmp_chunks/chunk_00040.tsv → /Volumes/X10 Pro/predicted_chunks/chunk_00040.tsv\n"
     ]
    },
    {
     "name": "stderr",
     "output_type": "stream",
     "text": [
      "🔍 chunk_00663.tsv: 100%|██████████| 469/469 [27:08<00:00,  3.47s/it]\n"
     ]
    },
    {
     "name": "stdout",
     "output_type": "stream",
     "text": [
      "✅ Finished: /Volumes/X10 Pro/predicted_chunks/tmp_chunks/chunk_00663.tsv → /Volumes/X10 Pro/predicted_chunks/chunk_00663.tsv\n"
     ]
    },
    {
     "name": "stderr",
     "output_type": "stream",
     "text": [
      "🔍 chunk_00249.tsv: 100%|██████████| 469/469 [25:03<00:00,  3.21s/it]\n"
     ]
    },
    {
     "name": "stdout",
     "output_type": "stream",
     "text": [
      "✅ Finished: /Volumes/X10 Pro/predicted_chunks/tmp_chunks/chunk_00249.tsv → /Volumes/X10 Pro/predicted_chunks/chunk_00249.tsv\n"
     ]
    },
    {
     "name": "stderr",
     "output_type": "stream",
     "text": [
      "🔍 chunk_00455.tsv: 100%|██████████| 469/469 [27:02<00:00,  3.46s/it]\n"
     ]
    },
    {
     "name": "stdout",
     "output_type": "stream",
     "text": [
      "✅ Finished: /Volumes/X10 Pro/predicted_chunks/tmp_chunks/chunk_00455.tsv → /Volumes/X10 Pro/predicted_chunks/chunk_00455.tsv\n"
     ]
    },
    {
     "name": "stderr",
     "output_type": "stream",
     "text": [
      "🔍 chunk_00041.tsv: 100%|██████████| 469/469 [26:01<00:00,  3.33s/it]\n"
     ]
    },
    {
     "name": "stdout",
     "output_type": "stream",
     "text": [
      "✅ Finished: /Volumes/X10 Pro/predicted_chunks/tmp_chunks/chunk_00041.tsv → /Volumes/X10 Pro/predicted_chunks/chunk_00041.tsv\n"
     ]
    },
    {
     "name": "stderr",
     "output_type": "stream",
     "text": [
      "🔍 chunk_00664.tsv: 100%|██████████| 469/469 [27:18<00:00,  3.49s/it]\n"
     ]
    },
    {
     "name": "stdout",
     "output_type": "stream",
     "text": [
      "✅ Finished: /Volumes/X10 Pro/predicted_chunks/tmp_chunks/chunk_00664.tsv → /Volumes/X10 Pro/predicted_chunks/chunk_00664.tsv\n"
     ]
    },
    {
     "name": "stderr",
     "output_type": "stream",
     "text": [
      "🔍 chunk_00250.tsv: 100%|██████████| 469/469 [25:41<00:00,  3.29s/it]\n",
      "🔍 chunk_00456.tsv:  91%|█████████▏| 429/469 [24:59<02:28,  3.71s/it]"
     ]
    },
    {
     "name": "stdout",
     "output_type": "stream",
     "text": [
      "✅ Finished: /Volumes/X10 Pro/predicted_chunks/tmp_chunks/chunk_00250.tsv → /Volumes/X10 Pro/predicted_chunks/chunk_00250.tsv\n"
     ]
    },
    {
     "name": "stderr",
     "output_type": "stream",
     "text": [
      "🔍 chunk_00456.tsv: 100%|██████████| 469/469 [27:20<00:00,  3.50s/it]\n"
     ]
    },
    {
     "name": "stdout",
     "output_type": "stream",
     "text": [
      "✅ Finished: /Volumes/X10 Pro/predicted_chunks/tmp_chunks/chunk_00456.tsv → /Volumes/X10 Pro/predicted_chunks/chunk_00456.tsv\n"
     ]
    },
    {
     "name": "stderr",
     "output_type": "stream",
     "text": [
      "🔍 chunk_00042.tsv: 100%|██████████| 469/469 [26:23<00:00,  3.38s/it]\n",
      "🔍 chunk_00251.tsv:  60%|██████    | 282/469 [15:10<08:04,  2.59s/it]"
     ]
    },
    {
     "name": "stdout",
     "output_type": "stream",
     "text": [
      "✅ Finished: /Volumes/X10 Pro/predicted_chunks/tmp_chunks/chunk_00042.tsv → /Volumes/X10 Pro/predicted_chunks/chunk_00042.tsv\n"
     ]
    },
    {
     "name": "stderr",
     "output_type": "stream",
     "text": [
      "🔍 chunk_00665.tsv: 100%|██████████| 469/469 [27:04<00:00,  3.46s/it]\n"
     ]
    },
    {
     "name": "stdout",
     "output_type": "stream",
     "text": [
      "✅ Finished: /Volumes/X10 Pro/predicted_chunks/tmp_chunks/chunk_00665.tsv → /Volumes/X10 Pro/predicted_chunks/chunk_00665.tsv\n"
     ]
    },
    {
     "name": "stderr",
     "output_type": "stream",
     "text": [
      "🔍 chunk_00251.tsv: 100%|██████████| 469/469 [25:22<00:00,  3.25s/it]\n"
     ]
    },
    {
     "name": "stdout",
     "output_type": "stream",
     "text": [
      "✅ Finished: /Volumes/X10 Pro/predicted_chunks/tmp_chunks/chunk_00251.tsv → /Volumes/X10 Pro/predicted_chunks/chunk_00251.tsv\n"
     ]
    },
    {
     "name": "stderr",
     "output_type": "stream",
     "text": [
      "🔍 chunk_00457.tsv: 100%|██████████| 469/469 [28:01<00:00,  3.59s/it]\n"
     ]
    },
    {
     "name": "stdout",
     "output_type": "stream",
     "text": [
      "✅ Finished: /Volumes/X10 Pro/predicted_chunks/tmp_chunks/chunk_00457.tsv → /Volumes/X10 Pro/predicted_chunks/chunk_00457.tsv\n"
     ]
    },
    {
     "name": "stderr",
     "output_type": "stream",
     "text": [
      "🔍 chunk_00043.tsv: 100%|██████████| 469/469 [26:30<00:00,  3.39s/it]\n",
      "🔍 chunk_00666.tsv:  62%|██████▏   | 293/469 [17:56<10:51,  3.70s/it]"
     ]
    },
    {
     "name": "stdout",
     "output_type": "stream",
     "text": [
      "✅ Finished: /Volumes/X10 Pro/predicted_chunks/tmp_chunks/chunk_00043.tsv → /Volumes/X10 Pro/predicted_chunks/chunk_00043.tsv\n"
     ]
    },
    {
     "name": "stderr",
     "output_type": "stream",
     "text": [
      "🔍 chunk_00252.tsv: 100%|██████████| 469/469 [26:00<00:00,  3.33s/it]\n"
     ]
    },
    {
     "name": "stdout",
     "output_type": "stream",
     "text": [
      "✅ Finished: /Volumes/X10 Pro/predicted_chunks/tmp_chunks/chunk_00252.tsv → /Volumes/X10 Pro/predicted_chunks/chunk_00252.tsv\n"
     ]
    },
    {
     "name": "stderr",
     "output_type": "stream",
     "text": [
      "🔍 chunk_00666.tsv: 100%|██████████| 469/469 [28:36<00:00,  3.66s/it]\n"
     ]
    },
    {
     "name": "stdout",
     "output_type": "stream",
     "text": [
      "✅ Finished: /Volumes/X10 Pro/predicted_chunks/tmp_chunks/chunk_00666.tsv → /Volumes/X10 Pro/predicted_chunks/chunk_00666.tsv\n"
     ]
    },
    {
     "name": "stderr",
     "output_type": "stream",
     "text": [
      "🔍 chunk_00458.tsv: 100%|██████████| 469/469 [28:12<00:00,  3.61s/it]\n"
     ]
    },
    {
     "name": "stdout",
     "output_type": "stream",
     "text": [
      "✅ Finished: /Volumes/X10 Pro/predicted_chunks/tmp_chunks/chunk_00458.tsv → /Volumes/X10 Pro/predicted_chunks/chunk_00458.tsv\n"
     ]
    },
    {
     "name": "stderr",
     "output_type": "stream",
     "text": [
      "🔍 chunk_00044.tsv: 100%|██████████| 469/469 [26:21<00:00,  3.37s/it]\n"
     ]
    },
    {
     "name": "stdout",
     "output_type": "stream",
     "text": [
      "✅ Finished: /Volumes/X10 Pro/predicted_chunks/tmp_chunks/chunk_00044.tsv → /Volumes/X10 Pro/predicted_chunks/chunk_00044.tsv\n"
     ]
    },
    {
     "name": "stderr",
     "output_type": "stream",
     "text": [
      "🔍 chunk_00253.tsv: 100%|██████████| 469/469 [25:08<00:00,  3.22s/it]\n",
      "🔍 chunk_00667.tsv:  88%|████████▊ | 412/469 [24:10<02:57,  3.12s/it]"
     ]
    },
    {
     "name": "stdout",
     "output_type": "stream",
     "text": [
      "✅ Finished: /Volumes/X10 Pro/predicted_chunks/tmp_chunks/chunk_00253.tsv → /Volumes/X10 Pro/predicted_chunks/chunk_00253.tsv\n"
     ]
    },
    {
     "name": "stderr",
     "output_type": "stream",
     "text": [
      "🔍 chunk_00667.tsv: 100%|██████████| 469/469 [27:28<00:00,  3.51s/it]\n",
      "🔍 chunk_00459.tsv:  75%|███████▍  | 351/469 [21:13<06:31,  3.32s/it]"
     ]
    },
    {
     "name": "stdout",
     "output_type": "stream",
     "text": [
      "✅ Finished: /Volumes/X10 Pro/predicted_chunks/tmp_chunks/chunk_00667.tsv → /Volumes/X10 Pro/predicted_chunks/chunk_00667.tsv\n"
     ]
    },
    {
     "name": "stderr",
     "output_type": "stream",
     "text": [
      "🔍 chunk_00459.tsv: 100%|██████████| 469/469 [28:19<00:00,  3.62s/it]\n"
     ]
    },
    {
     "name": "stdout",
     "output_type": "stream",
     "text": [
      "✅ Finished: /Volumes/X10 Pro/predicted_chunks/tmp_chunks/chunk_00459.tsv → /Volumes/X10 Pro/predicted_chunks/chunk_00459.tsv\n"
     ]
    },
    {
     "name": "stderr",
     "output_type": "stream",
     "text": [
      "🔍 chunk_00045.tsv: 100%|██████████| 469/469 [26:50<00:00,  3.43s/it]\n"
     ]
    },
    {
     "name": "stdout",
     "output_type": "stream",
     "text": [
      "✅ Finished: /Volumes/X10 Pro/predicted_chunks/tmp_chunks/chunk_00045.tsv → /Volumes/X10 Pro/predicted_chunks/chunk_00045.tsv\n"
     ]
    },
    {
     "name": "stderr",
     "output_type": "stream",
     "text": [
      "🔍 chunk_00254.tsv: 100%|██████████| 469/469 [25:51<00:00,  3.31s/it]\n"
     ]
    },
    {
     "name": "stdout",
     "output_type": "stream",
     "text": [
      "✅ Finished: /Volumes/X10 Pro/predicted_chunks/tmp_chunks/chunk_00254.tsv → /Volumes/X10 Pro/predicted_chunks/chunk_00254.tsv\n"
     ]
    },
    {
     "name": "stderr",
     "output_type": "stream",
     "text": [
      "🔍 chunk_00668.tsv: 100%|██████████| 469/469 [27:20<00:00,  3.50s/it]\n"
     ]
    },
    {
     "name": "stdout",
     "output_type": "stream",
     "text": [
      "✅ Finished: /Volumes/X10 Pro/predicted_chunks/tmp_chunks/chunk_00668.tsv → /Volumes/X10 Pro/predicted_chunks/chunk_00668.tsv\n"
     ]
    },
    {
     "name": "stderr",
     "output_type": "stream",
     "text": [
      "🔍 chunk_00460.tsv: 100%|██████████| 469/469 [27:47<00:00,  3.56s/it]\n"
     ]
    },
    {
     "name": "stdout",
     "output_type": "stream",
     "text": [
      "✅ Finished: /Volumes/X10 Pro/predicted_chunks/tmp_chunks/chunk_00460.tsv → /Volumes/X10 Pro/predicted_chunks/chunk_00460.tsv\n"
     ]
    },
    {
     "name": "stderr",
     "output_type": "stream",
     "text": [
      "🔍 chunk_00046.tsv: 100%|██████████| 469/469 [27:27<00:00,  3.51s/it]\n"
     ]
    },
    {
     "name": "stdout",
     "output_type": "stream",
     "text": [
      "✅ Finished: /Volumes/X10 Pro/predicted_chunks/tmp_chunks/chunk_00046.tsv → /Volumes/X10 Pro/predicted_chunks/chunk_00046.tsv\n"
     ]
    },
    {
     "name": "stderr",
     "output_type": "stream",
     "text": [
      "🔍 chunk_00255.tsv: 100%|██████████| 469/469 [26:41<00:00,  3.41s/it]\n",
      "🔍 chunk_00047.tsv:  26%|██▌       | 123/469 [06:41<18:29,  3.21s/it]"
     ]
    },
    {
     "name": "stdout",
     "output_type": "stream",
     "text": [
      "✅ Finished: /Volumes/X10 Pro/predicted_chunks/tmp_chunks/chunk_00255.tsv → /Volumes/X10 Pro/predicted_chunks/chunk_00255.tsv\n"
     ]
    },
    {
     "name": "stderr",
     "output_type": "stream",
     "text": [
      "🔍 chunk_00669.tsv: 100%|██████████| 469/469 [28:17<00:00,  3.62s/it]\n"
     ]
    },
    {
     "name": "stdout",
     "output_type": "stream",
     "text": [
      "✅ Finished: /Volumes/X10 Pro/predicted_chunks/tmp_chunks/chunk_00669.tsv → /Volumes/X10 Pro/predicted_chunks/chunk_00669.tsv\n"
     ]
    },
    {
     "name": "stderr",
     "output_type": "stream",
     "text": [
      "🔍 chunk_00461.tsv: 100%|██████████| 469/469 [28:19<00:00,  3.62s/it]\n"
     ]
    },
    {
     "name": "stdout",
     "output_type": "stream",
     "text": [
      "✅ Finished: /Volumes/X10 Pro/predicted_chunks/tmp_chunks/chunk_00461.tsv → /Volumes/X10 Pro/predicted_chunks/chunk_00461.tsv\n"
     ]
    },
    {
     "name": "stderr",
     "output_type": "stream",
     "text": [
      "🔍 chunk_00047.tsv: 100%|██████████| 469/469 [25:15<00:00,  3.23s/it]\n"
     ]
    },
    {
     "name": "stdout",
     "output_type": "stream",
     "text": [
      "✅ Finished: /Volumes/X10 Pro/predicted_chunks/tmp_chunks/chunk_00047.tsv → /Volumes/X10 Pro/predicted_chunks/chunk_00047.tsv\n"
     ]
    },
    {
     "name": "stderr",
     "output_type": "stream",
     "text": [
      "🔍 chunk_00256.tsv: 100%|██████████| 469/469 [25:31<00:00,  3.27s/it]\n"
     ]
    },
    {
     "name": "stdout",
     "output_type": "stream",
     "text": [
      "✅ Finished: /Volumes/X10 Pro/predicted_chunks/tmp_chunks/chunk_00256.tsv → /Volumes/X10 Pro/predicted_chunks/chunk_00256.tsv\n"
     ]
    },
    {
     "name": "stderr",
     "output_type": "stream",
     "text": [
      "🔍 chunk_00670.tsv: 100%|██████████| 469/469 [27:39<00:00,  3.54s/it]\n"
     ]
    },
    {
     "name": "stdout",
     "output_type": "stream",
     "text": [
      "✅ Finished: /Volumes/X10 Pro/predicted_chunks/tmp_chunks/chunk_00670.tsv → /Volumes/X10 Pro/predicted_chunks/chunk_00670.tsv\n"
     ]
    },
    {
     "name": "stderr",
     "output_type": "stream",
     "text": [
      "🔍 chunk_00462.tsv: 100%|██████████| 469/469 [27:56<00:00,  3.57s/it]\n"
     ]
    },
    {
     "name": "stdout",
     "output_type": "stream",
     "text": [
      "✅ Finished: /Volumes/X10 Pro/predicted_chunks/tmp_chunks/chunk_00462.tsv → /Volumes/X10 Pro/predicted_chunks/chunk_00462.tsv\n"
     ]
    },
    {
     "name": "stderr",
     "output_type": "stream",
     "text": [
      "🔍 chunk_00048.tsv: 100%|██████████| 469/469 [25:13<00:00,  3.23s/it]\n",
      "🔍 chunk_00671.tsv:  37%|███▋      | 174/469 [09:43<16:06,  3.28s/it]"
     ]
    },
    {
     "name": "stdout",
     "output_type": "stream",
     "text": [
      "✅ Finished: /Volumes/X10 Pro/predicted_chunks/tmp_chunks/chunk_00048.tsv → /Volumes/X10 Pro/predicted_chunks/chunk_00048.tsv\n"
     ]
    },
    {
     "name": "stderr",
     "output_type": "stream",
     "text": [
      "🔍 chunk_00257.tsv: 100%|██████████| 469/469 [25:07<00:00,  3.21s/it]\n"
     ]
    },
    {
     "name": "stdout",
     "output_type": "stream",
     "text": [
      "✅ Finished: /Volumes/X10 Pro/predicted_chunks/tmp_chunks/chunk_00257.tsv → /Volumes/X10 Pro/predicted_chunks/chunk_00257.tsv\n"
     ]
    },
    {
     "name": "stderr",
     "output_type": "stream",
     "text": [
      "🔍 chunk_00671.tsv: 100%|██████████| 469/469 [27:06<00:00,  3.47s/it]\n"
     ]
    },
    {
     "name": "stdout",
     "output_type": "stream",
     "text": [
      "✅ Finished: /Volumes/X10 Pro/predicted_chunks/tmp_chunks/chunk_00671.tsv → /Volumes/X10 Pro/predicted_chunks/chunk_00671.tsv\n"
     ]
    },
    {
     "name": "stderr",
     "output_type": "stream",
     "text": [
      "🔍 chunk_00463.tsv: 100%|██████████| 469/469 [26:59<00:00,  3.45s/it]\n",
      "🔍 chunk_00258.tsv:  75%|███████▍  | 351/469 [18:13<06:14,  3.18s/it]"
     ]
    },
    {
     "name": "stdout",
     "output_type": "stream",
     "text": [
      "✅ Finished: /Volumes/X10 Pro/predicted_chunks/tmp_chunks/chunk_00463.tsv → /Volumes/X10 Pro/predicted_chunks/chunk_00463.tsv\n"
     ]
    },
    {
     "name": "stderr",
     "output_type": "stream",
     "text": [
      "🔍 chunk_00049.tsv: 100%|██████████| 469/469 [25:18<00:00,  3.24s/it]\n"
     ]
    },
    {
     "name": "stdout",
     "output_type": "stream",
     "text": [
      "✅ Finished: /Volumes/X10 Pro/predicted_chunks/tmp_chunks/chunk_00049.tsv → /Volumes/X10 Pro/predicted_chunks/chunk_00049.tsv\n"
     ]
    },
    {
     "name": "stderr",
     "output_type": "stream",
     "text": [
      "🔍 chunk_00258.tsv: 100%|██████████| 469/469 [24:19<00:00,  3.11s/it]\n",
      "🔍 chunk_00050.tsv:  23%|██▎       | 110/469 [05:52<19:40,  3.29s/it]"
     ]
    },
    {
     "name": "stdout",
     "output_type": "stream",
     "text": [
      "✅ Finished: /Volumes/X10 Pro/predicted_chunks/tmp_chunks/chunk_00258.tsv → /Volumes/X10 Pro/predicted_chunks/chunk_00258.tsv\n"
     ]
    },
    {
     "name": "stderr",
     "output_type": "stream",
     "text": [
      "🔍 chunk_00672.tsv: 100%|██████████| 469/469 [25:18<00:00,  3.24s/it]\n"
     ]
    },
    {
     "name": "stdout",
     "output_type": "stream",
     "text": [
      "✅ Finished: /Volumes/X10 Pro/predicted_chunks/tmp_chunks/chunk_00672.tsv → /Volumes/X10 Pro/predicted_chunks/chunk_00672.tsv\n"
     ]
    },
    {
     "name": "stderr",
     "output_type": "stream",
     "text": [
      "🔍 chunk_00050.tsv: 100%|██████████| 469/469 [24:42<00:00,  3.16s/it]\n"
     ]
    },
    {
     "name": "stdout",
     "output_type": "stream",
     "text": [
      "✅ Finished: /Volumes/X10 Pro/predicted_chunks/tmp_chunks/chunk_00050.tsv → /Volumes/X10 Pro/predicted_chunks/chunk_00050.tsv\n"
     ]
    },
    {
     "name": "stderr",
     "output_type": "stream",
     "text": [
      "🔍 chunk_00464.tsv: 100%|██████████| 469/469 [26:54<00:00,  3.44s/it]\n"
     ]
    },
    {
     "name": "stdout",
     "output_type": "stream",
     "text": [
      "✅ Finished: /Volumes/X10 Pro/predicted_chunks/tmp_chunks/chunk_00464.tsv → /Volumes/X10 Pro/predicted_chunks/chunk_00464.tsv\n"
     ]
    },
    {
     "name": "stderr",
     "output_type": "stream",
     "text": [
      "🔍 chunk_00259.tsv: 100%|██████████| 469/469 [24:17<00:00,  3.11s/it]\n"
     ]
    },
    {
     "name": "stdout",
     "output_type": "stream",
     "text": [
      "✅ Finished: /Volumes/X10 Pro/predicted_chunks/tmp_chunks/chunk_00259.tsv → /Volumes/X10 Pro/predicted_chunks/chunk_00259.tsv\n"
     ]
    },
    {
     "name": "stderr",
     "output_type": "stream",
     "text": [
      "🔍 chunk_00673.tsv: 100%|██████████| 469/469 [25:44<00:00,  3.29s/it]\n",
      "🔍 chunk_00051.tsv:  76%|███████▋  | 358/469 [18:23<06:22,  3.45s/it]"
     ]
    },
    {
     "name": "stdout",
     "output_type": "stream",
     "text": [
      "✅ Finished: /Volumes/X10 Pro/predicted_chunks/tmp_chunks/chunk_00673.tsv → /Volumes/X10 Pro/predicted_chunks/chunk_00673.tsv\n"
     ]
    },
    {
     "name": "stderr",
     "output_type": "stream",
     "text": [
      "🔍 chunk_00051.tsv: 100%|██████████| 469/469 [24:48<00:00,  3.17s/it]\n"
     ]
    },
    {
     "name": "stdout",
     "output_type": "stream",
     "text": [
      "✅ Finished: /Volumes/X10 Pro/predicted_chunks/tmp_chunks/chunk_00051.tsv → /Volumes/X10 Pro/predicted_chunks/chunk_00051.tsv\n"
     ]
    },
    {
     "name": "stderr",
     "output_type": "stream",
     "text": [
      "🔍 chunk_00465.tsv: 100%|██████████| 469/469 [28:21<00:00,  3.63s/it]\n",
      "🔍 chunk_00674.tsv:  39%|███▉      | 184/469 [11:55<25:32,  5.38s/it]"
     ]
    },
    {
     "name": "stdout",
     "output_type": "stream",
     "text": [
      "✅ Finished: /Volumes/X10 Pro/predicted_chunks/tmp_chunks/chunk_00465.tsv → /Volumes/X10 Pro/predicted_chunks/chunk_00465.tsv\n"
     ]
    },
    {
     "name": "stderr",
     "output_type": "stream",
     "text": [
      "🔍 chunk_00260.tsv: 100%|██████████| 469/469 [26:50<00:00,  3.43s/it]\n"
     ]
    },
    {
     "name": "stdout",
     "output_type": "stream",
     "text": [
      "✅ Finished: /Volumes/X10 Pro/predicted_chunks/tmp_chunks/chunk_00260.tsv → /Volumes/X10 Pro/predicted_chunks/chunk_00260.tsv\n"
     ]
    },
    {
     "name": "stderr",
     "output_type": "stream",
     "text": [
      "🔍 chunk_00674.tsv: 100%|██████████| 469/469 [34:40<00:00,  4.44s/it]\n"
     ]
    },
    {
     "name": "stdout",
     "output_type": "stream",
     "text": [
      "✅ Finished: /Volumes/X10 Pro/predicted_chunks/tmp_chunks/chunk_00674.tsv → /Volumes/X10 Pro/predicted_chunks/chunk_00674.tsv\n"
     ]
    },
    {
     "name": "stderr",
     "output_type": "stream",
     "text": [
      "🔍 chunk_00052.tsv: 100%|██████████| 469/469 [34:06<00:00,  4.36s/it]\n"
     ]
    },
    {
     "name": "stdout",
     "output_type": "stream",
     "text": [
      "✅ Finished: /Volumes/X10 Pro/predicted_chunks/tmp_chunks/chunk_00052.tsv → /Volumes/X10 Pro/predicted_chunks/chunk_00052.tsv\n"
     ]
    },
    {
     "name": "stderr",
     "output_type": "stream",
     "text": [
      "🔍 chunk_00261.tsv: 100%|██████████| 469/469 [34:54<00:00,  4.47s/it]\n"
     ]
    },
    {
     "name": "stdout",
     "output_type": "stream",
     "text": [
      "✅ Finished: /Volumes/X10 Pro/predicted_chunks/tmp_chunks/chunk_00261.tsv → /Volumes/X10 Pro/predicted_chunks/chunk_00261.tsv\n"
     ]
    },
    {
     "name": "stderr",
     "output_type": "stream",
     "text": [
      "🔍 chunk_00466.tsv: 100%|██████████| 469/469 [38:15<00:00,  4.90s/it]\n"
     ]
    },
    {
     "name": "stdout",
     "output_type": "stream",
     "text": [
      "✅ Finished: /Volumes/X10 Pro/predicted_chunks/tmp_chunks/chunk_00466.tsv → /Volumes/X10 Pro/predicted_chunks/chunk_00466.tsv\n"
     ]
    },
    {
     "name": "stderr",
     "output_type": "stream",
     "text": [
      "🔍 chunk_00675.tsv: 100%|██████████| 469/469 [35:40<00:00,  4.56s/it]\n"
     ]
    },
    {
     "name": "stdout",
     "output_type": "stream",
     "text": [
      "✅ Finished: /Volumes/X10 Pro/predicted_chunks/tmp_chunks/chunk_00675.tsv → /Volumes/X10 Pro/predicted_chunks/chunk_00675.tsv\n"
     ]
    },
    {
     "name": "stderr",
     "output_type": "stream",
     "text": [
      "🔍 chunk_00053.tsv: 100%|██████████| 469/469 [35:04<00:00,  4.49s/it]\n"
     ]
    },
    {
     "name": "stdout",
     "output_type": "stream",
     "text": [
      "✅ Finished: /Volumes/X10 Pro/predicted_chunks/tmp_chunks/chunk_00053.tsv → /Volumes/X10 Pro/predicted_chunks/chunk_00053.tsv\n"
     ]
    },
    {
     "name": "stderr",
     "output_type": "stream",
     "text": [
      "🔍 chunk_00262.tsv: 100%|██████████| 469/469 [36:08<00:00,  4.62s/it]\n",
      "🔍 chunk_00676.tsv:  38%|███▊      | 176/469 [14:37<25:15,  5.17s/it]"
     ]
    },
    {
     "name": "stdout",
     "output_type": "stream",
     "text": [
      "✅ Finished: /Volumes/X10 Pro/predicted_chunks/tmp_chunks/chunk_00262.tsv → /Volumes/X10 Pro/predicted_chunks/chunk_00262.tsv\n"
     ]
    },
    {
     "name": "stderr",
     "output_type": "stream",
     "text": [
      "🔍 chunk_00467.tsv: 100%|██████████| 469/469 [38:16<00:00,  4.90s/it]\n"
     ]
    },
    {
     "name": "stdout",
     "output_type": "stream",
     "text": [
      "✅ Finished: /Volumes/X10 Pro/predicted_chunks/tmp_chunks/chunk_00467.tsv → /Volumes/X10 Pro/predicted_chunks/chunk_00467.tsv\n"
     ]
    },
    {
     "name": "stderr",
     "output_type": "stream",
     "text": [
      "🔍 chunk_00676.tsv: 100%|██████████| 469/469 [38:36<00:00,  4.94s/it]\n"
     ]
    },
    {
     "name": "stdout",
     "output_type": "stream",
     "text": [
      "✅ Finished: /Volumes/X10 Pro/predicted_chunks/tmp_chunks/chunk_00676.tsv → /Volumes/X10 Pro/predicted_chunks/chunk_00676.tsv\n"
     ]
    },
    {
     "name": "stderr",
     "output_type": "stream",
     "text": [
      "🔍 chunk_00054.tsv: 100%|██████████| 469/469 [36:50<00:00,  4.71s/it]\n"
     ]
    },
    {
     "name": "stdout",
     "output_type": "stream",
     "text": [
      "✅ Finished: /Volumes/X10 Pro/predicted_chunks/tmp_chunks/chunk_00054.tsv → /Volumes/X10 Pro/predicted_chunks/chunk_00054.tsv\n"
     ]
    },
    {
     "name": "stderr",
     "output_type": "stream",
     "text": [
      "🔍 chunk_00263.tsv: 100%|██████████| 469/469 [36:08<00:00,  4.62s/it]\n"
     ]
    },
    {
     "name": "stdout",
     "output_type": "stream",
     "text": [
      "✅ Finished: /Volumes/X10 Pro/predicted_chunks/tmp_chunks/chunk_00263.tsv → /Volumes/X10 Pro/predicted_chunks/chunk_00263.tsv\n"
     ]
    },
    {
     "name": "stderr",
     "output_type": "stream",
     "text": [
      "🔍 chunk_00468.tsv: 100%|██████████| 469/469 [38:14<00:00,  4.89s/it]\n"
     ]
    },
    {
     "name": "stdout",
     "output_type": "stream",
     "text": [
      "✅ Finished: /Volumes/X10 Pro/predicted_chunks/tmp_chunks/chunk_00468.tsv → /Volumes/X10 Pro/predicted_chunks/chunk_00468.tsv\n"
     ]
    },
    {
     "name": "stderr",
     "output_type": "stream",
     "text": [
      "🔍 chunk_00677.tsv: 100%|██████████| 469/469 [31:06<00:00,  3.98s/it]\n"
     ]
    },
    {
     "name": "stdout",
     "output_type": "stream",
     "text": [
      "✅ Finished: /Volumes/X10 Pro/predicted_chunks/tmp_chunks/chunk_00677.tsv → /Volumes/X10 Pro/predicted_chunks/chunk_00677.tsv\n"
     ]
    },
    {
     "name": "stderr",
     "output_type": "stream",
     "text": [
      "🔍 chunk_00055.tsv: 100%|██████████| 469/469 [28:44<00:00,  3.68s/it]\n"
     ]
    },
    {
     "name": "stdout",
     "output_type": "stream",
     "text": [
      "✅ Finished: /Volumes/X10 Pro/predicted_chunks/tmp_chunks/chunk_00055.tsv → /Volumes/X10 Pro/predicted_chunks/chunk_00055.tsv\n"
     ]
    },
    {
     "name": "stderr",
     "output_type": "stream",
     "text": [
      "🔍 chunk_00264.tsv: 100%|██████████| 469/469 [25:44<00:00,  3.29s/it]\n"
     ]
    },
    {
     "name": "stdout",
     "output_type": "stream",
     "text": [
      "✅ Finished: /Volumes/X10 Pro/predicted_chunks/tmp_chunks/chunk_00264.tsv → /Volumes/X10 Pro/predicted_chunks/chunk_00264.tsv\n"
     ]
    },
    {
     "name": "stderr",
     "output_type": "stream",
     "text": [
      "🔍 chunk_00469.tsv: 100%|██████████| 469/469 [24:53<00:00,  3.18s/it]\n",
      "🔍 chunk_00678.tsv:  46%|████▋     | 217/469 [11:34<13:21,  3.18s/it]"
     ]
    },
    {
     "name": "stdout",
     "output_type": "stream",
     "text": [
      "✅ Finished: /Volumes/X10 Pro/predicted_chunks/tmp_chunks/chunk_00469.tsv → /Volumes/X10 Pro/predicted_chunks/chunk_00469.tsv\n"
     ]
    },
    {
     "name": "stderr",
     "output_type": "stream",
     "text": [
      "🔍 chunk_00056.tsv: 100%|██████████| 469/469 [25:18<00:00,  3.24s/it]\n"
     ]
    },
    {
     "name": "stdout",
     "output_type": "stream",
     "text": [
      "✅ Finished: /Volumes/X10 Pro/predicted_chunks/tmp_chunks/chunk_00056.tsv → /Volumes/X10 Pro/predicted_chunks/chunk_00056.tsv\n"
     ]
    },
    {
     "name": "stderr",
     "output_type": "stream",
     "text": [
      "🔍 chunk_00678.tsv: 100%|██████████| 469/469 [26:44<00:00,  3.42s/it]\n"
     ]
    },
    {
     "name": "stdout",
     "output_type": "stream",
     "text": [
      "✅ Finished: /Volumes/X10 Pro/predicted_chunks/tmp_chunks/chunk_00678.tsv → /Volumes/X10 Pro/predicted_chunks/chunk_00678.tsv\n"
     ]
    },
    {
     "name": "stderr",
     "output_type": "stream",
     "text": [
      "🔍 chunk_00265.tsv: 100%|██████████| 469/469 [26:44<00:00,  3.42s/it]\n"
     ]
    },
    {
     "name": "stdout",
     "output_type": "stream",
     "text": [
      "✅ Finished: /Volumes/X10 Pro/predicted_chunks/tmp_chunks/chunk_00265.tsv → /Volumes/X10 Pro/predicted_chunks/chunk_00265.tsv\n"
     ]
    },
    {
     "name": "stderr",
     "output_type": "stream",
     "text": [
      "🔍 chunk_00470.tsv: 100%|██████████| 469/469 [29:11<00:00,  3.74s/it]\n"
     ]
    },
    {
     "name": "stdout",
     "output_type": "stream",
     "text": [
      "✅ Finished: /Volumes/X10 Pro/predicted_chunks/tmp_chunks/chunk_00470.tsv → /Volumes/X10 Pro/predicted_chunks/chunk_00470.tsv\n"
     ]
    },
    {
     "name": "stderr",
     "output_type": "stream",
     "text": [
      "🔍 chunk_00057.tsv: 100%|██████████| 469/469 [28:25<00:00,  3.64s/it]\n"
     ]
    },
    {
     "name": "stdout",
     "output_type": "stream",
     "text": [
      "✅ Finished: /Volumes/X10 Pro/predicted_chunks/tmp_chunks/chunk_00057.tsv → /Volumes/X10 Pro/predicted_chunks/chunk_00057.tsv\n"
     ]
    },
    {
     "name": "stderr",
     "output_type": "stream",
     "text": [
      "🔍 chunk_00679.tsv: 100%|██████████| 469/469 [29:15<00:00,  3.74s/it]\n"
     ]
    },
    {
     "name": "stdout",
     "output_type": "stream",
     "text": [
      "✅ Finished: /Volumes/X10 Pro/predicted_chunks/tmp_chunks/chunk_00679.tsv → /Volumes/X10 Pro/predicted_chunks/chunk_00679.tsv\n"
     ]
    },
    {
     "name": "stderr",
     "output_type": "stream",
     "text": [
      "🔍 chunk_00266.tsv: 100%|██████████| 469/469 [28:38<00:00,  3.66s/it]\n",
      "🔍 chunk_00680.tsv:  20%|██        | 95/469 [06:11<24:01,  3.85s/it]"
     ]
    },
    {
     "name": "stdout",
     "output_type": "stream",
     "text": [
      "✅ Finished: /Volumes/X10 Pro/predicted_chunks/tmp_chunks/chunk_00266.tsv → /Volumes/X10 Pro/predicted_chunks/chunk_00266.tsv\n"
     ]
    },
    {
     "name": "stderr",
     "output_type": "stream",
     "text": [
      "🔍 chunk_00471.tsv: 100%|██████████| 469/469 [30:54<00:00,  3.95s/it]\n"
     ]
    },
    {
     "name": "stdout",
     "output_type": "stream",
     "text": [
      "✅ Finished: /Volumes/X10 Pro/predicted_chunks/tmp_chunks/chunk_00471.tsv → /Volumes/X10 Pro/predicted_chunks/chunk_00471.tsv\n"
     ]
    },
    {
     "name": "stderr",
     "output_type": "stream",
     "text": [
      "🔍 chunk_00058.tsv: 100%|██████████| 469/469 [28:28<00:00,  3.64s/it]\n"
     ]
    },
    {
     "name": "stdout",
     "output_type": "stream",
     "text": [
      "✅ Finished: /Volumes/X10 Pro/predicted_chunks/tmp_chunks/chunk_00058.tsv → /Volumes/X10 Pro/predicted_chunks/chunk_00058.tsv\n"
     ]
    },
    {
     "name": "stderr",
     "output_type": "stream",
     "text": [
      "🔍 chunk_00680.tsv: 100%|██████████| 469/469 [30:42<00:00,  3.93s/it]\n"
     ]
    },
    {
     "name": "stdout",
     "output_type": "stream",
     "text": [
      "✅ Finished: /Volumes/X10 Pro/predicted_chunks/tmp_chunks/chunk_00680.tsv → /Volumes/X10 Pro/predicted_chunks/chunk_00680.tsv\n"
     ]
    },
    {
     "name": "stderr",
     "output_type": "stream",
     "text": [
      "🔍 chunk_00267.tsv: 100%|██████████| 469/469 [28:47<00:00,  3.68s/it]\n"
     ]
    },
    {
     "name": "stdout",
     "output_type": "stream",
     "text": [
      "✅ Finished: /Volumes/X10 Pro/predicted_chunks/tmp_chunks/chunk_00267.tsv → /Volumes/X10 Pro/predicted_chunks/chunk_00267.tsv\n"
     ]
    },
    {
     "name": "stderr",
     "output_type": "stream",
     "text": [
      "🔍 chunk_00472.tsv: 100%|██████████| 469/469 [30:19<00:00,  3.88s/it]\n"
     ]
    },
    {
     "name": "stdout",
     "output_type": "stream",
     "text": [
      "✅ Finished: /Volumes/X10 Pro/predicted_chunks/tmp_chunks/chunk_00472.tsv → /Volumes/X10 Pro/predicted_chunks/chunk_00472.tsv\n"
     ]
    },
    {
     "name": "stderr",
     "output_type": "stream",
     "text": [
      "🔍 chunk_00059.tsv: 100%|██████████| 469/469 [27:45<00:00,  3.55s/it]\n"
     ]
    },
    {
     "name": "stdout",
     "output_type": "stream",
     "text": [
      "✅ Finished: /Volumes/X10 Pro/predicted_chunks/tmp_chunks/chunk_00059.tsv → /Volumes/X10 Pro/predicted_chunks/chunk_00059.tsv\n"
     ]
    },
    {
     "name": "stderr",
     "output_type": "stream",
     "text": [
      "🔍 chunk_00681.tsv: 100%|██████████| 469/469 [29:36<00:00,  3.79s/it]\n"
     ]
    },
    {
     "name": "stdout",
     "output_type": "stream",
     "text": [
      "✅ Finished: /Volumes/X10 Pro/predicted_chunks/tmp_chunks/chunk_00681.tsv → /Volumes/X10 Pro/predicted_chunks/chunk_00681.tsv\n"
     ]
    },
    {
     "name": "stderr",
     "output_type": "stream",
     "text": [
      "🔍 chunk_00268.tsv: 100%|██████████| 469/469 [27:59<00:00,  3.58s/it]\n"
     ]
    },
    {
     "name": "stdout",
     "output_type": "stream",
     "text": [
      "✅ Finished: /Volumes/X10 Pro/predicted_chunks/tmp_chunks/chunk_00268.tsv → /Volumes/X10 Pro/predicted_chunks/chunk_00268.tsv\n"
     ]
    },
    {
     "name": "stderr",
     "output_type": "stream",
     "text": [
      "🔍 chunk_00473.tsv: 100%|██████████| 469/469 [29:06<00:00,  3.72s/it]\n"
     ]
    },
    {
     "name": "stdout",
     "output_type": "stream",
     "text": [
      "✅ Finished: /Volumes/X10 Pro/predicted_chunks/tmp_chunks/chunk_00473.tsv → /Volumes/X10 Pro/predicted_chunks/chunk_00473.tsv\n"
     ]
    },
    {
     "name": "stderr",
     "output_type": "stream",
     "text": [
      "🔍 chunk_00060.tsv: 100%|██████████| 469/469 [26:26<00:00,  3.38s/it]\n"
     ]
    },
    {
     "name": "stdout",
     "output_type": "stream",
     "text": [
      "✅ Finished: /Volumes/X10 Pro/predicted_chunks/tmp_chunks/chunk_00060.tsv → /Volumes/X10 Pro/predicted_chunks/chunk_00060.tsv\n"
     ]
    },
    {
     "name": "stderr",
     "output_type": "stream",
     "text": [
      "🔍 chunk_00682.tsv: 100%|██████████| 469/469 [28:20<00:00,  3.63s/it]\n",
      "🔍 chunk_00474.tsv:  48%|████▊     | 226/469 [13:30<15:05,  3.73s/it]"
     ]
    },
    {
     "name": "stdout",
     "output_type": "stream",
     "text": [
      "✅ Finished: /Volumes/X10 Pro/predicted_chunks/tmp_chunks/chunk_00682.tsv → /Volumes/X10 Pro/predicted_chunks/chunk_00682.tsv\n"
     ]
    },
    {
     "name": "stderr",
     "output_type": "stream",
     "text": [
      "🔍 chunk_00269.tsv: 100%|██████████| 469/469 [26:42<00:00,  3.42s/it]\n"
     ]
    },
    {
     "name": "stdout",
     "output_type": "stream",
     "text": [
      "✅ Finished: /Volumes/X10 Pro/predicted_chunks/tmp_chunks/chunk_00269.tsv → /Volumes/X10 Pro/predicted_chunks/chunk_00269.tsv\n"
     ]
    },
    {
     "name": "stderr",
     "output_type": "stream",
     "text": [
      "🔍 chunk_00474.tsv: 100%|██████████| 469/469 [28:06<00:00,  3.60s/it]\n",
      "🔍 chunk_00061.tsv:  82%|████████▏ | 385/469 [21:41<05:22,  3.84s/it]"
     ]
    },
    {
     "name": "stdout",
     "output_type": "stream",
     "text": [
      "✅ Finished: /Volumes/X10 Pro/predicted_chunks/tmp_chunks/chunk_00474.tsv → /Volumes/X10 Pro/predicted_chunks/chunk_00474.tsv\n"
     ]
    },
    {
     "name": "stderr",
     "output_type": "stream",
     "text": [
      "🔍 chunk_00061.tsv: 100%|██████████| 469/469 [26:31<00:00,  3.39s/it]\n",
      "🔍 chunk_00683.tsv:  68%|██████▊   | 320/469 [19:23<09:08,  3.68s/it]"
     ]
    },
    {
     "name": "stdout",
     "output_type": "stream",
     "text": [
      "✅ Finished: /Volumes/X10 Pro/predicted_chunks/tmp_chunks/chunk_00061.tsv → /Volumes/X10 Pro/predicted_chunks/chunk_00061.tsv\n"
     ]
    },
    {
     "name": "stderr",
     "output_type": "stream",
     "text": [
      "🔍 chunk_00270.tsv: 100%|██████████| 469/469 [26:11<00:00,  3.35s/it]\n"
     ]
    },
    {
     "name": "stdout",
     "output_type": "stream",
     "text": [
      "✅ Finished: /Volumes/X10 Pro/predicted_chunks/tmp_chunks/chunk_00270.tsv → /Volumes/X10 Pro/predicted_chunks/chunk_00270.tsv\n"
     ]
    },
    {
     "name": "stderr",
     "output_type": "stream",
     "text": [
      "🔍 chunk_00683.tsv: 100%|██████████| 469/469 [28:18<00:00,  3.62s/it]\n"
     ]
    },
    {
     "name": "stdout",
     "output_type": "stream",
     "text": [
      "✅ Finished: /Volumes/X10 Pro/predicted_chunks/tmp_chunks/chunk_00683.tsv → /Volumes/X10 Pro/predicted_chunks/chunk_00683.tsv\n"
     ]
    },
    {
     "name": "stderr",
     "output_type": "stream",
     "text": [
      "🔍 chunk_00475.tsv: 100%|██████████| 469/469 [28:27<00:00,  3.64s/it]\n",
      "🔍 chunk_00271.tsv:  58%|█████▊    | 272/469 [15:48<15:48,  4.81s/it]"
     ]
    },
    {
     "name": "stdout",
     "output_type": "stream",
     "text": [
      "✅ Finished: /Volumes/X10 Pro/predicted_chunks/tmp_chunks/chunk_00475.tsv → /Volumes/X10 Pro/predicted_chunks/chunk_00475.tsv\n"
     ]
    },
    {
     "name": "stderr",
     "output_type": "stream",
     "text": [
      "🔍 chunk_00062.tsv: 100%|██████████| 469/469 [27:12<00:00,  3.48s/it]\n"
     ]
    },
    {
     "name": "stdout",
     "output_type": "stream",
     "text": [
      "✅ Finished: /Volumes/X10 Pro/predicted_chunks/tmp_chunks/chunk_00062.tsv → /Volumes/X10 Pro/predicted_chunks/chunk_00062.tsv\n"
     ]
    },
    {
     "name": "stderr",
     "output_type": "stream",
     "text": [
      "🔍 chunk_00271.tsv: 100%|██████████| 469/469 [26:55<00:00,  3.45s/it]\n"
     ]
    },
    {
     "name": "stdout",
     "output_type": "stream",
     "text": [
      "✅ Finished: /Volumes/X10 Pro/predicted_chunks/tmp_chunks/chunk_00271.tsv → /Volumes/X10 Pro/predicted_chunks/chunk_00271.tsv\n"
     ]
    },
    {
     "name": "stderr",
     "output_type": "stream",
     "text": [
      "🔍 chunk_00684.tsv: 100%|██████████| 469/469 [28:51<00:00,  3.69s/it]\n"
     ]
    },
    {
     "name": "stdout",
     "output_type": "stream",
     "text": [
      "✅ Finished: /Volumes/X10 Pro/predicted_chunks/tmp_chunks/chunk_00684.tsv → /Volumes/X10 Pro/predicted_chunks/chunk_00684.tsv\n"
     ]
    },
    {
     "name": "stderr",
     "output_type": "stream",
     "text": [
      "🔍 chunk_00476.tsv: 100%|██████████| 469/469 [28:14<00:00,  3.61s/it]\n"
     ]
    },
    {
     "name": "stdout",
     "output_type": "stream",
     "text": [
      "✅ Finished: /Volumes/X10 Pro/predicted_chunks/tmp_chunks/chunk_00476.tsv → /Volumes/X10 Pro/predicted_chunks/chunk_00476.tsv\n"
     ]
    },
    {
     "name": "stderr",
     "output_type": "stream",
     "text": [
      "🔍 chunk_00063.tsv: 100%|██████████| 469/469 [26:22<00:00,  3.37s/it]\n"
     ]
    },
    {
     "name": "stdout",
     "output_type": "stream",
     "text": [
      "✅ Finished: /Volumes/X10 Pro/predicted_chunks/tmp_chunks/chunk_00063.tsv → /Volumes/X10 Pro/predicted_chunks/chunk_00063.tsv\n"
     ]
    },
    {
     "name": "stderr",
     "output_type": "stream",
     "text": [
      "🔍 chunk_00272.tsv: 100%|██████████| 469/469 [26:46<00:00,  3.43s/it]\n"
     ]
    },
    {
     "name": "stdout",
     "output_type": "stream",
     "text": [
      "✅ Finished: /Volumes/X10 Pro/predicted_chunks/tmp_chunks/chunk_00272.tsv → /Volumes/X10 Pro/predicted_chunks/chunk_00272.tsv\n"
     ]
    },
    {
     "name": "stderr",
     "output_type": "stream",
     "text": [
      "🔍 chunk_00685.tsv: 100%|██████████| 469/469 [28:11<00:00,  3.61s/it]\n"
     ]
    },
    {
     "name": "stdout",
     "output_type": "stream",
     "text": [
      "✅ Finished: /Volumes/X10 Pro/predicted_chunks/tmp_chunks/chunk_00685.tsv → /Volumes/X10 Pro/predicted_chunks/chunk_00685.tsv\n"
     ]
    },
    {
     "name": "stderr",
     "output_type": "stream",
     "text": [
      "🔍 chunk_00477.tsv: 100%|██████████| 469/469 [28:16<00:00,  3.62s/it]\n"
     ]
    },
    {
     "name": "stdout",
     "output_type": "stream",
     "text": [
      "✅ Finished: /Volumes/X10 Pro/predicted_chunks/tmp_chunks/chunk_00477.tsv → /Volumes/X10 Pro/predicted_chunks/chunk_00477.tsv\n"
     ]
    },
    {
     "name": "stderr",
     "output_type": "stream",
     "text": [
      "🔍 chunk_00064.tsv: 100%|██████████| 469/469 [26:41<00:00,  3.42s/it]\n"
     ]
    },
    {
     "name": "stdout",
     "output_type": "stream",
     "text": [
      "✅ Finished: /Volumes/X10 Pro/predicted_chunks/tmp_chunks/chunk_00064.tsv → /Volumes/X10 Pro/predicted_chunks/chunk_00064.tsv\n"
     ]
    },
    {
     "name": "stderr",
     "output_type": "stream",
     "text": [
      "🔍 chunk_00273.tsv: 100%|██████████| 469/469 [26:27<00:00,  3.39s/it]\n"
     ]
    },
    {
     "name": "stdout",
     "output_type": "stream",
     "text": [
      "✅ Finished: /Volumes/X10 Pro/predicted_chunks/tmp_chunks/chunk_00273.tsv → /Volumes/X10 Pro/predicted_chunks/chunk_00273.tsv\n"
     ]
    },
    {
     "name": "stderr",
     "output_type": "stream",
     "text": [
      "🔍 chunk_00686.tsv: 100%|██████████| 469/469 [28:10<00:00,  3.60s/it]\n"
     ]
    },
    {
     "name": "stdout",
     "output_type": "stream",
     "text": [
      "✅ Finished: /Volumes/X10 Pro/predicted_chunks/tmp_chunks/chunk_00686.tsv → /Volumes/X10 Pro/predicted_chunks/chunk_00686.tsv\n"
     ]
    },
    {
     "name": "stderr",
     "output_type": "stream",
     "text": [
      "🔍 chunk_00065.tsv: 100%|██████████| 469/469 [26:55<00:00,  3.44s/it]\n"
     ]
    },
    {
     "name": "stdout",
     "output_type": "stream",
     "text": [
      "✅ Finished: /Volumes/X10 Pro/predicted_chunks/tmp_chunks/chunk_00065.tsv → /Volumes/X10 Pro/predicted_chunks/chunk_00065.tsv\n"
     ]
    },
    {
     "name": "stderr",
     "output_type": "stream",
     "text": [
      "🔍 chunk_00478.tsv: 100%|██████████| 469/469 [28:18<00:00,  3.62s/it]\n"
     ]
    },
    {
     "name": "stdout",
     "output_type": "stream",
     "text": [
      "✅ Finished: /Volumes/X10 Pro/predicted_chunks/tmp_chunks/chunk_00478.tsv → /Volumes/X10 Pro/predicted_chunks/chunk_00478.tsv\n"
     ]
    },
    {
     "name": "stderr",
     "output_type": "stream",
     "text": [
      "🔍 chunk_00274.tsv: 100%|██████████| 469/469 [26:35<00:00,  3.40s/it]\n"
     ]
    },
    {
     "name": "stdout",
     "output_type": "stream",
     "text": [
      "✅ Finished: /Volumes/X10 Pro/predicted_chunks/tmp_chunks/chunk_00274.tsv → /Volumes/X10 Pro/predicted_chunks/chunk_00274.tsv\n"
     ]
    },
    {
     "name": "stderr",
     "output_type": "stream",
     "text": [
      "🔍 chunk_00687.tsv: 100%|██████████| 469/469 [28:02<00:00,  3.59s/it]\n",
      "🔍 chunk_00479.tsv:  49%|████▉     | 229/469 [13:40<13:41,  3.42s/it]"
     ]
    },
    {
     "name": "stdout",
     "output_type": "stream",
     "text": [
      "✅ Finished: /Volumes/X10 Pro/predicted_chunks/tmp_chunks/chunk_00687.tsv → /Volumes/X10 Pro/predicted_chunks/chunk_00687.tsv\n"
     ]
    },
    {
     "name": "stderr",
     "output_type": "stream",
     "text": [
      "🔍 chunk_00066.tsv: 100%|██████████| 469/469 [26:05<00:00,  3.34s/it]\n"
     ]
    },
    {
     "name": "stdout",
     "output_type": "stream",
     "text": [
      "✅ Finished: /Volumes/X10 Pro/predicted_chunks/tmp_chunks/chunk_00066.tsv → /Volumes/X10 Pro/predicted_chunks/chunk_00066.tsv\n"
     ]
    },
    {
     "name": "stderr",
     "output_type": "stream",
     "text": [
      "🔍 chunk_00479.tsv: 100%|██████████| 469/469 [27:45<00:00,  3.55s/it]\n"
     ]
    },
    {
     "name": "stdout",
     "output_type": "stream",
     "text": [
      "✅ Finished: /Volumes/X10 Pro/predicted_chunks/tmp_chunks/chunk_00479.tsv → /Volumes/X10 Pro/predicted_chunks/chunk_00479.tsv\n"
     ]
    },
    {
     "name": "stderr",
     "output_type": "stream",
     "text": [
      "🔍 chunk_00275.tsv: 100%|██████████| 469/469 [26:25<00:00,  3.38s/it]\n"
     ]
    },
    {
     "name": "stdout",
     "output_type": "stream",
     "text": [
      "✅ Finished: /Volumes/X10 Pro/predicted_chunks/tmp_chunks/chunk_00275.tsv → /Volumes/X10 Pro/predicted_chunks/chunk_00275.tsv\n"
     ]
    },
    {
     "name": "stderr",
     "output_type": "stream",
     "text": [
      "🔍 chunk_00688.tsv: 100%|██████████| 469/469 [28:02<00:00,  3.59s/it]\n"
     ]
    },
    {
     "name": "stdout",
     "output_type": "stream",
     "text": [
      "✅ Finished: /Volumes/X10 Pro/predicted_chunks/tmp_chunks/chunk_00688.tsv → /Volumes/X10 Pro/predicted_chunks/chunk_00688.tsv\n"
     ]
    },
    {
     "name": "stderr",
     "output_type": "stream",
     "text": [
      "🔍 chunk_00067.tsv: 100%|██████████| 469/469 [27:32<00:00,  3.52s/it]\n",
      "🔍 chunk_00689.tsv:  37%|███▋      | 172/469 [10:34<19:42,  3.98s/it]"
     ]
    },
    {
     "name": "stdout",
     "output_type": "stream",
     "text": [
      "✅ Finished: /Volumes/X10 Pro/predicted_chunks/tmp_chunks/chunk_00067.tsv → /Volumes/X10 Pro/predicted_chunks/chunk_00067.tsv\n"
     ]
    },
    {
     "name": "stderr",
     "output_type": "stream",
     "text": [
      "🔍 chunk_00480.tsv: 100%|██████████| 469/469 [29:38<00:00,  3.79s/it]\n"
     ]
    },
    {
     "name": "stdout",
     "output_type": "stream",
     "text": [
      "✅ Finished: /Volumes/X10 Pro/predicted_chunks/tmp_chunks/chunk_00480.tsv → /Volumes/X10 Pro/predicted_chunks/chunk_00480.tsv\n"
     ]
    },
    {
     "name": "stderr",
     "output_type": "stream",
     "text": [
      "🔍 chunk_00276.tsv: 100%|██████████| 469/469 [27:16<00:00,  3.49s/it]\n",
      "🔍 chunk_00481.tsv:   7%|▋         | 35/469 [02:20<29:01,  4.01s/it]"
     ]
    },
    {
     "name": "stdout",
     "output_type": "stream",
     "text": [
      "✅ Finished: /Volumes/X10 Pro/predicted_chunks/tmp_chunks/chunk_00276.tsv → /Volumes/X10 Pro/predicted_chunks/chunk_00276.tsv\n"
     ]
    },
    {
     "name": "stderr",
     "output_type": "stream",
     "text": [
      "🔍 chunk_00689.tsv: 100%|██████████| 469/469 [29:01<00:00,  3.71s/it]\n",
      "🔍 chunk_00068.tsv:  65%|██████▍   | 303/469 [18:22<10:01,  3.63s/it]"
     ]
    },
    {
     "name": "stdout",
     "output_type": "stream",
     "text": [
      "✅ Finished: /Volumes/X10 Pro/predicted_chunks/tmp_chunks/chunk_00689.tsv → /Volumes/X10 Pro/predicted_chunks/chunk_00689.tsv\n"
     ]
    },
    {
     "name": "stderr",
     "output_type": "stream",
     "text": [
      "🔍 chunk_00068.tsv: 100%|██████████| 469/469 [27:50<00:00,  3.56s/it]\n"
     ]
    },
    {
     "name": "stdout",
     "output_type": "stream",
     "text": [
      "✅ Finished: /Volumes/X10 Pro/predicted_chunks/tmp_chunks/chunk_00068.tsv → /Volumes/X10 Pro/predicted_chunks/chunk_00068.tsv\n"
     ]
    },
    {
     "name": "stderr",
     "output_type": "stream",
     "text": [
      "🔍 chunk_00481.tsv: 100%|██████████| 469/469 [28:24<00:00,  3.63s/it]\n",
      "🔍 chunk_00069.tsv:  20%|█▉        | 92/469 [05:32<22:56,  3.65s/it]"
     ]
    },
    {
     "name": "stdout",
     "output_type": "stream",
     "text": [
      "✅ Finished: /Volumes/X10 Pro/predicted_chunks/tmp_chunks/chunk_00481.tsv → /Volumes/X10 Pro/predicted_chunks/chunk_00481.tsv\n"
     ]
    },
    {
     "name": "stderr",
     "output_type": "stream",
     "text": [
      "🔍 chunk_00277.tsv: 100%|██████████| 469/469 [26:46<00:00,  3.43s/it]\n",
      "🔍 chunk_00069.tsv:  23%|██▎       | 107/469 [06:18<18:34,  3.08s/it]"
     ]
    },
    {
     "name": "stdout",
     "output_type": "stream",
     "text": [
      "✅ Finished: /Volumes/X10 Pro/predicted_chunks/tmp_chunks/chunk_00277.tsv → /Volumes/X10 Pro/predicted_chunks/chunk_00277.tsv\n"
     ]
    },
    {
     "name": "stderr",
     "output_type": "stream",
     "text": [
      "🔍 chunk_00690.tsv: 100%|██████████| 469/469 [28:01<00:00,  3.59s/it]\n"
     ]
    },
    {
     "name": "stdout",
     "output_type": "stream",
     "text": [
      "✅ Finished: /Volumes/X10 Pro/predicted_chunks/tmp_chunks/chunk_00690.tsv → /Volumes/X10 Pro/predicted_chunks/chunk_00690.tsv\n"
     ]
    },
    {
     "name": "stderr",
     "output_type": "stream",
     "text": [
      "🔍 chunk_00069.tsv: 100%|██████████| 469/469 [26:40<00:00,  3.41s/it]\n"
     ]
    },
    {
     "name": "stdout",
     "output_type": "stream",
     "text": [
      "✅ Finished: /Volumes/X10 Pro/predicted_chunks/tmp_chunks/chunk_00069.tsv → /Volumes/X10 Pro/predicted_chunks/chunk_00069.tsv\n"
     ]
    },
    {
     "name": "stderr",
     "output_type": "stream",
     "text": [
      "🔍 chunk_00278.tsv: 100%|██████████| 469/469 [25:39<00:00,  3.28s/it]\n"
     ]
    },
    {
     "name": "stdout",
     "output_type": "stream",
     "text": [
      "✅ Finished: /Volumes/X10 Pro/predicted_chunks/tmp_chunks/chunk_00278.tsv → /Volumes/X10 Pro/predicted_chunks/chunk_00278.tsv\n"
     ]
    },
    {
     "name": "stderr",
     "output_type": "stream",
     "text": [
      "🔍 chunk_00482.tsv: 100%|██████████| 469/469 [27:28<00:00,  3.51s/it]\n"
     ]
    },
    {
     "name": "stdout",
     "output_type": "stream",
     "text": [
      "✅ Finished: /Volumes/X10 Pro/predicted_chunks/tmp_chunks/chunk_00482.tsv → /Volumes/X10 Pro/predicted_chunks/chunk_00482.tsv\n"
     ]
    },
    {
     "name": "stderr",
     "output_type": "stream",
     "text": [
      "🔍 chunk_00691.tsv: 100%|██████████| 469/469 [27:40<00:00,  3.54s/it]\n"
     ]
    },
    {
     "name": "stdout",
     "output_type": "stream",
     "text": [
      "✅ Finished: /Volumes/X10 Pro/predicted_chunks/tmp_chunks/chunk_00691.tsv → /Volumes/X10 Pro/predicted_chunks/chunk_00691.tsv\n"
     ]
    },
    {
     "name": "stderr",
     "output_type": "stream",
     "text": [
      "🔍 chunk_00070.tsv: 100%|██████████| 469/469 [26:33<00:00,  3.40s/it]\n",
      "🔍 chunk_00279.tsv:  81%|████████  | 380/469 [21:15<04:24,  2.97s/it]"
     ]
    },
    {
     "name": "stdout",
     "output_type": "stream",
     "text": [
      "✅ Finished: /Volumes/X10 Pro/predicted_chunks/tmp_chunks/chunk_00070.tsv → /Volumes/X10 Pro/predicted_chunks/chunk_00070.tsv\n"
     ]
    },
    {
     "name": "stderr",
     "output_type": "stream",
     "text": [
      "🔍 chunk_00279.tsv: 100%|██████████| 469/469 [25:59<00:00,  3.33s/it]\n"
     ]
    },
    {
     "name": "stdout",
     "output_type": "stream",
     "text": [
      "✅ Finished: /Volumes/X10 Pro/predicted_chunks/tmp_chunks/chunk_00279.tsv → /Volumes/X10 Pro/predicted_chunks/chunk_00279.tsv\n"
     ]
    },
    {
     "name": "stderr",
     "output_type": "stream",
     "text": [
      "🔍 chunk_00483.tsv: 100%|██████████| 469/469 [27:38<00:00,  3.54s/it]\n"
     ]
    },
    {
     "name": "stdout",
     "output_type": "stream",
     "text": [
      "✅ Finished: /Volumes/X10 Pro/predicted_chunks/tmp_chunks/chunk_00483.tsv → /Volumes/X10 Pro/predicted_chunks/chunk_00483.tsv\n"
     ]
    },
    {
     "name": "stderr",
     "output_type": "stream",
     "text": [
      "🔍 chunk_00692.tsv: 100%|██████████| 469/469 [27:45<00:00,  3.55s/it]\n"
     ]
    },
    {
     "name": "stdout",
     "output_type": "stream",
     "text": [
      "✅ Finished: /Volumes/X10 Pro/predicted_chunks/tmp_chunks/chunk_00692.tsv → /Volumes/X10 Pro/predicted_chunks/chunk_00692.tsv\n"
     ]
    },
    {
     "name": "stderr",
     "output_type": "stream",
     "text": [
      "🔍 chunk_00071.tsv: 100%|██████████| 469/469 [26:28<00:00,  3.39s/it]\n",
      "🔍 chunk_00484.tsv:  71%|███████▏  | 335/469 [19:00<07:31,  3.37s/it]"
     ]
    },
    {
     "name": "stdout",
     "output_type": "stream",
     "text": [
      "✅ Finished: /Volumes/X10 Pro/predicted_chunks/tmp_chunks/chunk_00071.tsv → /Volumes/X10 Pro/predicted_chunks/chunk_00071.tsv\n"
     ]
    },
    {
     "name": "stderr",
     "output_type": "stream",
     "text": [
      "🔍 chunk_00280.tsv: 100%|██████████| 469/469 [26:02<00:00,  3.33s/it]\n"
     ]
    },
    {
     "name": "stdout",
     "output_type": "stream",
     "text": [
      "✅ Finished: /Volumes/X10 Pro/predicted_chunks/tmp_chunks/chunk_00280.tsv → /Volumes/X10 Pro/predicted_chunks/chunk_00280.tsv\n"
     ]
    },
    {
     "name": "stderr",
     "output_type": "stream",
     "text": [
      "🔍 chunk_00484.tsv: 100%|██████████| 469/469 [26:42<00:00,  3.42s/it]\n"
     ]
    },
    {
     "name": "stdout",
     "output_type": "stream",
     "text": [
      "✅ Finished: /Volumes/X10 Pro/predicted_chunks/tmp_chunks/chunk_00484.tsv → /Volumes/X10 Pro/predicted_chunks/chunk_00484.tsv\n"
     ]
    },
    {
     "name": "stderr",
     "output_type": "stream",
     "text": [
      "🔍 chunk_00693.tsv: 100%|██████████| 469/469 [27:48<00:00,  3.56s/it]\n"
     ]
    },
    {
     "name": "stdout",
     "output_type": "stream",
     "text": [
      "✅ Finished: /Volumes/X10 Pro/predicted_chunks/tmp_chunks/chunk_00693.tsv → /Volumes/X10 Pro/predicted_chunks/chunk_00693.tsv\n"
     ]
    },
    {
     "name": "stderr",
     "output_type": "stream",
     "text": [
      "🔍 chunk_00072.tsv: 100%|██████████| 469/469 [26:29<00:00,  3.39s/it]\n",
      "🔍 chunk_00694.tsv:  16%|█▌        | 73/469 [04:22<24:59,  3.79s/it]"
     ]
    },
    {
     "name": "stdout",
     "output_type": "stream",
     "text": [
      "✅ Finished: /Volumes/X10 Pro/predicted_chunks/tmp_chunks/chunk_00072.tsv → /Volumes/X10 Pro/predicted_chunks/chunk_00072.tsv\n"
     ]
    },
    {
     "name": "stderr",
     "output_type": "stream",
     "text": [
      "🔍 chunk_00281.tsv: 100%|██████████| 469/469 [26:29<00:00,  3.39s/it]\n",
      "🔍 chunk_00694.tsv:  31%|███       | 145/469 [08:40<23:18,  4.32s/it]"
     ]
    },
    {
     "name": "stdout",
     "output_type": "stream",
     "text": [
      "✅ Finished: /Volumes/X10 Pro/predicted_chunks/tmp_chunks/chunk_00281.tsv → /Volumes/X10 Pro/predicted_chunks/chunk_00281.tsv\n"
     ]
    },
    {
     "name": "stderr",
     "output_type": "stream",
     "text": [
      "🔍 chunk_00485.tsv: 100%|██████████| 469/469 [28:21<00:00,  3.63s/it]\n",
      "🔍 chunk_00282.tsv:  20%|█▉        | 93/469 [05:12<20:38,  3.29s/it]]"
     ]
    },
    {
     "name": "stdout",
     "output_type": "stream",
     "text": [
      "✅ Finished: /Volumes/X10 Pro/predicted_chunks/tmp_chunks/chunk_00485.tsv → /Volumes/X10 Pro/predicted_chunks/chunk_00485.tsv\n"
     ]
    },
    {
     "name": "stderr",
     "output_type": "stream",
     "text": [
      "🔍 chunk_00694.tsv: 100%|██████████| 469/469 [27:47<00:00,  3.56s/it]\n",
      "🔍 chunk_00486.tsv:  50%|████▉     | 234/469 [13:49<13:33,  3.46s/it]"
     ]
    },
    {
     "name": "stdout",
     "output_type": "stream",
     "text": [
      "✅ Finished: /Volumes/X10 Pro/predicted_chunks/tmp_chunks/chunk_00694.tsv → /Volumes/X10 Pro/predicted_chunks/chunk_00694.tsv\n"
     ]
    },
    {
     "name": "stderr",
     "output_type": "stream",
     "text": [
      "🔍 chunk_00073.tsv: 100%|██████████| 469/469 [26:53<00:00,  3.44s/it]\n",
      "🔍 chunk_00486.tsv:  62%|██████▏   | 293/469 [17:19<11:58,  4.08s/it]"
     ]
    },
    {
     "name": "stdout",
     "output_type": "stream",
     "text": [
      "✅ Finished: /Volumes/X10 Pro/predicted_chunks/tmp_chunks/chunk_00073.tsv → /Volumes/X10 Pro/predicted_chunks/chunk_00073.tsv\n"
     ]
    },
    {
     "name": "stderr",
     "output_type": "stream",
     "text": [
      "🔍 chunk_00282.tsv: 100%|██████████| 469/469 [26:36<00:00,  3.40s/it]\n",
      "🔍 chunk_00486.tsv:  77%|███████▋  | 361/469 [21:22<05:43,  3.18s/it]"
     ]
    },
    {
     "name": "stdout",
     "output_type": "stream",
     "text": [
      "✅ Finished: /Volumes/X10 Pro/predicted_chunks/tmp_chunks/chunk_00282.tsv → /Volumes/X10 Pro/predicted_chunks/chunk_00282.tsv\n"
     ]
    },
    {
     "name": "stderr",
     "output_type": "stream",
     "text": [
      "🔍 chunk_00486.tsv: 100%|██████████| 469/469 [27:48<00:00,  3.56s/it]\n"
     ]
    },
    {
     "name": "stdout",
     "output_type": "stream",
     "text": [
      "✅ Finished: /Volumes/X10 Pro/predicted_chunks/tmp_chunks/chunk_00486.tsv → /Volumes/X10 Pro/predicted_chunks/chunk_00486.tsv\n"
     ]
    },
    {
     "name": "stderr",
     "output_type": "stream",
     "text": [
      "🔍 chunk_00695.tsv: 100%|██████████| 469/469 [27:42<00:00,  3.54s/it]\n",
      "🔍 chunk_00487.tsv:  50%|████▉     | 234/469 [13:43<11:11,  2.86s/it]"
     ]
    },
    {
     "name": "stdout",
     "output_type": "stream",
     "text": [
      "✅ Finished: /Volumes/X10 Pro/predicted_chunks/tmp_chunks/chunk_00695.tsv → /Volumes/X10 Pro/predicted_chunks/chunk_00695.tsv\n"
     ]
    },
    {
     "name": "stderr",
     "output_type": "stream",
     "text": [
      "🔍 chunk_00074.tsv: 100%|██████████| 469/469 [26:46<00:00,  3.42s/it]\n"
     ]
    },
    {
     "name": "stdout",
     "output_type": "stream",
     "text": [
      "✅ Finished: /Volumes/X10 Pro/predicted_chunks/tmp_chunks/chunk_00074.tsv → /Volumes/X10 Pro/predicted_chunks/chunk_00074.tsv\n"
     ]
    },
    {
     "name": "stderr",
     "output_type": "stream",
     "text": [
      "🔍 chunk_00283.tsv: 100%|██████████| 469/469 [27:03<00:00,  3.46s/it]\n",
      "🔍 chunk_00075.tsv:  17%|█▋        | 78/469 [04:16<22:21,  3.43s/it]"
     ]
    },
    {
     "name": "stdout",
     "output_type": "stream",
     "text": [
      "✅ Finished: /Volumes/X10 Pro/predicted_chunks/tmp_chunks/chunk_00283.tsv → /Volumes/X10 Pro/predicted_chunks/chunk_00283.tsv\n"
     ]
    },
    {
     "name": "stderr",
     "output_type": "stream",
     "text": [
      "🔍 chunk_00487.tsv: 100%|██████████| 469/469 [27:35<00:00,  3.53s/it]\n"
     ]
    },
    {
     "name": "stdout",
     "output_type": "stream",
     "text": [
      "✅ Finished: /Volumes/X10 Pro/predicted_chunks/tmp_chunks/chunk_00487.tsv → /Volumes/X10 Pro/predicted_chunks/chunk_00487.tsv\n"
     ]
    },
    {
     "name": "stderr",
     "output_type": "stream",
     "text": [
      "🔍 chunk_00696.tsv: 100%|██████████| 469/469 [27:30<00:00,  3.52s/it]\n"
     ]
    },
    {
     "name": "stdout",
     "output_type": "stream",
     "text": [
      "✅ Finished: /Volumes/X10 Pro/predicted_chunks/tmp_chunks/chunk_00696.tsv → /Volumes/X10 Pro/predicted_chunks/chunk_00696.tsv\n"
     ]
    },
    {
     "name": "stderr",
     "output_type": "stream",
     "text": [
      "🔍 chunk_00075.tsv: 100%|██████████| 469/469 [26:24<00:00,  3.38s/it]\n"
     ]
    },
    {
     "name": "stdout",
     "output_type": "stream",
     "text": [
      "✅ Finished: /Volumes/X10 Pro/predicted_chunks/tmp_chunks/chunk_00075.tsv → /Volumes/X10 Pro/predicted_chunks/chunk_00075.tsv\n"
     ]
    },
    {
     "name": "stderr",
     "output_type": "stream",
     "text": [
      "🔍 chunk_00284.tsv: 100%|██████████| 469/469 [26:19<00:00,  3.37s/it]\n"
     ]
    },
    {
     "name": "stdout",
     "output_type": "stream",
     "text": [
      "✅ Finished: /Volumes/X10 Pro/predicted_chunks/tmp_chunks/chunk_00284.tsv → /Volumes/X10 Pro/predicted_chunks/chunk_00284.tsv\n"
     ]
    },
    {
     "name": "stderr",
     "output_type": "stream",
     "text": [
      "🔍 chunk_00488.tsv: 100%|██████████| 469/469 [27:08<00:00,  3.47s/it]\n"
     ]
    },
    {
     "name": "stdout",
     "output_type": "stream",
     "text": [
      "✅ Finished: /Volumes/X10 Pro/predicted_chunks/tmp_chunks/chunk_00488.tsv → /Volumes/X10 Pro/predicted_chunks/chunk_00488.tsv\n"
     ]
    },
    {
     "name": "stderr",
     "output_type": "stream",
     "text": [
      "🔍 chunk_00697.tsv: 100%|██████████| 469/469 [27:15<00:00,  3.49s/it]\n"
     ]
    },
    {
     "name": "stdout",
     "output_type": "stream",
     "text": [
      "✅ Finished: /Volumes/X10 Pro/predicted_chunks/tmp_chunks/chunk_00697.tsv → /Volumes/X10 Pro/predicted_chunks/chunk_00697.tsv\n"
     ]
    },
    {
     "name": "stderr",
     "output_type": "stream",
     "text": [
      "🔍 chunk_00076.tsv: 100%|██████████| 469/469 [27:10<00:00,  3.48s/it]\n"
     ]
    },
    {
     "name": "stdout",
     "output_type": "stream",
     "text": [
      "✅ Finished: /Volumes/X10 Pro/predicted_chunks/tmp_chunks/chunk_00076.tsv → /Volumes/X10 Pro/predicted_chunks/chunk_00076.tsv\n"
     ]
    },
    {
     "name": "stderr",
     "output_type": "stream",
     "text": [
      "🔍 chunk_00285.tsv: 100%|██████████| 469/469 [26:31<00:00,  3.39s/it]\n"
     ]
    },
    {
     "name": "stdout",
     "output_type": "stream",
     "text": [
      "✅ Finished: /Volumes/X10 Pro/predicted_chunks/tmp_chunks/chunk_00285.tsv → /Volumes/X10 Pro/predicted_chunks/chunk_00285.tsv\n"
     ]
    },
    {
     "name": "stderr",
     "output_type": "stream",
     "text": [
      "🔍 chunk_00489.tsv: 100%|██████████| 469/469 [27:35<00:00,  3.53s/it]\n"
     ]
    },
    {
     "name": "stdout",
     "output_type": "stream",
     "text": [
      "✅ Finished: /Volumes/X10 Pro/predicted_chunks/tmp_chunks/chunk_00489.tsv → /Volumes/X10 Pro/predicted_chunks/chunk_00489.tsv\n"
     ]
    },
    {
     "name": "stderr",
     "output_type": "stream",
     "text": [
      "🔍 chunk_00698.tsv: 100%|██████████| 469/469 [27:12<00:00,  3.48s/it]\n"
     ]
    },
    {
     "name": "stdout",
     "output_type": "stream",
     "text": [
      "✅ Finished: /Volumes/X10 Pro/predicted_chunks/tmp_chunks/chunk_00698.tsv → /Volumes/X10 Pro/predicted_chunks/chunk_00698.tsv\n"
     ]
    },
    {
     "name": "stderr",
     "output_type": "stream",
     "text": [
      "🔍 chunk_00077.tsv: 100%|██████████| 469/469 [27:22<00:00,  3.50s/it]\n",
      "🔍 chunk_00490.tsv:  54%|█████▍    | 255/469 [14:53<09:12,  2.58s/it]"
     ]
    },
    {
     "name": "stdout",
     "output_type": "stream",
     "text": [
      "✅ Finished: /Volumes/X10 Pro/predicted_chunks/tmp_chunks/chunk_00077.tsv → /Volumes/X10 Pro/predicted_chunks/chunk_00077.tsv\n"
     ]
    },
    {
     "name": "stderr",
     "output_type": "stream",
     "text": [
      "🔍 chunk_00286.tsv: 100%|██████████| 469/469 [26:05<00:00,  3.34s/it]\n",
      "🔍 chunk_00078.tsv:   9%|▉         | 42/469 [02:16<23:24,  3.29s/it]"
     ]
    },
    {
     "name": "stdout",
     "output_type": "stream",
     "text": [
      "✅ Finished: /Volumes/X10 Pro/predicted_chunks/tmp_chunks/chunk_00286.tsv → /Volumes/X10 Pro/predicted_chunks/chunk_00286.tsv\n"
     ]
    },
    {
     "name": "stderr",
     "output_type": "stream",
     "text": [
      "🔍 chunk_00490.tsv: 100%|██████████| 469/469 [27:28<00:00,  3.51s/it]\n"
     ]
    },
    {
     "name": "stdout",
     "output_type": "stream",
     "text": [
      "✅ Finished: /Volumes/X10 Pro/predicted_chunks/tmp_chunks/chunk_00490.tsv → /Volumes/X10 Pro/predicted_chunks/chunk_00490.tsv\n"
     ]
    },
    {
     "name": "stderr",
     "output_type": "stream",
     "text": [
      "🔍 chunk_00699.tsv: 100%|██████████| 469/469 [27:43<00:00,  3.55s/it]\n",
      "🔍 chunk_00491.tsv:  49%|████▉     | 231/469 [13:37<14:28,  3.65s/it]"
     ]
    },
    {
     "name": "stdout",
     "output_type": "stream",
     "text": [
      "✅ Finished: /Volumes/X10 Pro/predicted_chunks/tmp_chunks/chunk_00699.tsv → /Volumes/X10 Pro/predicted_chunks/chunk_00699.tsv\n"
     ]
    },
    {
     "name": "stderr",
     "output_type": "stream",
     "text": [
      "🔍 chunk_00078.tsv: 100%|██████████| 469/469 [26:42<00:00,  3.42s/it]\n"
     ]
    },
    {
     "name": "stdout",
     "output_type": "stream",
     "text": [
      "✅ Finished: /Volumes/X10 Pro/predicted_chunks/tmp_chunks/chunk_00078.tsv → /Volumes/X10 Pro/predicted_chunks/chunk_00078.tsv\n"
     ]
    },
    {
     "name": "stderr",
     "output_type": "stream",
     "text": [
      "🔍 chunk_00287.tsv: 100%|██████████| 469/469 [26:49<00:00,  3.43s/it]\n"
     ]
    },
    {
     "name": "stdout",
     "output_type": "stream",
     "text": [
      "✅ Finished: /Volumes/X10 Pro/predicted_chunks/tmp_chunks/chunk_00287.tsv → /Volumes/X10 Pro/predicted_chunks/chunk_00287.tsv\n"
     ]
    },
    {
     "name": "stderr",
     "output_type": "stream",
     "text": [
      "🔍 chunk_00491.tsv: 100%|██████████| 469/469 [27:40<00:00,  3.54s/it]\n"
     ]
    },
    {
     "name": "stdout",
     "output_type": "stream",
     "text": [
      "✅ Finished: /Volumes/X10 Pro/predicted_chunks/tmp_chunks/chunk_00491.tsv → /Volumes/X10 Pro/predicted_chunks/chunk_00491.tsv\n"
     ]
    },
    {
     "name": "stderr",
     "output_type": "stream",
     "text": [
      "🔍 chunk_00700.tsv: 100%|██████████| 469/469 [26:59<00:00,  3.45s/it]\n"
     ]
    },
    {
     "name": "stdout",
     "output_type": "stream",
     "text": [
      "✅ Finished: /Volumes/X10 Pro/predicted_chunks/tmp_chunks/chunk_00700.tsv → /Volumes/X10 Pro/predicted_chunks/chunk_00700.tsv\n"
     ]
    },
    {
     "name": "stderr",
     "output_type": "stream",
     "text": [
      "🔍 chunk_00079.tsv: 100%|██████████| 469/469 [26:44<00:00,  3.42s/it]\n"
     ]
    },
    {
     "name": "stdout",
     "output_type": "stream",
     "text": [
      "✅ Finished: /Volumes/X10 Pro/predicted_chunks/tmp_chunks/chunk_00079.tsv → /Volumes/X10 Pro/predicted_chunks/chunk_00079.tsv\n"
     ]
    },
    {
     "name": "stderr",
     "output_type": "stream",
     "text": [
      "🔍 chunk_00288.tsv: 100%|██████████| 469/469 [26:33<00:00,  3.40s/it]\n"
     ]
    },
    {
     "name": "stdout",
     "output_type": "stream",
     "text": [
      "✅ Finished: /Volumes/X10 Pro/predicted_chunks/tmp_chunks/chunk_00288.tsv → /Volumes/X10 Pro/predicted_chunks/chunk_00288.tsv\n"
     ]
    },
    {
     "name": "stderr",
     "output_type": "stream",
     "text": [
      "🔍 chunk_00492.tsv: 100%|██████████| 469/469 [26:39<00:00,  3.41s/it]\n",
      "🔍 chunk_00289.tsv:  41%|████      | 191/469 [11:09<14:13,  3.07s/it]"
     ]
    },
    {
     "name": "stdout",
     "output_type": "stream",
     "text": [
      "✅ Finished: /Volumes/X10 Pro/predicted_chunks/tmp_chunks/chunk_00492.tsv → /Volumes/X10 Pro/predicted_chunks/chunk_00492.tsv\n"
     ]
    },
    {
     "name": "stderr",
     "output_type": "stream",
     "text": [
      "🔍 chunk_00701.tsv: 100%|██████████| 469/469 [27:18<00:00,  3.49s/it]\n"
     ]
    },
    {
     "name": "stdout",
     "output_type": "stream",
     "text": [
      "✅ Finished: /Volumes/X10 Pro/predicted_chunks/tmp_chunks/chunk_00701.tsv → /Volumes/X10 Pro/predicted_chunks/chunk_00701.tsv\n"
     ]
    },
    {
     "name": "stderr",
     "output_type": "stream",
     "text": [
      "🔍 chunk_00080.tsv: 100%|██████████| 469/469 [27:03<00:00,  3.46s/it]\n",
      "🔍 chunk_00493.tsv:  50%|█████     | 236/469 [13:37<11:10,  2.88s/it]"
     ]
    },
    {
     "name": "stdout",
     "output_type": "stream",
     "text": [
      "✅ Finished: /Volumes/X10 Pro/predicted_chunks/tmp_chunks/chunk_00080.tsv → /Volumes/X10 Pro/predicted_chunks/chunk_00080.tsv\n"
     ]
    },
    {
     "name": "stderr",
     "output_type": "stream",
     "text": [
      "🔍 chunk_00289.tsv: 100%|██████████| 469/469 [27:07<00:00,  3.47s/it]\n"
     ]
    },
    {
     "name": "stdout",
     "output_type": "stream",
     "text": [
      "✅ Finished: /Volumes/X10 Pro/predicted_chunks/tmp_chunks/chunk_00289.tsv → /Volumes/X10 Pro/predicted_chunks/chunk_00289.tsv\n"
     ]
    },
    {
     "name": "stderr",
     "output_type": "stream",
     "text": [
      "🔍 chunk_00493.tsv: 100%|██████████| 469/469 [27:02<00:00,  3.46s/it]\n",
      "🔍 chunk_00081.tsv:  50%|████▉     | 233/469 [13:22<12:23,  3.15s/it]"
     ]
    },
    {
     "name": "stdout",
     "output_type": "stream",
     "text": [
      "✅ Finished: /Volumes/X10 Pro/predicted_chunks/tmp_chunks/chunk_00493.tsv → /Volumes/X10 Pro/predicted_chunks/chunk_00493.tsv\n"
     ]
    },
    {
     "name": "stderr",
     "output_type": "stream",
     "text": [
      "🔍 chunk_00081.tsv: 100%|██████████| 469/469 [26:53<00:00,  3.44s/it]\n"
     ]
    },
    {
     "name": "stdout",
     "output_type": "stream",
     "text": [
      "✅ Finished: /Volumes/X10 Pro/predicted_chunks/tmp_chunks/chunk_00081.tsv → /Volumes/X10 Pro/predicted_chunks/chunk_00081.tsv\n"
     ]
    },
    {
     "name": "stderr",
     "output_type": "stream",
     "text": [
      "🔍 chunk_00702.tsv: 100%|██████████| 469/469 [27:24<00:00,  3.51s/it]\n",
      "🔍 chunk_00494.tsv:  52%|█████▏    | 243/469 [13:57<10:17,  2.73s/it]"
     ]
    },
    {
     "name": "stdout",
     "output_type": "stream",
     "text": [
      "✅ Finished: /Volumes/X10 Pro/predicted_chunks/tmp_chunks/chunk_00702.tsv → /Volumes/X10 Pro/predicted_chunks/chunk_00702.tsv\n"
     ]
    },
    {
     "name": "stderr",
     "output_type": "stream",
     "text": [
      "🔍 chunk_00290.tsv: 100%|██████████| 469/469 [26:24<00:00,  3.38s/it]\n"
     ]
    },
    {
     "name": "stdout",
     "output_type": "stream",
     "text": [
      "✅ Finished: /Volumes/X10 Pro/predicted_chunks/tmp_chunks/chunk_00290.tsv → /Volumes/X10 Pro/predicted_chunks/chunk_00290.tsv\n"
     ]
    },
    {
     "name": "stderr",
     "output_type": "stream",
     "text": [
      "🔍 chunk_00494.tsv: 100%|██████████| 469/469 [26:46<00:00,  3.43s/it]\n"
     ]
    },
    {
     "name": "stdout",
     "output_type": "stream",
     "text": [
      "✅ Finished: /Volumes/X10 Pro/predicted_chunks/tmp_chunks/chunk_00494.tsv → /Volumes/X10 Pro/predicted_chunks/chunk_00494.tsv\n"
     ]
    },
    {
     "name": "stderr",
     "output_type": "stream",
     "text": [
      "🔍 chunk_00082.tsv: 100%|██████████| 469/469 [27:06<00:00,  3.47s/it]\n"
     ]
    },
    {
     "name": "stdout",
     "output_type": "stream",
     "text": [
      "✅ Finished: /Volumes/X10 Pro/predicted_chunks/tmp_chunks/chunk_00082.tsv → /Volumes/X10 Pro/predicted_chunks/chunk_00082.tsv\n"
     ]
    },
    {
     "name": "stderr",
     "output_type": "stream",
     "text": [
      "🔍 chunk_00703.tsv: 100%|██████████| 469/469 [27:26<00:00,  3.51s/it]\n",
      "🔍 chunk_00495.tsv:  53%|█████▎    | 250/469 [14:36<12:46,  3.50s/it]"
     ]
    },
    {
     "name": "stdout",
     "output_type": "stream",
     "text": [
      "✅ Finished: /Volumes/X10 Pro/predicted_chunks/tmp_chunks/chunk_00703.tsv → /Volumes/X10 Pro/predicted_chunks/chunk_00703.tsv\n"
     ]
    },
    {
     "name": "stderr",
     "output_type": "stream",
     "text": [
      "🔍 chunk_00291.tsv: 100%|██████████| 469/469 [27:11<00:00,  3.48s/it]\n"
     ]
    },
    {
     "name": "stdout",
     "output_type": "stream",
     "text": [
      "✅ Finished: /Volumes/X10 Pro/predicted_chunks/tmp_chunks/chunk_00291.tsv → /Volumes/X10 Pro/predicted_chunks/chunk_00291.tsv\n"
     ]
    },
    {
     "name": "stderr",
     "output_type": "stream",
     "text": [
      "🔍 chunk_00495.tsv: 100%|██████████| 469/469 [26:51<00:00,  3.44s/it]\n"
     ]
    },
    {
     "name": "stdout",
     "output_type": "stream",
     "text": [
      "✅ Finished: /Volumes/X10 Pro/predicted_chunks/tmp_chunks/chunk_00495.tsv → /Volumes/X10 Pro/predicted_chunks/chunk_00495.tsv\n"
     ]
    },
    {
     "name": "stderr",
     "output_type": "stream",
     "text": [
      "🔍 chunk_00083.tsv: 100%|██████████| 469/469 [26:54<00:00,  3.44s/it]\n",
      "🔍 chunk_00292.tsv:  93%|█████████▎| 435/469 [24:58<01:46,  3.13s/it]"
     ]
    },
    {
     "name": "stdout",
     "output_type": "stream",
     "text": [
      "✅ Finished: /Volumes/X10 Pro/predicted_chunks/tmp_chunks/chunk_00083.tsv → /Volumes/X10 Pro/predicted_chunks/chunk_00083.tsv\n"
     ]
    },
    {
     "name": "stderr",
     "output_type": "stream",
     "text": [
      "🔍 chunk_00704.tsv: 100%|██████████| 469/469 [26:43<00:00,  3.42s/it]\n"
     ]
    },
    {
     "name": "stdout",
     "output_type": "stream",
     "text": [
      "✅ Finished: /Volumes/X10 Pro/predicted_chunks/tmp_chunks/chunk_00704.tsv → /Volumes/X10 Pro/predicted_chunks/chunk_00704.tsv\n"
     ]
    },
    {
     "name": "stderr",
     "output_type": "stream",
     "text": [
      "🔍 chunk_00292.tsv: 100%|██████████| 469/469 [26:49<00:00,  3.43s/it]\n"
     ]
    },
    {
     "name": "stdout",
     "output_type": "stream",
     "text": [
      "✅ Finished: /Volumes/X10 Pro/predicted_chunks/tmp_chunks/chunk_00292.tsv → /Volumes/X10 Pro/predicted_chunks/chunk_00292.tsv\n"
     ]
    },
    {
     "name": "stderr",
     "output_type": "stream",
     "text": [
      "🔍 chunk_00496.tsv: 100%|██████████| 469/469 [26:58<00:00,  3.45s/it]\n"
     ]
    },
    {
     "name": "stdout",
     "output_type": "stream",
     "text": [
      "✅ Finished: /Volumes/X10 Pro/predicted_chunks/tmp_chunks/chunk_00496.tsv → /Volumes/X10 Pro/predicted_chunks/chunk_00496.tsv\n"
     ]
    },
    {
     "name": "stderr",
     "output_type": "stream",
     "text": [
      "🔍 chunk_00084.tsv: 100%|██████████| 469/469 [26:11<00:00,  3.35s/it]\n",
      "🔍 chunk_00293.tsv:  90%|█████████ | 423/469 [24:21<02:29,  3.26s/it]"
     ]
    },
    {
     "name": "stdout",
     "output_type": "stream",
     "text": [
      "✅ Finished: /Volumes/X10 Pro/predicted_chunks/tmp_chunks/chunk_00084.tsv → /Volumes/X10 Pro/predicted_chunks/chunk_00084.tsv\n"
     ]
    },
    {
     "name": "stderr",
     "output_type": "stream",
     "text": [
      "🔍 chunk_00705.tsv: 100%|██████████| 469/469 [26:34<00:00,  3.40s/it]\n"
     ]
    },
    {
     "name": "stdout",
     "output_type": "stream",
     "text": [
      "✅ Finished: /Volumes/X10 Pro/predicted_chunks/tmp_chunks/chunk_00705.tsv → /Volumes/X10 Pro/predicted_chunks/chunk_00705.tsv\n"
     ]
    },
    {
     "name": "stderr",
     "output_type": "stream",
     "text": [
      "🔍 chunk_00293.tsv: 100%|██████████| 469/469 [26:48<00:00,  3.43s/it]\n"
     ]
    },
    {
     "name": "stdout",
     "output_type": "stream",
     "text": [
      "✅ Finished: /Volumes/X10 Pro/predicted_chunks/tmp_chunks/chunk_00293.tsv → /Volumes/X10 Pro/predicted_chunks/chunk_00293.tsv\n"
     ]
    },
    {
     "name": "stderr",
     "output_type": "stream",
     "text": [
      "🔍 chunk_00497.tsv: 100%|██████████| 469/469 [27:11<00:00,  3.48s/it]\n",
      "🔍 chunk_00294.tsv:  43%|████▎     | 201/469 [11:39<14:00,  3.13s/it]"
     ]
    },
    {
     "name": "stdout",
     "output_type": "stream",
     "text": [
      "✅ Finished: /Volumes/X10 Pro/predicted_chunks/tmp_chunks/chunk_00497.tsv → /Volumes/X10 Pro/predicted_chunks/chunk_00497.tsv\n"
     ]
    },
    {
     "name": "stderr",
     "output_type": "stream",
     "text": [
      "🔍 chunk_00085.tsv: 100%|██████████| 469/469 [26:18<00:00,  3.37s/it]\n"
     ]
    },
    {
     "name": "stdout",
     "output_type": "stream",
     "text": [
      "✅ Finished: /Volumes/X10 Pro/predicted_chunks/tmp_chunks/chunk_00085.tsv → /Volumes/X10 Pro/predicted_chunks/chunk_00085.tsv\n"
     ]
    },
    {
     "name": "stderr",
     "output_type": "stream",
     "text": [
      "🔍 chunk_00706.tsv: 100%|██████████| 469/469 [26:38<00:00,  3.41s/it]\n"
     ]
    },
    {
     "name": "stdout",
     "output_type": "stream",
     "text": [
      "✅ Finished: /Volumes/X10 Pro/predicted_chunks/tmp_chunks/chunk_00706.tsv → /Volumes/X10 Pro/predicted_chunks/chunk_00706.tsv\n"
     ]
    },
    {
     "name": "stderr",
     "output_type": "stream",
     "text": [
      "🔍 chunk_00294.tsv: 100%|██████████| 469/469 [26:38<00:00,  3.41s/it]\n"
     ]
    },
    {
     "name": "stdout",
     "output_type": "stream",
     "text": [
      "✅ Finished: /Volumes/X10 Pro/predicted_chunks/tmp_chunks/chunk_00294.tsv → /Volumes/X10 Pro/predicted_chunks/chunk_00294.tsv\n"
     ]
    },
    {
     "name": "stderr",
     "output_type": "stream",
     "text": [
      "🔍 chunk_00498.tsv: 100%|██████████| 469/469 [26:43<00:00,  3.42s/it]\n"
     ]
    },
    {
     "name": "stdout",
     "output_type": "stream",
     "text": [
      "✅ Finished: /Volumes/X10 Pro/predicted_chunks/tmp_chunks/chunk_00498.tsv → /Volumes/X10 Pro/predicted_chunks/chunk_00498.tsv\n"
     ]
    },
    {
     "name": "stderr",
     "output_type": "stream",
     "text": [
      "🔍 chunk_00086.tsv: 100%|██████████| 469/469 [25:57<00:00,  3.32s/it]\n",
      "🔍 chunk_00295.tsv:  86%|████████▌ | 403/469 [23:09<03:31,  3.20s/it]"
     ]
    },
    {
     "name": "stdout",
     "output_type": "stream",
     "text": [
      "✅ Finished: /Volumes/X10 Pro/predicted_chunks/tmp_chunks/chunk_00086.tsv → /Volumes/X10 Pro/predicted_chunks/chunk_00086.tsv\n"
     ]
    },
    {
     "name": "stderr",
     "output_type": "stream",
     "text": [
      "🔍 chunk_00707.tsv: 100%|██████████| 469/469 [27:42<00:00,  3.54s/it]\n",
      "🔍 chunk_00087.tsv:  12%|█▏        | 55/469 [03:04<21:51,  3.17s/it]"
     ]
    },
    {
     "name": "stdout",
     "output_type": "stream",
     "text": [
      "✅ Finished: /Volumes/X10 Pro/predicted_chunks/tmp_chunks/chunk_00707.tsv → /Volumes/X10 Pro/predicted_chunks/chunk_00707.tsv\n"
     ]
    },
    {
     "name": "stderr",
     "output_type": "stream",
     "text": [
      "🔍 chunk_00295.tsv: 100%|██████████| 469/469 [26:50<00:00,  3.43s/it]\n",
      "🔍 chunk_00087.tsv:  14%|█▍        | 65/469 [03:38<23:15,  3.46s/it]"
     ]
    },
    {
     "name": "stdout",
     "output_type": "stream",
     "text": [
      "✅ Finished: /Volumes/X10 Pro/predicted_chunks/tmp_chunks/chunk_00295.tsv → /Volumes/X10 Pro/predicted_chunks/chunk_00295.tsv\n"
     ]
    },
    {
     "name": "stderr",
     "output_type": "stream",
     "text": [
      "🔍 chunk_00499.tsv: 100%|██████████| 469/469 [27:11<00:00,  3.48s/it]\n"
     ]
    },
    {
     "name": "stdout",
     "output_type": "stream",
     "text": [
      "✅ Finished: /Volumes/X10 Pro/predicted_chunks/tmp_chunks/chunk_00499.tsv → /Volumes/X10 Pro/predicted_chunks/chunk_00499.tsv\n"
     ]
    },
    {
     "name": "stderr",
     "output_type": "stream",
     "text": [
      "🔍 chunk_00087.tsv: 100%|██████████| 469/469 [25:45<00:00,  3.29s/it]\n"
     ]
    },
    {
     "name": "stdout",
     "output_type": "stream",
     "text": [
      "✅ Finished: /Volumes/X10 Pro/predicted_chunks/tmp_chunks/chunk_00087.tsv → /Volumes/X10 Pro/predicted_chunks/chunk_00087.tsv\n"
     ]
    },
    {
     "name": "stderr",
     "output_type": "stream",
     "text": [
      "🔍 chunk_00708.tsv: 100%|██████████| 469/469 [27:04<00:00,  3.46s/it]\n",
      "🔍 chunk_00500.tsv:  55%|█████▍    | 256/469 [14:21<10:55,  3.08s/it]"
     ]
    },
    {
     "name": "stdout",
     "output_type": "stream",
     "text": [
      "✅ Finished: /Volumes/X10 Pro/predicted_chunks/tmp_chunks/chunk_00708.tsv → /Volumes/X10 Pro/predicted_chunks/chunk_00708.tsv\n"
     ]
    },
    {
     "name": "stderr",
     "output_type": "stream",
     "text": [
      "🔍 chunk_00296.tsv: 100%|██████████| 469/469 [27:01<00:00,  3.46s/it]\n",
      "🔍 chunk_00500.tsv:  57%|█████▋    | 265/469 [14:52<12:25,  3.66s/it]"
     ]
    },
    {
     "name": "stdout",
     "output_type": "stream",
     "text": [
      "✅ Finished: /Volumes/X10 Pro/predicted_chunks/tmp_chunks/chunk_00296.tsv → /Volumes/X10 Pro/predicted_chunks/chunk_00296.tsv\n"
     ]
    },
    {
     "name": "stderr",
     "output_type": "stream",
     "text": [
      "🔍 chunk_00500.tsv: 100%|██████████| 469/469 [26:49<00:00,  3.43s/it]\n"
     ]
    },
    {
     "name": "stdout",
     "output_type": "stream",
     "text": [
      "✅ Finished: /Volumes/X10 Pro/predicted_chunks/tmp_chunks/chunk_00500.tsv → /Volumes/X10 Pro/predicted_chunks/chunk_00500.tsv\n"
     ]
    },
    {
     "name": "stderr",
     "output_type": "stream",
     "text": [
      "🔍 chunk_00088.tsv: 100%|██████████| 469/469 [26:54<00:00,  3.44s/it]\n"
     ]
    },
    {
     "name": "stdout",
     "output_type": "stream",
     "text": [
      "✅ Finished: /Volumes/X10 Pro/predicted_chunks/tmp_chunks/chunk_00088.tsv → /Volumes/X10 Pro/predicted_chunks/chunk_00088.tsv\n"
     ]
    },
    {
     "name": "stderr",
     "output_type": "stream",
     "text": [
      "🔍 chunk_00709.tsv: 100%|██████████| 469/469 [27:17<00:00,  3.49s/it]\n"
     ]
    },
    {
     "name": "stdout",
     "output_type": "stream",
     "text": [
      "✅ Finished: /Volumes/X10 Pro/predicted_chunks/tmp_chunks/chunk_00709.tsv → /Volumes/X10 Pro/predicted_chunks/chunk_00709.tsv\n"
     ]
    },
    {
     "name": "stderr",
     "output_type": "stream",
     "text": [
      "🔍 chunk_00297.tsv: 100%|██████████| 469/469 [27:15<00:00,  3.49s/it]\n",
      "🔍 chunk_00089.tsv:  19%|█▉        | 91/469 [05:14<20:05,  3.19s/it]"
     ]
    },
    {
     "name": "stdout",
     "output_type": "stream",
     "text": [
      "✅ Finished: /Volumes/X10 Pro/predicted_chunks/tmp_chunks/chunk_00297.tsv → /Volumes/X10 Pro/predicted_chunks/chunk_00297.tsv\n"
     ]
    },
    {
     "name": "stderr",
     "output_type": "stream",
     "text": [
      "🔍 chunk_00501.tsv: 100%|██████████| 469/469 [27:42<00:00,  3.55s/it]\n",
      "🔍 chunk_00710.tsv:  47%|████▋     | 221/469 [12:50<15:53,  3.85s/it]"
     ]
    },
    {
     "name": "stdout",
     "output_type": "stream",
     "text": [
      "✅ Finished: /Volumes/X10 Pro/predicted_chunks/tmp_chunks/chunk_00501.tsv → /Volumes/X10 Pro/predicted_chunks/chunk_00501.tsv\n"
     ]
    },
    {
     "name": "stderr",
     "output_type": "stream",
     "text": [
      "🔍 chunk_00089.tsv: 100%|██████████| 469/469 [26:45<00:00,  3.42s/it]\n"
     ]
    },
    {
     "name": "stdout",
     "output_type": "stream",
     "text": [
      "✅ Finished: /Volumes/X10 Pro/predicted_chunks/tmp_chunks/chunk_00089.tsv → /Volumes/X10 Pro/predicted_chunks/chunk_00089.tsv\n"
     ]
    },
    {
     "name": "stderr",
     "output_type": "stream",
     "text": [
      "🔍 chunk_00710.tsv: 100%|██████████| 469/469 [27:11<00:00,  3.48s/it]\n"
     ]
    },
    {
     "name": "stdout",
     "output_type": "stream",
     "text": [
      "✅ Finished: /Volumes/X10 Pro/predicted_chunks/tmp_chunks/chunk_00710.tsv → /Volumes/X10 Pro/predicted_chunks/chunk_00710.tsv\n"
     ]
    },
    {
     "name": "stderr",
     "output_type": "stream",
     "text": [
      "🔍 chunk_00298.tsv: 100%|██████████| 469/469 [27:33<00:00,  3.52s/it]\n"
     ]
    },
    {
     "name": "stdout",
     "output_type": "stream",
     "text": [
      "✅ Finished: /Volumes/X10 Pro/predicted_chunks/tmp_chunks/chunk_00298.tsv → /Volumes/X10 Pro/predicted_chunks/chunk_00298.tsv\n"
     ]
    },
    {
     "name": "stderr",
     "output_type": "stream",
     "text": [
      "🔍 chunk_00502.tsv: 100%|██████████| 469/469 [27:37<00:00,  3.53s/it]\n",
      "🔍 chunk_00299.tsv:  44%|████▍     | 208/469 [12:26<14:27,  3.32s/it]"
     ]
    },
    {
     "name": "stdout",
     "output_type": "stream",
     "text": [
      "✅ Finished: /Volumes/X10 Pro/predicted_chunks/tmp_chunks/chunk_00502.tsv → /Volumes/X10 Pro/predicted_chunks/chunk_00502.tsv\n"
     ]
    },
    {
     "name": "stderr",
     "output_type": "stream",
     "text": [
      "🔍 chunk_00090.tsv: 100%|██████████| 469/469 [26:30<00:00,  3.39s/it]\n"
     ]
    },
    {
     "name": "stdout",
     "output_type": "stream",
     "text": [
      "✅ Finished: /Volumes/X10 Pro/predicted_chunks/tmp_chunks/chunk_00090.tsv → /Volumes/X10 Pro/predicted_chunks/chunk_00090.tsv\n"
     ]
    },
    {
     "name": "stderr",
     "output_type": "stream",
     "text": [
      "🔍 chunk_00711.tsv: 100%|██████████| 469/469 [27:39<00:00,  3.54s/it]\n"
     ]
    },
    {
     "name": "stdout",
     "output_type": "stream",
     "text": [
      "✅ Finished: /Volumes/X10 Pro/predicted_chunks/tmp_chunks/chunk_00711.tsv → /Volumes/X10 Pro/predicted_chunks/chunk_00711.tsv\n"
     ]
    },
    {
     "name": "stderr",
     "output_type": "stream",
     "text": [
      "🔍 chunk_00299.tsv: 100%|██████████| 469/469 [27:55<00:00,  3.57s/it]\n"
     ]
    },
    {
     "name": "stdout",
     "output_type": "stream",
     "text": [
      "✅ Finished: /Volumes/X10 Pro/predicted_chunks/tmp_chunks/chunk_00299.tsv → /Volumes/X10 Pro/predicted_chunks/chunk_00299.tsv\n"
     ]
    },
    {
     "name": "stderr",
     "output_type": "stream",
     "text": [
      "🔍 chunk_00503.tsv: 100%|██████████| 469/469 [27:59<00:00,  3.58s/it]\n"
     ]
    },
    {
     "name": "stdout",
     "output_type": "stream",
     "text": [
      "✅ Finished: /Volumes/X10 Pro/predicted_chunks/tmp_chunks/chunk_00503.tsv → /Volumes/X10 Pro/predicted_chunks/chunk_00503.tsv\n"
     ]
    },
    {
     "name": "stderr",
     "output_type": "stream",
     "text": [
      "🔍 chunk_00091.tsv: 100%|██████████| 469/469 [26:34<00:00,  3.40s/it]\n",
      "🔍 chunk_00504.tsv:  25%|██▍       | 116/469 [06:32<21:55,  3.73s/it]"
     ]
    },
    {
     "name": "stdout",
     "output_type": "stream",
     "text": [
      "✅ Finished: /Volumes/X10 Pro/predicted_chunks/tmp_chunks/chunk_00091.tsv → /Volumes/X10 Pro/predicted_chunks/chunk_00091.tsv\n"
     ]
    },
    {
     "name": "stderr",
     "output_type": "stream",
     "text": [
      "🔍 chunk_00712.tsv: 100%|██████████| 469/469 [26:54<00:00,  3.44s/it]\n"
     ]
    },
    {
     "name": "stdout",
     "output_type": "stream",
     "text": [
      "✅ Finished: /Volumes/X10 Pro/predicted_chunks/tmp_chunks/chunk_00712.tsv → /Volumes/X10 Pro/predicted_chunks/chunk_00712.tsv\n"
     ]
    },
    {
     "name": "stderr",
     "output_type": "stream",
     "text": [
      "🔍 chunk_00300.tsv: 100%|██████████| 469/469 [27:11<00:00,  3.48s/it]\n",
      "🔍 chunk_00092.tsv:  31%|███       | 144/469 [08:05<18:09,  3.35s/it]"
     ]
    },
    {
     "name": "stdout",
     "output_type": "stream",
     "text": [
      "✅ Finished: /Volumes/X10 Pro/predicted_chunks/tmp_chunks/chunk_00300.tsv → /Volumes/X10 Pro/predicted_chunks/chunk_00300.tsv\n"
     ]
    },
    {
     "name": "stderr",
     "output_type": "stream",
     "text": [
      "🔍 chunk_00504.tsv: 100%|██████████| 469/469 [27:39<00:00,  3.54s/it]\n"
     ]
    },
    {
     "name": "stdout",
     "output_type": "stream",
     "text": [
      "✅ Finished: /Volumes/X10 Pro/predicted_chunks/tmp_chunks/chunk_00504.tsv → /Volumes/X10 Pro/predicted_chunks/chunk_00504.tsv\n"
     ]
    },
    {
     "name": "stderr",
     "output_type": "stream",
     "text": [
      "🔍 chunk_00092.tsv: 100%|██████████| 469/469 [26:55<00:00,  3.44s/it]\n"
     ]
    },
    {
     "name": "stdout",
     "output_type": "stream",
     "text": [
      "✅ Finished: /Volumes/X10 Pro/predicted_chunks/tmp_chunks/chunk_00092.tsv → /Volumes/X10 Pro/predicted_chunks/chunk_00092.tsv\n"
     ]
    },
    {
     "name": "stderr",
     "output_type": "stream",
     "text": [
      "🔍 chunk_00713.tsv: 100%|██████████| 469/469 [28:08<00:00,  3.60s/it]\n",
      "🔍 chunk_00505.tsv:  50%|█████     | 235/469 [13:45<17:10,  4.40s/it]"
     ]
    },
    {
     "name": "stdout",
     "output_type": "stream",
     "text": [
      "✅ Finished: /Volumes/X10 Pro/predicted_chunks/tmp_chunks/chunk_00713.tsv → /Volumes/X10 Pro/predicted_chunks/chunk_00713.tsv\n"
     ]
    },
    {
     "name": "stderr",
     "output_type": "stream",
     "text": [
      "🔍 chunk_00301.tsv: 100%|██████████| 469/469 [27:35<00:00,  3.53s/it]\n"
     ]
    },
    {
     "name": "stdout",
     "output_type": "stream",
     "text": [
      "✅ Finished: /Volumes/X10 Pro/predicted_chunks/tmp_chunks/chunk_00301.tsv → /Volumes/X10 Pro/predicted_chunks/chunk_00301.tsv\n"
     ]
    },
    {
     "name": "stderr",
     "output_type": "stream",
     "text": [
      "🔍 chunk_00505.tsv: 100%|██████████| 469/469 [27:11<00:00,  3.48s/it]\n"
     ]
    },
    {
     "name": "stdout",
     "output_type": "stream",
     "text": [
      "✅ Finished: /Volumes/X10 Pro/predicted_chunks/tmp_chunks/chunk_00505.tsv → /Volumes/X10 Pro/predicted_chunks/chunk_00505.tsv\n"
     ]
    },
    {
     "name": "stderr",
     "output_type": "stream",
     "text": [
      "🔍 chunk_00093.tsv: 100%|██████████| 469/469 [26:19<00:00,  3.37s/it]\n"
     ]
    },
    {
     "name": "stdout",
     "output_type": "stream",
     "text": [
      "✅ Finished: /Volumes/X10 Pro/predicted_chunks/tmp_chunks/chunk_00093.tsv → /Volumes/X10 Pro/predicted_chunks/chunk_00093.tsv\n"
     ]
    },
    {
     "name": "stderr",
     "output_type": "stream",
     "text": [
      "🔍 chunk_00714.tsv: 100%|██████████| 469/469 [27:23<00:00,  3.50s/it]\n",
      "🔍 chunk_00302.tsv:  98%|█████████▊| 460/469 [26:33<00:35,  3.90s/it]"
     ]
    },
    {
     "name": "stdout",
     "output_type": "stream",
     "text": [
      "✅ Finished: /Volumes/X10 Pro/predicted_chunks/tmp_chunks/chunk_00714.tsv → /Volumes/X10 Pro/predicted_chunks/chunk_00714.tsv\n"
     ]
    },
    {
     "name": "stderr",
     "output_type": "stream",
     "text": [
      "🔍 chunk_00302.tsv: 100%|██████████| 469/469 [27:09<00:00,  3.47s/it]\n"
     ]
    },
    {
     "name": "stdout",
     "output_type": "stream",
     "text": [
      "✅ Finished: /Volumes/X10 Pro/predicted_chunks/tmp_chunks/chunk_00302.tsv → /Volumes/X10 Pro/predicted_chunks/chunk_00302.tsv\n"
     ]
    },
    {
     "name": "stderr",
     "output_type": "stream",
     "text": [
      "🔍 chunk_00506.tsv: 100%|██████████| 469/469 [28:00<00:00,  3.58s/it]\n"
     ]
    },
    {
     "name": "stdout",
     "output_type": "stream",
     "text": [
      "✅ Finished: /Volumes/X10 Pro/predicted_chunks/tmp_chunks/chunk_00506.tsv → /Volumes/X10 Pro/predicted_chunks/chunk_00506.tsv\n"
     ]
    },
    {
     "name": "stderr",
     "output_type": "stream",
     "text": [
      "🔍 chunk_00094.tsv: 100%|██████████| 469/469 [27:08<00:00,  3.47s/it]\n"
     ]
    },
    {
     "name": "stdout",
     "output_type": "stream",
     "text": [
      "✅ Finished: /Volumes/X10 Pro/predicted_chunks/tmp_chunks/chunk_00094.tsv → /Volumes/X10 Pro/predicted_chunks/chunk_00094.tsv\n"
     ]
    },
    {
     "name": "stderr",
     "output_type": "stream",
     "text": [
      "🔍 chunk_00303.tsv: 100%|██████████| 469/469 [27:20<00:00,  3.50s/it]\n"
     ]
    },
    {
     "name": "stdout",
     "output_type": "stream",
     "text": [
      "✅ Finished: /Volumes/X10 Pro/predicted_chunks/tmp_chunks/chunk_00303.tsv → /Volumes/X10 Pro/predicted_chunks/chunk_00303.tsv\n"
     ]
    },
    {
     "name": "stderr",
     "output_type": "stream",
     "text": [
      "🔍 chunk_00715.tsv: 100%|██████████| 469/469 [28:18<00:00,  3.62s/it]\n"
     ]
    },
    {
     "name": "stdout",
     "output_type": "stream",
     "text": [
      "✅ Finished: /Volumes/X10 Pro/predicted_chunks/tmp_chunks/chunk_00715.tsv → /Volumes/X10 Pro/predicted_chunks/chunk_00715.tsv\n"
     ]
    },
    {
     "name": "stderr",
     "output_type": "stream",
     "text": [
      "🔍 chunk_00507.tsv: 100%|██████████| 469/469 [28:02<00:00,  3.59s/it]\n"
     ]
    },
    {
     "name": "stdout",
     "output_type": "stream",
     "text": [
      "✅ Finished: /Volumes/X10 Pro/predicted_chunks/tmp_chunks/chunk_00507.tsv → /Volumes/X10 Pro/predicted_chunks/chunk_00507.tsv\n"
     ]
    },
    {
     "name": "stderr",
     "output_type": "stream",
     "text": [
      "🔍 chunk_00095.tsv: 100%|██████████| 469/469 [27:07<00:00,  3.47s/it]\n"
     ]
    },
    {
     "name": "stdout",
     "output_type": "stream",
     "text": [
      "✅ Finished: /Volumes/X10 Pro/predicted_chunks/tmp_chunks/chunk_00095.tsv → /Volumes/X10 Pro/predicted_chunks/chunk_00095.tsv\n"
     ]
    },
    {
     "name": "stderr",
     "output_type": "stream",
     "text": [
      "🔍 chunk_00304.tsv: 100%|██████████| 469/469 [27:43<00:00,  3.55s/it]\n"
     ]
    },
    {
     "name": "stdout",
     "output_type": "stream",
     "text": [
      "✅ Finished: /Volumes/X10 Pro/predicted_chunks/tmp_chunks/chunk_00304.tsv → /Volumes/X10 Pro/predicted_chunks/chunk_00304.tsv\n"
     ]
    },
    {
     "name": "stderr",
     "output_type": "stream",
     "text": [
      "🔍 chunk_00716.tsv: 100%|██████████| 469/469 [27:51<00:00,  3.56s/it]\n"
     ]
    },
    {
     "name": "stdout",
     "output_type": "stream",
     "text": [
      "✅ Finished: /Volumes/X10 Pro/predicted_chunks/tmp_chunks/chunk_00716.tsv → /Volumes/X10 Pro/predicted_chunks/chunk_00716.tsv\n"
     ]
    },
    {
     "name": "stderr",
     "output_type": "stream",
     "text": [
      "🔍 chunk_00508.tsv: 100%|██████████| 469/469 [29:16<00:00,  3.75s/it]\n"
     ]
    },
    {
     "name": "stdout",
     "output_type": "stream",
     "text": [
      "✅ Finished: /Volumes/X10 Pro/predicted_chunks/tmp_chunks/chunk_00508.tsv → /Volumes/X10 Pro/predicted_chunks/chunk_00508.tsv\n"
     ]
    },
    {
     "name": "stderr",
     "output_type": "stream",
     "text": [
      "🔍 chunk_00096.tsv: 100%|██████████| 469/469 [27:33<00:00,  3.53s/it]\n"
     ]
    },
    {
     "name": "stdout",
     "output_type": "stream",
     "text": [
      "✅ Finished: /Volumes/X10 Pro/predicted_chunks/tmp_chunks/chunk_00096.tsv → /Volumes/X10 Pro/predicted_chunks/chunk_00096.tsv\n"
     ]
    },
    {
     "name": "stderr",
     "output_type": "stream",
     "text": [
      "🔍 chunk_00305.tsv: 100%|██████████| 469/469 [28:59<00:00,  3.71s/it]\n",
      "🔍 chunk_00097.tsv:  40%|███▉      | 187/469 [11:49<15:21,  3.27s/it]"
     ]
    },
    {
     "name": "stdout",
     "output_type": "stream",
     "text": [
      "✅ Finished: /Volumes/X10 Pro/predicted_chunks/tmp_chunks/chunk_00305.tsv → /Volumes/X10 Pro/predicted_chunks/chunk_00305.tsv\n"
     ]
    },
    {
     "name": "stderr",
     "output_type": "stream",
     "text": [
      "🔍 chunk_00717.tsv: 100%|██████████| 469/469 [29:52<00:00,  3.82s/it]\n"
     ]
    },
    {
     "name": "stdout",
     "output_type": "stream",
     "text": [
      "✅ Finished: /Volumes/X10 Pro/predicted_chunks/tmp_chunks/chunk_00717.tsv → /Volumes/X10 Pro/predicted_chunks/chunk_00717.tsv\n"
     ]
    },
    {
     "name": "stderr",
     "output_type": "stream",
     "text": [
      "🔍 chunk_00509.tsv: 100%|██████████| 469/469 [29:26<00:00,  3.77s/it]\n",
      "🔍 chunk_00718.tsv:  51%|█████     | 238/469 [14:42<13:49,  3.59s/it]"
     ]
    },
    {
     "name": "stdout",
     "output_type": "stream",
     "text": [
      "✅ Finished: /Volumes/X10 Pro/predicted_chunks/tmp_chunks/chunk_00509.tsv → /Volumes/X10 Pro/predicted_chunks/chunk_00509.tsv\n"
     ]
    },
    {
     "name": "stderr",
     "output_type": "stream",
     "text": [
      "🔍 chunk_00097.tsv: 100%|██████████| 469/469 [28:36<00:00,  3.66s/it]\n"
     ]
    },
    {
     "name": "stdout",
     "output_type": "stream",
     "text": [
      "✅ Finished: /Volumes/X10 Pro/predicted_chunks/tmp_chunks/chunk_00097.tsv → /Volumes/X10 Pro/predicted_chunks/chunk_00097.tsv\n"
     ]
    },
    {
     "name": "stderr",
     "output_type": "stream",
     "text": [
      "🔍 chunk_00306.tsv: 100%|██████████| 469/469 [27:56<00:00,  3.57s/it]\n"
     ]
    },
    {
     "name": "stdout",
     "output_type": "stream",
     "text": [
      "✅ Finished: /Volumes/X10 Pro/predicted_chunks/tmp_chunks/chunk_00306.tsv → /Volumes/X10 Pro/predicted_chunks/chunk_00306.tsv\n"
     ]
    },
    {
     "name": "stderr",
     "output_type": "stream",
     "text": [
      "🔍 chunk_00718.tsv: 100%|██████████| 469/469 [28:55<00:00,  3.70s/it]\n"
     ]
    },
    {
     "name": "stdout",
     "output_type": "stream",
     "text": [
      "✅ Finished: /Volumes/X10 Pro/predicted_chunks/tmp_chunks/chunk_00718.tsv → /Volumes/X10 Pro/predicted_chunks/chunk_00718.tsv\n"
     ]
    },
    {
     "name": "stderr",
     "output_type": "stream",
     "text": [
      "🔍 chunk_00098.tsv: 100%|██████████| 469/469 [27:13<00:00,  3.48s/it]\n"
     ]
    },
    {
     "name": "stdout",
     "output_type": "stream",
     "text": [
      "✅ Finished: /Volumes/X10 Pro/predicted_chunks/tmp_chunks/chunk_00098.tsv → /Volumes/X10 Pro/predicted_chunks/chunk_00098.tsv\n"
     ]
    },
    {
     "name": "stderr",
     "output_type": "stream",
     "text": [
      "🔍 chunk_00510.tsv: 100%|██████████| 469/469 [29:17<00:00,  3.75s/it]\n"
     ]
    },
    {
     "name": "stdout",
     "output_type": "stream",
     "text": [
      "✅ Finished: /Volumes/X10 Pro/predicted_chunks/tmp_chunks/chunk_00510.tsv → /Volumes/X10 Pro/predicted_chunks/chunk_00510.tsv\n"
     ]
    },
    {
     "name": "stderr",
     "output_type": "stream",
     "text": [
      "🔍 chunk_00307.tsv: 100%|██████████| 469/469 [28:03<00:00,  3.59s/it]\n",
      "🔍 chunk_00099.tsv:  45%|████▍     | 209/469 [12:00<13:25,  3.10s/it]"
     ]
    },
    {
     "name": "stdout",
     "output_type": "stream",
     "text": [
      "✅ Finished: /Volumes/X10 Pro/predicted_chunks/tmp_chunks/chunk_00307.tsv → /Volumes/X10 Pro/predicted_chunks/chunk_00307.tsv\n"
     ]
    },
    {
     "name": "stderr",
     "output_type": "stream",
     "text": [
      "🔍 chunk_00719.tsv: 100%|██████████| 469/469 [29:19<00:00,  3.75s/it]\n"
     ]
    },
    {
     "name": "stdout",
     "output_type": "stream",
     "text": [
      "✅ Finished: /Volumes/X10 Pro/predicted_chunks/tmp_chunks/chunk_00719.tsv → /Volumes/X10 Pro/predicted_chunks/chunk_00719.tsv\n"
     ]
    },
    {
     "name": "stderr",
     "output_type": "stream",
     "text": [
      "🔍 chunk_00099.tsv: 100%|██████████| 469/469 [27:26<00:00,  3.51s/it]\n"
     ]
    },
    {
     "name": "stdout",
     "output_type": "stream",
     "text": [
      "✅ Finished: /Volumes/X10 Pro/predicted_chunks/tmp_chunks/chunk_00099.tsv → /Volumes/X10 Pro/predicted_chunks/chunk_00099.tsv\n"
     ]
    },
    {
     "name": "stderr",
     "output_type": "stream",
     "text": [
      "🔍 chunk_00511.tsv: 100%|██████████| 469/469 [29:33<00:00,  3.78s/it]\n"
     ]
    },
    {
     "name": "stdout",
     "output_type": "stream",
     "text": [
      "✅ Finished: /Volumes/X10 Pro/predicted_chunks/tmp_chunks/chunk_00511.tsv → /Volumes/X10 Pro/predicted_chunks/chunk_00511.tsv\n"
     ]
    },
    {
     "name": "stderr",
     "output_type": "stream",
     "text": [
      "🔍 chunk_00308.tsv: 100%|██████████| 469/469 [27:58<00:00,  3.58s/it]\n"
     ]
    },
    {
     "name": "stdout",
     "output_type": "stream",
     "text": [
      "✅ Finished: /Volumes/X10 Pro/predicted_chunks/tmp_chunks/chunk_00308.tsv → /Volumes/X10 Pro/predicted_chunks/chunk_00308.tsv\n"
     ]
    },
    {
     "name": "stderr",
     "output_type": "stream",
     "text": [
      "🔍 chunk_00720.tsv: 100%|██████████| 469/469 [29:02<00:00,  3.72s/it]\n",
      "🔍 chunk_00512.tsv:  46%|████▋     | 218/469 [13:42<13:17,  3.18s/it]"
     ]
    },
    {
     "name": "stdout",
     "output_type": "stream",
     "text": [
      "✅ Finished: /Volumes/X10 Pro/predicted_chunks/tmp_chunks/chunk_00720.tsv → /Volumes/X10 Pro/predicted_chunks/chunk_00720.tsv\n"
     ]
    },
    {
     "name": "stderr",
     "output_type": "stream",
     "text": [
      "🔍 chunk_00100.tsv: 100%|██████████| 469/469 [27:06<00:00,  3.47s/it]\n"
     ]
    },
    {
     "name": "stdout",
     "output_type": "stream",
     "text": [
      "✅ Finished: /Volumes/X10 Pro/predicted_chunks/tmp_chunks/chunk_00100.tsv → /Volumes/X10 Pro/predicted_chunks/chunk_00100.tsv\n"
     ]
    },
    {
     "name": "stderr",
     "output_type": "stream",
     "text": [
      "🔍 chunk_00512.tsv: 100%|██████████| 469/469 [29:33<00:00,  3.78s/it]\n",
      "🔍 chunk_00721.tsv:  54%|█████▍    | 255/469 [15:48<12:05,  3.39s/it]"
     ]
    },
    {
     "name": "stdout",
     "output_type": "stream",
     "text": [
      "✅ Finished: /Volumes/X10 Pro/predicted_chunks/tmp_chunks/chunk_00512.tsv → /Volumes/X10 Pro/predicted_chunks/chunk_00512.tsv\n"
     ]
    },
    {
     "name": "stderr",
     "output_type": "stream",
     "text": [
      "🔍 chunk_00309.tsv: 100%|██████████| 469/469 [27:23<00:00,  3.50s/it]\n",
      "🔍 chunk_00721.tsv:  78%|███████▊  | 366/469 [22:39<06:55,  4.04s/it]"
     ]
    },
    {
     "name": "stdout",
     "output_type": "stream",
     "text": [
      "✅ Finished: /Volumes/X10 Pro/predicted_chunks/tmp_chunks/chunk_00309.tsv → /Volumes/X10 Pro/predicted_chunks/chunk_00309.tsv\n"
     ]
    },
    {
     "name": "stderr",
     "output_type": "stream",
     "text": [
      "🔍 chunk_00721.tsv: 100%|██████████| 469/469 [29:23<00:00,  3.76s/it]\n",
      "🔍 chunk_00101.tsv:  70%|███████   | 329/469 [19:31<09:29,  4.07s/it]"
     ]
    },
    {
     "name": "stdout",
     "output_type": "stream",
     "text": [
      "✅ Finished: /Volumes/X10 Pro/predicted_chunks/tmp_chunks/chunk_00721.tsv → /Volumes/X10 Pro/predicted_chunks/chunk_00721.tsv\n"
     ]
    },
    {
     "name": "stderr",
     "output_type": "stream",
     "text": [
      "🔍 chunk_00101.tsv: 100%|██████████| 469/469 [28:09<00:00,  3.60s/it]\n"
     ]
    },
    {
     "name": "stdout",
     "output_type": "stream",
     "text": [
      "✅ Finished: /Volumes/X10 Pro/predicted_chunks/tmp_chunks/chunk_00101.tsv → /Volumes/X10 Pro/predicted_chunks/chunk_00101.tsv\n"
     ]
    },
    {
     "name": "stderr",
     "output_type": "stream",
     "text": [
      "🔍 chunk_00513.tsv: 100%|██████████| 469/469 [29:55<00:00,  3.83s/it]\n",
      "🔍 chunk_00310.tsv:  80%|███████▉  | 373/469 [23:04<07:26,  4.65s/it]"
     ]
    },
    {
     "name": "stdout",
     "output_type": "stream",
     "text": [
      "✅ Finished: /Volumes/X10 Pro/predicted_chunks/tmp_chunks/chunk_00513.tsv → /Volumes/X10 Pro/predicted_chunks/chunk_00513.tsv\n"
     ]
    },
    {
     "name": "stderr",
     "output_type": "stream",
     "text": [
      "🔍 chunk_00310.tsv: 100%|██████████| 469/469 [28:55<00:00,  3.70s/it]\n",
      "🔍 chunk_00514.tsv:  20%|█▉        | 92/469 [05:47<23:40,  3.77s/it]"
     ]
    },
    {
     "name": "stdout",
     "output_type": "stream",
     "text": [
      "✅ Finished: /Volumes/X10 Pro/predicted_chunks/tmp_chunks/chunk_00310.tsv → /Volumes/X10 Pro/predicted_chunks/chunk_00310.tsv\n"
     ]
    },
    {
     "name": "stderr",
     "output_type": "stream",
     "text": [
      "🔍 chunk_00722.tsv: 100%|██████████| 469/469 [30:09<00:00,  3.86s/it]\n"
     ]
    },
    {
     "name": "stdout",
     "output_type": "stream",
     "text": [
      "✅ Finished: /Volumes/X10 Pro/predicted_chunks/tmp_chunks/chunk_00722.tsv → /Volumes/X10 Pro/predicted_chunks/chunk_00722.tsv\n"
     ]
    },
    {
     "name": "stderr",
     "output_type": "stream",
     "text": [
      "🔍 chunk_00102.tsv: 100%|██████████| 469/469 [27:49<00:00,  3.56s/it]\n"
     ]
    },
    {
     "name": "stdout",
     "output_type": "stream",
     "text": [
      "✅ Finished: /Volumes/X10 Pro/predicted_chunks/tmp_chunks/chunk_00102.tsv → /Volumes/X10 Pro/predicted_chunks/chunk_00102.tsv\n"
     ]
    },
    {
     "name": "stderr",
     "output_type": "stream",
     "text": [
      "🔍 chunk_00514.tsv: 100%|██████████| 469/469 [30:25<00:00,  3.89s/it]\n"
     ]
    },
    {
     "name": "stdout",
     "output_type": "stream",
     "text": [
      "✅ Finished: /Volumes/X10 Pro/predicted_chunks/tmp_chunks/chunk_00514.tsv → /Volumes/X10 Pro/predicted_chunks/chunk_00514.tsv\n"
     ]
    },
    {
     "name": "stderr",
     "output_type": "stream",
     "text": [
      "🔍 chunk_00311.tsv: 100%|██████████| 469/469 [28:23<00:00,  3.63s/it]\n",
      "🔍 chunk_00103.tsv:  52%|█████▏    | 242/469 [14:06<14:15,  3.77s/it]"
     ]
    },
    {
     "name": "stdout",
     "output_type": "stream",
     "text": [
      "✅ Finished: /Volumes/X10 Pro/predicted_chunks/tmp_chunks/chunk_00311.tsv → /Volumes/X10 Pro/predicted_chunks/chunk_00311.tsv\n"
     ]
    },
    {
     "name": "stderr",
     "output_type": "stream",
     "text": [
      "🔍 chunk_00723.tsv: 100%|██████████| 469/469 [30:06<00:00,  3.85s/it]\n",
      "🔍 chunk_00103.tsv:  86%|████████▌ | 404/469 [23:50<04:02,  3.72s/it]"
     ]
    },
    {
     "name": "stdout",
     "output_type": "stream",
     "text": [
      "✅ Finished: /Volumes/X10 Pro/predicted_chunks/tmp_chunks/chunk_00723.tsv → /Volumes/X10 Pro/predicted_chunks/chunk_00723.tsv\n"
     ]
    },
    {
     "name": "stderr",
     "output_type": "stream",
     "text": [
      "🔍 chunk_00103.tsv: 100%|██████████| 469/469 [27:42<00:00,  3.55s/it]\n",
      "🔍 chunk_00312.tsv:  48%|████▊     | 227/469 [13:34<13:19,  3.30s/it]"
     ]
    },
    {
     "name": "stdout",
     "output_type": "stream",
     "text": [
      "✅ Finished: /Volumes/X10 Pro/predicted_chunks/tmp_chunks/chunk_00103.tsv → /Volumes/X10 Pro/predicted_chunks/chunk_00103.tsv\n"
     ]
    },
    {
     "name": "stderr",
     "output_type": "stream",
     "text": [
      "🔍 chunk_00515.tsv: 100%|██████████| 469/469 [30:16<00:00,  3.87s/it]\n",
      "🔍 chunk_00312.tsv:  93%|█████████▎| 436/469 [26:31<01:48,  3.27s/it]"
     ]
    },
    {
     "name": "stdout",
     "output_type": "stream",
     "text": [
      "✅ Finished: /Volumes/X10 Pro/predicted_chunks/tmp_chunks/chunk_00515.tsv → /Volumes/X10 Pro/predicted_chunks/chunk_00515.tsv\n"
     ]
    },
    {
     "name": "stderr",
     "output_type": "stream",
     "text": [
      "🔍 chunk_00312.tsv: 100%|██████████| 469/469 [28:25<00:00,  3.64s/it]\n"
     ]
    },
    {
     "name": "stdout",
     "output_type": "stream",
     "text": [
      "✅ Finished: /Volumes/X10 Pro/predicted_chunks/tmp_chunks/chunk_00312.tsv → /Volumes/X10 Pro/predicted_chunks/chunk_00312.tsv\n"
     ]
    },
    {
     "name": "stderr",
     "output_type": "stream",
     "text": [
      "🔍 chunk_00724.tsv: 100%|██████████| 469/469 [29:48<00:00,  3.81s/it]\n",
      "🔍 chunk_00104.tsv:  93%|█████████▎| 437/469 [25:55<01:54,  3.58s/it]"
     ]
    },
    {
     "name": "stdout",
     "output_type": "stream",
     "text": [
      "✅ Finished: /Volumes/X10 Pro/predicted_chunks/tmp_chunks/chunk_00724.tsv → /Volumes/X10 Pro/predicted_chunks/chunk_00724.tsv\n"
     ]
    },
    {
     "name": "stderr",
     "output_type": "stream",
     "text": [
      "🔍 chunk_00104.tsv: 100%|██████████| 469/469 [27:48<00:00,  3.56s/it]\n"
     ]
    },
    {
     "name": "stdout",
     "output_type": "stream",
     "text": [
      "✅ Finished: /Volumes/X10 Pro/predicted_chunks/tmp_chunks/chunk_00104.tsv → /Volumes/X10 Pro/predicted_chunks/chunk_00104.tsv\n"
     ]
    },
    {
     "name": "stderr",
     "output_type": "stream",
     "text": [
      "🔍 chunk_00516.tsv: 100%|██████████| 469/469 [29:52<00:00,  3.82s/it]\n"
     ]
    },
    {
     "name": "stdout",
     "output_type": "stream",
     "text": [
      "✅ Finished: /Volumes/X10 Pro/predicted_chunks/tmp_chunks/chunk_00516.tsv → /Volumes/X10 Pro/predicted_chunks/chunk_00516.tsv\n"
     ]
    },
    {
     "name": "stderr",
     "output_type": "stream",
     "text": [
      "🔍 chunk_00313.tsv: 100%|██████████| 469/469 [28:47<00:00,  3.68s/it]\n"
     ]
    },
    {
     "name": "stdout",
     "output_type": "stream",
     "text": [
      "✅ Finished: /Volumes/X10 Pro/predicted_chunks/tmp_chunks/chunk_00313.tsv → /Volumes/X10 Pro/predicted_chunks/chunk_00313.tsv\n"
     ]
    },
    {
     "name": "stderr",
     "output_type": "stream",
     "text": [
      "🔍 chunk_00725.tsv: 100%|██████████| 469/469 [29:35<00:00,  3.79s/it]\n"
     ]
    },
    {
     "name": "stdout",
     "output_type": "stream",
     "text": [
      "✅ Finished: /Volumes/X10 Pro/predicted_chunks/tmp_chunks/chunk_00725.tsv → /Volumes/X10 Pro/predicted_chunks/chunk_00725.tsv\n"
     ]
    },
    {
     "name": "stderr",
     "output_type": "stream",
     "text": [
      "🔍 chunk_00105.tsv: 100%|██████████| 469/469 [28:28<00:00,  3.64s/it]\n"
     ]
    },
    {
     "name": "stdout",
     "output_type": "stream",
     "text": [
      "✅ Finished: /Volumes/X10 Pro/predicted_chunks/tmp_chunks/chunk_00105.tsv → /Volumes/X10 Pro/predicted_chunks/chunk_00105.tsv\n"
     ]
    },
    {
     "name": "stderr",
     "output_type": "stream",
     "text": [
      "🔍 chunk_00314.tsv: 100%|██████████| 469/469 [30:01<00:00,  3.84s/it]\n"
     ]
    },
    {
     "name": "stdout",
     "output_type": "stream",
     "text": [
      "✅ Finished: /Volumes/X10 Pro/predicted_chunks/tmp_chunks/chunk_00314.tsv → /Volumes/X10 Pro/predicted_chunks/chunk_00314.tsv\n"
     ]
    },
    {
     "name": "stderr",
     "output_type": "stream",
     "text": [
      "🔍 chunk_00517.tsv: 100%|██████████| 469/469 [31:39<00:00,  4.05s/it]\n"
     ]
    },
    {
     "name": "stdout",
     "output_type": "stream",
     "text": [
      "✅ Finished: /Volumes/X10 Pro/predicted_chunks/tmp_chunks/chunk_00517.tsv → /Volumes/X10 Pro/predicted_chunks/chunk_00517.tsv\n"
     ]
    },
    {
     "name": "stderr",
     "output_type": "stream",
     "text": [
      "🔍 chunk_00726.tsv: 100%|██████████| 469/469 [33:18<00:00,  4.26s/it]\n",
      "🔍 chunk_00518.tsv:  40%|███▉      | 186/469 [14:18<25:04,  5.32s/it]"
     ]
    },
    {
     "name": "stdout",
     "output_type": "stream",
     "text": [
      "✅ Finished: /Volumes/X10 Pro/predicted_chunks/tmp_chunks/chunk_00726.tsv → /Volumes/X10 Pro/predicted_chunks/chunk_00726.tsv\n"
     ]
    },
    {
     "name": "stderr",
     "output_type": "stream",
     "text": [
      "🔍 chunk_00106.tsv: 100%|██████████| 469/469 [33:00<00:00,  4.22s/it]\n"
     ]
    },
    {
     "name": "stdout",
     "output_type": "stream",
     "text": [
      "✅ Finished: /Volumes/X10 Pro/predicted_chunks/tmp_chunks/chunk_00106.tsv → /Volumes/X10 Pro/predicted_chunks/chunk_00106.tsv\n"
     ]
    },
    {
     "name": "stderr",
     "output_type": "stream",
     "text": [
      "🔍 chunk_00315.tsv: 100%|██████████| 469/469 [33:14<00:00,  4.25s/it]  \n",
      "🔍 chunk_00107.tsv:  57%|█████▋    | 267/469 [17:35<08:18,  2.47s/it]"
     ]
    },
    {
     "name": "stdout",
     "output_type": "stream",
     "text": [
      "✅ Finished: /Volumes/X10 Pro/predicted_chunks/tmp_chunks/chunk_00315.tsv → /Volumes/X10 Pro/predicted_chunks/chunk_00315.tsv\n"
     ]
    },
    {
     "name": "stderr",
     "output_type": "stream",
     "text": [
      "🔍 chunk_00518.tsv: 100%|██████████| 469/469 [33:20<00:00,  4.27s/it]\n",
      "🔍 chunk_00727.tsv:  59%|█████▉    | 278/469 [18:58<10:10,  3.20s/it]"
     ]
    },
    {
     "name": "stdout",
     "output_type": "stream",
     "text": [
      "✅ Finished: /Volumes/X10 Pro/predicted_chunks/tmp_chunks/chunk_00518.tsv → /Volumes/X10 Pro/predicted_chunks/chunk_00518.tsv\n"
     ]
    },
    {
     "name": "stderr",
     "output_type": "stream",
     "text": [
      "🔍 chunk_00107.tsv: 100%|██████████| 469/469 [28:07<00:00,  3.60s/it]\n",
      "🔍 chunk_00727.tsv:  97%|█████████▋| 457/469 [28:34<00:42,  3.58s/it]"
     ]
    },
    {
     "name": "stdout",
     "output_type": "stream",
     "text": [
      "✅ Finished: /Volumes/X10 Pro/predicted_chunks/tmp_chunks/chunk_00107.tsv → /Volumes/X10 Pro/predicted_chunks/chunk_00107.tsv\n"
     ]
    },
    {
     "name": "stderr",
     "output_type": "stream",
     "text": [
      "🔍 chunk_00727.tsv: 100%|██████████| 469/469 [29:09<00:00,  3.73s/it]\n"
     ]
    },
    {
     "name": "stdout",
     "output_type": "stream",
     "text": [
      "✅ Finished: /Volumes/X10 Pro/predicted_chunks/tmp_chunks/chunk_00727.tsv → /Volumes/X10 Pro/predicted_chunks/chunk_00727.tsv\n"
     ]
    },
    {
     "name": "stderr",
     "output_type": "stream",
     "text": [
      "🔍 chunk_00316.tsv: 100%|██████████| 469/469 [24:24<00:00,  3.12s/it]\n",
      "🔍 chunk_00728.tsv:  52%|█████▏    | 246/469 [13:18<10:52,  2.92s/it]"
     ]
    },
    {
     "name": "stdout",
     "output_type": "stream",
     "text": [
      "✅ Finished: /Volumes/X10 Pro/predicted_chunks/tmp_chunks/chunk_00316.tsv → /Volumes/X10 Pro/predicted_chunks/chunk_00316.tsv\n"
     ]
    },
    {
     "name": "stderr",
     "output_type": "stream",
     "text": [
      "🔍 chunk_00519.tsv: 100%|██████████| 469/469 [24:48<00:00,  3.17s/it]\n",
      "🔍 chunk_00728.tsv:  57%|█████▋    | 268/469 [14:36<12:31,  3.74s/it]"
     ]
    },
    {
     "name": "stdout",
     "output_type": "stream",
     "text": [
      "✅ Finished: /Volumes/X10 Pro/predicted_chunks/tmp_chunks/chunk_00519.tsv → /Volumes/X10 Pro/predicted_chunks/chunk_00519.tsv\n"
     ]
    },
    {
     "name": "stderr",
     "output_type": "stream",
     "text": [
      "🔍 chunk_00108.tsv: 100%|██████████| 469/469 [24:21<00:00,  3.12s/it]\n"
     ]
    },
    {
     "name": "stdout",
     "output_type": "stream",
     "text": [
      "✅ Finished: /Volumes/X10 Pro/predicted_chunks/tmp_chunks/chunk_00108.tsv → /Volumes/X10 Pro/predicted_chunks/chunk_00108.tsv\n"
     ]
    },
    {
     "name": "stderr",
     "output_type": "stream",
     "text": [
      "🔍 chunk_00728.tsv: 100%|██████████| 469/469 [25:07<00:00,  3.22s/it]\n",
      "🔍 chunk_00520.tsv:  41%|████▏     | 194/469 [10:28<14:17,  3.12s/it]"
     ]
    },
    {
     "name": "stdout",
     "output_type": "stream",
     "text": [
      "✅ Finished: /Volumes/X10 Pro/predicted_chunks/tmp_chunks/chunk_00728.tsv → /Volumes/X10 Pro/predicted_chunks/chunk_00728.tsv\n"
     ]
    },
    {
     "name": "stderr",
     "output_type": "stream",
     "text": [
      "🔍 chunk_00317.tsv: 100%|██████████| 469/469 [24:46<00:00,  3.17s/it]\n"
     ]
    },
    {
     "name": "stdout",
     "output_type": "stream",
     "text": [
      "✅ Finished: /Volumes/X10 Pro/predicted_chunks/tmp_chunks/chunk_00317.tsv → /Volumes/X10 Pro/predicted_chunks/chunk_00317.tsv\n"
     ]
    },
    {
     "name": "stderr",
     "output_type": "stream",
     "text": [
      "🔍 chunk_00520.tsv: 100%|██████████| 469/469 [25:20<00:00,  3.24s/it]\n",
      "🔍 chunk_00729.tsv:  61%|██████    | 286/469 [14:50<08:55,  2.93s/it]"
     ]
    },
    {
     "name": "stdout",
     "output_type": "stream",
     "text": [
      "✅ Finished: /Volumes/X10 Pro/predicted_chunks/tmp_chunks/chunk_00520.tsv → /Volumes/X10 Pro/predicted_chunks/chunk_00520.tsv\n"
     ]
    },
    {
     "name": "stderr",
     "output_type": "stream",
     "text": [
      "🔍 chunk_00109.tsv: 100%|██████████| 469/469 [25:01<00:00,  3.20s/it]\n"
     ]
    },
    {
     "name": "stdout",
     "output_type": "stream",
     "text": [
      "✅ Finished: /Volumes/X10 Pro/predicted_chunks/tmp_chunks/chunk_00109.tsv → /Volumes/X10 Pro/predicted_chunks/chunk_00109.tsv\n"
     ]
    },
    {
     "name": "stderr",
     "output_type": "stream",
     "text": [
      "🔍 chunk_00729.tsv: 100%|██████████| 469/469 [24:24<00:00,  3.12s/it]\n"
     ]
    },
    {
     "name": "stdout",
     "output_type": "stream",
     "text": [
      "✅ Finished: /Volumes/X10 Pro/predicted_chunks/tmp_chunks/chunk_00729.tsv → /Volumes/X10 Pro/predicted_chunks/chunk_00729.tsv\n"
     ]
    },
    {
     "name": "stderr",
     "output_type": "stream",
     "text": [
      "🔍 chunk_00318.tsv: 100%|██████████| 469/469 [25:04<00:00,  3.21s/it]\n"
     ]
    },
    {
     "name": "stdout",
     "output_type": "stream",
     "text": [
      "✅ Finished: /Volumes/X10 Pro/predicted_chunks/tmp_chunks/chunk_00318.tsv → /Volumes/X10 Pro/predicted_chunks/chunk_00318.tsv\n"
     ]
    },
    {
     "name": "stderr",
     "output_type": "stream",
     "text": [
      "🔍 chunk_00521.tsv: 100%|██████████| 469/469 [25:31<00:00,  3.26s/it]\n",
      "🔍 chunk_00730.tsv:  63%|██████▎   | 295/469 [15:56<09:08,  3.15s/it]"
     ]
    },
    {
     "name": "stdout",
     "output_type": "stream",
     "text": [
      "✅ Finished: /Volumes/X10 Pro/predicted_chunks/tmp_chunks/chunk_00521.tsv → /Volumes/X10 Pro/predicted_chunks/chunk_00521.tsv\n"
     ]
    },
    {
     "name": "stderr",
     "output_type": "stream",
     "text": [
      "🔍 chunk_00110.tsv: 100%|██████████| 469/469 [24:32<00:00,  3.14s/it]\n",
      "🔍 chunk_00319.tsv:  41%|████▏     | 194/469 [10:08<14:09,  3.09s/it]"
     ]
    },
    {
     "name": "stdout",
     "output_type": "stream",
     "text": [
      "✅ Finished: /Volumes/X10 Pro/predicted_chunks/tmp_chunks/chunk_00110.tsv → /Volumes/X10 Pro/predicted_chunks/chunk_00110.tsv\n"
     ]
    },
    {
     "name": "stderr",
     "output_type": "stream",
     "text": [
      "🔍 chunk_00730.tsv: 100%|██████████| 469/469 [24:58<00:00,  3.20s/it]\n"
     ]
    },
    {
     "name": "stdout",
     "output_type": "stream",
     "text": [
      "✅ Finished: /Volumes/X10 Pro/predicted_chunks/tmp_chunks/chunk_00730.tsv → /Volumes/X10 Pro/predicted_chunks/chunk_00730.tsv\n"
     ]
    },
    {
     "name": "stderr",
     "output_type": "stream",
     "text": [
      "🔍 chunk_00319.tsv: 100%|██████████| 469/469 [23:48<00:00,  3.05s/it]\n",
      "🔍 chunk_00522.tsv:  86%|████████▌ | 402/469 [21:28<03:34,  3.20s/it]"
     ]
    },
    {
     "name": "stdout",
     "output_type": "stream",
     "text": [
      "✅ Finished: /Volumes/X10 Pro/predicted_chunks/tmp_chunks/chunk_00319.tsv → /Volumes/X10 Pro/predicted_chunks/chunk_00319.tsv\n"
     ]
    },
    {
     "name": "stderr",
     "output_type": "stream",
     "text": [
      "🔍 chunk_00522.tsv: 100%|██████████| 469/469 [24:55<00:00,  3.19s/it]\n"
     ]
    },
    {
     "name": "stdout",
     "output_type": "stream",
     "text": [
      "✅ Finished: /Volumes/X10 Pro/predicted_chunks/tmp_chunks/chunk_00522.tsv → /Volumes/X10 Pro/predicted_chunks/chunk_00522.tsv\n"
     ]
    },
    {
     "name": "stderr",
     "output_type": "stream",
     "text": [
      "🔍 chunk_00111.tsv: 100%|██████████| 469/469 [23:56<00:00,  3.06s/it]\n"
     ]
    },
    {
     "name": "stdout",
     "output_type": "stream",
     "text": [
      "✅ Finished: /Volumes/X10 Pro/predicted_chunks/tmp_chunks/chunk_00111.tsv → /Volumes/X10 Pro/predicted_chunks/chunk_00111.tsv\n"
     ]
    },
    {
     "name": "stderr",
     "output_type": "stream",
     "text": [
      "🔍 chunk_00731.tsv: 100%|██████████| 469/469 [25:07<00:00,  3.22s/it]\n",
      "🔍 chunk_00320.tsv:  52%|█████▏    | 242/469 [12:39<11:09,  2.95s/it]"
     ]
    },
    {
     "name": "stdout",
     "output_type": "stream",
     "text": [
      "✅ Finished: /Volumes/X10 Pro/predicted_chunks/tmp_chunks/chunk_00731.tsv → /Volumes/X10 Pro/predicted_chunks/chunk_00731.tsv\n"
     ]
    },
    {
     "name": "stderr",
     "output_type": "stream",
     "text": [
      "🔍 chunk_00320.tsv: 100%|██████████| 469/469 [24:33<00:00,  3.14s/it]\n"
     ]
    },
    {
     "name": "stdout",
     "output_type": "stream",
     "text": [
      "✅ Finished: /Volumes/X10 Pro/predicted_chunks/tmp_chunks/chunk_00320.tsv → /Volumes/X10 Pro/predicted_chunks/chunk_00320.tsv\n"
     ]
    },
    {
     "name": "stderr",
     "output_type": "stream",
     "text": [
      "🔍 chunk_00523.tsv: 100%|██████████| 469/469 [25:13<00:00,  3.23s/it]\n"
     ]
    },
    {
     "name": "stdout",
     "output_type": "stream",
     "text": [
      "✅ Finished: /Volumes/X10 Pro/predicted_chunks/tmp_chunks/chunk_00523.tsv → /Volumes/X10 Pro/predicted_chunks/chunk_00523.tsv\n"
     ]
    },
    {
     "name": "stderr",
     "output_type": "stream",
     "text": [
      "🔍 chunk_00112.tsv: 100%|██████████| 469/469 [24:30<00:00,  3.14s/it]\n"
     ]
    },
    {
     "name": "stdout",
     "output_type": "stream",
     "text": [
      "✅ Finished: /Volumes/X10 Pro/predicted_chunks/tmp_chunks/chunk_00112.tsv → /Volumes/X10 Pro/predicted_chunks/chunk_00112.tsv\n"
     ]
    },
    {
     "name": "stderr",
     "output_type": "stream",
     "text": [
      "🔍 chunk_00732.tsv: 100%|██████████| 469/469 [25:50<00:00,  3.31s/it]\n"
     ]
    },
    {
     "name": "stdout",
     "output_type": "stream",
     "text": [
      "✅ Finished: /Volumes/X10 Pro/predicted_chunks/tmp_chunks/chunk_00732.tsv → /Volumes/X10 Pro/predicted_chunks/chunk_00732.tsv\n"
     ]
    },
    {
     "name": "stderr",
     "output_type": "stream",
     "text": [
      "🔍 chunk_00321.tsv: 100%|██████████| 469/469 [24:25<00:00,  3.12s/it]\n"
     ]
    },
    {
     "name": "stdout",
     "output_type": "stream",
     "text": [
      "✅ Finished: /Volumes/X10 Pro/predicted_chunks/tmp_chunks/chunk_00321.tsv → /Volumes/X10 Pro/predicted_chunks/chunk_00321.tsv\n"
     ]
    },
    {
     "name": "stderr",
     "output_type": "stream",
     "text": [
      "🔍 chunk_00524.tsv: 100%|██████████| 469/469 [25:13<00:00,  3.23s/it]\n"
     ]
    },
    {
     "name": "stdout",
     "output_type": "stream",
     "text": [
      "✅ Finished: /Volumes/X10 Pro/predicted_chunks/tmp_chunks/chunk_00524.tsv → /Volumes/X10 Pro/predicted_chunks/chunk_00524.tsv\n"
     ]
    },
    {
     "name": "stderr",
     "output_type": "stream",
     "text": [
      "🔍 chunk_00113.tsv: 100%|██████████| 469/469 [23:48<00:00,  3.05s/it]\n"
     ]
    },
    {
     "name": "stdout",
     "output_type": "stream",
     "text": [
      "✅ Finished: /Volumes/X10 Pro/predicted_chunks/tmp_chunks/chunk_00113.tsv → /Volumes/X10 Pro/predicted_chunks/chunk_00113.tsv\n"
     ]
    },
    {
     "name": "stderr",
     "output_type": "stream",
     "text": [
      "🔍 chunk_00733.tsv: 100%|██████████| 469/469 [25:03<00:00,  3.21s/it]\n",
      "🔍 chunk_00525.tsv:  39%|███▉      | 183/469 [09:39<14:43,  3.09s/it]"
     ]
    },
    {
     "name": "stdout",
     "output_type": "stream",
     "text": [
      "✅ Finished: /Volumes/X10 Pro/predicted_chunks/tmp_chunks/chunk_00733.tsv → /Volumes/X10 Pro/predicted_chunks/chunk_00733.tsv\n"
     ]
    },
    {
     "name": "stderr",
     "output_type": "stream",
     "text": [
      "🔍 chunk_00322.tsv: 100%|██████████| 469/469 [23:53<00:00,  3.06s/it]\n"
     ]
    },
    {
     "name": "stdout",
     "output_type": "stream",
     "text": [
      "✅ Finished: /Volumes/X10 Pro/predicted_chunks/tmp_chunks/chunk_00322.tsv → /Volumes/X10 Pro/predicted_chunks/chunk_00322.tsv\n"
     ]
    },
    {
     "name": "stderr",
     "output_type": "stream",
     "text": [
      "🔍 chunk_00525.tsv: 100%|██████████| 469/469 [24:39<00:00,  3.16s/it]\n"
     ]
    },
    {
     "name": "stdout",
     "output_type": "stream",
     "text": [
      "✅ Finished: /Volumes/X10 Pro/predicted_chunks/tmp_chunks/chunk_00525.tsv → /Volumes/X10 Pro/predicted_chunks/chunk_00525.tsv\n"
     ]
    },
    {
     "name": "stderr",
     "output_type": "stream",
     "text": [
      "🔍 chunk_00114.tsv: 100%|██████████| 469/469 [23:44<00:00,  3.04s/it]\n"
     ]
    },
    {
     "name": "stdout",
     "output_type": "stream",
     "text": [
      "✅ Finished: /Volumes/X10 Pro/predicted_chunks/tmp_chunks/chunk_00114.tsv → /Volumes/X10 Pro/predicted_chunks/chunk_00114.tsv\n"
     ]
    },
    {
     "name": "stderr",
     "output_type": "stream",
     "text": [
      "🔍 chunk_00734.tsv: 100%|██████████| 469/469 [25:00<00:00,  3.20s/it]\n",
      "🔍 chunk_00526.tsv:  39%|███▉      | 185/469 [10:00<13:51,  2.93s/it]"
     ]
    },
    {
     "name": "stdout",
     "output_type": "stream",
     "text": [
      "✅ Finished: /Volumes/X10 Pro/predicted_chunks/tmp_chunks/chunk_00734.tsv → /Volumes/X10 Pro/predicted_chunks/chunk_00734.tsv\n"
     ]
    },
    {
     "name": "stderr",
     "output_type": "stream",
     "text": [
      "🔍 chunk_00323.tsv: 100%|██████████| 469/469 [24:00<00:00,  3.07s/it]\n"
     ]
    },
    {
     "name": "stdout",
     "output_type": "stream",
     "text": [
      "✅ Finished: /Volumes/X10 Pro/predicted_chunks/tmp_chunks/chunk_00323.tsv → /Volumes/X10 Pro/predicted_chunks/chunk_00323.tsv\n"
     ]
    },
    {
     "name": "stderr",
     "output_type": "stream",
     "text": [
      "🔍 chunk_00526.tsv: 100%|██████████| 469/469 [25:24<00:00,  3.25s/it]\n"
     ]
    },
    {
     "name": "stdout",
     "output_type": "stream",
     "text": [
      "✅ Finished: /Volumes/X10 Pro/predicted_chunks/tmp_chunks/chunk_00526.tsv → /Volumes/X10 Pro/predicted_chunks/chunk_00526.tsv\n"
     ]
    },
    {
     "name": "stderr",
     "output_type": "stream",
     "text": [
      "🔍 chunk_00115.tsv: 100%|██████████| 469/469 [23:54<00:00,  3.06s/it]\n",
      "🔍 chunk_00324.tsv:  38%|███▊      | 177/469 [09:22<14:21,  2.95s/it]"
     ]
    },
    {
     "name": "stdout",
     "output_type": "stream",
     "text": [
      "✅ Finished: /Volumes/X10 Pro/predicted_chunks/tmp_chunks/chunk_00115.tsv → /Volumes/X10 Pro/predicted_chunks/chunk_00115.tsv\n"
     ]
    },
    {
     "name": "stderr",
     "output_type": "stream",
     "text": [
      "🔍 chunk_00735.tsv: 100%|██████████| 469/469 [25:16<00:00,  3.23s/it]\n"
     ]
    },
    {
     "name": "stdout",
     "output_type": "stream",
     "text": [
      "✅ Finished: /Volumes/X10 Pro/predicted_chunks/tmp_chunks/chunk_00735.tsv → /Volumes/X10 Pro/predicted_chunks/chunk_00735.tsv\n"
     ]
    },
    {
     "name": "stderr",
     "output_type": "stream",
     "text": [
      "🔍 chunk_00324.tsv: 100%|██████████| 469/469 [24:47<00:00,  3.17s/it]\n",
      "🔍 chunk_00527.tsv:  69%|██████▊   | 322/469 [17:40<07:49,  3.19s/it]"
     ]
    },
    {
     "name": "stdout",
     "output_type": "stream",
     "text": [
      "✅ Finished: /Volumes/X10 Pro/predicted_chunks/tmp_chunks/chunk_00324.tsv → /Volumes/X10 Pro/predicted_chunks/chunk_00324.tsv\n"
     ]
    },
    {
     "name": "stderr",
     "output_type": "stream",
     "text": [
      "🔍 chunk_00527.tsv: 100%|██████████| 469/469 [25:36<00:00,  3.28s/it]\n",
      "🔍 chunk_00325.tsv:  31%|███▏      | 147/469 [07:54<17:21,  3.24s/it]"
     ]
    },
    {
     "name": "stdout",
     "output_type": "stream",
     "text": [
      "✅ Finished: /Volumes/X10 Pro/predicted_chunks/tmp_chunks/chunk_00527.tsv → /Volumes/X10 Pro/predicted_chunks/chunk_00527.tsv\n"
     ]
    },
    {
     "name": "stderr",
     "output_type": "stream",
     "text": [
      "🔍 chunk_00116.tsv: 100%|██████████| 469/469 [24:05<00:00,  3.08s/it]\n",
      "🔍 chunk_00325.tsv:  35%|███▍      | 164/469 [08:41<11:50,  2.33s/it]"
     ]
    },
    {
     "name": "stdout",
     "output_type": "stream",
     "text": [
      "✅ Finished: /Volumes/X10 Pro/predicted_chunks/tmp_chunks/chunk_00116.tsv → /Volumes/X10 Pro/predicted_chunks/chunk_00116.tsv\n"
     ]
    },
    {
     "name": "stderr",
     "output_type": "stream",
     "text": [
      "🔍 chunk_00736.tsv: 100%|██████████| 469/469 [25:21<00:00,  3.24s/it]\n",
      "🔍 chunk_00528.tsv:  39%|███▉      | 183/469 [09:37<12:42,  2.67s/it]"
     ]
    },
    {
     "name": "stdout",
     "output_type": "stream",
     "text": [
      "✅ Finished: /Volumes/X10 Pro/predicted_chunks/tmp_chunks/chunk_00736.tsv → /Volumes/X10 Pro/predicted_chunks/chunk_00736.tsv\n"
     ]
    },
    {
     "name": "stderr",
     "output_type": "stream",
     "text": [
      "🔍 chunk_00325.tsv: 100%|██████████| 469/469 [24:29<00:00,  3.13s/it]\n"
     ]
    },
    {
     "name": "stdout",
     "output_type": "stream",
     "text": [
      "✅ Finished: /Volumes/X10 Pro/predicted_chunks/tmp_chunks/chunk_00325.tsv → /Volumes/X10 Pro/predicted_chunks/chunk_00325.tsv\n"
     ]
    },
    {
     "name": "stderr",
     "output_type": "stream",
     "text": [
      "🔍 chunk_00117.tsv: 100%|██████████| 469/469 [23:59<00:00,  3.07s/it]\n"
     ]
    },
    {
     "name": "stdout",
     "output_type": "stream",
     "text": [
      "✅ Finished: /Volumes/X10 Pro/predicted_chunks/tmp_chunks/chunk_00117.tsv → /Volumes/X10 Pro/predicted_chunks/chunk_00117.tsv\n"
     ]
    },
    {
     "name": "stderr",
     "output_type": "stream",
     "text": [
      "🔍 chunk_00528.tsv: 100%|██████████| 469/469 [25:12<00:00,  3.22s/it]\n"
     ]
    },
    {
     "name": "stdout",
     "output_type": "stream",
     "text": [
      "✅ Finished: /Volumes/X10 Pro/predicted_chunks/tmp_chunks/chunk_00528.tsv → /Volumes/X10 Pro/predicted_chunks/chunk_00528.tsv\n"
     ]
    },
    {
     "name": "stderr",
     "output_type": "stream",
     "text": [
      "🔍 chunk_00737.tsv: 100%|██████████| 469/469 [25:39<00:00,  3.28s/it]\n"
     ]
    },
    {
     "name": "stdout",
     "output_type": "stream",
     "text": [
      "✅ Finished: /Volumes/X10 Pro/predicted_chunks/tmp_chunks/chunk_00737.tsv → /Volumes/X10 Pro/predicted_chunks/chunk_00737.tsv\n"
     ]
    },
    {
     "name": "stderr",
     "output_type": "stream",
     "text": [
      "🔍 chunk_00326.tsv: 100%|██████████| 469/469 [24:29<00:00,  3.13s/it]\n"
     ]
    },
    {
     "name": "stdout",
     "output_type": "stream",
     "text": [
      "✅ Finished: /Volumes/X10 Pro/predicted_chunks/tmp_chunks/chunk_00326.tsv → /Volumes/X10 Pro/predicted_chunks/chunk_00326.tsv\n"
     ]
    },
    {
     "name": "stderr",
     "output_type": "stream",
     "text": [
      "🔍 chunk_00118.tsv: 100%|██████████| 469/469 [24:14<00:00,  3.10s/it]\n"
     ]
    },
    {
     "name": "stdout",
     "output_type": "stream",
     "text": [
      "✅ Finished: /Volumes/X10 Pro/predicted_chunks/tmp_chunks/chunk_00118.tsv → /Volumes/X10 Pro/predicted_chunks/chunk_00118.tsv\n"
     ]
    },
    {
     "name": "stderr",
     "output_type": "stream",
     "text": [
      "🔍 chunk_00529.tsv: 100%|██████████| 469/469 [25:25<00:00,  3.25s/it]\n",
      "🔍 chunk_00738.tsv:  61%|██████    | 284/469 [15:18<09:35,  3.11s/it]"
     ]
    },
    {
     "name": "stdout",
     "output_type": "stream",
     "text": [
      "✅ Finished: /Volumes/X10 Pro/predicted_chunks/tmp_chunks/chunk_00529.tsv → /Volumes/X10 Pro/predicted_chunks/chunk_00529.tsv\n"
     ]
    },
    {
     "name": "stderr",
     "output_type": "stream",
     "text": [
      "🔍 chunk_00738.tsv: 100%|██████████| 469/469 [25:20<00:00,  3.24s/it]\n"
     ]
    },
    {
     "name": "stdout",
     "output_type": "stream",
     "text": [
      "✅ Finished: /Volumes/X10 Pro/predicted_chunks/tmp_chunks/chunk_00738.tsv → /Volumes/X10 Pro/predicted_chunks/chunk_00738.tsv\n"
     ]
    },
    {
     "name": "stderr",
     "output_type": "stream",
     "text": [
      "🔍 chunk_00327.tsv: 100%|██████████| 469/469 [23:45<00:00,  3.04s/it]\n"
     ]
    },
    {
     "name": "stdout",
     "output_type": "stream",
     "text": [
      "✅ Finished: /Volumes/X10 Pro/predicted_chunks/tmp_chunks/chunk_00327.tsv → /Volumes/X10 Pro/predicted_chunks/chunk_00327.tsv\n"
     ]
    },
    {
     "name": "stderr",
     "output_type": "stream",
     "text": [
      "🔍 chunk_00119.tsv: 100%|██████████| 469/469 [23:50<00:00,  3.05s/it]\n"
     ]
    },
    {
     "name": "stdout",
     "output_type": "stream",
     "text": [
      "✅ Finished: /Volumes/X10 Pro/predicted_chunks/tmp_chunks/chunk_00119.tsv → /Volumes/X10 Pro/predicted_chunks/chunk_00119.tsv\n"
     ]
    },
    {
     "name": "stderr",
     "output_type": "stream",
     "text": [
      "🔍 chunk_00530.tsv: 100%|██████████| 469/469 [25:18<00:00,  3.24s/it]\n",
      "🔍 chunk_00120.tsv:  13%|█▎        | 60/469 [03:03<20:11,  2.96s/it]"
     ]
    },
    {
     "name": "stdout",
     "output_type": "stream",
     "text": [
      "✅ Finished: /Volumes/X10 Pro/predicted_chunks/tmp_chunks/chunk_00530.tsv → /Volumes/X10 Pro/predicted_chunks/chunk_00530.tsv\n"
     ]
    },
    {
     "name": "stderr",
     "output_type": "stream",
     "text": [
      "🔍 chunk_00739.tsv: 100%|██████████| 469/469 [25:19<00:00,  3.24s/it]\n"
     ]
    },
    {
     "name": "stdout",
     "output_type": "stream",
     "text": [
      "✅ Finished: /Volumes/X10 Pro/predicted_chunks/tmp_chunks/chunk_00739.tsv → /Volumes/X10 Pro/predicted_chunks/chunk_00739.tsv\n"
     ]
    },
    {
     "name": "stderr",
     "output_type": "stream",
     "text": [
      "🔍 chunk_00328.tsv: 100%|██████████| 469/469 [23:46<00:00,  3.04s/it]\n"
     ]
    },
    {
     "name": "stdout",
     "output_type": "stream",
     "text": [
      "✅ Finished: /Volumes/X10 Pro/predicted_chunks/tmp_chunks/chunk_00328.tsv → /Volumes/X10 Pro/predicted_chunks/chunk_00328.tsv\n"
     ]
    },
    {
     "name": "stderr",
     "output_type": "stream",
     "text": [
      "🔍 chunk_00120.tsv: 100%|██████████| 469/469 [24:05<00:00,  3.08s/it]\n",
      "🔍 chunk_00329.tsv:  35%|███▍      | 164/469 [08:18<15:24,  3.03s/it]"
     ]
    },
    {
     "name": "stdout",
     "output_type": "stream",
     "text": [
      "✅ Finished: /Volumes/X10 Pro/predicted_chunks/tmp_chunks/chunk_00120.tsv → /Volumes/X10 Pro/predicted_chunks/chunk_00120.tsv\n"
     ]
    },
    {
     "name": "stderr",
     "output_type": "stream",
     "text": [
      "🔍 chunk_00531.tsv: 100%|██████████| 469/469 [25:34<00:00,  3.27s/it]\n"
     ]
    },
    {
     "name": "stdout",
     "output_type": "stream",
     "text": [
      "✅ Finished: /Volumes/X10 Pro/predicted_chunks/tmp_chunks/chunk_00531.tsv → /Volumes/X10 Pro/predicted_chunks/chunk_00531.tsv\n"
     ]
    },
    {
     "name": "stderr",
     "output_type": "stream",
     "text": [
      "🔍 chunk_00740.tsv: 100%|██████████| 469/469 [24:51<00:00,  3.18s/it]\n"
     ]
    },
    {
     "name": "stdout",
     "output_type": "stream",
     "text": [
      "✅ Finished: /Volumes/X10 Pro/predicted_chunks/tmp_chunks/chunk_00740.tsv → /Volumes/X10 Pro/predicted_chunks/chunk_00740.tsv\n"
     ]
    },
    {
     "name": "stderr",
     "output_type": "stream",
     "text": [
      "🔍 chunk_00329.tsv: 100%|██████████| 469/469 [23:55<00:00,  3.06s/it]\n",
      "🔍 chunk_00741.tsv:   7%|▋         | 31/469 [01:38<23:12,  3.18s/it]"
     ]
    },
    {
     "name": "stdout",
     "output_type": "stream",
     "text": [
      "✅ Finished: /Volumes/X10 Pro/predicted_chunks/tmp_chunks/chunk_00329.tsv → /Volumes/X10 Pro/predicted_chunks/chunk_00329.tsv\n"
     ]
    },
    {
     "name": "stderr",
     "output_type": "stream",
     "text": [
      "🔍 chunk_00121.tsv: 100%|██████████| 469/469 [23:45<00:00,  3.04s/it]\n"
     ]
    },
    {
     "name": "stdout",
     "output_type": "stream",
     "text": [
      "✅ Finished: /Volumes/X10 Pro/predicted_chunks/tmp_chunks/chunk_00121.tsv → /Volumes/X10 Pro/predicted_chunks/chunk_00121.tsv\n"
     ]
    },
    {
     "name": "stderr",
     "output_type": "stream",
     "text": [
      "🔍 chunk_00532.tsv: 100%|██████████| 469/469 [25:19<00:00,  3.24s/it]\n"
     ]
    },
    {
     "name": "stdout",
     "output_type": "stream",
     "text": [
      "✅ Finished: /Volumes/X10 Pro/predicted_chunks/tmp_chunks/chunk_00532.tsv → /Volumes/X10 Pro/predicted_chunks/chunk_00532.tsv\n"
     ]
    },
    {
     "name": "stderr",
     "output_type": "stream",
     "text": [
      "🔍 chunk_00741.tsv: 100%|██████████| 469/469 [25:23<00:00,  3.25s/it]\n"
     ]
    },
    {
     "name": "stdout",
     "output_type": "stream",
     "text": [
      "✅ Finished: /Volumes/X10 Pro/predicted_chunks/tmp_chunks/chunk_00741.tsv → /Volumes/X10 Pro/predicted_chunks/chunk_00741.tsv\n"
     ]
    },
    {
     "name": "stderr",
     "output_type": "stream",
     "text": [
      "🔍 chunk_00330.tsv: 100%|██████████| 469/469 [24:04<00:00,  3.08s/it]\n"
     ]
    },
    {
     "name": "stdout",
     "output_type": "stream",
     "text": [
      "✅ Finished: /Volumes/X10 Pro/predicted_chunks/tmp_chunks/chunk_00330.tsv → /Volumes/X10 Pro/predicted_chunks/chunk_00330.tsv\n"
     ]
    },
    {
     "name": "stderr",
     "output_type": "stream",
     "text": [
      "🔍 chunk_00122.tsv: 100%|██████████| 469/469 [24:20<00:00,  3.11s/it]\n"
     ]
    },
    {
     "name": "stdout",
     "output_type": "stream",
     "text": [
      "✅ Finished: /Volumes/X10 Pro/predicted_chunks/tmp_chunks/chunk_00122.tsv → /Volumes/X10 Pro/predicted_chunks/chunk_00122.tsv\n"
     ]
    },
    {
     "name": "stderr",
     "output_type": "stream",
     "text": [
      "🔍 chunk_00533.tsv: 100%|██████████| 469/469 [25:05<00:00,  3.21s/it]\n",
      "🔍 chunk_00742.tsv:  61%|██████▏   | 288/469 [15:40<09:01,  2.99s/it]"
     ]
    },
    {
     "name": "stdout",
     "output_type": "stream",
     "text": [
      "✅ Finished: /Volumes/X10 Pro/predicted_chunks/tmp_chunks/chunk_00533.tsv → /Volumes/X10 Pro/predicted_chunks/chunk_00533.tsv\n"
     ]
    },
    {
     "name": "stderr",
     "output_type": "stream",
     "text": [
      "🔍 chunk_00331.tsv: 100%|██████████| 469/469 [24:29<00:00,  3.13s/it]\n"
     ]
    },
    {
     "name": "stdout",
     "output_type": "stream",
     "text": [
      "✅ Finished: /Volumes/X10 Pro/predicted_chunks/tmp_chunks/chunk_00331.tsv → /Volumes/X10 Pro/predicted_chunks/chunk_00331.tsv\n"
     ]
    },
    {
     "name": "stderr",
     "output_type": "stream",
     "text": [
      "🔍 chunk_00742.tsv: 100%|██████████| 469/469 [25:19<00:00,  3.24s/it]\n"
     ]
    },
    {
     "name": "stdout",
     "output_type": "stream",
     "text": [
      "✅ Finished: /Volumes/X10 Pro/predicted_chunks/tmp_chunks/chunk_00742.tsv → /Volumes/X10 Pro/predicted_chunks/chunk_00742.tsv\n"
     ]
    },
    {
     "name": "stderr",
     "output_type": "stream",
     "text": [
      "🔍 chunk_00123.tsv: 100%|██████████| 469/469 [24:23<00:00,  3.12s/it]\n"
     ]
    },
    {
     "name": "stdout",
     "output_type": "stream",
     "text": [
      "✅ Finished: /Volumes/X10 Pro/predicted_chunks/tmp_chunks/chunk_00123.tsv → /Volumes/X10 Pro/predicted_chunks/chunk_00123.tsv\n"
     ]
    },
    {
     "name": "stderr",
     "output_type": "stream",
     "text": [
      "🔍 chunk_00534.tsv: 100%|██████████| 469/469 [24:26<00:00,  3.13s/it]\n",
      "🔍 chunk_00124.tsv:  28%|██▊       | 133/469 [06:52<15:56,  2.85s/it]"
     ]
    },
    {
     "name": "stdout",
     "output_type": "stream",
     "text": [
      "✅ Finished: /Volumes/X10 Pro/predicted_chunks/tmp_chunks/chunk_00534.tsv → /Volumes/X10 Pro/predicted_chunks/chunk_00534.tsv\n"
     ]
    },
    {
     "name": "stderr",
     "output_type": "stream",
     "text": [
      "🔍 chunk_00332.tsv: 100%|██████████| 469/469 [24:02<00:00,  3.07s/it]\n"
     ]
    },
    {
     "name": "stdout",
     "output_type": "stream",
     "text": [
      "✅ Finished: /Volumes/X10 Pro/predicted_chunks/tmp_chunks/chunk_00332.tsv → /Volumes/X10 Pro/predicted_chunks/chunk_00332.tsv\n"
     ]
    },
    {
     "name": "stderr",
     "output_type": "stream",
     "text": [
      "🔍 chunk_00743.tsv: 100%|██████████| 469/469 [25:36<00:00,  3.28s/it]\n"
     ]
    },
    {
     "name": "stdout",
     "output_type": "stream",
     "text": [
      "✅ Finished: /Volumes/X10 Pro/predicted_chunks/tmp_chunks/chunk_00743.tsv → /Volumes/X10 Pro/predicted_chunks/chunk_00743.tsv\n"
     ]
    },
    {
     "name": "stderr",
     "output_type": "stream",
     "text": [
      "🔍 chunk_00124.tsv: 100%|██████████| 469/469 [24:15<00:00,  3.10s/it]\n",
      "🔍 chunk_00333.tsv:  35%|███▍      | 163/469 [08:32<16:25,  3.22s/it]"
     ]
    },
    {
     "name": "stdout",
     "output_type": "stream",
     "text": [
      "✅ Finished: /Volumes/X10 Pro/predicted_chunks/tmp_chunks/chunk_00124.tsv → /Volumes/X10 Pro/predicted_chunks/chunk_00124.tsv\n"
     ]
    },
    {
     "name": "stderr",
     "output_type": "stream",
     "text": [
      "🔍 chunk_00535.tsv: 100%|██████████| 469/469 [24:28<00:00,  3.13s/it]\n",
      "🔍 chunk_00333.tsv:  65%|██████▌   | 307/469 [15:40<08:33,  3.17s/it]"
     ]
    },
    {
     "name": "stdout",
     "output_type": "stream",
     "text": [
      "✅ Finished: /Volumes/X10 Pro/predicted_chunks/tmp_chunks/chunk_00535.tsv → /Volumes/X10 Pro/predicted_chunks/chunk_00535.tsv\n"
     ]
    },
    {
     "name": "stderr",
     "output_type": "stream",
     "text": [
      "🔍 chunk_00333.tsv: 100%|██████████| 469/469 [23:57<00:00,  3.06s/it]\n"
     ]
    },
    {
     "name": "stdout",
     "output_type": "stream",
     "text": [
      "✅ Finished: /Volumes/X10 Pro/predicted_chunks/tmp_chunks/chunk_00333.tsv → /Volumes/X10 Pro/predicted_chunks/chunk_00333.tsv\n"
     ]
    },
    {
     "name": "stderr",
     "output_type": "stream",
     "text": [
      "🔍 chunk_00744.tsv: 100%|██████████| 469/469 [25:14<00:00,  3.23s/it]\n"
     ]
    },
    {
     "name": "stdout",
     "output_type": "stream",
     "text": [
      "✅ Finished: /Volumes/X10 Pro/predicted_chunks/tmp_chunks/chunk_00744.tsv → /Volumes/X10 Pro/predicted_chunks/chunk_00744.tsv\n"
     ]
    },
    {
     "name": "stderr",
     "output_type": "stream",
     "text": [
      "🔍 chunk_00125.tsv: 100%|██████████| 469/469 [24:42<00:00,  3.16s/it]\n",
      "🔍 chunk_00745.tsv:  23%|██▎       | 108/469 [05:58<18:53,  3.14s/it]"
     ]
    },
    {
     "name": "stdout",
     "output_type": "stream",
     "text": [
      "✅ Finished: /Volumes/X10 Pro/predicted_chunks/tmp_chunks/chunk_00125.tsv → /Volumes/X10 Pro/predicted_chunks/chunk_00125.tsv\n"
     ]
    },
    {
     "name": "stderr",
     "output_type": "stream",
     "text": [
      "🔍 chunk_00536.tsv: 100%|██████████| 469/469 [24:52<00:00,  3.18s/it]\n"
     ]
    },
    {
     "name": "stdout",
     "output_type": "stream",
     "text": [
      "✅ Finished: /Volumes/X10 Pro/predicted_chunks/tmp_chunks/chunk_00536.tsv → /Volumes/X10 Pro/predicted_chunks/chunk_00536.tsv\n"
     ]
    },
    {
     "name": "stderr",
     "output_type": "stream",
     "text": [
      "🔍 chunk_00334.tsv: 100%|██████████| 469/469 [24:04<00:00,  3.08s/it]\n",
      "🔍 chunk_00537.tsv:  30%|██▉       | 139/469 [07:26<18:28,  3.36s/it]"
     ]
    },
    {
     "name": "stdout",
     "output_type": "stream",
     "text": [
      "✅ Finished: /Volumes/X10 Pro/predicted_chunks/tmp_chunks/chunk_00334.tsv → /Volumes/X10 Pro/predicted_chunks/chunk_00334.tsv\n"
     ]
    },
    {
     "name": "stderr",
     "output_type": "stream",
     "text": [
      "🔍 chunk_00745.tsv: 100%|██████████| 469/469 [25:04<00:00,  3.21s/it]\n"
     ]
    },
    {
     "name": "stdout",
     "output_type": "stream",
     "text": [
      "✅ Finished: /Volumes/X10 Pro/predicted_chunks/tmp_chunks/chunk_00745.tsv → /Volumes/X10 Pro/predicted_chunks/chunk_00745.tsv\n"
     ]
    },
    {
     "name": "stderr",
     "output_type": "stream",
     "text": [
      "🔍 chunk_00126.tsv: 100%|██████████| 469/469 [23:47<00:00,  3.04s/it]\n"
     ]
    },
    {
     "name": "stdout",
     "output_type": "stream",
     "text": [
      "✅ Finished: /Volumes/X10 Pro/predicted_chunks/tmp_chunks/chunk_00126.tsv → /Volumes/X10 Pro/predicted_chunks/chunk_00126.tsv\n"
     ]
    },
    {
     "name": "stderr",
     "output_type": "stream",
     "text": [
      "🔍 chunk_00537.tsv: 100%|██████████| 469/469 [25:00<00:00,  3.20s/it]\n"
     ]
    },
    {
     "name": "stdout",
     "output_type": "stream",
     "text": [
      "✅ Finished: /Volumes/X10 Pro/predicted_chunks/tmp_chunks/chunk_00537.tsv → /Volumes/X10 Pro/predicted_chunks/chunk_00537.tsv\n"
     ]
    },
    {
     "name": "stderr",
     "output_type": "stream",
     "text": [
      "🔍 chunk_00335.tsv: 100%|██████████| 469/469 [23:45<00:00,  3.04s/it]\n"
     ]
    },
    {
     "name": "stdout",
     "output_type": "stream",
     "text": [
      "✅ Finished: /Volumes/X10 Pro/predicted_chunks/tmp_chunks/chunk_00335.tsv → /Volumes/X10 Pro/predicted_chunks/chunk_00335.tsv\n"
     ]
    },
    {
     "name": "stderr",
     "output_type": "stream",
     "text": [
      "🔍 chunk_00746.tsv: 100%|██████████| 469/469 [25:24<00:00,  3.25s/it]\n"
     ]
    },
    {
     "name": "stdout",
     "output_type": "stream",
     "text": [
      "✅ Finished: /Volumes/X10 Pro/predicted_chunks/tmp_chunks/chunk_00746.tsv → /Volumes/X10 Pro/predicted_chunks/chunk_00746.tsv\n"
     ]
    },
    {
     "name": "stderr",
     "output_type": "stream",
     "text": [
      "🔍 chunk_00127.tsv: 100%|██████████| 469/469 [23:53<00:00,  3.06s/it]\n"
     ]
    },
    {
     "name": "stdout",
     "output_type": "stream",
     "text": [
      "✅ Finished: /Volumes/X10 Pro/predicted_chunks/tmp_chunks/chunk_00127.tsv → /Volumes/X10 Pro/predicted_chunks/chunk_00127.tsv\n"
     ]
    },
    {
     "name": "stderr",
     "output_type": "stream",
     "text": [
      "🔍 chunk_00538.tsv: 100%|██████████| 469/469 [24:41<00:00,  3.16s/it]\n"
     ]
    },
    {
     "name": "stdout",
     "output_type": "stream",
     "text": [
      "✅ Finished: /Volumes/X10 Pro/predicted_chunks/tmp_chunks/chunk_00538.tsv → /Volumes/X10 Pro/predicted_chunks/chunk_00538.tsv\n"
     ]
    },
    {
     "name": "stderr",
     "output_type": "stream",
     "text": [
      "🔍 chunk_00336.tsv: 100%|██████████| 469/469 [23:38<00:00,  3.03s/it]\n"
     ]
    },
    {
     "name": "stdout",
     "output_type": "stream",
     "text": [
      "✅ Finished: /Volumes/X10 Pro/predicted_chunks/tmp_chunks/chunk_00336.tsv → /Volumes/X10 Pro/predicted_chunks/chunk_00336.tsv\n"
     ]
    },
    {
     "name": "stderr",
     "output_type": "stream",
     "text": [
      "🔍 chunk_00747.tsv: 100%|██████████| 469/469 [25:13<00:00,  3.23s/it]\n"
     ]
    },
    {
     "name": "stdout",
     "output_type": "stream",
     "text": [
      "✅ Finished: /Volumes/X10 Pro/predicted_chunks/tmp_chunks/chunk_00747.tsv → /Volumes/X10 Pro/predicted_chunks/chunk_00747.tsv\n"
     ]
    },
    {
     "name": "stderr",
     "output_type": "stream",
     "text": [
      "🔍 chunk_00128.tsv: 100%|██████████| 469/469 [23:51<00:00,  3.05s/it]\n",
      "🔍 chunk_00337.tsv:  38%|███▊      | 180/469 [09:21<13:27,  2.79s/it]"
     ]
    },
    {
     "name": "stdout",
     "output_type": "stream",
     "text": [
      "✅ Finished: /Volumes/X10 Pro/predicted_chunks/tmp_chunks/chunk_00128.tsv → /Volumes/X10 Pro/predicted_chunks/chunk_00128.tsv\n"
     ]
    },
    {
     "name": "stderr",
     "output_type": "stream",
     "text": [
      "🔍 chunk_00539.tsv: 100%|██████████| 469/469 [25:04<00:00,  3.21s/it]\n"
     ]
    },
    {
     "name": "stdout",
     "output_type": "stream",
     "text": [
      "✅ Finished: /Volumes/X10 Pro/predicted_chunks/tmp_chunks/chunk_00539.tsv → /Volumes/X10 Pro/predicted_chunks/chunk_00539.tsv\n"
     ]
    },
    {
     "name": "stderr",
     "output_type": "stream",
     "text": [
      "🔍 chunk_00337.tsv: 100%|██████████| 469/469 [24:11<00:00,  3.10s/it]\n",
      "🔍 chunk_00748.tsv:  66%|██████▌   | 308/469 [16:39<11:06,  4.14s/it]"
     ]
    },
    {
     "name": "stdout",
     "output_type": "stream",
     "text": [
      "✅ Finished: /Volumes/X10 Pro/predicted_chunks/tmp_chunks/chunk_00337.tsv → /Volumes/X10 Pro/predicted_chunks/chunk_00337.tsv\n"
     ]
    },
    {
     "name": "stderr",
     "output_type": "stream",
     "text": [
      "🔍 chunk_00748.tsv: 100%|██████████| 469/469 [25:09<00:00,  3.22s/it]\n"
     ]
    },
    {
     "name": "stdout",
     "output_type": "stream",
     "text": [
      "✅ Finished: /Volumes/X10 Pro/predicted_chunks/tmp_chunks/chunk_00748.tsv → /Volumes/X10 Pro/predicted_chunks/chunk_00748.tsv\n"
     ]
    },
    {
     "name": "stderr",
     "output_type": "stream",
     "text": [
      "🔍 chunk_00129.tsv: 100%|██████████| 469/469 [24:07<00:00,  3.09s/it]\n",
      "🔍 chunk_00749.tsv:   3%|▎         | 15/469 [00:46<24:44,  3.27s/it]"
     ]
    },
    {
     "name": "stdout",
     "output_type": "stream",
     "text": [
      "✅ Finished: /Volumes/X10 Pro/predicted_chunks/tmp_chunks/chunk_00129.tsv → /Volumes/X10 Pro/predicted_chunks/chunk_00129.tsv\n"
     ]
    },
    {
     "name": "stderr",
     "output_type": "stream",
     "text": [
      "🔍 chunk_00540.tsv: 100%|██████████| 469/469 [24:23<00:00,  3.12s/it]\n",
      "🔍 chunk_00749.tsv:  47%|████▋     | 220/469 [11:36<11:10,  2.69s/it]"
     ]
    },
    {
     "name": "stdout",
     "output_type": "stream",
     "text": [
      "✅ Finished: /Volumes/X10 Pro/predicted_chunks/tmp_chunks/chunk_00540.tsv → /Volumes/X10 Pro/predicted_chunks/chunk_00540.tsv\n"
     ]
    },
    {
     "name": "stderr",
     "output_type": "stream",
     "text": [
      "🔍 chunk_00338.tsv: 100%|██████████| 469/469 [24:00<00:00,  3.07s/it]\n"
     ]
    },
    {
     "name": "stdout",
     "output_type": "stream",
     "text": [
      "✅ Finished: /Volumes/X10 Pro/predicted_chunks/tmp_chunks/chunk_00338.tsv → /Volumes/X10 Pro/predicted_chunks/chunk_00338.tsv\n"
     ]
    },
    {
     "name": "stderr",
     "output_type": "stream",
     "text": [
      "🔍 chunk_00749.tsv: 100%|██████████| 469/469 [24:45<00:00,  3.17s/it]\n"
     ]
    },
    {
     "name": "stdout",
     "output_type": "stream",
     "text": [
      "✅ Finished: /Volumes/X10 Pro/predicted_chunks/tmp_chunks/chunk_00749.tsv → /Volumes/X10 Pro/predicted_chunks/chunk_00749.tsv\n"
     ]
    },
    {
     "name": "stderr",
     "output_type": "stream",
     "text": [
      "🔍 chunk_00130.tsv: 100%|██████████| 469/469 [24:02<00:00,  3.08s/it]\n"
     ]
    },
    {
     "name": "stdout",
     "output_type": "stream",
     "text": [
      "✅ Finished: /Volumes/X10 Pro/predicted_chunks/tmp_chunks/chunk_00130.tsv → /Volumes/X10 Pro/predicted_chunks/chunk_00130.tsv\n"
     ]
    },
    {
     "name": "stderr",
     "output_type": "stream",
     "text": [
      "🔍 chunk_00541.tsv: 100%|██████████| 469/469 [24:43<00:00,  3.16s/it]\n",
      "🔍 chunk_00750.tsv:  48%|████▊     | 224/469 [11:34<10:28,  2.57s/it]"
     ]
    },
    {
     "name": "stdout",
     "output_type": "stream",
     "text": [
      "✅ Finished: /Volumes/X10 Pro/predicted_chunks/tmp_chunks/chunk_00541.tsv → /Volumes/X10 Pro/predicted_chunks/chunk_00541.tsv\n"
     ]
    },
    {
     "name": "stderr",
     "output_type": "stream",
     "text": [
      "🔍 chunk_00339.tsv: 100%|██████████| 469/469 [24:14<00:00,  3.10s/it]\n",
      "🔍 chunk_00750.tsv:  62%|██████▏   | 292/469 [15:00<11:17,  3.83s/it]"
     ]
    },
    {
     "name": "stdout",
     "output_type": "stream",
     "text": [
      "✅ Finished: /Volumes/X10 Pro/predicted_chunks/tmp_chunks/chunk_00339.tsv → /Volumes/X10 Pro/predicted_chunks/chunk_00339.tsv\n"
     ]
    },
    {
     "name": "stderr",
     "output_type": "stream",
     "text": [
      "🔍 chunk_00131.tsv: 100%|██████████| 469/469 [24:15<00:00,  3.10s/it]\n"
     ]
    },
    {
     "name": "stdout",
     "output_type": "stream",
     "text": [
      "✅ Finished: /Volumes/X10 Pro/predicted_chunks/tmp_chunks/chunk_00131.tsv → /Volumes/X10 Pro/predicted_chunks/chunk_00131.tsv\n"
     ]
    },
    {
     "name": "stderr",
     "output_type": "stream",
     "text": [
      "🔍 chunk_00750.tsv: 100%|██████████| 469/469 [24:39<00:00,  3.15s/it]\n"
     ]
    },
    {
     "name": "stdout",
     "output_type": "stream",
     "text": [
      "✅ Finished: /Volumes/X10 Pro/predicted_chunks/tmp_chunks/chunk_00750.tsv → /Volumes/X10 Pro/predicted_chunks/chunk_00750.tsv\n"
     ]
    },
    {
     "name": "stderr",
     "output_type": "stream",
     "text": [
      "🔍 chunk_00542.tsv: 100%|██████████| 469/469 [24:41<00:00,  3.16s/it]\n",
      "🔍 chunk_00751.tsv:  48%|████▊     | 226/469 [11:36<13:39,  3.37s/it]"
     ]
    },
    {
     "name": "stdout",
     "output_type": "stream",
     "text": [
      "✅ Finished: /Volumes/X10 Pro/predicted_chunks/tmp_chunks/chunk_00542.tsv → /Volumes/X10 Pro/predicted_chunks/chunk_00542.tsv\n"
     ]
    },
    {
     "name": "stderr",
     "output_type": "stream",
     "text": [
      "🔍 chunk_00340.tsv: 100%|██████████| 469/469 [24:02<00:00,  3.08s/it]\n"
     ]
    },
    {
     "name": "stdout",
     "output_type": "stream",
     "text": [
      "✅ Finished: /Volumes/X10 Pro/predicted_chunks/tmp_chunks/chunk_00340.tsv → /Volumes/X10 Pro/predicted_chunks/chunk_00340.tsv\n"
     ]
    },
    {
     "name": "stderr",
     "output_type": "stream",
     "text": [
      "🔍 chunk_00132.tsv: 100%|██████████| 469/469 [24:21<00:00,  3.12s/it]\n",
      "🔍 chunk_00341.tsv:  40%|███▉      | 187/469 [09:35<13:18,  2.83s/it]"
     ]
    },
    {
     "name": "stdout",
     "output_type": "stream",
     "text": [
      "✅ Finished: /Volumes/X10 Pro/predicted_chunks/tmp_chunks/chunk_00132.tsv → /Volumes/X10 Pro/predicted_chunks/chunk_00132.tsv\n"
     ]
    },
    {
     "name": "stderr",
     "output_type": "stream",
     "text": [
      "🔍 chunk_00751.tsv: 100%|██████████| 469/469 [24:08<00:00,  3.09s/it]\n",
      "🔍 chunk_00133.tsv:   0%|          | 1/469 [00:04<37:56,  4.86s/it]"
     ]
    },
    {
     "name": "stdout",
     "output_type": "stream",
     "text": [
      "✅ Finished: /Volumes/X10 Pro/predicted_chunks/tmp_chunks/chunk_00751.tsv → /Volumes/X10 Pro/predicted_chunks/chunk_00751.tsv\n"
     ]
    },
    {
     "name": "stderr",
     "output_type": "stream",
     "text": [
      "🔍 chunk_00543.tsv: 100%|██████████| 469/469 [24:37<00:00,  3.15s/it]\n"
     ]
    },
    {
     "name": "stdout",
     "output_type": "stream",
     "text": [
      "✅ Finished: /Volumes/X10 Pro/predicted_chunks/tmp_chunks/chunk_00543.tsv → /Volumes/X10 Pro/predicted_chunks/chunk_00543.tsv\n"
     ]
    },
    {
     "name": "stderr",
     "output_type": "stream",
     "text": [
      "🔍 chunk_00341.tsv: 100%|██████████| 469/469 [23:43<00:00,  3.04s/it]\n"
     ]
    },
    {
     "name": "stdout",
     "output_type": "stream",
     "text": [
      "✅ Finished: /Volumes/X10 Pro/predicted_chunks/tmp_chunks/chunk_00341.tsv → /Volumes/X10 Pro/predicted_chunks/chunk_00341.tsv\n"
     ]
    },
    {
     "name": "stderr",
     "output_type": "stream",
     "text": [
      "🔍 chunk_00133.tsv: 100%|██████████| 469/469 [24:09<00:00,  3.09s/it]\n"
     ]
    },
    {
     "name": "stdout",
     "output_type": "stream",
     "text": [
      "✅ Finished: /Volumes/X10 Pro/predicted_chunks/tmp_chunks/chunk_00133.tsv → /Volumes/X10 Pro/predicted_chunks/chunk_00133.tsv\n"
     ]
    },
    {
     "name": "stderr",
     "output_type": "stream",
     "text": [
      "🔍 chunk_00752.tsv: 100%|██████████| 469/469 [24:36<00:00,  3.15s/it]\n"
     ]
    },
    {
     "name": "stdout",
     "output_type": "stream",
     "text": [
      "✅ Finished: /Volumes/X10 Pro/predicted_chunks/tmp_chunks/chunk_00752.tsv → /Volumes/X10 Pro/predicted_chunks/chunk_00752.tsv\n"
     ]
    },
    {
     "name": "stderr",
     "output_type": "stream",
     "text": [
      "🔍 chunk_00544.tsv: 100%|██████████| 469/469 [24:32<00:00,  3.14s/it]\n"
     ]
    },
    {
     "name": "stdout",
     "output_type": "stream",
     "text": [
      "✅ Finished: /Volumes/X10 Pro/predicted_chunks/tmp_chunks/chunk_00544.tsv → /Volumes/X10 Pro/predicted_chunks/chunk_00544.tsv\n"
     ]
    },
    {
     "name": "stderr",
     "output_type": "stream",
     "text": [
      "🔍 chunk_00342.tsv: 100%|██████████| 469/469 [23:57<00:00,  3.07s/it]\n",
      "🔍 chunk_00753.tsv:  56%|█████▌    | 261/469 [13:20<11:53,  3.43s/it]"
     ]
    },
    {
     "name": "stdout",
     "output_type": "stream",
     "text": [
      "✅ Finished: /Volumes/X10 Pro/predicted_chunks/tmp_chunks/chunk_00342.tsv → /Volumes/X10 Pro/predicted_chunks/chunk_00342.tsv\n"
     ]
    },
    {
     "name": "stderr",
     "output_type": "stream",
     "text": [
      "🔍 chunk_00753.tsv: 100%|██████████| 469/469 [24:09<00:00,  3.09s/it]\n",
      "🔍 chunk_00134.tsv: 100%|█████████▉| 468/469 [24:43<00:03,  3.27s/it]"
     ]
    },
    {
     "name": "stdout",
     "output_type": "stream",
     "text": [
      "✅ Finished: /Volumes/X10 Pro/predicted_chunks/tmp_chunks/chunk_00753.tsv → /Volumes/X10 Pro/predicted_chunks/chunk_00753.tsv\n"
     ]
    },
    {
     "name": "stderr",
     "output_type": "stream",
     "text": [
      "🔍 chunk_00134.tsv: 100%|██████████| 469/469 [24:45<00:00,  3.17s/it]\n"
     ]
    },
    {
     "name": "stdout",
     "output_type": "stream",
     "text": [
      "✅ Finished: /Volumes/X10 Pro/predicted_chunks/tmp_chunks/chunk_00134.tsv → /Volumes/X10 Pro/predicted_chunks/chunk_00134.tsv\n"
     ]
    },
    {
     "name": "stderr",
     "output_type": "stream",
     "text": [
      "🔍 chunk_00545.tsv: 100%|██████████| 469/469 [24:13<00:00,  3.10s/it]\n"
     ]
    },
    {
     "name": "stdout",
     "output_type": "stream",
     "text": [
      "✅ Finished: /Volumes/X10 Pro/predicted_chunks/tmp_chunks/chunk_00545.tsv → /Volumes/X10 Pro/predicted_chunks/chunk_00545.tsv\n"
     ]
    },
    {
     "name": "stderr",
     "output_type": "stream",
     "text": [
      "🔍 chunk_00343.tsv: 100%|██████████| 469/469 [24:20<00:00,  3.11s/it]\n"
     ]
    },
    {
     "name": "stdout",
     "output_type": "stream",
     "text": [
      "✅ Finished: /Volumes/X10 Pro/predicted_chunks/tmp_chunks/chunk_00343.tsv → /Volumes/X10 Pro/predicted_chunks/chunk_00343.tsv\n"
     ]
    },
    {
     "name": "stderr",
     "output_type": "stream",
     "text": [
      "🔍 chunk_00754.tsv: 100%|██████████| 469/469 [24:22<00:00,  3.12s/it]\n",
      "🔍 chunk_00344.tsv:  46%|████▌     | 214/469 [10:48<12:27,  2.93s/it]"
     ]
    },
    {
     "name": "stdout",
     "output_type": "stream",
     "text": [
      "✅ Finished: /Volumes/X10 Pro/predicted_chunks/tmp_chunks/chunk_00754.tsv → /Volumes/X10 Pro/predicted_chunks/chunk_00754.tsv\n"
     ]
    },
    {
     "name": "stderr",
     "output_type": "stream",
     "text": [
      "🔍 chunk_00135.tsv: 100%|██████████| 469/469 [24:22<00:00,  3.12s/it]\n"
     ]
    },
    {
     "name": "stdout",
     "output_type": "stream",
     "text": [
      "✅ Finished: /Volumes/X10 Pro/predicted_chunks/tmp_chunks/chunk_00135.tsv → /Volumes/X10 Pro/predicted_chunks/chunk_00135.tsv\n"
     ]
    },
    {
     "name": "stderr",
     "output_type": "stream",
     "text": [
      "🔍 chunk_00546.tsv: 100%|██████████| 469/469 [24:41<00:00,  3.16s/it]\n"
     ]
    },
    {
     "name": "stdout",
     "output_type": "stream",
     "text": [
      "✅ Finished: /Volumes/X10 Pro/predicted_chunks/tmp_chunks/chunk_00546.tsv → /Volumes/X10 Pro/predicted_chunks/chunk_00546.tsv\n"
     ]
    },
    {
     "name": "stderr",
     "output_type": "stream",
     "text": [
      "🔍 chunk_00344.tsv: 100%|██████████| 469/469 [23:41<00:00,  3.03s/it]\n"
     ]
    },
    {
     "name": "stdout",
     "output_type": "stream",
     "text": [
      "✅ Finished: /Volumes/X10 Pro/predicted_chunks/tmp_chunks/chunk_00344.tsv → /Volumes/X10 Pro/predicted_chunks/chunk_00344.tsv\n"
     ]
    },
    {
     "name": "stderr",
     "output_type": "stream",
     "text": [
      "🔍 chunk_00755.tsv: 100%|██████████| 469/469 [24:38<00:00,  3.15s/it]\n",
      "🔍 chunk_00345.tsv:  49%|████▉     | 232/469 [11:45<13:04,  3.31s/it]"
     ]
    },
    {
     "name": "stdout",
     "output_type": "stream",
     "text": [
      "✅ Finished: /Volumes/X10 Pro/predicted_chunks/tmp_chunks/chunk_00755.tsv → /Volumes/X10 Pro/predicted_chunks/chunk_00755.tsv\n"
     ]
    },
    {
     "name": "stderr",
     "output_type": "stream",
     "text": [
      "🔍 chunk_00136.tsv: 100%|██████████| 469/469 [24:41<00:00,  3.16s/it]\n"
     ]
    },
    {
     "name": "stdout",
     "output_type": "stream",
     "text": [
      "✅ Finished: /Volumes/X10 Pro/predicted_chunks/tmp_chunks/chunk_00136.tsv → /Volumes/X10 Pro/predicted_chunks/chunk_00136.tsv\n"
     ]
    },
    {
     "name": "stderr",
     "output_type": "stream",
     "text": [
      "🔍 chunk_00345.tsv: 100%|██████████| 469/469 [23:54<00:00,  3.06s/it]\n",
      "🔍 chunk_00137.tsv:  50%|█████     | 235/469 [12:01<12:01,  3.08s/it]"
     ]
    },
    {
     "name": "stdout",
     "output_type": "stream",
     "text": [
      "✅ Finished: /Volumes/X10 Pro/predicted_chunks/tmp_chunks/chunk_00345.tsv → /Volumes/X10 Pro/predicted_chunks/chunk_00345.tsv\n"
     ]
    },
    {
     "name": "stderr",
     "output_type": "stream",
     "text": [
      "🔍 chunk_00547.tsv: 100%|██████████| 469/469 [24:22<00:00,  3.12s/it]\n"
     ]
    },
    {
     "name": "stdout",
     "output_type": "stream",
     "text": [
      "✅ Finished: /Volumes/X10 Pro/predicted_chunks/tmp_chunks/chunk_00547.tsv → /Volumes/X10 Pro/predicted_chunks/chunk_00547.tsv\n"
     ]
    },
    {
     "name": "stderr",
     "output_type": "stream",
     "text": [
      "🔍 chunk_00137.tsv: 100%|██████████| 469/469 [24:13<00:00,  3.10s/it]\n"
     ]
    },
    {
     "name": "stdout",
     "output_type": "stream",
     "text": [
      "✅ Finished: /Volumes/X10 Pro/predicted_chunks/tmp_chunks/chunk_00137.tsv → /Volumes/X10 Pro/predicted_chunks/chunk_00137.tsv\n"
     ]
    },
    {
     "name": "stderr",
     "output_type": "stream",
     "text": [
      "🔍 chunk_00756.tsv: 100%|██████████| 469/469 [24:36<00:00,  3.15s/it]\n",
      "🔍 chunk_00346.tsv:  51%|█████     | 239/469 [12:28<12:03,  3.15s/it]"
     ]
    },
    {
     "name": "stdout",
     "output_type": "stream",
     "text": [
      "✅ Finished: /Volumes/X10 Pro/predicted_chunks/tmp_chunks/chunk_00756.tsv → /Volumes/X10 Pro/predicted_chunks/chunk_00756.tsv\n"
     ]
    },
    {
     "name": "stderr",
     "output_type": "stream",
     "text": [
      "🔍 chunk_00548.tsv: 100%|██████████| 469/469 [24:21<00:00,  3.12s/it]\n",
      "🔍 chunk_00346.tsv: 100%|█████████▉| 467/469 [24:26<00:06,  3.45s/it]"
     ]
    },
    {
     "name": "stdout",
     "output_type": "stream",
     "text": [
      "✅ Finished: /Volumes/X10 Pro/predicted_chunks/tmp_chunks/chunk_00548.tsv → /Volumes/X10 Pro/predicted_chunks/chunk_00548.tsv\n"
     ]
    },
    {
     "name": "stderr",
     "output_type": "stream",
     "text": [
      "🔍 chunk_00346.tsv: 100%|██████████| 469/469 [24:31<00:00,  3.14s/it]\n"
     ]
    },
    {
     "name": "stdout",
     "output_type": "stream",
     "text": [
      "✅ Finished: /Volumes/X10 Pro/predicted_chunks/tmp_chunks/chunk_00346.tsv → /Volumes/X10 Pro/predicted_chunks/chunk_00346.tsv\n"
     ]
    },
    {
     "name": "stderr",
     "output_type": "stream",
     "text": [
      "🔍 chunk_00138.tsv: 100%|██████████| 469/469 [24:24<00:00,  3.12s/it]\n"
     ]
    },
    {
     "name": "stdout",
     "output_type": "stream",
     "text": [
      "✅ Finished: /Volumes/X10 Pro/predicted_chunks/tmp_chunks/chunk_00138.tsv → /Volumes/X10 Pro/predicted_chunks/chunk_00138.tsv\n"
     ]
    },
    {
     "name": "stderr",
     "output_type": "stream",
     "text": [
      "🔍 chunk_00757.tsv: 100%|██████████| 469/469 [24:36<00:00,  3.15s/it]\n"
     ]
    },
    {
     "name": "stdout",
     "output_type": "stream",
     "text": [
      "✅ Finished: /Volumes/X10 Pro/predicted_chunks/tmp_chunks/chunk_00757.tsv → /Volumes/X10 Pro/predicted_chunks/chunk_00757.tsv\n"
     ]
    },
    {
     "name": "stderr",
     "output_type": "stream",
     "text": [
      "🔍 chunk_00549.tsv: 100%|██████████| 469/469 [23:57<00:00,  3.07s/it]\n",
      "🔍 chunk_00347.tsv:  98%|█████████▊| 458/469 [23:52<00:34,  3.11s/it]"
     ]
    },
    {
     "name": "stdout",
     "output_type": "stream",
     "text": [
      "✅ Finished: /Volumes/X10 Pro/predicted_chunks/tmp_chunks/chunk_00549.tsv → /Volumes/X10 Pro/predicted_chunks/chunk_00549.tsv\n"
     ]
    },
    {
     "name": "stderr",
     "output_type": "stream",
     "text": [
      "🔍 chunk_00347.tsv: 100%|██████████| 469/469 [24:22<00:00,  3.12s/it]\n"
     ]
    },
    {
     "name": "stdout",
     "output_type": "stream",
     "text": [
      "✅ Finished: /Volumes/X10 Pro/predicted_chunks/tmp_chunks/chunk_00347.tsv → /Volumes/X10 Pro/predicted_chunks/chunk_00347.tsv\n"
     ]
    },
    {
     "name": "stderr",
     "output_type": "stream",
     "text": [
      "🔍 chunk_00139.tsv: 100%|██████████| 469/469 [24:43<00:00,  3.16s/it]\n"
     ]
    },
    {
     "name": "stdout",
     "output_type": "stream",
     "text": [
      "✅ Finished: /Volumes/X10 Pro/predicted_chunks/tmp_chunks/chunk_00139.tsv → /Volumes/X10 Pro/predicted_chunks/chunk_00139.tsv\n"
     ]
    },
    {
     "name": "stderr",
     "output_type": "stream",
     "text": [
      "🔍 chunk_00758.tsv: 100%|██████████| 469/469 [24:50<00:00,  3.18s/it]\n"
     ]
    },
    {
     "name": "stdout",
     "output_type": "stream",
     "text": [
      "✅ Finished: /Volumes/X10 Pro/predicted_chunks/tmp_chunks/chunk_00758.tsv → /Volumes/X10 Pro/predicted_chunks/chunk_00758.tsv\n"
     ]
    },
    {
     "name": "stderr",
     "output_type": "stream",
     "text": [
      "🔍 chunk_00550.tsv: 100%|██████████| 469/469 [24:40<00:00,  3.16s/it]\n",
      "🔍 chunk_00140.tsv:  48%|████▊     | 224/469 [11:45<11:19,  2.77s/it]"
     ]
    },
    {
     "name": "stdout",
     "output_type": "stream",
     "text": [
      "✅ Finished: /Volumes/X10 Pro/predicted_chunks/tmp_chunks/chunk_00550.tsv → /Volumes/X10 Pro/predicted_chunks/chunk_00550.tsv\n"
     ]
    },
    {
     "name": "stderr",
     "output_type": "stream",
     "text": [
      "🔍 chunk_00348.tsv: 100%|██████████| 469/469 [24:37<00:00,  3.15s/it]\n"
     ]
    },
    {
     "name": "stdout",
     "output_type": "stream",
     "text": [
      "✅ Finished: /Volumes/X10 Pro/predicted_chunks/tmp_chunks/chunk_00348.tsv → /Volumes/X10 Pro/predicted_chunks/chunk_00348.tsv\n"
     ]
    },
    {
     "name": "stderr",
     "output_type": "stream",
     "text": [
      "🔍 chunk_00140.tsv: 100%|██████████| 469/469 [24:19<00:00,  3.11s/it]\n"
     ]
    },
    {
     "name": "stdout",
     "output_type": "stream",
     "text": [
      "✅ Finished: /Volumes/X10 Pro/predicted_chunks/tmp_chunks/chunk_00140.tsv → /Volumes/X10 Pro/predicted_chunks/chunk_00140.tsv\n"
     ]
    },
    {
     "name": "stderr",
     "output_type": "stream",
     "text": [
      "🔍 chunk_00759.tsv: 100%|██████████| 469/469 [24:11<00:00,  3.09s/it]\n"
     ]
    },
    {
     "name": "stdout",
     "output_type": "stream",
     "text": [
      "✅ Finished: /Volumes/X10 Pro/predicted_chunks/tmp_chunks/chunk_00759.tsv → /Volumes/X10 Pro/predicted_chunks/chunk_00759.tsv\n"
     ]
    },
    {
     "name": "stderr",
     "output_type": "stream",
     "text": [
      "🔍 chunk_00551.tsv: 100%|██████████| 469/469 [24:02<00:00,  3.08s/it]\n",
      "🔍 chunk_00349.tsv:  96%|█████████▋| 452/469 [23:36<00:55,  3.27s/it]"
     ]
    },
    {
     "name": "stdout",
     "output_type": "stream",
     "text": [
      "✅ Finished: /Volumes/X10 Pro/predicted_chunks/tmp_chunks/chunk_00551.tsv → /Volumes/X10 Pro/predicted_chunks/chunk_00551.tsv\n"
     ]
    },
    {
     "name": "stderr",
     "output_type": "stream",
     "text": [
      "🔍 chunk_00349.tsv: 100%|██████████| 469/469 [24:29<00:00,  3.13s/it]\n",
      "🔍 chunk_00760.tsv:  51%|█████▏    | 241/469 [11:51<12:14,  3.22s/it]"
     ]
    },
    {
     "name": "stdout",
     "output_type": "stream",
     "text": [
      "✅ Finished: /Volumes/X10 Pro/predicted_chunks/tmp_chunks/chunk_00349.tsv → /Volumes/X10 Pro/predicted_chunks/chunk_00349.tsv\n"
     ]
    },
    {
     "name": "stderr",
     "output_type": "stream",
     "text": [
      "🔍 chunk_00141.tsv: 100%|██████████| 469/469 [23:55<00:00,  3.06s/it]\n"
     ]
    },
    {
     "name": "stdout",
     "output_type": "stream",
     "text": [
      "✅ Finished: /Volumes/X10 Pro/predicted_chunks/tmp_chunks/chunk_00141.tsv → /Volumes/X10 Pro/predicted_chunks/chunk_00141.tsv\n"
     ]
    },
    {
     "name": "stderr",
     "output_type": "stream",
     "text": [
      "🔍 chunk_00760.tsv: 100%|██████████| 469/469 [23:41<00:00,  3.03s/it]\n",
      "🔍 chunk_00142.tsv:   1%|          | 4/469 [00:12<25:08,  3.24s/it]"
     ]
    },
    {
     "name": "stdout",
     "output_type": "stream",
     "text": [
      "✅ Finished: /Volumes/X10 Pro/predicted_chunks/tmp_chunks/chunk_00760.tsv → /Volumes/X10 Pro/predicted_chunks/chunk_00760.tsv\n"
     ]
    },
    {
     "name": "stderr",
     "output_type": "stream",
     "text": [
      "🔍 chunk_00552.tsv: 100%|██████████| 469/469 [24:09<00:00,  3.09s/it]\n",
      "🔍 chunk_00142.tsv:  48%|████▊     | 226/469 [11:41<13:55,  3.44s/it]"
     ]
    },
    {
     "name": "stdout",
     "output_type": "stream",
     "text": [
      "✅ Finished: /Volumes/X10 Pro/predicted_chunks/tmp_chunks/chunk_00552.tsv → /Volumes/X10 Pro/predicted_chunks/chunk_00552.tsv\n"
     ]
    },
    {
     "name": "stderr",
     "output_type": "stream",
     "text": [
      "🔍 chunk_00350.tsv: 100%|██████████| 469/469 [24:31<00:00,  3.14s/it]\n"
     ]
    },
    {
     "name": "stdout",
     "output_type": "stream",
     "text": [
      "✅ Finished: /Volumes/X10 Pro/predicted_chunks/tmp_chunks/chunk_00350.tsv → /Volumes/X10 Pro/predicted_chunks/chunk_00350.tsv\n"
     ]
    },
    {
     "name": "stderr",
     "output_type": "stream",
     "text": [
      "🔍 chunk_00142.tsv: 100%|██████████| 469/469 [23:59<00:00,  3.07s/it]\n",
      "🔍 chunk_00553.tsv:  52%|█████▏    | 245/469 [12:16<09:02,  2.42s/it]"
     ]
    },
    {
     "name": "stdout",
     "output_type": "stream",
     "text": [
      "✅ Finished: /Volumes/X10 Pro/predicted_chunks/tmp_chunks/chunk_00142.tsv → /Volumes/X10 Pro/predicted_chunks/chunk_00142.tsv\n"
     ]
    },
    {
     "name": "stderr",
     "output_type": "stream",
     "text": [
      "🔍 chunk_00761.tsv: 100%|██████████| 469/469 [24:30<00:00,  3.14s/it]\n"
     ]
    },
    {
     "name": "stdout",
     "output_type": "stream",
     "text": [
      "✅ Finished: /Volumes/X10 Pro/predicted_chunks/tmp_chunks/chunk_00761.tsv → /Volumes/X10 Pro/predicted_chunks/chunk_00761.tsv\n"
     ]
    },
    {
     "name": "stderr",
     "output_type": "stream",
     "text": [
      "🔍 chunk_00553.tsv: 100%|██████████| 469/469 [23:49<00:00,  3.05s/it]\n",
      "🔍 chunk_00351.tsv:  93%|█████████▎| 436/469 [22:33<01:38,  2.99s/it]"
     ]
    },
    {
     "name": "stdout",
     "output_type": "stream",
     "text": [
      "✅ Finished: /Volumes/X10 Pro/predicted_chunks/tmp_chunks/chunk_00553.tsv → /Volumes/X10 Pro/predicted_chunks/chunk_00553.tsv\n"
     ]
    },
    {
     "name": "stderr",
     "output_type": "stream",
     "text": [
      "🔍 chunk_00351.tsv: 100%|██████████| 469/469 [24:15<00:00,  3.10s/it]\n",
      "🔍 chunk_00143.tsv:  56%|█████▌    | 263/469 [13:13<10:27,  3.04s/it]"
     ]
    },
    {
     "name": "stdout",
     "output_type": "stream",
     "text": [
      "✅ Finished: /Volumes/X10 Pro/predicted_chunks/tmp_chunks/chunk_00351.tsv → /Volumes/X10 Pro/predicted_chunks/chunk_00351.tsv\n"
     ]
    },
    {
     "name": "stderr",
     "output_type": "stream",
     "text": [
      "🔍 chunk_00143.tsv: 100%|██████████| 469/469 [23:33<00:00,  3.01s/it]\n",
      "🔍 chunk_00352.tsv:  42%|████▏     | 195/469 [10:18<10:20,  2.27s/it]"
     ]
    },
    {
     "name": "stdout",
     "output_type": "stream",
     "text": [
      "✅ Finished: /Volumes/X10 Pro/predicted_chunks/tmp_chunks/chunk_00143.tsv → /Volumes/X10 Pro/predicted_chunks/chunk_00143.tsv\n"
     ]
    },
    {
     "name": "stderr",
     "output_type": "stream",
     "text": [
      "🔍 chunk_00762.tsv: 100%|██████████| 469/469 [23:34<00:00,  3.02s/it]\n"
     ]
    },
    {
     "name": "stdout",
     "output_type": "stream",
     "text": [
      "✅ Finished: /Volumes/X10 Pro/predicted_chunks/tmp_chunks/chunk_00762.tsv → /Volumes/X10 Pro/predicted_chunks/chunk_00762.tsv\n"
     ]
    },
    {
     "name": "stderr",
     "output_type": "stream",
     "text": [
      "🔍 chunk_00554.tsv: 100%|██████████| 469/469 [24:44<00:00,  3.17s/it]\n",
      "🔍 chunk_00763.tsv:  48%|████▊     | 226/469 [11:55<10:12,  2.52s/it]"
     ]
    },
    {
     "name": "stdout",
     "output_type": "stream",
     "text": [
      "✅ Finished: /Volumes/X10 Pro/predicted_chunks/tmp_chunks/chunk_00554.tsv → /Volumes/X10 Pro/predicted_chunks/chunk_00554.tsv\n"
     ]
    },
    {
     "name": "stderr",
     "output_type": "stream",
     "text": [
      "🔍 chunk_00352.tsv: 100%|██████████| 469/469 [24:39<00:00,  3.15s/it]\n"
     ]
    },
    {
     "name": "stdout",
     "output_type": "stream",
     "text": [
      "✅ Finished: /Volumes/X10 Pro/predicted_chunks/tmp_chunks/chunk_00352.tsv → /Volumes/X10 Pro/predicted_chunks/chunk_00352.tsv\n"
     ]
    },
    {
     "name": "stderr",
     "output_type": "stream",
     "text": [
      "🔍 chunk_00144.tsv: 100%|██████████| 469/469 [23:36<00:00,  3.02s/it]\n",
      "🔍 chunk_00763.tsv:  93%|█████████▎| 435/469 [22:50<01:36,  2.83s/it]"
     ]
    },
    {
     "name": "stdout",
     "output_type": "stream",
     "text": [
      "✅ Finished: /Volumes/X10 Pro/predicted_chunks/tmp_chunks/chunk_00144.tsv → /Volumes/X10 Pro/predicted_chunks/chunk_00144.tsv\n"
     ]
    },
    {
     "name": "stderr",
     "output_type": "stream",
     "text": [
      "🔍 chunk_00763.tsv: 100%|██████████| 469/469 [24:44<00:00,  3.17s/it]\n"
     ]
    },
    {
     "name": "stdout",
     "output_type": "stream",
     "text": [
      "✅ Finished: /Volumes/X10 Pro/predicted_chunks/tmp_chunks/chunk_00763.tsv → /Volumes/X10 Pro/predicted_chunks/chunk_00763.tsv\n"
     ]
    },
    {
     "name": "stderr",
     "output_type": "stream",
     "text": [
      "🔍 chunk_00555.tsv: 100%|██████████| 469/469 [24:13<00:00,  3.10s/it]\n"
     ]
    },
    {
     "name": "stdout",
     "output_type": "stream",
     "text": [
      "✅ Finished: /Volumes/X10 Pro/predicted_chunks/tmp_chunks/chunk_00555.tsv → /Volumes/X10 Pro/predicted_chunks/chunk_00555.tsv\n"
     ]
    },
    {
     "name": "stderr",
     "output_type": "stream",
     "text": [
      "🔍 chunk_00353.tsv: 100%|██████████| 469/469 [24:31<00:00,  3.14s/it]\n",
      "🔍 chunk_00556.tsv:   8%|▊         | 36/469 [01:51<18:14,  2.53s/it]"
     ]
    },
    {
     "name": "stdout",
     "output_type": "stream",
     "text": [
      "✅ Finished: /Volumes/X10 Pro/predicted_chunks/tmp_chunks/chunk_00353.tsv → /Volumes/X10 Pro/predicted_chunks/chunk_00353.tsv\n"
     ]
    },
    {
     "name": "stderr",
     "output_type": "stream",
     "text": [
      "🔍 chunk_00145.tsv: 100%|██████████| 469/469 [23:19<00:00,  2.98s/it]\n"
     ]
    },
    {
     "name": "stdout",
     "output_type": "stream",
     "text": [
      "✅ Finished: /Volumes/X10 Pro/predicted_chunks/tmp_chunks/chunk_00145.tsv → /Volumes/X10 Pro/predicted_chunks/chunk_00145.tsv\n"
     ]
    },
    {
     "name": "stderr",
     "output_type": "stream",
     "text": [
      "🔍 chunk_00764.tsv: 100%|██████████| 469/469 [24:52<00:00,  3.18s/it]\n"
     ]
    },
    {
     "name": "stdout",
     "output_type": "stream",
     "text": [
      "✅ Finished: /Volumes/X10 Pro/predicted_chunks/tmp_chunks/chunk_00764.tsv → /Volumes/X10 Pro/predicted_chunks/chunk_00764.tsv\n"
     ]
    },
    {
     "name": "stderr",
     "output_type": "stream",
     "text": [
      "🔍 chunk_00556.tsv: 100%|██████████| 469/469 [25:02<00:00,  3.20s/it]\n"
     ]
    },
    {
     "name": "stdout",
     "output_type": "stream",
     "text": [
      "✅ Finished: /Volumes/X10 Pro/predicted_chunks/tmp_chunks/chunk_00556.tsv → /Volumes/X10 Pro/predicted_chunks/chunk_00556.tsv\n"
     ]
    },
    {
     "name": "stderr",
     "output_type": "stream",
     "text": [
      "🔍 chunk_00354.tsv: 100%|██████████| 469/469 [24:51<00:00,  3.18s/it]\n"
     ]
    },
    {
     "name": "stdout",
     "output_type": "stream",
     "text": [
      "✅ Finished: /Volumes/X10 Pro/predicted_chunks/tmp_chunks/chunk_00354.tsv → /Volumes/X10 Pro/predicted_chunks/chunk_00354.tsv\n"
     ]
    },
    {
     "name": "stderr",
     "output_type": "stream",
     "text": [
      "🔍 chunk_00146.tsv: 100%|██████████| 469/469 [24:31<00:00,  3.14s/it]\n"
     ]
    },
    {
     "name": "stdout",
     "output_type": "stream",
     "text": [
      "✅ Finished: /Volumes/X10 Pro/predicted_chunks/tmp_chunks/chunk_00146.tsv → /Volumes/X10 Pro/predicted_chunks/chunk_00146.tsv\n"
     ]
    },
    {
     "name": "stderr",
     "output_type": "stream",
     "text": [
      "🔍 chunk_00765.tsv: 100%|██████████| 469/469 [25:06<00:00,  3.21s/it]\n",
      "🔍 chunk_00557.tsv:  56%|█████▌    | 262/469 [13:30<11:08,  3.23s/it]"
     ]
    },
    {
     "name": "stdout",
     "output_type": "stream",
     "text": [
      "✅ Finished: /Volumes/X10 Pro/predicted_chunks/tmp_chunks/chunk_00765.tsv → /Volumes/X10 Pro/predicted_chunks/chunk_00765.tsv\n"
     ]
    },
    {
     "name": "stderr",
     "output_type": "stream",
     "text": [
      "🔍 chunk_00557.tsv: 100%|██████████| 469/469 [24:32<00:00,  3.14s/it]\n"
     ]
    },
    {
     "name": "stdout",
     "output_type": "stream",
     "text": [
      "✅ Finished: /Volumes/X10 Pro/predicted_chunks/tmp_chunks/chunk_00557.tsv → /Volumes/X10 Pro/predicted_chunks/chunk_00557.tsv\n"
     ]
    },
    {
     "name": "stderr",
     "output_type": "stream",
     "text": [
      "🔍 chunk_00355.tsv: 100%|██████████| 469/469 [25:09<00:00,  3.22s/it]\n"
     ]
    },
    {
     "name": "stdout",
     "output_type": "stream",
     "text": [
      "✅ Finished: /Volumes/X10 Pro/predicted_chunks/tmp_chunks/chunk_00355.tsv → /Volumes/X10 Pro/predicted_chunks/chunk_00355.tsv\n"
     ]
    },
    {
     "name": "stderr",
     "output_type": "stream",
     "text": [
      "🔍 chunk_00147.tsv: 100%|██████████| 469/469 [24:25<00:00,  3.12s/it]\n"
     ]
    },
    {
     "name": "stdout",
     "output_type": "stream",
     "text": [
      "✅ Finished: /Volumes/X10 Pro/predicted_chunks/tmp_chunks/chunk_00147.tsv → /Volumes/X10 Pro/predicted_chunks/chunk_00147.tsv\n"
     ]
    },
    {
     "name": "stderr",
     "output_type": "stream",
     "text": [
      "🔍 chunk_00766.tsv: 100%|██████████| 469/469 [26:21<00:00,  3.37s/it]\n",
      "🔍 chunk_00558.tsv:  58%|█████▊    | 273/469 [15:19<09:27,  2.90s/it]"
     ]
    },
    {
     "name": "stdout",
     "output_type": "stream",
     "text": [
      "✅ Finished: /Volumes/X10 Pro/predicted_chunks/tmp_chunks/chunk_00766.tsv → /Volumes/X10 Pro/predicted_chunks/chunk_00766.tsv\n"
     ]
    },
    {
     "name": "stderr",
     "output_type": "stream",
     "text": [
      "🔍 chunk_00558.tsv: 100%|██████████| 469/469 [25:13<00:00,  3.23s/it]\n"
     ]
    },
    {
     "name": "stdout",
     "output_type": "stream",
     "text": [
      "✅ Finished: /Volumes/X10 Pro/predicted_chunks/tmp_chunks/chunk_00558.tsv → /Volumes/X10 Pro/predicted_chunks/chunk_00558.tsv\n"
     ]
    },
    {
     "name": "stderr",
     "output_type": "stream",
     "text": [
      "🔍 chunk_00356.tsv: 100%|██████████| 469/469 [24:18<00:00,  3.11s/it]\n"
     ]
    },
    {
     "name": "stdout",
     "output_type": "stream",
     "text": [
      "✅ Finished: /Volumes/X10 Pro/predicted_chunks/tmp_chunks/chunk_00356.tsv → /Volumes/X10 Pro/predicted_chunks/chunk_00356.tsv\n"
     ]
    },
    {
     "name": "stderr",
     "output_type": "stream",
     "text": [
      "🔍 chunk_00148.tsv: 100%|██████████| 469/469 [26:38<00:00,  3.41s/it]\n",
      "🔍 chunk_00357.tsv:  31%|███       | 146/469 [09:20<15:02,  2.79s/it]"
     ]
    },
    {
     "name": "stdout",
     "output_type": "stream",
     "text": [
      "✅ Finished: /Volumes/X10 Pro/predicted_chunks/tmp_chunks/chunk_00148.tsv → /Volumes/X10 Pro/predicted_chunks/chunk_00148.tsv\n"
     ]
    },
    {
     "name": "stderr",
     "output_type": "stream",
     "text": [
      "🔍 chunk_00767.tsv: 100%|██████████| 469/469 [29:54<00:00,  3.83s/it]\n"
     ]
    },
    {
     "name": "stdout",
     "output_type": "stream",
     "text": [
      "✅ Finished: /Volumes/X10 Pro/predicted_chunks/tmp_chunks/chunk_00767.tsv → /Volumes/X10 Pro/predicted_chunks/chunk_00767.tsv\n"
     ]
    },
    {
     "name": "stderr",
     "output_type": "stream",
     "text": [
      "🔍 chunk_00559.tsv: 100%|██████████| 469/469 [33:55<00:00,  4.34s/it]\n",
      "🔍 chunk_00357.tsv:  98%|█████████▊| 460/469 [32:34<00:34,  3.81s/it]"
     ]
    },
    {
     "name": "stdout",
     "output_type": "stream",
     "text": [
      "✅ Finished: /Volumes/X10 Pro/predicted_chunks/tmp_chunks/chunk_00559.tsv → /Volumes/X10 Pro/predicted_chunks/chunk_00559.tsv\n"
     ]
    },
    {
     "name": "stderr",
     "output_type": "stream",
     "text": [
      "🔍 chunk_00357.tsv: 100%|██████████| 469/469 [33:16<00:00,  4.26s/it]\n"
     ]
    },
    {
     "name": "stdout",
     "output_type": "stream",
     "text": [
      "✅ Finished: /Volumes/X10 Pro/predicted_chunks/tmp_chunks/chunk_00357.tsv → /Volumes/X10 Pro/predicted_chunks/chunk_00357.tsv\n"
     ]
    },
    {
     "name": "stderr",
     "output_type": "stream",
     "text": [
      "🔍 chunk_00149.tsv: 100%|██████████| 469/469 [33:46<00:00,  4.32s/it]\n",
      "🔍 chunk_00358.tsv:  29%|██▉       | 136/469 [09:50<24:03,  4.33s/it]"
     ]
    },
    {
     "name": "stdout",
     "output_type": "stream",
     "text": [
      "✅ Finished: /Volumes/X10 Pro/predicted_chunks/tmp_chunks/chunk_00149.tsv → /Volumes/X10 Pro/predicted_chunks/chunk_00149.tsv\n"
     ]
    },
    {
     "name": "stderr",
     "output_type": "stream",
     "text": [
      "🔍 chunk_00768.tsv: 100%|██████████| 469/469 [35:28<00:00,  4.54s/it]\n",
      "🔍 chunk_00560.tsv:  59%|█████▉    | 278/469 [21:31<14:58,  4.70s/it]"
     ]
    },
    {
     "name": "stdout",
     "output_type": "stream",
     "text": [
      "✅ Finished: /Volumes/X10 Pro/predicted_chunks/tmp_chunks/chunk_00768.tsv → /Volumes/X10 Pro/predicted_chunks/chunk_00768.tsv\n"
     ]
    },
    {
     "name": "stderr",
     "output_type": "stream",
     "text": [
      "🔍 chunk_00358.tsv: 100%|██████████| 469/469 [34:17<00:00,  4.39s/it]\n",
      "🔍 chunk_00560.tsv:  96%|█████████▋| 452/469 [35:00<01:16,  4.52s/it]"
     ]
    },
    {
     "name": "stdout",
     "output_type": "stream",
     "text": [
      "✅ Finished: /Volumes/X10 Pro/predicted_chunks/tmp_chunks/chunk_00358.tsv → /Volumes/X10 Pro/predicted_chunks/chunk_00358.tsv\n"
     ]
    },
    {
     "name": "stderr",
     "output_type": "stream",
     "text": [
      "🔍 chunk_00560.tsv: 100%|██████████| 469/469 [36:17<00:00,  4.64s/it]\n",
      "🔍 chunk_00769.tsv:  39%|███▉      | 185/469 [14:41<22:14,  4.70s/it]"
     ]
    },
    {
     "name": "stdout",
     "output_type": "stream",
     "text": [
      "✅ Finished: /Volumes/X10 Pro/predicted_chunks/tmp_chunks/chunk_00560.tsv → /Volumes/X10 Pro/predicted_chunks/chunk_00560.tsv\n"
     ]
    },
    {
     "name": "stderr",
     "output_type": "stream",
     "text": [
      "🔍 chunk_00150.tsv: 100%|██████████| 469/469 [33:19<00:00,  4.26s/it]\n",
      "🔍 chunk_00359.tsv:  29%|██▉       | 135/469 [08:51<21:47,  3.91s/it]"
     ]
    },
    {
     "name": "stdout",
     "output_type": "stream",
     "text": [
      "✅ Finished: /Volumes/X10 Pro/predicted_chunks/tmp_chunks/chunk_00150.tsv → /Volumes/X10 Pro/predicted_chunks/chunk_00150.tsv\n"
     ]
    },
    {
     "name": "stderr",
     "output_type": "stream",
     "text": [
      "🔍 chunk_00769.tsv: 100%|██████████| 469/469 [34:40<00:00,  4.44s/it]\n",
      "🔍 chunk_00561.tsv:  62%|██████▏   | 293/469 [19:50<13:29,  4.60s/it]"
     ]
    },
    {
     "name": "stdout",
     "output_type": "stream",
     "text": [
      "✅ Finished: /Volumes/X10 Pro/predicted_chunks/tmp_chunks/chunk_00769.tsv → /Volumes/X10 Pro/predicted_chunks/chunk_00769.tsv\n"
     ]
    },
    {
     "name": "stderr",
     "output_type": "stream",
     "text": [
      "🔍 chunk_00359.tsv: 100%|██████████| 469/469 [32:27<00:00,  4.15s/it]\n"
     ]
    },
    {
     "name": "stdout",
     "output_type": "stream",
     "text": [
      "✅ Finished: /Volumes/X10 Pro/predicted_chunks/tmp_chunks/chunk_00359.tsv → /Volumes/X10 Pro/predicted_chunks/chunk_00359.tsv\n"
     ]
    },
    {
     "name": "stderr",
     "output_type": "stream",
     "text": [
      "🔍 chunk_00561.tsv: 100%|██████████| 469/469 [33:26<00:00,  4.28s/it]\n",
      "🔍 chunk_00151.tsv:  77%|███████▋  | 361/469 [25:50<08:36,  4.78s/it]"
     ]
    },
    {
     "name": "stdout",
     "output_type": "stream",
     "text": [
      "✅ Finished: /Volumes/X10 Pro/predicted_chunks/tmp_chunks/chunk_00561.tsv → /Volumes/X10 Pro/predicted_chunks/chunk_00561.tsv\n"
     ]
    },
    {
     "name": "stderr",
     "output_type": "stream",
     "text": [
      "🔍 chunk_00151.tsv: 100%|██████████| 469/469 [34:09<00:00,  4.37s/it]\n",
      "🔍 chunk_00360.tsv:  29%|██▉       | 136/469 [10:33<20:32,  3.70s/it]"
     ]
    },
    {
     "name": "stdout",
     "output_type": "stream",
     "text": [
      "✅ Finished: /Volumes/X10 Pro/predicted_chunks/tmp_chunks/chunk_00151.tsv → /Volumes/X10 Pro/predicted_chunks/chunk_00151.tsv\n"
     ]
    },
    {
     "name": "stderr",
     "output_type": "stream",
     "text": [
      "🔍 chunk_00770.tsv: 100%|██████████| 469/469 [38:43<00:00,  4.95s/it]\n",
      "🔍 chunk_00152.tsv:  45%|████▌     | 213/469 [16:49<18:27,  4.32s/it]"
     ]
    },
    {
     "name": "stdout",
     "output_type": "stream",
     "text": [
      "✅ Finished: /Volumes/X10 Pro/predicted_chunks/tmp_chunks/chunk_00770.tsv → /Volumes/X10 Pro/predicted_chunks/chunk_00770.tsv\n"
     ]
    },
    {
     "name": "stderr",
     "output_type": "stream",
     "text": [
      "🔍 chunk_00360.tsv: 100%|██████████| 469/469 [36:46<00:00,  4.70s/it]\n",
      "🔍 chunk_00771.tsv:  23%|██▎       | 110/469 [09:15<31:30,  5.27s/it]"
     ]
    },
    {
     "name": "stdout",
     "output_type": "stream",
     "text": [
      "✅ Finished: /Volumes/X10 Pro/predicted_chunks/tmp_chunks/chunk_00360.tsv → /Volumes/X10 Pro/predicted_chunks/chunk_00360.tsv\n"
     ]
    },
    {
     "name": "stderr",
     "output_type": "stream",
     "text": [
      "🔍 chunk_00562.tsv: 100%|██████████| 469/469 [37:56<00:00,  4.85s/it]\n",
      "🔍 chunk_00361.tsv:   9%|▉         | 44/469 [03:23<31:45,  4.48s/it]]"
     ]
    },
    {
     "name": "stdout",
     "output_type": "stream",
     "text": [
      "✅ Finished: /Volumes/X10 Pro/predicted_chunks/tmp_chunks/chunk_00562.tsv → /Volumes/X10 Pro/predicted_chunks/chunk_00562.tsv\n"
     ]
    },
    {
     "name": "stderr",
     "output_type": "stream",
     "text": [
      "🔍 chunk_00152.tsv: 100%|██████████| 469/469 [36:02<00:00,  4.61s/it]\n"
     ]
    },
    {
     "name": "stdout",
     "output_type": "stream",
     "text": [
      "✅ Finished: /Volumes/X10 Pro/predicted_chunks/tmp_chunks/chunk_00152.tsv → /Volumes/X10 Pro/predicted_chunks/chunk_00152.tsv\n"
     ]
    },
    {
     "name": "stderr",
     "output_type": "stream",
     "text": [
      "🔍 chunk_00771.tsv: 100%|██████████| 469/469 [36:11<00:00,  4.63s/it]\n",
      "🔍 chunk_00153.tsv:  53%|█████▎    | 247/469 [16:57<18:41,  5.05s/it]"
     ]
    },
    {
     "name": "stdout",
     "output_type": "stream",
     "text": [
      "✅ Finished: /Volumes/X10 Pro/predicted_chunks/tmp_chunks/chunk_00771.tsv → /Volumes/X10 Pro/predicted_chunks/chunk_00771.tsv\n"
     ]
    },
    {
     "name": "stderr",
     "output_type": "stream",
     "text": [
      "🔍 chunk_00361.tsv: 100%|██████████| 469/469 [33:29<00:00,  4.28s/it]\n",
      "🔍 chunk_00153.tsv:  71%|███████   | 332/469 [23:36<10:18,  4.51s/it]"
     ]
    },
    {
     "name": "stdout",
     "output_type": "stream",
     "text": [
      "✅ Finished: /Volumes/X10 Pro/predicted_chunks/tmp_chunks/chunk_00361.tsv → /Volumes/X10 Pro/predicted_chunks/chunk_00361.tsv\n"
     ]
    },
    {
     "name": "stderr",
     "output_type": "stream",
     "text": [
      "🔍 chunk_00563.tsv: 100%|██████████| 469/469 [35:10<00:00,  4.50s/it]\n",
      "🔍 chunk_00772.tsv:  31%|███       | 146/469 [11:44<19:28,  3.62s/it]"
     ]
    },
    {
     "name": "stdout",
     "output_type": "stream",
     "text": [
      "✅ Finished: /Volumes/X10 Pro/predicted_chunks/tmp_chunks/chunk_00563.tsv → /Volumes/X10 Pro/predicted_chunks/chunk_00563.tsv\n"
     ]
    },
    {
     "name": "stderr",
     "output_type": "stream",
     "text": [
      "🔍 chunk_00153.tsv: 100%|██████████| 469/469 [34:14<00:00,  4.38s/it]\n",
      "🔍 chunk_00564.tsv:  15%|█▌        | 71/469 [05:15<32:25,  4.89s/it]]"
     ]
    },
    {
     "name": "stdout",
     "output_type": "stream",
     "text": [
      "✅ Finished: /Volumes/X10 Pro/predicted_chunks/tmp_chunks/chunk_00153.tsv → /Volumes/X10 Pro/predicted_chunks/chunk_00153.tsv\n"
     ]
    },
    {
     "name": "stderr",
     "output_type": "stream",
     "text": [
      "🔍 chunk_00772.tsv: 100%|██████████| 469/469 [40:32<00:00,  5.19s/it]\n",
      "🔍 chunk_00154.tsv:  56%|█████▌    | 262/469 [23:15<24:56,  7.23s/it]"
     ]
    },
    {
     "name": "stdout",
     "output_type": "stream",
     "text": [
      "✅ Finished: /Volumes/X10 Pro/predicted_chunks/tmp_chunks/chunk_00772.tsv → /Volumes/X10 Pro/predicted_chunks/chunk_00772.tsv\n"
     ]
    },
    {
     "name": "stderr",
     "output_type": "stream",
     "text": [
      "🔍 chunk_00362.tsv: 100%|██████████| 469/469 [40:45<00:00,  5.21s/it]\n",
      "🔍 chunk_00564.tsv:  79%|███████▉  | 371/469 [35:30<13:02,  7.99s/it]"
     ]
    },
    {
     "name": "stdout",
     "output_type": "stream",
     "text": [
      "✅ Finished: /Volumes/X10 Pro/predicted_chunks/tmp_chunks/chunk_00362.tsv → /Volumes/X10 Pro/predicted_chunks/chunk_00362.tsv\n"
     ]
    },
    {
     "name": "stderr",
     "output_type": "stream",
     "text": [
      "🔍 chunk_00564.tsv: 100%|██████████| 469/469 [43:00<00:00,  5.50s/it]\n"
     ]
    },
    {
     "name": "stdout",
     "output_type": "stream",
     "text": [
      "✅ Finished: /Volumes/X10 Pro/predicted_chunks/tmp_chunks/chunk_00564.tsv → /Volumes/X10 Pro/predicted_chunks/chunk_00564.tsv\n"
     ]
    },
    {
     "name": "stderr",
     "output_type": "stream",
     "text": [
      "🔍 chunk_00154.tsv: 100%|██████████| 469/469 [40:16<00:00,  5.15s/it]\n",
      "🔍 chunk_00363.tsv:  32%|███▏      | 150/469 [10:01<16:10,  3.04s/it]"
     ]
    },
    {
     "name": "stdout",
     "output_type": "stream",
     "text": [
      "✅ Finished: /Volumes/X10 Pro/predicted_chunks/tmp_chunks/chunk_00154.tsv → /Volumes/X10 Pro/predicted_chunks/chunk_00154.tsv\n"
     ]
    },
    {
     "name": "stderr",
     "output_type": "stream",
     "text": [
      "🔍 chunk_00773.tsv: 100%|██████████| 469/469 [38:23<00:00,  4.91s/it]\n",
      "🔍 chunk_00363.tsv:  91%|█████████▏| 428/469 [31:36<03:31,  5.16s/it]"
     ]
    },
    {
     "name": "stdout",
     "output_type": "stream",
     "text": [
      "✅ Finished: /Volumes/X10 Pro/predicted_chunks/tmp_chunks/chunk_00773.tsv → /Volumes/X10 Pro/predicted_chunks/chunk_00773.tsv\n"
     ]
    },
    {
     "name": "stderr",
     "output_type": "stream",
     "text": [
      "🔍 chunk_00363.tsv: 100%|██████████| 469/469 [35:11<00:00,  4.50s/it]\n",
      "🔍 chunk_00155.tsv:  68%|██████▊   | 321/469 [25:02<11:22,  4.61s/it]"
     ]
    },
    {
     "name": "stdout",
     "output_type": "stream",
     "text": [
      "✅ Finished: /Volumes/X10 Pro/predicted_chunks/tmp_chunks/chunk_00363.tsv → /Volumes/X10 Pro/predicted_chunks/chunk_00363.tsv\n"
     ]
    },
    {
     "name": "stderr",
     "output_type": "stream",
     "text": [
      "🔍 chunk_00565.tsv: 100%|██████████| 469/469 [37:25<00:00,  4.79s/it]\n",
      "🔍 chunk_00155.tsv:  93%|█████████▎| 438/469 [34:43<02:36,  5.04s/it]"
     ]
    },
    {
     "name": "stdout",
     "output_type": "stream",
     "text": [
      "✅ Finished: /Volumes/X10 Pro/predicted_chunks/tmp_chunks/chunk_00565.tsv → /Volumes/X10 Pro/predicted_chunks/chunk_00565.tsv\n"
     ]
    },
    {
     "name": "stderr",
     "output_type": "stream",
     "text": [
      "🔍 chunk_00155.tsv: 100%|██████████| 469/469 [37:14<00:00,  4.76s/it]\n",
      "🔍 chunk_00774.tsv:  39%|███▊      | 181/469 [15:41<25:16,  5.27s/it]"
     ]
    },
    {
     "name": "stdout",
     "output_type": "stream",
     "text": [
      "✅ Finished: /Volumes/X10 Pro/predicted_chunks/tmp_chunks/chunk_00155.tsv → /Volumes/X10 Pro/predicted_chunks/chunk_00155.tsv\n"
     ]
    },
    {
     "name": "stderr",
     "output_type": "stream",
     "text": [
      "🔍 chunk_00774.tsv: 100%|██████████| 469/469 [41:57<00:00,  5.37s/it]\n",
      "🔍 chunk_00566.tsv:  69%|██████▉   | 323/469 [28:39<11:17,  4.64s/it]"
     ]
    },
    {
     "name": "stdout",
     "output_type": "stream",
     "text": [
      "✅ Finished: /Volumes/X10 Pro/predicted_chunks/tmp_chunks/chunk_00774.tsv → /Volumes/X10 Pro/predicted_chunks/chunk_00774.tsv\n"
     ]
    },
    {
     "name": "stderr",
     "output_type": "stream",
     "text": [
      "🔍 chunk_00364.tsv: 100%|██████████| 469/469 [39:18<00:00,  5.03s/it]\n",
      "🔍 chunk_00156.tsv:  68%|██████▊   | 321/469 [27:07<14:02,  5.69s/it]"
     ]
    },
    {
     "name": "stdout",
     "output_type": "stream",
     "text": [
      "✅ Finished: /Volumes/X10 Pro/predicted_chunks/tmp_chunks/chunk_00364.tsv → /Volumes/X10 Pro/predicted_chunks/chunk_00364.tsv\n"
     ]
    },
    {
     "name": "stderr",
     "output_type": "stream",
     "text": [
      "🔍 chunk_00566.tsv: 100%|██████████| 469/469 [42:23<00:00,  5.42s/it]\n"
     ]
    },
    {
     "name": "stdout",
     "output_type": "stream",
     "text": [
      "✅ Finished: /Volumes/X10 Pro/predicted_chunks/tmp_chunks/chunk_00566.tsv → /Volumes/X10 Pro/predicted_chunks/chunk_00566.tsv\n"
     ]
    },
    {
     "name": "stderr",
     "output_type": "stream",
     "text": [
      "🔍 chunk_00156.tsv: 100%|██████████| 469/469 [40:22<00:00,  5.17s/it]\n",
      "🔍 chunk_00365.tsv:  31%|███       | 144/469 [13:10<28:17,  5.22s/it]"
     ]
    },
    {
     "name": "stdout",
     "output_type": "stream",
     "text": [
      "✅ Finished: /Volumes/X10 Pro/predicted_chunks/tmp_chunks/chunk_00156.tsv → /Volumes/X10 Pro/predicted_chunks/chunk_00156.tsv\n"
     ]
    },
    {
     "name": "stderr",
     "output_type": "stream",
     "text": [
      "🔍 chunk_00365.tsv: 100%|██████████| 469/469 [42:40<00:00,  5.46s/it]\n",
      "🔍 chunk_00157.tsv:  70%|███████   | 330/469 [29:25<09:41,  4.18s/it]"
     ]
    },
    {
     "name": "stdout",
     "output_type": "stream",
     "text": [
      "✅ Finished: /Volumes/X10 Pro/predicted_chunks/tmp_chunks/chunk_00365.tsv → /Volumes/X10 Pro/predicted_chunks/chunk_00365.tsv\n"
     ]
    },
    {
     "name": "stderr",
     "output_type": "stream",
     "text": [
      "🔍 chunk_00775.tsv: 100%|██████████| 469/469 [45:14<00:00,  5.79s/it]\n"
     ]
    },
    {
     "name": "stdout",
     "output_type": "stream",
     "text": [
      "✅ Finished: /Volumes/X10 Pro/predicted_chunks/tmp_chunks/chunk_00775.tsv → /Volumes/X10 Pro/predicted_chunks/chunk_00775.tsv\n"
     ]
    },
    {
     "name": "stderr",
     "output_type": "stream",
     "text": [
      "🔍 chunk_00157.tsv: 100%|██████████| 469/469 [41:08<00:00,  5.26s/it]\n"
     ]
    },
    {
     "name": "stdout",
     "output_type": "stream",
     "text": [
      "✅ Finished: /Volumes/X10 Pro/predicted_chunks/tmp_chunks/chunk_00157.tsv → /Volumes/X10 Pro/predicted_chunks/chunk_00157.tsv\n"
     ]
    },
    {
     "name": "stderr",
     "output_type": "stream",
     "text": [
      "🔍 chunk_00567.tsv: 100%|██████████| 469/469 [42:49<00:00,  5.48s/it]\n",
      "🔍 chunk_00158.tsv:   3%|▎         | 12/469 [01:02<39:40,  5.21s/it]]"
     ]
    },
    {
     "name": "stdout",
     "output_type": "stream",
     "text": [
      "✅ Finished: /Volumes/X10 Pro/predicted_chunks/tmp_chunks/chunk_00567.tsv → /Volumes/X10 Pro/predicted_chunks/chunk_00567.tsv\n"
     ]
    },
    {
     "name": "stderr",
     "output_type": "stream",
     "text": [
      "🔍 chunk_00366.tsv: 100%|██████████| 469/469 [38:20<00:00,  4.90s/it]\n",
      "🔍 chunk_00158.tsv:  71%|███████▏  | 335/469 [26:38<09:32,  4.27s/it]"
     ]
    },
    {
     "name": "stdout",
     "output_type": "stream",
     "text": [
      "✅ Finished: /Volumes/X10 Pro/predicted_chunks/tmp_chunks/chunk_00366.tsv → /Volumes/X10 Pro/predicted_chunks/chunk_00366.tsv\n"
     ]
    },
    {
     "name": "stderr",
     "output_type": "stream",
     "text": [
      "🔍 chunk_00776.tsv: 100%|██████████| 469/469 [41:29<00:00,  5.31s/it]\n",
      "🔍 chunk_00367.tsv:  12%|█▏        | 58/469 [04:36<34:40,  5.06s/it]"
     ]
    },
    {
     "name": "stdout",
     "output_type": "stream",
     "text": [
      "✅ Finished: /Volumes/X10 Pro/predicted_chunks/tmp_chunks/chunk_00776.tsv → /Volumes/X10 Pro/predicted_chunks/chunk_00776.tsv\n"
     ]
    },
    {
     "name": "stderr",
     "output_type": "stream",
     "text": [
      "🔍 chunk_00158.tsv: 100%|██████████| 469/469 [36:42<00:00,  4.70s/it]\n"
     ]
    },
    {
     "name": "stdout",
     "output_type": "stream",
     "text": [
      "✅ Finished: /Volumes/X10 Pro/predicted_chunks/tmp_chunks/chunk_00158.tsv → /Volumes/X10 Pro/predicted_chunks/chunk_00158.tsv\n"
     ]
    },
    {
     "name": "stderr",
     "output_type": "stream",
     "text": [
      "🔍 chunk_00568.tsv: 100%|██████████| 469/469 [39:00<00:00,  4.99s/it]\n"
     ]
    },
    {
     "name": "stdout",
     "output_type": "stream",
     "text": [
      "✅ Finished: /Volumes/X10 Pro/predicted_chunks/tmp_chunks/chunk_00568.tsv → /Volumes/X10 Pro/predicted_chunks/chunk_00568.tsv\n"
     ]
    },
    {
     "name": "stderr",
     "output_type": "stream",
     "text": [
      "🔍 chunk_00367.tsv: 100%|██████████| 469/469 [37:08<00:00,  4.75s/it]\n",
      "🔍 chunk_00777.tsv:  82%|████████▏ | 384/469 [32:24<06:11,  4.37s/it]"
     ]
    },
    {
     "name": "stdout",
     "output_type": "stream",
     "text": [
      "✅ Finished: /Volumes/X10 Pro/predicted_chunks/tmp_chunks/chunk_00367.tsv → /Volumes/X10 Pro/predicted_chunks/chunk_00367.tsv\n"
     ]
    },
    {
     "name": "stderr",
     "output_type": "stream",
     "text": [
      "🔍 chunk_00777.tsv: 100%|██████████| 469/469 [39:44<00:00,  5.08s/it]\n",
      "🔍 chunk_00569.tsv:  83%|████████▎ | 387/469 [30:57<04:56,  3.62s/it]"
     ]
    },
    {
     "name": "stdout",
     "output_type": "stream",
     "text": [
      "✅ Finished: /Volumes/X10 Pro/predicted_chunks/tmp_chunks/chunk_00777.tsv → /Volumes/X10 Pro/predicted_chunks/chunk_00777.tsv\n"
     ]
    },
    {
     "name": "stderr",
     "output_type": "stream",
     "text": [
      "🔍 chunk_00159.tsv: 100%|██████████| 469/469 [36:47<00:00,  4.71s/it]\n",
      "🔍 chunk_00368.tsv:  27%|██▋       | 127/469 [09:37<18:16,  3.21s/it]"
     ]
    },
    {
     "name": "stdout",
     "output_type": "stream",
     "text": [
      "✅ Finished: /Volumes/X10 Pro/predicted_chunks/tmp_chunks/chunk_00159.tsv → /Volumes/X10 Pro/predicted_chunks/chunk_00159.tsv\n"
     ]
    },
    {
     "name": "stderr",
     "output_type": "stream",
     "text": [
      "🔍 chunk_00569.tsv: 100%|██████████| 469/469 [37:35<00:00,  4.81s/it]\n",
      "🔍 chunk_00778.tsv:  17%|█▋        | 79/469 [06:32<30:10,  4.64s/it]"
     ]
    },
    {
     "name": "stdout",
     "output_type": "stream",
     "text": [
      "✅ Finished: /Volumes/X10 Pro/predicted_chunks/tmp_chunks/chunk_00569.tsv → /Volumes/X10 Pro/predicted_chunks/chunk_00569.tsv\n"
     ]
    },
    {
     "name": "stderr",
     "output_type": "stream",
     "text": [
      "🔍 chunk_00368.tsv: 100%|██████████| 469/469 [36:36<00:00,  4.68s/it]\n",
      "🔍 chunk_00160.tsv:  73%|███████▎  | 344/469 [26:52<08:01,  3.86s/it]"
     ]
    },
    {
     "name": "stdout",
     "output_type": "stream",
     "text": [
      "✅ Finished: /Volumes/X10 Pro/predicted_chunks/tmp_chunks/chunk_00368.tsv → /Volumes/X10 Pro/predicted_chunks/chunk_00368.tsv\n"
     ]
    },
    {
     "name": "stderr",
     "output_type": "stream",
     "text": [
      "🔍 chunk_00778.tsv: 100%|██████████| 469/469 [38:34<00:00,  4.93s/it]\n",
      "🔍 chunk_00369.tsv:  25%|██▌       | 118/469 [09:12<24:53,  4.26s/it]"
     ]
    },
    {
     "name": "stdout",
     "output_type": "stream",
     "text": [
      "✅ Finished: /Volumes/X10 Pro/predicted_chunks/tmp_chunks/chunk_00778.tsv → /Volumes/X10 Pro/predicted_chunks/chunk_00778.tsv\n"
     ]
    },
    {
     "name": "stderr",
     "output_type": "stream",
     "text": [
      "🔍 chunk_00160.tsv: 100%|██████████| 469/469 [36:29<00:00,  4.67s/it]\n",
      "🔍 chunk_00779.tsv:   0%|          | 2/469 [00:11<44:05,  5.67s/it]t]"
     ]
    },
    {
     "name": "stdout",
     "output_type": "stream",
     "text": [
      "✅ Finished: /Volumes/X10 Pro/predicted_chunks/tmp_chunks/chunk_00160.tsv → /Volumes/X10 Pro/predicted_chunks/chunk_00160.tsv\n"
     ]
    },
    {
     "name": "stderr",
     "output_type": "stream",
     "text": [
      "🔍 chunk_00570.tsv: 100%|██████████| 469/469 [39:34<00:00,  5.06s/it]\n",
      "🔍 chunk_00161.tsv:  15%|█▍        | 69/469 [07:13<52:37,  7.89s/it]"
     ]
    },
    {
     "name": "stdout",
     "output_type": "stream",
     "text": [
      "✅ Finished: /Volumes/X10 Pro/predicted_chunks/tmp_chunks/chunk_00570.tsv → /Volumes/X10 Pro/predicted_chunks/chunk_00570.tsv\n"
     ]
    },
    {
     "name": "stderr",
     "output_type": "stream",
     "text": [
      "🔍 chunk_00369.tsv: 100%|██████████| 469/469 [44:50<00:00,  5.74s/it] \n",
      "🔍 chunk_00779.tsv:  71%|███████▏  | 335/469 [35:31<15:10,  6.80s/it]"
     ]
    },
    {
     "name": "stdout",
     "output_type": "stream",
     "text": [
      "✅ Finished: /Volumes/X10 Pro/predicted_chunks/tmp_chunks/chunk_00369.tsv → /Volumes/X10 Pro/predicted_chunks/chunk_00369.tsv\n"
     ]
    },
    {
     "name": "stderr",
     "output_type": "stream",
     "text": [
      "🔍 chunk_00779.tsv: 100%|██████████| 469/469 [49:36<00:00,  6.35s/it]\n"
     ]
    },
    {
     "name": "stdout",
     "output_type": "stream",
     "text": [
      "✅ Finished: /Volumes/X10 Pro/predicted_chunks/tmp_chunks/chunk_00779.tsv → /Volumes/X10 Pro/predicted_chunks/chunk_00779.tsv\n"
     ]
    },
    {
     "name": "stderr",
     "output_type": "stream",
     "text": [
      "🔍 chunk_00161.tsv: 100%|██████████| 469/469 [55:12<00:00,  7.06s/it]\n",
      "🔍 chunk_00780.tsv:  12%|█▏        | 56/469 [05:50<39:55,  5.80s/it]]"
     ]
    },
    {
     "name": "stdout",
     "output_type": "stream",
     "text": [
      "✅ Finished: /Volumes/X10 Pro/predicted_chunks/tmp_chunks/chunk_00161.tsv → /Volumes/X10 Pro/predicted_chunks/chunk_00161.tsv\n"
     ]
    },
    {
     "name": "stderr",
     "output_type": "stream",
     "text": [
      "🔍 chunk_00571.tsv: 100%|██████████| 469/469 [59:24<00:00,  7.60s/it]\n",
      "🔍 chunk_00780.tsv:  35%|███▍      | 163/469 [17:24<27:55,  5.47s/it]"
     ]
    },
    {
     "name": "stdout",
     "output_type": "stream",
     "text": [
      "✅ Finished: /Volumes/X10 Pro/predicted_chunks/tmp_chunks/chunk_00571.tsv → /Volumes/X10 Pro/predicted_chunks/chunk_00571.tsv\n"
     ]
    },
    {
     "name": "stderr",
     "output_type": "stream",
     "text": [
      "🔍 chunk_00370.tsv: 100%|██████████| 469/469 [48:08<00:00,  6.16s/it] \n"
     ]
    },
    {
     "name": "stdout",
     "output_type": "stream",
     "text": [
      "✅ Finished: /Volumes/X10 Pro/predicted_chunks/tmp_chunks/chunk_00370.tsv → /Volumes/X10 Pro/predicted_chunks/chunk_00370.tsv\n"
     ]
    },
    {
     "name": "stderr",
     "output_type": "stream",
     "text": [
      "🔍 chunk_00780.tsv: 100%|██████████| 469/469 [51:01<00:00,  6.53s/it]\n"
     ]
    },
    {
     "name": "stdout",
     "output_type": "stream",
     "text": [
      "✅ Finished: /Volumes/X10 Pro/predicted_chunks/tmp_chunks/chunk_00780.tsv → /Volumes/X10 Pro/predicted_chunks/chunk_00780.tsv\n"
     ]
    },
    {
     "name": "stderr",
     "output_type": "stream",
     "text": [
      "🔍 chunk_00162.tsv: 100%|██████████| 469/469 [55:46<00:00,  7.14s/it]\n",
      "🔍 chunk_00371.tsv:  57%|█████▋    | 267/469 [27:32<16:05,  4.78s/it]"
     ]
    },
    {
     "name": "stdout",
     "output_type": "stream",
     "text": [
      "✅ Finished: /Volumes/X10 Pro/predicted_chunks/tmp_chunks/chunk_00162.tsv → /Volumes/X10 Pro/predicted_chunks/chunk_00162.tsv\n"
     ]
    },
    {
     "name": "stderr",
     "output_type": "stream",
     "text": [
      "🔍 chunk_00572.tsv: 100%|██████████| 469/469 [57:53<00:00,  7.41s/it]\n",
      "🔍 chunk_00781.tsv:  49%|████▊     | 228/469 [24:15<25:14,  6.28s/it]"
     ]
    },
    {
     "name": "stdout",
     "output_type": "stream",
     "text": [
      "✅ Finished: /Volumes/X10 Pro/predicted_chunks/tmp_chunks/chunk_00572.tsv → /Volumes/X10 Pro/predicted_chunks/chunk_00572.tsv\n"
     ]
    },
    {
     "name": "stderr",
     "output_type": "stream",
     "text": [
      "🔍 chunk_00371.tsv: 100%|██████████| 469/469 [48:28<00:00,  6.20s/it] \n"
     ]
    },
    {
     "name": "stdout",
     "output_type": "stream",
     "text": [
      "✅ Finished: /Volumes/X10 Pro/predicted_chunks/tmp_chunks/chunk_00371.tsv → /Volumes/X10 Pro/predicted_chunks/chunk_00371.tsv\n"
     ]
    },
    {
     "name": "stderr",
     "output_type": "stream",
     "text": [
      "🔍 chunk_00781.tsv: 100%|██████████| 469/469 [49:45<00:00,  6.36s/it]\n",
      "🔍 chunk_00163.tsv:  71%|███████   | 332/469 [39:01<14:34,  6.38s/it]"
     ]
    },
    {
     "name": "stdout",
     "output_type": "stream",
     "text": [
      "✅ Finished: /Volumes/X10 Pro/predicted_chunks/tmp_chunks/chunk_00781.tsv → /Volumes/X10 Pro/predicted_chunks/chunk_00781.tsv\n"
     ]
    },
    {
     "name": "stderr",
     "output_type": "stream",
     "text": [
      "🔍 chunk_00163.tsv: 100%|██████████| 469/469 [54:52<00:00,  7.02s/it]\n",
      "🔍 chunk_00372.tsv:  72%|███████▏  | 336/469 [34:00<14:50,  6.70s/it]"
     ]
    },
    {
     "name": "stdout",
     "output_type": "stream",
     "text": [
      "✅ Finished: /Volumes/X10 Pro/predicted_chunks/tmp_chunks/chunk_00163.tsv → /Volumes/X10 Pro/predicted_chunks/chunk_00163.tsv\n"
     ]
    },
    {
     "name": "stderr",
     "output_type": "stream",
     "text": [
      "🔍 chunk_00372.tsv: 100%|██████████| 469/469 [42:42<00:00,  5.46s/it]\n",
      "🔍 chunk_00164.tsv:  28%|██▊       | 129/469 [08:31<13:38,  2.41s/it]"
     ]
    },
    {
     "name": "stdout",
     "output_type": "stream",
     "text": [
      "✅ Finished: /Volumes/X10 Pro/predicted_chunks/tmp_chunks/chunk_00372.tsv → /Volumes/X10 Pro/predicted_chunks/chunk_00372.tsv\n"
     ]
    },
    {
     "name": "stderr",
     "output_type": "stream",
     "text": [
      "🔍 chunk_00573.tsv: 100%|██████████| 469/469 [49:56<00:00,  6.39s/it]\n"
     ]
    },
    {
     "name": "stdout",
     "output_type": "stream",
     "text": [
      "✅ Finished: /Volumes/X10 Pro/predicted_chunks/tmp_chunks/chunk_00573.tsv → /Volumes/X10 Pro/predicted_chunks/chunk_00573.tsv\n"
     ]
    },
    {
     "name": "stderr",
     "output_type": "stream",
     "text": [
      "🔍 chunk_00782.tsv: 100%|██████████| 469/469 [38:02<00:00,  4.87s/it]\n"
     ]
    },
    {
     "name": "stdout",
     "output_type": "stream",
     "text": [
      "✅ Finished: /Volumes/X10 Pro/predicted_chunks/tmp_chunks/chunk_00782.tsv → /Volumes/X10 Pro/predicted_chunks/chunk_00782.tsv\n"
     ]
    },
    {
     "name": "stderr",
     "output_type": "stream",
     "text": [
      "🔍 chunk_00164.tsv: 100%|██████████| 469/469 [32:42<00:00,  4.18s/it]\n",
      "🔍 chunk_00574.tsv:  71%|███████   | 332/469 [24:01<12:00,  5.26s/it]"
     ]
    },
    {
     "name": "stdout",
     "output_type": "stream",
     "text": [
      "✅ Finished: /Volumes/X10 Pro/predicted_chunks/tmp_chunks/chunk_00164.tsv → /Volumes/X10 Pro/predicted_chunks/chunk_00164.tsv\n"
     ]
    },
    {
     "name": "stderr",
     "output_type": "stream",
     "text": [
      "🔍 chunk_00574.tsv: 100%|██████████| 469/469 [36:16<00:00,  4.64s/it]\n",
      "🔍 chunk_00165.tsv:  29%|██▉       | 138/469 [12:08<22:30,  4.08s/it]"
     ]
    },
    {
     "name": "stdout",
     "output_type": "stream",
     "text": [
      "✅ Finished: /Volumes/X10 Pro/predicted_chunks/tmp_chunks/chunk_00574.tsv → /Volumes/X10 Pro/predicted_chunks/chunk_00574.tsv\n"
     ]
    },
    {
     "name": "stderr",
     "output_type": "stream",
     "text": [
      "🔍 chunk_00373.tsv: 100%|██████████| 469/469 [36:53<00:00,  4.72s/it]\n"
     ]
    },
    {
     "name": "stdout",
     "output_type": "stream",
     "text": [
      "✅ Finished: /Volumes/X10 Pro/predicted_chunks/tmp_chunks/chunk_00373.tsv → /Volumes/X10 Pro/predicted_chunks/chunk_00373.tsv\n"
     ]
    },
    {
     "name": "stderr",
     "output_type": "stream",
     "text": [
      "🔍 chunk_00783.tsv: 100%|██████████| 469/469 [42:25<00:00,  5.43s/it]\n",
      "🔍 chunk_00165.tsv:  77%|███████▋  | 360/469 [31:51<11:04,  6.10s/it]"
     ]
    },
    {
     "name": "stdout",
     "output_type": "stream",
     "text": [
      "✅ Finished: /Volumes/X10 Pro/predicted_chunks/tmp_chunks/chunk_00783.tsv → /Volumes/X10 Pro/predicted_chunks/chunk_00783.tsv\n"
     ]
    },
    {
     "name": "stderr",
     "output_type": "stream",
     "text": [
      "🔍 chunk_00165.tsv: 100%|██████████| 469/469 [42:02<00:00,  5.38s/it]\n",
      "🔍 chunk_00374.tsv:  69%|██████▉   | 325/469 [29:14<12:38,  5.26s/it]"
     ]
    },
    {
     "name": "stdout",
     "output_type": "stream",
     "text": [
      "✅ Finished: /Volumes/X10 Pro/predicted_chunks/tmp_chunks/chunk_00165.tsv → /Volumes/X10 Pro/predicted_chunks/chunk_00165.tsv\n"
     ]
    },
    {
     "name": "stderr",
     "output_type": "stream",
     "text": [
      "🔍 chunk_00374.tsv: 100%|██████████| 469/469 [42:13<00:00,  5.40s/it]\n"
     ]
    },
    {
     "name": "stdout",
     "output_type": "stream",
     "text": [
      "✅ Finished: /Volumes/X10 Pro/predicted_chunks/tmp_chunks/chunk_00374.tsv → /Volumes/X10 Pro/predicted_chunks/chunk_00374.tsv\n"
     ]
    },
    {
     "name": "stderr",
     "output_type": "stream",
     "text": [
      "🔍 chunk_00575.tsv: 100%|██████████| 469/469 [44:59<00:00,  5.76s/it]\n",
      "🔍 chunk_00784.tsv:  55%|█████▌    | 258/469 [25:18<18:27,  5.25s/it]"
     ]
    },
    {
     "name": "stdout",
     "output_type": "stream",
     "text": [
      "✅ Finished: /Volumes/X10 Pro/predicted_chunks/tmp_chunks/chunk_00575.tsv → /Volumes/X10 Pro/predicted_chunks/chunk_00575.tsv\n"
     ]
    },
    {
     "name": "stderr",
     "output_type": "stream",
     "text": [
      "🔍 chunk_00784.tsv: 100%|██████████| 469/469 [44:03<00:00,  5.64s/it]\n"
     ]
    },
    {
     "name": "stdout",
     "output_type": "stream",
     "text": [
      "✅ Finished: /Volumes/X10 Pro/predicted_chunks/tmp_chunks/chunk_00784.tsv → /Volumes/X10 Pro/predicted_chunks/chunk_00784.tsv\n"
     ]
    },
    {
     "name": "stderr",
     "output_type": "stream",
     "text": [
      "🔍 chunk_00166.tsv: 100%|██████████| 469/469 [38:48<00:00,  4.96s/it]\n",
      "🔍 chunk_00576.tsv:  56%|█████▌    | 263/469 [23:29<15:40,  4.57s/it]"
     ]
    },
    {
     "name": "stdout",
     "output_type": "stream",
     "text": [
      "✅ Finished: /Volumes/X10 Pro/predicted_chunks/tmp_chunks/chunk_00166.tsv → /Volumes/X10 Pro/predicted_chunks/chunk_00166.tsv\n"
     ]
    },
    {
     "name": "stderr",
     "output_type": "stream",
     "text": [
      "🔍 chunk_00375.tsv: 100%|██████████| 469/469 [35:58<00:00,  4.60s/it]\n",
      "🔍 chunk_00167.tsv:  31%|███▏      | 147/469 [10:05<18:19,  3.41s/it]"
     ]
    },
    {
     "name": "stdout",
     "output_type": "stream",
     "text": [
      "✅ Finished: /Volumes/X10 Pro/predicted_chunks/tmp_chunks/chunk_00375.tsv → /Volumes/X10 Pro/predicted_chunks/chunk_00375.tsv\n"
     ]
    },
    {
     "name": "stderr",
     "output_type": "stream",
     "text": [
      "🔍 chunk_00576.tsv: 100%|██████████| 469/469 [39:14<00:00,  5.02s/it]\n"
     ]
    },
    {
     "name": "stdout",
     "output_type": "stream",
     "text": [
      "✅ Finished: /Volumes/X10 Pro/predicted_chunks/tmp_chunks/chunk_00576.tsv → /Volumes/X10 Pro/predicted_chunks/chunk_00576.tsv\n"
     ]
    },
    {
     "name": "stderr",
     "output_type": "stream",
     "text": [
      "🔍 chunk_00785.tsv: 100%|██████████| 469/469 [35:23<00:00,  4.53s/it]\n",
      "🔍 chunk_00167.tsv:  89%|████████▉ | 417/469 [30:28<04:13,  4.88s/it]"
     ]
    },
    {
     "name": "stdout",
     "output_type": "stream",
     "text": [
      "✅ Finished: /Volumes/X10 Pro/predicted_chunks/tmp_chunks/chunk_00785.tsv → /Volumes/X10 Pro/predicted_chunks/chunk_00785.tsv\n"
     ]
    },
    {
     "name": "stderr",
     "output_type": "stream",
     "text": [
      "🔍 chunk_00167.tsv: 100%|██████████| 469/469 [34:29<00:00,  4.41s/it]\n",
      "🔍 chunk_00786.tsv:  10%|█         | 48/469 [03:57<35:27,  5.05s/it]]"
     ]
    },
    {
     "name": "stdout",
     "output_type": "stream",
     "text": [
      "✅ Finished: /Volumes/X10 Pro/predicted_chunks/tmp_chunks/chunk_00167.tsv → /Volumes/X10 Pro/predicted_chunks/chunk_00167.tsv\n"
     ]
    },
    {
     "name": "stderr",
     "output_type": "stream",
     "text": [
      "🔍 chunk_00376.tsv: 100%|██████████| 469/469 [35:42<00:00,  4.57s/it]\n"
     ]
    },
    {
     "name": "stdout",
     "output_type": "stream",
     "text": [
      "✅ Finished: /Volumes/X10 Pro/predicted_chunks/tmp_chunks/chunk_00376.tsv → /Volumes/X10 Pro/predicted_chunks/chunk_00376.tsv\n"
     ]
    },
    {
     "name": "stderr",
     "output_type": "stream",
     "text": [
      "🔍 chunk_00577.tsv: 100%|██████████| 469/469 [34:58<00:00,  4.47s/it]\n",
      "🔍 chunk_00786.tsv:  53%|█████▎    | 249/469 [20:13<17:44,  4.84s/it]"
     ]
    },
    {
     "name": "stdout",
     "output_type": "stream",
     "text": [
      "✅ Finished: /Volumes/X10 Pro/predicted_chunks/tmp_chunks/chunk_00577.tsv → /Volumes/X10 Pro/predicted_chunks/chunk_00577.tsv\n"
     ]
    },
    {
     "name": "stderr",
     "output_type": "stream",
     "text": [
      "🔍 chunk_00786.tsv: 100%|██████████| 469/469 [38:58<00:00,  4.99s/it]\n"
     ]
    },
    {
     "name": "stdout",
     "output_type": "stream",
     "text": [
      "✅ Finished: /Volumes/X10 Pro/predicted_chunks/tmp_chunks/chunk_00786.tsv → /Volumes/X10 Pro/predicted_chunks/chunk_00786.tsv\n"
     ]
    },
    {
     "name": "stderr",
     "output_type": "stream",
     "text": [
      "🔍 chunk_00168.tsv: 100%|██████████| 469/469 [36:43<00:00,  4.70s/it]\n"
     ]
    },
    {
     "name": "stdout",
     "output_type": "stream",
     "text": [
      "✅ Finished: /Volumes/X10 Pro/predicted_chunks/tmp_chunks/chunk_00168.tsv → /Volumes/X10 Pro/predicted_chunks/chunk_00168.tsv\n"
     ]
    },
    {
     "name": "stderr",
     "output_type": "stream",
     "text": [
      "🔍 chunk_00377.tsv: 100%|██████████| 469/469 [39:01<00:00,  4.99s/it]\n",
      "🔍 chunk_00578.tsv:  88%|████████▊ | 415/469 [34:12<04:55,  5.46s/it]"
     ]
    },
    {
     "name": "stdout",
     "output_type": "stream",
     "text": [
      "✅ Finished: /Volumes/X10 Pro/predicted_chunks/tmp_chunks/chunk_00377.tsv → /Volumes/X10 Pro/predicted_chunks/chunk_00377.tsv\n"
     ]
    },
    {
     "name": "stderr",
     "output_type": "stream",
     "text": [
      "🔍 chunk_00578.tsv: 100%|██████████| 469/469 [39:14<00:00,  5.02s/it]\n"
     ]
    },
    {
     "name": "stdout",
     "output_type": "stream",
     "text": [
      "✅ Finished: /Volumes/X10 Pro/predicted_chunks/tmp_chunks/chunk_00578.tsv → /Volumes/X10 Pro/predicted_chunks/chunk_00578.tsv\n"
     ]
    },
    {
     "name": "stderr",
     "output_type": "stream",
     "text": [
      "🔍 chunk_00169.tsv: 100%|██████████| 469/469 [37:55<00:00,  4.85s/it]\n",
      "🔍 chunk_00579.tsv:  48%|████▊     | 226/469 [19:12<21:25,  5.29s/it]"
     ]
    },
    {
     "name": "stdout",
     "output_type": "stream",
     "text": [
      "✅ Finished: /Volumes/X10 Pro/predicted_chunks/tmp_chunks/chunk_00169.tsv → /Volumes/X10 Pro/predicted_chunks/chunk_00169.tsv\n"
     ]
    },
    {
     "name": "stderr",
     "output_type": "stream",
     "text": [
      "🔍 chunk_00787.tsv: 100%|██████████| 469/469 [41:05<00:00,  5.26s/it]\n"
     ]
    },
    {
     "name": "stdout",
     "output_type": "stream",
     "text": [
      "✅ Finished: /Volumes/X10 Pro/predicted_chunks/tmp_chunks/chunk_00787.tsv → /Volumes/X10 Pro/predicted_chunks/chunk_00787.tsv\n"
     ]
    },
    {
     "name": "stderr",
     "output_type": "stream",
     "text": [
      "🔍 chunk_00378.tsv: 100%|██████████| 469/469 [37:41<00:00,  4.82s/it]\n",
      "🔍 chunk_00170.tsv:  37%|███▋      | 172/469 [13:22<18:37,  3.76s/it]"
     ]
    },
    {
     "name": "stdout",
     "output_type": "stream",
     "text": [
      "✅ Finished: /Volumes/X10 Pro/predicted_chunks/tmp_chunks/chunk_00378.tsv → /Volumes/X10 Pro/predicted_chunks/chunk_00378.tsv\n"
     ]
    },
    {
     "name": "stderr",
     "output_type": "stream",
     "text": [
      "🔍 chunk_00579.tsv: 100%|██████████| 469/469 [38:35<00:00,  4.94s/it]\n"
     ]
    },
    {
     "name": "stdout",
     "output_type": "stream",
     "text": [
      "✅ Finished: /Volumes/X10 Pro/predicted_chunks/tmp_chunks/chunk_00579.tsv → /Volumes/X10 Pro/predicted_chunks/chunk_00579.tsv\n"
     ]
    },
    {
     "name": "stderr",
     "output_type": "stream",
     "text": [
      "🔍 chunk_00170.tsv: 100%|██████████| 469/469 [36:42<00:00,  4.70s/it]\n",
      "🔍 chunk_00788.tsv:  90%|█████████ | 424/469 [35:21<03:22,  4.51s/it]"
     ]
    },
    {
     "name": "stdout",
     "output_type": "stream",
     "text": [
      "✅ Finished: /Volumes/X10 Pro/predicted_chunks/tmp_chunks/chunk_00170.tsv → /Volumes/X10 Pro/predicted_chunks/chunk_00170.tsv\n"
     ]
    },
    {
     "name": "stderr",
     "output_type": "stream",
     "text": [
      "🔍 chunk_00788.tsv: 100%|██████████| 469/469 [39:09<00:00,  5.01s/it]\n",
      "🔍 chunk_00171.tsv:  11%|█         | 50/469 [03:40<35:36,  5.10s/it]"
     ]
    },
    {
     "name": "stdout",
     "output_type": "stream",
     "text": [
      "✅ Finished: /Volumes/X10 Pro/predicted_chunks/tmp_chunks/chunk_00788.tsv → /Volumes/X10 Pro/predicted_chunks/chunk_00788.tsv\n"
     ]
    },
    {
     "name": "stderr",
     "output_type": "stream",
     "text": [
      "🔍 chunk_00379.tsv: 100%|██████████| 469/469 [36:30<00:00,  4.67s/it]\n"
     ]
    },
    {
     "name": "stdout",
     "output_type": "stream",
     "text": [
      "✅ Finished: /Volumes/X10 Pro/predicted_chunks/tmp_chunks/chunk_00379.tsv → /Volumes/X10 Pro/predicted_chunks/chunk_00379.tsv\n"
     ]
    },
    {
     "name": "stderr",
     "output_type": "stream",
     "text": [
      "🔍 chunk_00580.tsv: 100%|██████████| 469/469 [39:05<00:00,  5.00s/it]\n",
      "🔍 chunk_00789.tsv:  47%|████▋     | 219/469 [17:52<16:05,  3.86s/it]"
     ]
    },
    {
     "name": "stdout",
     "output_type": "stream",
     "text": [
      "✅ Finished: /Volumes/X10 Pro/predicted_chunks/tmp_chunks/chunk_00580.tsv → /Volumes/X10 Pro/predicted_chunks/chunk_00580.tsv\n"
     ]
    },
    {
     "name": "stderr",
     "output_type": "stream",
     "text": [
      "🔍 chunk_00171.tsv: 100%|██████████| 469/469 [35:52<00:00,  4.59s/it]\n",
      "🔍 chunk_00380.tsv:  62%|██████▏   | 292/469 [22:35<14:33,  4.93s/it]"
     ]
    },
    {
     "name": "stdout",
     "output_type": "stream",
     "text": [
      "✅ Finished: /Volumes/X10 Pro/predicted_chunks/tmp_chunks/chunk_00171.tsv → /Volumes/X10 Pro/predicted_chunks/chunk_00171.tsv\n"
     ]
    },
    {
     "name": "stderr",
     "output_type": "stream",
     "text": [
      "🔍 chunk_00789.tsv: 100%|██████████| 469/469 [38:46<00:00,  4.96s/it]\n"
     ]
    },
    {
     "name": "stdout",
     "output_type": "stream",
     "text": [
      "✅ Finished: /Volumes/X10 Pro/predicted_chunks/tmp_chunks/chunk_00789.tsv → /Volumes/X10 Pro/predicted_chunks/chunk_00789.tsv\n"
     ]
    },
    {
     "name": "stderr",
     "output_type": "stream",
     "text": [
      "🔍 chunk_00380.tsv: 100%|██████████| 469/469 [36:10<00:00,  4.63s/it]\n",
      "🔍 chunk_00790.tsv:  17%|█▋        | 80/469 [06:46<31:32,  4.86s/it]]"
     ]
    },
    {
     "name": "stdout",
     "output_type": "stream",
     "text": [
      "✅ Finished: /Volumes/X10 Pro/predicted_chunks/tmp_chunks/chunk_00380.tsv → /Volumes/X10 Pro/predicted_chunks/chunk_00380.tsv\n"
     ]
    },
    {
     "name": "stderr",
     "output_type": "stream",
     "text": [
      "🔍 chunk_00581.tsv: 100%|██████████| 469/469 [38:19<00:00,  4.90s/it]\n"
     ]
    },
    {
     "name": "stdout",
     "output_type": "stream",
     "text": [
      "✅ Finished: /Volumes/X10 Pro/predicted_chunks/tmp_chunks/chunk_00581.tsv → /Volumes/X10 Pro/predicted_chunks/chunk_00581.tsv\n"
     ]
    },
    {
     "name": "stderr",
     "output_type": "stream",
     "text": [
      "🔍 chunk_00172.tsv: 100%|██████████| 469/469 [36:03<00:00,  4.61s/it]\n",
      "🔍 chunk_00790.tsv:  77%|███████▋  | 360/469 [29:21<09:35,  5.28s/it]"
     ]
    },
    {
     "name": "stdout",
     "output_type": "stream",
     "text": [
      "✅ Finished: /Volumes/X10 Pro/predicted_chunks/tmp_chunks/chunk_00172.tsv → /Volumes/X10 Pro/predicted_chunks/chunk_00172.tsv\n"
     ]
    },
    {
     "name": "stderr",
     "output_type": "stream",
     "text": [
      "🔍 chunk_00790.tsv: 100%|██████████| 469/469 [38:48<00:00,  4.96s/it]\n"
     ]
    },
    {
     "name": "stdout",
     "output_type": "stream",
     "text": [
      "✅ Finished: /Volumes/X10 Pro/predicted_chunks/tmp_chunks/chunk_00790.tsv → /Volumes/X10 Pro/predicted_chunks/chunk_00790.tsv\n"
     ]
    },
    {
     "name": "stderr",
     "output_type": "stream",
     "text": [
      "🔍 chunk_00381.tsv: 100%|██████████| 469/469 [36:46<00:00,  4.70s/it]\n",
      "🔍 chunk_00791.tsv:  12%|█▏        | 56/469 [04:44<36:39,  5.32s/it]"
     ]
    },
    {
     "name": "stdout",
     "output_type": "stream",
     "text": [
      "✅ Finished: /Volumes/X10 Pro/predicted_chunks/tmp_chunks/chunk_00381.tsv → /Volumes/X10 Pro/predicted_chunks/chunk_00381.tsv\n"
     ]
    },
    {
     "name": "stderr",
     "output_type": "stream",
     "text": [
      "🔍 chunk_00582.tsv: 100%|██████████| 469/469 [37:44<00:00,  4.83s/it]\n"
     ]
    },
    {
     "name": "stdout",
     "output_type": "stream",
     "text": [
      "✅ Finished: /Volumes/X10 Pro/predicted_chunks/tmp_chunks/chunk_00582.tsv → /Volumes/X10 Pro/predicted_chunks/chunk_00582.tsv\n"
     ]
    },
    {
     "name": "stderr",
     "output_type": "stream",
     "text": [
      "🔍 chunk_00173.tsv: 100%|██████████| 469/469 [35:16<00:00,  4.51s/it]\n"
     ]
    },
    {
     "name": "stdout",
     "output_type": "stream",
     "text": [
      "✅ Finished: /Volumes/X10 Pro/predicted_chunks/tmp_chunks/chunk_00173.tsv → /Volumes/X10 Pro/predicted_chunks/chunk_00173.tsv\n"
     ]
    },
    {
     "name": "stderr",
     "output_type": "stream",
     "text": [
      "🔍 chunk_00791.tsv: 100%|██████████| 469/469 [38:09<00:00,  4.88s/it]\n"
     ]
    },
    {
     "name": "stdout",
     "output_type": "stream",
     "text": [
      "✅ Finished: /Volumes/X10 Pro/predicted_chunks/tmp_chunks/chunk_00791.tsv → /Volumes/X10 Pro/predicted_chunks/chunk_00791.tsv\n"
     ]
    },
    {
     "name": "stderr",
     "output_type": "stream",
     "text": [
      "🔍 chunk_00382.tsv: 100%|██████████| 469/469 [36:14<00:00,  4.64s/it]\n",
      "🔍 chunk_00174.tsv:  42%|████▏     | 198/469 [15:08<23:34,  5.22s/it]"
     ]
    },
    {
     "name": "stdout",
     "output_type": "stream",
     "text": [
      "✅ Finished: /Volumes/X10 Pro/predicted_chunks/tmp_chunks/chunk_00382.tsv → /Volumes/X10 Pro/predicted_chunks/chunk_00382.tsv\n"
     ]
    },
    {
     "name": "stderr",
     "output_type": "stream",
     "text": [
      "🔍 chunk_00583.tsv: 100%|██████████| 469/469 [38:02<00:00,  4.87s/it]\n",
      "🔍 chunk_00792.tsv:  42%|████▏     | 195/469 [16:16<18:26,  4.04s/it]"
     ]
    },
    {
     "name": "stdout",
     "output_type": "stream",
     "text": [
      "✅ Finished: /Volumes/X10 Pro/predicted_chunks/tmp_chunks/chunk_00583.tsv → /Volumes/X10 Pro/predicted_chunks/chunk_00583.tsv\n"
     ]
    },
    {
     "name": "stderr",
     "output_type": "stream",
     "text": [
      "🔍 chunk_00174.tsv: 100%|██████████| 469/469 [35:44<00:00,  4.57s/it]\n",
      "🔍 chunk_00383.tsv:  56%|█████▌    | 261/469 [20:30<12:02,  3.47s/it]"
     ]
    },
    {
     "name": "stdout",
     "output_type": "stream",
     "text": [
      "✅ Finished: /Volumes/X10 Pro/predicted_chunks/tmp_chunks/chunk_00174.tsv → /Volumes/X10 Pro/predicted_chunks/chunk_00174.tsv\n"
     ]
    },
    {
     "name": "stderr",
     "output_type": "stream",
     "text": [
      "🔍 chunk_00792.tsv: 100%|██████████| 469/469 [38:54<00:00,  4.98s/it]\n"
     ]
    },
    {
     "name": "stdout",
     "output_type": "stream",
     "text": [
      "✅ Finished: /Volumes/X10 Pro/predicted_chunks/tmp_chunks/chunk_00792.tsv → /Volumes/X10 Pro/predicted_chunks/chunk_00792.tsv\n"
     ]
    },
    {
     "name": "stderr",
     "output_type": "stream",
     "text": [
      "🔍 chunk_00383.tsv: 100%|██████████| 469/469 [36:46<00:00,  4.71s/it]\n",
      "🔍 chunk_00584.tsv:  62%|██████▏   | 291/469 [23:20<10:16,  3.46s/it]"
     ]
    },
    {
     "name": "stdout",
     "output_type": "stream",
     "text": [
      "✅ Finished: /Volumes/X10 Pro/predicted_chunks/tmp_chunks/chunk_00383.tsv → /Volumes/X10 Pro/predicted_chunks/chunk_00383.tsv\n"
     ]
    },
    {
     "name": "stderr",
     "output_type": "stream",
     "text": [
      "🔍 chunk_00584.tsv: 100%|██████████| 469/469 [37:21<00:00,  4.78s/it]\n"
     ]
    },
    {
     "name": "stdout",
     "output_type": "stream",
     "text": [
      "✅ Finished: /Volumes/X10 Pro/predicted_chunks/tmp_chunks/chunk_00584.tsv → /Volumes/X10 Pro/predicted_chunks/chunk_00584.tsv\n"
     ]
    },
    {
     "name": "stderr",
     "output_type": "stream",
     "text": [
      "🔍 chunk_00175.tsv: 100%|██████████| 469/469 [35:34<00:00,  4.55s/it]\n",
      "🔍 chunk_00384.tsv:  55%|█████▍    | 256/469 [19:18<12:45,  3.59s/it]"
     ]
    },
    {
     "name": "stdout",
     "output_type": "stream",
     "text": [
      "✅ Finished: /Volumes/X10 Pro/predicted_chunks/tmp_chunks/chunk_00175.tsv → /Volumes/X10 Pro/predicted_chunks/chunk_00175.tsv\n"
     ]
    },
    {
     "name": "stderr",
     "output_type": "stream",
     "text": [
      "🔍 chunk_00384.tsv: 100%|██████████| 469/469 [36:10<00:00,  4.63s/it]\n",
      "🔍 chunk_00793.tsv:  98%|█████████▊| 460/469 [36:59<00:45,  5.03s/it]"
     ]
    },
    {
     "name": "stdout",
     "output_type": "stream",
     "text": [
      "✅ Finished: /Volumes/X10 Pro/predicted_chunks/tmp_chunks/chunk_00384.tsv → /Volumes/X10 Pro/predicted_chunks/chunk_00384.tsv\n"
     ]
    },
    {
     "name": "stderr",
     "output_type": "stream",
     "text": [
      "🔍 chunk_00793.tsv: 100%|██████████| 469/469 [37:43<00:00,  4.83s/it]\n",
      "🔍 chunk_00385.tsv:   1%|▏         | 7/469 [00:35<38:15,  4.97s/it]"
     ]
    },
    {
     "name": "stdout",
     "output_type": "stream",
     "text": [
      "✅ Finished: /Volumes/X10 Pro/predicted_chunks/tmp_chunks/chunk_00793.tsv → /Volumes/X10 Pro/predicted_chunks/chunk_00793.tsv\n"
     ]
    },
    {
     "name": "stderr",
     "output_type": "stream",
     "text": [
      "🔍 chunk_00585.tsv: 100%|██████████| 469/469 [37:32<00:00,  4.80s/it]\n"
     ]
    },
    {
     "name": "stdout",
     "output_type": "stream",
     "text": [
      "✅ Finished: /Volumes/X10 Pro/predicted_chunks/tmp_chunks/chunk_00585.tsv → /Volumes/X10 Pro/predicted_chunks/chunk_00585.tsv\n"
     ]
    },
    {
     "name": "stderr",
     "output_type": "stream",
     "text": [
      "🔍 chunk_00176.tsv: 100%|██████████| 469/469 [35:44<00:00,  4.57s/it]\n",
      "🔍 chunk_00385.tsv:  52%|█████▏    | 244/469 [18:50<15:28,  4.13s/it]"
     ]
    },
    {
     "name": "stdout",
     "output_type": "stream",
     "text": [
      "✅ Finished: /Volumes/X10 Pro/predicted_chunks/tmp_chunks/chunk_00176.tsv → /Volumes/X10 Pro/predicted_chunks/chunk_00176.tsv\n"
     ]
    },
    {
     "name": "stderr",
     "output_type": "stream",
     "text": [
      "🔍 chunk_00385.tsv: 100%|██████████| 469/469 [36:25<00:00,  4.66s/it]\n",
      "🔍 chunk_00177.tsv:  50%|█████     | 236/469 [17:29<17:38,  4.54s/it]"
     ]
    },
    {
     "name": "stdout",
     "output_type": "stream",
     "text": [
      "✅ Finished: /Volumes/X10 Pro/predicted_chunks/tmp_chunks/chunk_00385.tsv → /Volumes/X10 Pro/predicted_chunks/chunk_00385.tsv\n"
     ]
    },
    {
     "name": "stderr",
     "output_type": "stream",
     "text": [
      "🔍 chunk_00794.tsv: 100%|██████████| 469/469 [38:04<00:00,  4.87s/it]\n",
      "🔍 chunk_00386.tsv:   6%|▌         | 28/469 [02:14<35:33,  4.84s/it]]"
     ]
    },
    {
     "name": "stdout",
     "output_type": "stream",
     "text": [
      "✅ Finished: /Volumes/X10 Pro/predicted_chunks/tmp_chunks/chunk_00794.tsv → /Volumes/X10 Pro/predicted_chunks/chunk_00794.tsv\n"
     ]
    },
    {
     "name": "stderr",
     "output_type": "stream",
     "text": [
      "🔍 chunk_00586.tsv: 100%|██████████| 469/469 [38:00<00:00,  4.86s/it]\n",
      "🔍 chunk_00177.tsv:  99%|█████████▊| 463/469 [34:27<00:30,  5.00s/it]"
     ]
    },
    {
     "name": "stdout",
     "output_type": "stream",
     "text": [
      "✅ Finished: /Volumes/X10 Pro/predicted_chunks/tmp_chunks/chunk_00586.tsv → /Volumes/X10 Pro/predicted_chunks/chunk_00586.tsv\n"
     ]
    },
    {
     "name": "stderr",
     "output_type": "stream",
     "text": [
      "🔍 chunk_00177.tsv: 100%|██████████| 469/469 [34:54<00:00,  4.46s/it]\n",
      "🔍 chunk_00386.tsv:  48%|████▊     | 227/469 [17:18<16:13,  4.02s/it]"
     ]
    },
    {
     "name": "stdout",
     "output_type": "stream",
     "text": [
      "✅ Finished: /Volumes/X10 Pro/predicted_chunks/tmp_chunks/chunk_00177.tsv → /Volumes/X10 Pro/predicted_chunks/chunk_00177.tsv\n"
     ]
    },
    {
     "name": "stderr",
     "output_type": "stream",
     "text": [
      "🔍 chunk_00386.tsv: 100%|██████████| 469/469 [35:45<00:00,  4.58s/it]\n",
      "🔍 chunk_00587.tsv:  50%|█████     | 235/469 [18:47<16:37,  4.26s/it]"
     ]
    },
    {
     "name": "stdout",
     "output_type": "stream",
     "text": [
      "✅ Finished: /Volumes/X10 Pro/predicted_chunks/tmp_chunks/chunk_00386.tsv → /Volumes/X10 Pro/predicted_chunks/chunk_00386.tsv\n"
     ]
    },
    {
     "name": "stderr",
     "output_type": "stream",
     "text": [
      "🔍 chunk_00795.tsv: 100%|██████████| 469/469 [38:02<00:00,  4.87s/it]\n"
     ]
    },
    {
     "name": "stdout",
     "output_type": "stream",
     "text": [
      "✅ Finished: /Volumes/X10 Pro/predicted_chunks/tmp_chunks/chunk_00795.tsv → /Volumes/X10 Pro/predicted_chunks/chunk_00795.tsv\n"
     ]
    },
    {
     "name": "stderr",
     "output_type": "stream",
     "text": [
      "🔍 chunk_00178.tsv: 100%|██████████| 469/469 [35:15<00:00,  4.51s/it]\n",
      "🔍 chunk_00387.tsv:  46%|████▌     | 214/469 [16:47<20:37,  4.85s/it]"
     ]
    },
    {
     "name": "stdout",
     "output_type": "stream",
     "text": [
      "✅ Finished: /Volumes/X10 Pro/predicted_chunks/tmp_chunks/chunk_00178.tsv → /Volumes/X10 Pro/predicted_chunks/chunk_00178.tsv\n"
     ]
    },
    {
     "name": "stderr",
     "output_type": "stream",
     "text": [
      "🔍 chunk_00587.tsv: 100%|██████████| 469/469 [37:51<00:00,  4.84s/it]\n",
      "🔍 chunk_00179.tsv:   6%|▌         | 28/469 [02:02<31:35,  4.30s/it]"
     ]
    },
    {
     "name": "stdout",
     "output_type": "stream",
     "text": [
      "✅ Finished: /Volumes/X10 Pro/predicted_chunks/tmp_chunks/chunk_00587.tsv → /Volumes/X10 Pro/predicted_chunks/chunk_00587.tsv\n"
     ]
    },
    {
     "name": "stderr",
     "output_type": "stream",
     "text": [
      "🔍 chunk_00387.tsv: 100%|██████████| 469/469 [36:29<00:00,  4.67s/it]\n",
      "🔍 chunk_00179.tsv:  57%|█████▋    | 265/469 [19:34<15:13,  4.48s/it]"
     ]
    },
    {
     "name": "stdout",
     "output_type": "stream",
     "text": [
      "✅ Finished: /Volumes/X10 Pro/predicted_chunks/tmp_chunks/chunk_00387.tsv → /Volumes/X10 Pro/predicted_chunks/chunk_00387.tsv\n"
     ]
    },
    {
     "name": "stderr",
     "output_type": "stream",
     "text": [
      "🔍 chunk_00796.tsv: 100%|██████████| 469/469 [38:11<00:00,  4.89s/it]\n",
      "🔍 chunk_00588.tsv:  64%|██████▍   | 300/469 [23:43<12:54,  4.58s/it]"
     ]
    },
    {
     "name": "stdout",
     "output_type": "stream",
     "text": [
      "✅ Finished: /Volumes/X10 Pro/predicted_chunks/tmp_chunks/chunk_00796.tsv → /Volumes/X10 Pro/predicted_chunks/chunk_00796.tsv\n"
     ]
    },
    {
     "name": "stderr",
     "output_type": "stream",
     "text": [
      "🔍 chunk_00179.tsv: 100%|██████████| 469/469 [34:49<00:00,  4.45s/it]\n",
      "🔍 chunk_00588.tsv:  88%|████████▊ | 412/469 [32:41<04:50,  5.09s/it]"
     ]
    },
    {
     "name": "stdout",
     "output_type": "stream",
     "text": [
      "✅ Finished: /Volumes/X10 Pro/predicted_chunks/tmp_chunks/chunk_00179.tsv → /Volumes/X10 Pro/predicted_chunks/chunk_00179.tsv\n"
     ]
    },
    {
     "name": "stderr",
     "output_type": "stream",
     "text": [
      "🔍 chunk_00588.tsv: 100%|██████████| 469/469 [37:19<00:00,  4.77s/it]\n",
      "🔍 chunk_00388.tsv:  56%|█████▌    | 263/469 [19:47<15:01,  4.38s/it]"
     ]
    },
    {
     "name": "stdout",
     "output_type": "stream",
     "text": [
      "✅ Finished: /Volumes/X10 Pro/predicted_chunks/tmp_chunks/chunk_00588.tsv → /Volumes/X10 Pro/predicted_chunks/chunk_00588.tsv\n"
     ]
    },
    {
     "name": "stderr",
     "output_type": "stream",
     "text": [
      "🔍 chunk_00388.tsv: 100%|██████████| 469/469 [35:33<00:00,  4.55s/it]\n"
     ]
    },
    {
     "name": "stdout",
     "output_type": "stream",
     "text": [
      "✅ Finished: /Volumes/X10 Pro/predicted_chunks/tmp_chunks/chunk_00388.tsv → /Volumes/X10 Pro/predicted_chunks/chunk_00388.tsv\n"
     ]
    },
    {
     "name": "stderr",
     "output_type": "stream",
     "text": [
      "🔍 chunk_00797.tsv: 100%|██████████| 469/469 [38:21<00:00,  4.91s/it]\n",
      "🔍 chunk_00389.tsv:  25%|██▍       | 117/469 [08:59<24:24,  4.16s/it]"
     ]
    },
    {
     "name": "stdout",
     "output_type": "stream",
     "text": [
      "✅ Finished: /Volumes/X10 Pro/predicted_chunks/tmp_chunks/chunk_00797.tsv → /Volumes/X10 Pro/predicted_chunks/chunk_00797.tsv\n"
     ]
    },
    {
     "name": "stderr",
     "output_type": "stream",
     "text": [
      "🔍 chunk_00180.tsv: 100%|██████████| 469/469 [34:50<00:00,  4.46s/it]\n"
     ]
    },
    {
     "name": "stdout",
     "output_type": "stream",
     "text": [
      "✅ Finished: /Volumes/X10 Pro/predicted_chunks/tmp_chunks/chunk_00180.tsv → /Volumes/X10 Pro/predicted_chunks/chunk_00180.tsv\n"
     ]
    },
    {
     "name": "stderr",
     "output_type": "stream",
     "text": [
      "🔍 chunk_00589.tsv: 100%|██████████| 469/469 [37:33<00:00,  4.80s/it]\n",
      "🔍 chunk_00181.tsv:  20%|█▉        | 93/469 [07:15<30:32,  4.87s/it]]"
     ]
    },
    {
     "name": "stdout",
     "output_type": "stream",
     "text": [
      "✅ Finished: /Volumes/X10 Pro/predicted_chunks/tmp_chunks/chunk_00589.tsv → /Volumes/X10 Pro/predicted_chunks/chunk_00589.tsv\n"
     ]
    },
    {
     "name": "stderr",
     "output_type": "stream",
     "text": [
      "🔍 chunk_00389.tsv: 100%|██████████| 469/469 [35:46<00:00,  4.58s/it]\n",
      "🔍 chunk_00798.tsv:  71%|███████   | 334/469 [26:40<12:02,  5.35s/it]"
     ]
    },
    {
     "name": "stdout",
     "output_type": "stream",
     "text": [
      "✅ Finished: /Volumes/X10 Pro/predicted_chunks/tmp_chunks/chunk_00389.tsv → /Volumes/X10 Pro/predicted_chunks/chunk_00389.tsv\n"
     ]
    },
    {
     "name": "stderr",
     "output_type": "stream",
     "text": [
      "🔍 chunk_00798.tsv: 100%|██████████| 469/469 [37:38<00:00,  4.82s/it]\n",
      "🔍 chunk_00181.tsv:  90%|████████▉ | 422/469 [32:15<03:38,  4.64s/it]"
     ]
    },
    {
     "name": "stdout",
     "output_type": "stream",
     "text": [
      "✅ Finished: /Volumes/X10 Pro/predicted_chunks/tmp_chunks/chunk_00798.tsv → /Volumes/X10 Pro/predicted_chunks/chunk_00798.tsv\n"
     ]
    },
    {
     "name": "stderr",
     "output_type": "stream",
     "text": [
      "🔍 chunk_00181.tsv: 100%|██████████| 469/469 [35:41<00:00,  4.57s/it]\n"
     ]
    },
    {
     "name": "stdout",
     "output_type": "stream",
     "text": [
      "✅ Finished: /Volumes/X10 Pro/predicted_chunks/tmp_chunks/chunk_00181.tsv → /Volumes/X10 Pro/predicted_chunks/chunk_00181.tsv\n"
     ]
    },
    {
     "name": "stderr",
     "output_type": "stream",
     "text": [
      "🔍 chunk_00590.tsv: 100%|██████████| 469/469 [37:19<00:00,  4.78s/it]\n",
      "🔍 chunk_00799.tsv:  33%|███▎      | 153/469 [12:21<24:32,  4.66s/it]"
     ]
    },
    {
     "name": "stdout",
     "output_type": "stream",
     "text": [
      "✅ Finished: /Volumes/X10 Pro/predicted_chunks/tmp_chunks/chunk_00590.tsv → /Volumes/X10 Pro/predicted_chunks/chunk_00590.tsv\n"
     ]
    },
    {
     "name": "stderr",
     "output_type": "stream",
     "text": [
      "🔍 chunk_00390.tsv: 100%|██████████| 469/469 [35:32<00:00,  4.55s/it]\n",
      "🔍 chunk_00591.tsv:  32%|███▏      | 148/469 [12:06<28:20,  5.30s/it]"
     ]
    },
    {
     "name": "stdout",
     "output_type": "stream",
     "text": [
      "✅ Finished: /Volumes/X10 Pro/predicted_chunks/tmp_chunks/chunk_00390.tsv → /Volumes/X10 Pro/predicted_chunks/chunk_00390.tsv\n"
     ]
    },
    {
     "name": "stderr",
     "output_type": "stream",
     "text": [
      "🔍 chunk_00799.tsv: 100%|██████████| 469/469 [37:50<00:00,  4.84s/it]\n",
      "🔍 chunk_00182.tsv:  98%|█████████▊| 459/469 [34:24<00:44,  4.40s/it]"
     ]
    },
    {
     "name": "stdout",
     "output_type": "stream",
     "text": [
      "✅ Finished: /Volumes/X10 Pro/predicted_chunks/tmp_chunks/chunk_00799.tsv → /Volumes/X10 Pro/predicted_chunks/chunk_00799.tsv\n"
     ]
    },
    {
     "name": "stderr",
     "output_type": "stream",
     "text": [
      "🔍 chunk_00182.tsv: 100%|██████████| 469/469 [35:06<00:00,  4.49s/it]\n"
     ]
    },
    {
     "name": "stdout",
     "output_type": "stream",
     "text": [
      "✅ Finished: /Volumes/X10 Pro/predicted_chunks/tmp_chunks/chunk_00182.tsv → /Volumes/X10 Pro/predicted_chunks/chunk_00182.tsv\n"
     ]
    },
    {
     "name": "stderr",
     "output_type": "stream",
     "text": [
      "🔍 chunk_00591.tsv: 100%|██████████| 469/469 [37:21<00:00,  4.78s/it]\n",
      "🔍 chunk_00183.tsv:  32%|███▏      | 151/469 [11:08<23:57,  4.52s/it]"
     ]
    },
    {
     "name": "stdout",
     "output_type": "stream",
     "text": [
      "✅ Finished: /Volumes/X10 Pro/predicted_chunks/tmp_chunks/chunk_00591.tsv → /Volumes/X10 Pro/predicted_chunks/chunk_00591.tsv\n"
     ]
    },
    {
     "name": "stderr",
     "output_type": "stream",
     "text": [
      "🔍 chunk_00391.tsv: 100%|██████████| 469/469 [35:41<00:00,  4.57s/it]\n",
      "🔍 chunk_00592.tsv:  29%|██▉       | 137/469 [10:26<25:45,  4.66s/it]"
     ]
    },
    {
     "name": "stdout",
     "output_type": "stream",
     "text": [
      "✅ Finished: /Volumes/X10 Pro/predicted_chunks/tmp_chunks/chunk_00391.tsv → /Volumes/X10 Pro/predicted_chunks/chunk_00391.tsv\n"
     ]
    },
    {
     "name": "stderr",
     "output_type": "stream",
     "text": [
      "🔍 chunk_00183.tsv: 100%|██████████| 469/469 [35:01<00:00,  4.48s/it]\n",
      "🔍 chunk_00392.tsv:  38%|███▊      | 176/469 [13:12<20:21,  4.17s/it]"
     ]
    },
    {
     "name": "stdout",
     "output_type": "stream",
     "text": [
      "✅ Finished: /Volumes/X10 Pro/predicted_chunks/tmp_chunks/chunk_00183.tsv → /Volumes/X10 Pro/predicted_chunks/chunk_00183.tsv\n"
     ]
    },
    {
     "name": "stderr",
     "output_type": "stream",
     "text": [
      "🔍 chunk_00800.tsv: 100%|██████████| 469/469 [37:25<00:00,  4.79s/it]\n"
     ]
    },
    {
     "name": "stdout",
     "output_type": "stream",
     "text": [
      "✅ Finished: /Volumes/X10 Pro/predicted_chunks/tmp_chunks/chunk_00800.tsv → /Volumes/X10 Pro/predicted_chunks/chunk_00800.tsv\n"
     ]
    },
    {
     "name": "stderr",
     "output_type": "stream",
     "text": [
      "🔍 chunk_00592.tsv: 100%|██████████| 469/469 [36:23<00:00,  4.66s/it]\n"
     ]
    },
    {
     "name": "stdout",
     "output_type": "stream",
     "text": [
      "✅ Finished: /Volumes/X10 Pro/predicted_chunks/tmp_chunks/chunk_00592.tsv → /Volumes/X10 Pro/predicted_chunks/chunk_00592.tsv\n"
     ]
    },
    {
     "name": "stderr",
     "output_type": "stream",
     "text": [
      "🔍 chunk_00392.tsv: 100%|██████████| 469/469 [35:24<00:00,  4.53s/it]\n",
      "🔍 chunk_00184.tsv:  62%|██████▏   | 293/469 [22:05<14:37,  4.98s/it]"
     ]
    },
    {
     "name": "stdout",
     "output_type": "stream",
     "text": [
      "✅ Finished: /Volumes/X10 Pro/predicted_chunks/tmp_chunks/chunk_00392.tsv → /Volumes/X10 Pro/predicted_chunks/chunk_00392.tsv\n"
     ]
    },
    {
     "name": "stderr",
     "output_type": "stream",
     "text": [
      "🔍 chunk_00184.tsv: 100%|██████████| 469/469 [36:14<00:00,  4.64s/it]\n",
      "🔍 chunk_00393.tsv:  38%|███▊      | 177/469 [14:02<22:40,  4.66s/it]"
     ]
    },
    {
     "name": "stdout",
     "output_type": "stream",
     "text": [
      "✅ Finished: /Volumes/X10 Pro/predicted_chunks/tmp_chunks/chunk_00184.tsv → /Volumes/X10 Pro/predicted_chunks/chunk_00184.tsv\n"
     ]
    },
    {
     "name": "stderr",
     "output_type": "stream",
     "text": [
      "🔍 chunk_00801.tsv: 100%|██████████| 469/469 [38:03<00:00,  4.87s/it]\n",
      "🔍 chunk_00185.tsv:   9%|▉         | 42/469 [03:21<35:29,  4.99s/it]]"
     ]
    },
    {
     "name": "stdout",
     "output_type": "stream",
     "text": [
      "✅ Finished: /Volumes/X10 Pro/predicted_chunks/tmp_chunks/chunk_00801.tsv → /Volumes/X10 Pro/predicted_chunks/chunk_00801.tsv\n"
     ]
    },
    {
     "name": "stderr",
     "output_type": "stream",
     "text": [
      "🔍 chunk_00593.tsv: 100%|██████████| 469/469 [38:52<00:00,  4.97s/it]\n",
      "🔍 chunk_00393.tsv:  79%|███████▉  | 371/469 [29:19<08:17,  5.08s/it]"
     ]
    },
    {
     "name": "stdout",
     "output_type": "stream",
     "text": [
      "✅ Finished: /Volumes/X10 Pro/predicted_chunks/tmp_chunks/chunk_00593.tsv → /Volumes/X10 Pro/predicted_chunks/chunk_00593.tsv\n"
     ]
    },
    {
     "name": "stderr",
     "output_type": "stream",
     "text": [
      "🔍 chunk_00393.tsv: 100%|██████████| 469/469 [37:08<00:00,  4.75s/it]\n",
      "🔍 chunk_00594.tsv:  20%|██        | 94/469 [07:42<30:42,  4.91s/it]"
     ]
    },
    {
     "name": "stdout",
     "output_type": "stream",
     "text": [
      "✅ Finished: /Volumes/X10 Pro/predicted_chunks/tmp_chunks/chunk_00393.tsv → /Volumes/X10 Pro/predicted_chunks/chunk_00393.tsv\n"
     ]
    },
    {
     "name": "stderr",
     "output_type": "stream",
     "text": [
      "🔍 chunk_00185.tsv: 100%|██████████| 469/469 [36:43<00:00,  4.70s/it]\n"
     ]
    },
    {
     "name": "stdout",
     "output_type": "stream",
     "text": [
      "✅ Finished: /Volumes/X10 Pro/predicted_chunks/tmp_chunks/chunk_00185.tsv → /Volumes/X10 Pro/predicted_chunks/chunk_00185.tsv\n"
     ]
    },
    {
     "name": "stderr",
     "output_type": "stream",
     "text": [
      "🔍 chunk_00802.tsv: 100%|██████████| 469/469 [38:29<00:00,  4.92s/it]\n",
      "🔍 chunk_00594.tsv:  70%|███████   | 329/469 [26:43<08:26,  3.62s/it]"
     ]
    },
    {
     "name": "stdout",
     "output_type": "stream",
     "text": [
      "✅ Finished: /Volumes/X10 Pro/predicted_chunks/tmp_chunks/chunk_00802.tsv → /Volumes/X10 Pro/predicted_chunks/chunk_00802.tsv\n"
     ]
    },
    {
     "name": "stderr",
     "output_type": "stream",
     "text": [
      "🔍 chunk_00594.tsv: 100%|██████████| 469/469 [2:15:38<00:00, 17.35s/it]    \n",
      "🔍 chunk_00394.tsv:  84%|████████▎ | 392/469 [2:07:49<08:11,  6.39s/it]"
     ]
    },
    {
     "name": "stdout",
     "output_type": "stream",
     "text": [
      "✅ Finished: /Volumes/X10 Pro/predicted_chunks/tmp_chunks/chunk_00594.tsv → /Volumes/X10 Pro/predicted_chunks/chunk_00594.tsv\n"
     ]
    },
    {
     "name": "stderr",
     "output_type": "stream",
     "text": [
      "🔍 chunk_00394.tsv: 100%|██████████| 469/469 [2:16:15<00:00, 17.43s/it]\n",
      "🔍 chunk_00595.tsv:  14%|█▍        | 66/469 [08:18<58:43,  8.74s/it]it]"
     ]
    },
    {
     "name": "stdout",
     "output_type": "stream",
     "text": [
      "✅ Finished: /Volumes/X10 Pro/predicted_chunks/tmp_chunks/chunk_00394.tsv → /Volumes/X10 Pro/predicted_chunks/chunk_00394.tsv\n"
     ]
    },
    {
     "name": "stderr",
     "output_type": "stream",
     "text": [
      "🔍 chunk_00186.tsv: 100%|██████████| 469/469 [2:23:06<00:00, 18.31s/it]\n",
      "🔍 chunk_00395.tsv:  43%|████▎     | 204/469 [20:33<28:18,  6.41s/it]t]"
     ]
    },
    {
     "name": "stdout",
     "output_type": "stream",
     "text": [
      "✅ Finished: /Volumes/X10 Pro/predicted_chunks/tmp_chunks/chunk_00186.tsv → /Volumes/X10 Pro/predicted_chunks/chunk_00186.tsv\n"
     ]
    },
    {
     "name": "stderr",
     "output_type": "stream",
     "text": [
      "🔍 chunk_00803.tsv: 100%|██████████| 469/469 [2:23:46<00:00, 18.39s/it]\n"
     ]
    },
    {
     "name": "stdout",
     "output_type": "stream",
     "text": [
      "✅ Finished: /Volumes/X10 Pro/predicted_chunks/tmp_chunks/chunk_00803.tsv → /Volumes/X10 Pro/predicted_chunks/chunk_00803.tsv\n"
     ]
    },
    {
     "name": "stderr",
     "output_type": "stream",
     "text": [
      "🔍 chunk_00395.tsv: 100%|██████████| 469/469 [48:14<00:00,  6.17s/it]\n"
     ]
    },
    {
     "name": "stdout",
     "output_type": "stream",
     "text": [
      "✅ Finished: /Volumes/X10 Pro/predicted_chunks/tmp_chunks/chunk_00395.tsv → /Volumes/X10 Pro/predicted_chunks/chunk_00395.tsv\n"
     ]
    },
    {
     "name": "stderr",
     "output_type": "stream",
     "text": [
      "🔍 chunk_00595.tsv: 100%|██████████| 469/469 [58:07<00:00,  7.44s/it]\n"
     ]
    },
    {
     "name": "stdout",
     "output_type": "stream",
     "text": [
      "✅ Finished: /Volumes/X10 Pro/predicted_chunks/tmp_chunks/chunk_00595.tsv → /Volumes/X10 Pro/predicted_chunks/chunk_00595.tsv\n"
     ]
    },
    {
     "name": "stderr",
     "output_type": "stream",
     "text": [
      "🔍 chunk_00187.tsv: 100%|██████████| 469/469 [56:40<00:00,  7.25s/it]  \n",
      "🔍 chunk_00396.tsv:  57%|█████▋    | 265/469 [28:59<16:11,  4.76s/it]"
     ]
    },
    {
     "name": "stdout",
     "output_type": "stream",
     "text": [
      "✅ Finished: /Volumes/X10 Pro/predicted_chunks/tmp_chunks/chunk_00187.tsv → /Volumes/X10 Pro/predicted_chunks/chunk_00187.tsv\n"
     ]
    },
    {
     "name": "stderr",
     "output_type": "stream",
     "text": [
      "🔍 chunk_00804.tsv: 100%|██████████| 469/469 [52:48<00:00,  6.76s/it]\n",
      "🔍 chunk_00596.tsv:  48%|████▊     | 227/469 [29:29<21:33,  5.35s/it]"
     ]
    },
    {
     "name": "stdout",
     "output_type": "stream",
     "text": [
      "✅ Finished: /Volumes/X10 Pro/predicted_chunks/tmp_chunks/chunk_00804.tsv → /Volumes/X10 Pro/predicted_chunks/chunk_00804.tsv\n"
     ]
    },
    {
     "name": "stderr",
     "output_type": "stream",
     "text": [
      "🔍 chunk_00396.tsv: 100%|██████████| 469/469 [49:46<00:00,  6.37s/it]\n"
     ]
    },
    {
     "name": "stdout",
     "output_type": "stream",
     "text": [
      "✅ Finished: /Volumes/X10 Pro/predicted_chunks/tmp_chunks/chunk_00396.tsv → /Volumes/X10 Pro/predicted_chunks/chunk_00396.tsv\n"
     ]
    },
    {
     "name": "stderr",
     "output_type": "stream",
     "text": [
      "🔍 chunk_00596.tsv: 100%|██████████| 469/469 [3:36:04<00:00, 27.64s/it]     \n",
      "🔍 chunk_00805.tsv:  58%|█████▊    | 270/469 [3:06:26<09:24,  2.84s/it]"
     ]
    },
    {
     "name": "stdout",
     "output_type": "stream",
     "text": [
      "✅ Finished: /Volumes/X10 Pro/predicted_chunks/tmp_chunks/chunk_00596.tsv → /Volumes/X10 Pro/predicted_chunks/chunk_00596.tsv\n"
     ]
    },
    {
     "name": "stderr",
     "output_type": "stream",
     "text": [
      "🔍 chunk_00188.tsv: 100%|██████████| 469/469 [3:18:49<00:00, 25.44s/it]\n",
      "🔍 chunk_00597.tsv:  39%|███▉      | 182/469 [09:58<19:09,  4.00s/it]t]"
     ]
    },
    {
     "name": "stdout",
     "output_type": "stream",
     "text": [
      "✅ Finished: /Volumes/X10 Pro/predicted_chunks/tmp_chunks/chunk_00188.tsv → /Volumes/X10 Pro/predicted_chunks/chunk_00188.tsv\n"
     ]
    },
    {
     "name": "stderr",
     "output_type": "stream",
     "text": [
      "🔍 chunk_00805.tsv: 100%|██████████| 469/469 [3:17:03<00:00, 25.21s/it]\n",
      "🔍 chunk_00597.tsv:  39%|███▉      | 185/469 [10:09<17:56,  3.79s/it]"
     ]
    },
    {
     "name": "stdout",
     "output_type": "stream",
     "text": [
      "✅ Finished: /Volumes/X10 Pro/predicted_chunks/tmp_chunks/chunk_00805.tsv → /Volumes/X10 Pro/predicted_chunks/chunk_00805.tsv\n"
     ]
    },
    {
     "name": "stderr",
     "output_type": "stream",
     "text": [
      "🔍 chunk_00397.tsv: 100%|██████████| 469/469 [3:10:43<00:00, 24.40s/it]\n",
      "🔍 chunk_00597.tsv:  76%|███████▌  | 356/469 [22:34<11:56,  6.34s/it]"
     ]
    },
    {
     "name": "stdout",
     "output_type": "stream",
     "text": [
      "✅ Finished: /Volumes/X10 Pro/predicted_chunks/tmp_chunks/chunk_00397.tsv → /Volumes/X10 Pro/predicted_chunks/chunk_00397.tsv\n"
     ]
    },
    {
     "name": "stderr",
     "output_type": "stream",
     "text": [
      "🔍 chunk_00597.tsv: 100%|██████████| 469/469 [33:37<00:00,  4.30s/it]\n",
      "🔍 chunk_00398.tsv:  23%|██▎       | 107/469 [10:50<30:34,  5.07s/it]"
     ]
    },
    {
     "name": "stdout",
     "output_type": "stream",
     "text": [
      "✅ Finished: /Volumes/X10 Pro/predicted_chunks/tmp_chunks/chunk_00597.tsv → /Volumes/X10 Pro/predicted_chunks/chunk_00597.tsv\n"
     ]
    },
    {
     "name": "stderr",
     "output_type": "stream",
     "text": [
      "🔍 chunk_00189.tsv: 100%|██████████| 469/469 [40:48<00:00,  5.22s/it] \n",
      "🔍 chunk_00398.tsv:  61%|██████▏   | 288/469 [28:07<13:46,  4.57s/it]"
     ]
    },
    {
     "name": "stdout",
     "output_type": "stream",
     "text": [
      "✅ Finished: /Volumes/X10 Pro/predicted_chunks/tmp_chunks/chunk_00189.tsv → /Volumes/X10 Pro/predicted_chunks/chunk_00189.tsv\n"
     ]
    },
    {
     "name": "stderr",
     "output_type": "stream",
     "text": [
      "🔍 chunk_00806.tsv: 100%|██████████| 469/469 [42:00<00:00,  5.37s/it]\n",
      "🔍 chunk_00598.tsv:  39%|███▉      | 185/469 [18:28<20:03,  4.24s/it]"
     ]
    },
    {
     "name": "stdout",
     "output_type": "stream",
     "text": [
      "✅ Finished: /Volumes/X10 Pro/predicted_chunks/tmp_chunks/chunk_00806.tsv → /Volumes/X10 Pro/predicted_chunks/chunk_00806.tsv\n"
     ]
    },
    {
     "name": "stderr",
     "output_type": "stream",
     "text": [
      "🔍 chunk_00398.tsv: 100%|██████████| 469/469 [45:03<00:00,  5.76s/it]\n"
     ]
    },
    {
     "name": "stdout",
     "output_type": "stream",
     "text": [
      "✅ Finished: /Volumes/X10 Pro/predicted_chunks/tmp_chunks/chunk_00398.tsv → /Volumes/X10 Pro/predicted_chunks/chunk_00398.tsv\n"
     ]
    },
    {
     "name": "stderr",
     "output_type": "stream",
     "text": [
      "🔍 chunk_00598.tsv: 100%|██████████| 469/469 [45:43<00:00,  5.85s/it]\n",
      "🔍 chunk_00399.tsv:  25%|██▌       | 118/469 [11:33<27:45,  4.75s/it]"
     ]
    },
    {
     "name": "stdout",
     "output_type": "stream",
     "text": [
      "✅ Finished: /Volumes/X10 Pro/predicted_chunks/tmp_chunks/chunk_00598.tsv → /Volumes/X10 Pro/predicted_chunks/chunk_00598.tsv\n"
     ]
    },
    {
     "name": "stderr",
     "output_type": "stream",
     "text": [
      "🔍 chunk_00190.tsv: 100%|██████████| 469/469 [44:27<00:00,  5.69s/it]\n",
      "🔍 chunk_00399.tsv:  58%|█████▊    | 274/469 [27:31<14:48,  4.56s/it]"
     ]
    },
    {
     "name": "stdout",
     "output_type": "stream",
     "text": [
      "✅ Finished: /Volumes/X10 Pro/predicted_chunks/tmp_chunks/chunk_00190.tsv → /Volumes/X10 Pro/predicted_chunks/chunk_00190.tsv\n"
     ]
    },
    {
     "name": "stderr",
     "output_type": "stream",
     "text": [
      "🔍 chunk_00807.tsv: 100%|██████████| 469/469 [46:06<00:00,  5.90s/it]\n",
      "🔍 chunk_00599.tsv:  41%|████      | 193/469 [18:52<27:31,  5.98s/it]"
     ]
    },
    {
     "name": "stdout",
     "output_type": "stream",
     "text": [
      "✅ Finished: /Volumes/X10 Pro/predicted_chunks/tmp_chunks/chunk_00807.tsv → /Volumes/X10 Pro/predicted_chunks/chunk_00807.tsv\n"
     ]
    },
    {
     "name": "stderr",
     "output_type": "stream",
     "text": [
      "🔍 chunk_00399.tsv: 100%|██████████| 469/469 [42:42<00:00,  5.46s/it]\n",
      "🔍 chunk_00599.tsv:  75%|███████▌  | 354/469 [31:01<07:16,  3.79s/it]"
     ]
    },
    {
     "name": "stdout",
     "output_type": "stream",
     "text": [
      "✅ Finished: /Volumes/X10 Pro/predicted_chunks/tmp_chunks/chunk_00399.tsv → /Volumes/X10 Pro/predicted_chunks/chunk_00399.tsv\n"
     ]
    },
    {
     "name": "stderr",
     "output_type": "stream",
     "text": [
      "🔍 chunk_00599.tsv: 100%|██████████| 469/469 [38:00<00:00,  4.86s/it]\n"
     ]
    },
    {
     "name": "stdout",
     "output_type": "stream",
     "text": [
      "✅ Finished: /Volumes/X10 Pro/predicted_chunks/tmp_chunks/chunk_00599.tsv → /Volumes/X10 Pro/predicted_chunks/chunk_00599.tsv\n"
     ]
    },
    {
     "name": "stderr",
     "output_type": "stream",
     "text": [
      "🔍 chunk_00191.tsv: 100%|██████████| 469/469 [32:08<00:00,  4.11s/it]\n"
     ]
    },
    {
     "name": "stdout",
     "output_type": "stream",
     "text": [
      "✅ Finished: /Volumes/X10 Pro/predicted_chunks/tmp_chunks/chunk_00191.tsv → /Volumes/X10 Pro/predicted_chunks/chunk_00191.tsv\n"
     ]
    },
    {
     "name": "stderr",
     "output_type": "stream",
     "text": [
      "🔍 chunk_00808.tsv: 100%|██████████| 469/469 [32:33<00:00,  4.17s/it]\n"
     ]
    },
    {
     "name": "stdout",
     "output_type": "stream",
     "text": [
      "✅ Finished: /Volumes/X10 Pro/predicted_chunks/tmp_chunks/chunk_00808.tsv → /Volumes/X10 Pro/predicted_chunks/chunk_00808.tsv\n"
     ]
    },
    {
     "name": "stderr",
     "output_type": "stream",
     "text": [
      "🔍 chunk_00400.tsv: 100%|██████████| 469/469 [30:18<00:00,  3.88s/it]\n",
      "🔍 chunk_00192.tsv:  41%|████▏     | 194/469 [13:14<16:53,  3.69s/it]"
     ]
    },
    {
     "name": "stdout",
     "output_type": "stream",
     "text": [
      "✅ Finished: /Volumes/X10 Pro/predicted_chunks/tmp_chunks/chunk_00400.tsv → /Volumes/X10 Pro/predicted_chunks/chunk_00400.tsv\n"
     ]
    },
    {
     "name": "stderr",
     "output_type": "stream",
     "text": [
      "🔍 chunk_00600.tsv: 100%|██████████| 469/469 [31:19<00:00,  4.01s/it]\n"
     ]
    },
    {
     "name": "stdout",
     "output_type": "stream",
     "text": [
      "✅ Finished: /Volumes/X10 Pro/predicted_chunks/tmp_chunks/chunk_00600.tsv → /Volumes/X10 Pro/predicted_chunks/chunk_00600.tsv\n"
     ]
    },
    {
     "name": "stderr",
     "output_type": "stream",
     "text": [
      "🔍 chunk_00192.tsv: 100%|██████████| 469/469 [29:46<00:00,  3.81s/it]\n",
      "🔍 chunk_00809.tsv:  87%|████████▋ | 407/469 [26:17<03:58,  3.85s/it]"
     ]
    },
    {
     "name": "stdout",
     "output_type": "stream",
     "text": [
      "✅ Finished: /Volumes/X10 Pro/predicted_chunks/tmp_chunks/chunk_00192.tsv → /Volumes/X10 Pro/predicted_chunks/chunk_00192.tsv\n"
     ]
    },
    {
     "name": "stderr",
     "output_type": "stream",
     "text": [
      "🔍 chunk_00809.tsv: 100%|██████████| 469/469 [29:58<00:00,  3.84s/it]\n"
     ]
    },
    {
     "name": "stdout",
     "output_type": "stream",
     "text": [
      "✅ Finished: /Volumes/X10 Pro/predicted_chunks/tmp_chunks/chunk_00809.tsv → /Volumes/X10 Pro/predicted_chunks/chunk_00809.tsv\n"
     ]
    },
    {
     "name": "stderr",
     "output_type": "stream",
     "text": [
      "🔍 chunk_00401.tsv: 100%|██████████| 469/469 [27:36<00:00,  3.53s/it]\n"
     ]
    },
    {
     "name": "stdout",
     "output_type": "stream",
     "text": [
      "✅ Finished: /Volumes/X10 Pro/predicted_chunks/tmp_chunks/chunk_00401.tsv → /Volumes/X10 Pro/predicted_chunks/chunk_00401.tsv\n"
     ]
    },
    {
     "name": "stderr",
     "output_type": "stream",
     "text": [
      "🔍 chunk_00601.tsv: 100%|██████████| 469/469 [27:28<00:00,  3.51s/it]\n",
      "🔍 chunk_00193.tsv:  71%|███████   | 334/469 [18:58<08:19,  3.70s/it]"
     ]
    },
    {
     "name": "stdout",
     "output_type": "stream",
     "text": [
      "✅ Finished: /Volumes/X10 Pro/predicted_chunks/tmp_chunks/chunk_00601.tsv → /Volumes/X10 Pro/predicted_chunks/chunk_00601.tsv\n"
     ]
    },
    {
     "name": "stderr",
     "output_type": "stream",
     "text": [
      "🔍 chunk_00193.tsv: 100%|██████████| 469/469 [26:37<00:00,  3.41s/it]\n",
      "🔍 chunk_00402.tsv:  58%|█████▊    | 272/469 [15:30<11:47,  3.59s/it]"
     ]
    },
    {
     "name": "stdout",
     "output_type": "stream",
     "text": [
      "✅ Finished: /Volumes/X10 Pro/predicted_chunks/tmp_chunks/chunk_00193.tsv → /Volumes/X10 Pro/predicted_chunks/chunk_00193.tsv\n"
     ]
    },
    {
     "name": "stderr",
     "output_type": "stream",
     "text": [
      "🔍 chunk_00810.tsv: 100%|██████████| 469/469 [27:18<00:00,  3.49s/it]\n"
     ]
    },
    {
     "name": "stdout",
     "output_type": "stream",
     "text": [
      "✅ Finished: /Volumes/X10 Pro/predicted_chunks/tmp_chunks/chunk_00810.tsv → /Volumes/X10 Pro/predicted_chunks/chunk_00810.tsv\n"
     ]
    },
    {
     "name": "stderr",
     "output_type": "stream",
     "text": [
      "🔍 chunk_00402.tsv: 100%|██████████| 469/469 [26:41<00:00,  3.41s/it]\n"
     ]
    },
    {
     "name": "stdout",
     "output_type": "stream",
     "text": [
      "✅ Finished: /Volumes/X10 Pro/predicted_chunks/tmp_chunks/chunk_00402.tsv → /Volumes/X10 Pro/predicted_chunks/chunk_00402.tsv\n"
     ]
    },
    {
     "name": "stderr",
     "output_type": "stream",
     "text": [
      "🔍 chunk_00602.tsv: 100%|██████████| 469/469 [27:29<00:00,  3.52s/it]\n",
      "🔍 chunk_00811.tsv:  57%|█████▋    | 268/469 [15:28<09:50,  2.94s/it]"
     ]
    },
    {
     "name": "stdout",
     "output_type": "stream",
     "text": [
      "✅ Finished: /Volumes/X10 Pro/predicted_chunks/tmp_chunks/chunk_00602.tsv → /Volumes/X10 Pro/predicted_chunks/chunk_00602.tsv\n"
     ]
    },
    {
     "name": "stderr",
     "output_type": "stream",
     "text": [
      "🔍 chunk_00194.tsv: 100%|██████████| 469/469 [27:08<00:00,  3.47s/it]\n"
     ]
    },
    {
     "name": "stdout",
     "output_type": "stream",
     "text": [
      "✅ Finished: /Volumes/X10 Pro/predicted_chunks/tmp_chunks/chunk_00194.tsv → /Volumes/X10 Pro/predicted_chunks/chunk_00194.tsv\n"
     ]
    },
    {
     "name": "stderr",
     "output_type": "stream",
     "text": [
      "🔍 chunk_00811.tsv: 100%|██████████| 469/469 [28:25<00:00,  3.64s/it]\n"
     ]
    },
    {
     "name": "stdout",
     "output_type": "stream",
     "text": [
      "✅ Finished: /Volumes/X10 Pro/predicted_chunks/tmp_chunks/chunk_00811.tsv → /Volumes/X10 Pro/predicted_chunks/chunk_00811.tsv\n"
     ]
    },
    {
     "name": "stderr",
     "output_type": "stream",
     "text": [
      "🔍 chunk_00403.tsv: 100%|██████████| 469/469 [28:57<00:00,  3.70s/it]\n",
      "🔍 chunk_00195.tsv:  43%|████▎     | 204/469 [12:58<12:13,  2.77s/it]"
     ]
    },
    {
     "name": "stdout",
     "output_type": "stream",
     "text": [
      "✅ Finished: /Volumes/X10 Pro/predicted_chunks/tmp_chunks/chunk_00403.tsv → /Volumes/X10 Pro/predicted_chunks/chunk_00403.tsv\n"
     ]
    },
    {
     "name": "stderr",
     "output_type": "stream",
     "text": [
      "🔍 chunk_00603.tsv: 100%|██████████| 469/469 [29:40<00:00,  3.80s/it]\n"
     ]
    },
    {
     "name": "stdout",
     "output_type": "stream",
     "text": [
      "✅ Finished: /Volumes/X10 Pro/predicted_chunks/tmp_chunks/chunk_00603.tsv → /Volumes/X10 Pro/predicted_chunks/chunk_00603.tsv\n"
     ]
    },
    {
     "name": "stderr",
     "output_type": "stream",
     "text": [
      "🔍 chunk_00195.tsv: 100%|██████████| 469/469 [28:59<00:00,  3.71s/it]\n"
     ]
    },
    {
     "name": "stdout",
     "output_type": "stream",
     "text": [
      "✅ Finished: /Volumes/X10 Pro/predicted_chunks/tmp_chunks/chunk_00195.tsv → /Volumes/X10 Pro/predicted_chunks/chunk_00195.tsv\n"
     ]
    },
    {
     "name": "stderr",
     "output_type": "stream",
     "text": [
      "🔍 chunk_00812.tsv: 100%|██████████| 469/469 [29:35<00:00,  3.79s/it]\n"
     ]
    },
    {
     "name": "stdout",
     "output_type": "stream",
     "text": [
      "✅ Finished: /Volumes/X10 Pro/predicted_chunks/tmp_chunks/chunk_00812.tsv → /Volumes/X10 Pro/predicted_chunks/chunk_00812.tsv\n"
     ]
    },
    {
     "name": "stderr",
     "output_type": "stream",
     "text": [
      "🔍 chunk_00404.tsv: 100%|██████████| 469/469 [28:30<00:00,  3.65s/it]\n",
      "🔍 chunk_00196.tsv:  47%|████▋     | 221/469 [12:28<12:57,  3.13s/it]"
     ]
    },
    {
     "name": "stdout",
     "output_type": "stream",
     "text": [
      "✅ Finished: /Volumes/X10 Pro/predicted_chunks/tmp_chunks/chunk_00404.tsv → /Volumes/X10 Pro/predicted_chunks/chunk_00404.tsv\n"
     ]
    },
    {
     "name": "stderr",
     "output_type": "stream",
     "text": [
      "🔍 chunk_00604.tsv: 100%|██████████| 469/469 [28:09<00:00,  3.60s/it]\n"
     ]
    },
    {
     "name": "stdout",
     "output_type": "stream",
     "text": [
      "✅ Finished: /Volumes/X10 Pro/predicted_chunks/tmp_chunks/chunk_00604.tsv → /Volumes/X10 Pro/predicted_chunks/chunk_00604.tsv\n"
     ]
    },
    {
     "name": "stderr",
     "output_type": "stream",
     "text": [
      "🔍 chunk_00196.tsv: 100%|██████████| 469/469 [26:13<00:00,  3.36s/it]\n"
     ]
    },
    {
     "name": "stdout",
     "output_type": "stream",
     "text": [
      "✅ Finished: /Volumes/X10 Pro/predicted_chunks/tmp_chunks/chunk_00196.tsv → /Volumes/X10 Pro/predicted_chunks/chunk_00196.tsv\n"
     ]
    },
    {
     "name": "stderr",
     "output_type": "stream",
     "text": [
      "🔍 chunk_00813.tsv: 100%|██████████| 469/469 [28:15<00:00,  3.61s/it]\n"
     ]
    },
    {
     "name": "stdout",
     "output_type": "stream",
     "text": [
      "✅ Finished: /Volumes/X10 Pro/predicted_chunks/tmp_chunks/chunk_00813.tsv → /Volumes/X10 Pro/predicted_chunks/chunk_00813.tsv\n"
     ]
    },
    {
     "name": "stderr",
     "output_type": "stream",
     "text": [
      "🔍 chunk_00405.tsv: 100%|██████████| 469/469 [28:03<00:00,  3.59s/it]\n"
     ]
    },
    {
     "name": "stdout",
     "output_type": "stream",
     "text": [
      "✅ Finished: /Volumes/X10 Pro/predicted_chunks/tmp_chunks/chunk_00405.tsv → /Volumes/X10 Pro/predicted_chunks/chunk_00405.tsv\n"
     ]
    },
    {
     "name": "stderr",
     "output_type": "stream",
     "text": [
      "🔍 chunk_00605.tsv: 100%|██████████| 469/469 [28:36<00:00,  3.66s/it]\n"
     ]
    },
    {
     "name": "stdout",
     "output_type": "stream",
     "text": [
      "✅ Finished: /Volumes/X10 Pro/predicted_chunks/tmp_chunks/chunk_00605.tsv → /Volumes/X10 Pro/predicted_chunks/chunk_00605.tsv\n"
     ]
    },
    {
     "name": "stderr",
     "output_type": "stream",
     "text": [
      "🔍 chunk_00197.tsv: 100%|██████████| 469/469 [27:27<00:00,  3.51s/it]\n",
      "🔍 chunk_00406.tsv:  46%|████▋     | 218/469 [13:05<16:34,  3.96s/it]"
     ]
    },
    {
     "name": "stdout",
     "output_type": "stream",
     "text": [
      "✅ Finished: /Volumes/X10 Pro/predicted_chunks/tmp_chunks/chunk_00197.tsv → /Volumes/X10 Pro/predicted_chunks/chunk_00197.tsv\n"
     ]
    },
    {
     "name": "stderr",
     "output_type": "stream",
     "text": [
      "🔍 chunk_00814.tsv: 100%|██████████| 469/469 [28:23<00:00,  3.63s/it]\n"
     ]
    },
    {
     "name": "stdout",
     "output_type": "stream",
     "text": [
      "✅ Finished: /Volumes/X10 Pro/predicted_chunks/tmp_chunks/chunk_00814.tsv → /Volumes/X10 Pro/predicted_chunks/chunk_00814.tsv\n"
     ]
    },
    {
     "name": "stderr",
     "output_type": "stream",
     "text": [
      "🔍 chunk_00406.tsv: 100%|██████████| 469/469 [28:26<00:00,  3.64s/it]\n",
      "🔍 chunk_00198.tsv:  58%|█████▊    | 271/469 [15:17<09:09,  2.78s/it]"
     ]
    },
    {
     "name": "stdout",
     "output_type": "stream",
     "text": [
      "✅ Finished: /Volumes/X10 Pro/predicted_chunks/tmp_chunks/chunk_00406.tsv → /Volumes/X10 Pro/predicted_chunks/chunk_00406.tsv\n"
     ]
    },
    {
     "name": "stderr",
     "output_type": "stream",
     "text": [
      "🔍 chunk_00606.tsv: 100%|██████████| 469/469 [28:24<00:00,  3.63s/it]\n"
     ]
    },
    {
     "name": "stdout",
     "output_type": "stream",
     "text": [
      "✅ Finished: /Volumes/X10 Pro/predicted_chunks/tmp_chunks/chunk_00606.tsv → /Volumes/X10 Pro/predicted_chunks/chunk_00606.tsv\n"
     ]
    },
    {
     "name": "stderr",
     "output_type": "stream",
     "text": [
      "🔍 chunk_00198.tsv: 100%|██████████| 469/469 [26:27<00:00,  3.39s/it]\n"
     ]
    },
    {
     "name": "stdout",
     "output_type": "stream",
     "text": [
      "✅ Finished: /Volumes/X10 Pro/predicted_chunks/tmp_chunks/chunk_00198.tsv → /Volumes/X10 Pro/predicted_chunks/chunk_00198.tsv\n"
     ]
    },
    {
     "name": "stderr",
     "output_type": "stream",
     "text": [
      "🔍 chunk_00815.tsv: 100%|██████████| 469/469 [28:52<00:00,  3.69s/it]\n",
      "🔍 chunk_00199.tsv:  41%|████      | 192/469 [11:34<17:48,  3.86s/it]"
     ]
    },
    {
     "name": "stdout",
     "output_type": "stream",
     "text": [
      "✅ Finished: /Volumes/X10 Pro/predicted_chunks/tmp_chunks/chunk_00815.tsv → /Volumes/X10 Pro/predicted_chunks/chunk_00815.tsv\n"
     ]
    },
    {
     "name": "stderr",
     "output_type": "stream",
     "text": [
      "🔍 chunk_00407.tsv: 100%|██████████| 469/469 [28:36<00:00,  3.66s/it]\n"
     ]
    },
    {
     "name": "stdout",
     "output_type": "stream",
     "text": [
      "✅ Finished: /Volumes/X10 Pro/predicted_chunks/tmp_chunks/chunk_00407.tsv → /Volumes/X10 Pro/predicted_chunks/chunk_00407.tsv\n"
     ]
    },
    {
     "name": "stderr",
     "output_type": "stream",
     "text": [
      "🔍 chunk_00607.tsv: 100%|██████████| 469/469 [28:26<00:00,  3.64s/it]\n"
     ]
    },
    {
     "name": "stdout",
     "output_type": "stream",
     "text": [
      "✅ Finished: /Volumes/X10 Pro/predicted_chunks/tmp_chunks/chunk_00607.tsv → /Volumes/X10 Pro/predicted_chunks/chunk_00607.tsv\n"
     ]
    },
    {
     "name": "stderr",
     "output_type": "stream",
     "text": [
      "🔍 chunk_00199.tsv: 100%|██████████| 469/469 [27:36<00:00,  3.53s/it]\n",
      "🔍 chunk_00408.tsv:  35%|███▌      | 165/469 [10:07<20:07,  3.97s/it]"
     ]
    },
    {
     "name": "stdout",
     "output_type": "stream",
     "text": [
      "✅ Finished: /Volumes/X10 Pro/predicted_chunks/tmp_chunks/chunk_00199.tsv → /Volumes/X10 Pro/predicted_chunks/chunk_00199.tsv\n"
     ]
    },
    {
     "name": "stderr",
     "output_type": "stream",
     "text": [
      "🔍 chunk_00816.tsv: 100%|██████████| 469/469 [32:04<00:00,  4.10s/it]\n"
     ]
    },
    {
     "name": "stdout",
     "output_type": "stream",
     "text": [
      "✅ Finished: /Volumes/X10 Pro/predicted_chunks/tmp_chunks/chunk_00816.tsv → /Volumes/X10 Pro/predicted_chunks/chunk_00816.tsv\n"
     ]
    },
    {
     "name": "stderr",
     "output_type": "stream",
     "text": [
      "🔍 chunk_00408.tsv: 100%|██████████| 469/469 [33:26<00:00,  4.28s/it]\n"
     ]
    },
    {
     "name": "stdout",
     "output_type": "stream",
     "text": [
      "✅ Finished: /Volumes/X10 Pro/predicted_chunks/tmp_chunks/chunk_00408.tsv → /Volumes/X10 Pro/predicted_chunks/chunk_00408.tsv\n"
     ]
    },
    {
     "name": "stderr",
     "output_type": "stream",
     "text": [
      "🔍 chunk_00200.tsv: 100%|██████████| 469/469 [35:43<00:00,  4.57s/it] \n"
     ]
    },
    {
     "name": "stdout",
     "output_type": "stream",
     "text": [
      "✅ Finished: /Volumes/X10 Pro/predicted_chunks/tmp_chunks/chunk_00200.tsv → /Volumes/X10 Pro/predicted_chunks/chunk_00200.tsv\n"
     ]
    },
    {
     "name": "stderr",
     "output_type": "stream",
     "text": [
      "🔍 chunk_00608.tsv: 100%|██████████| 469/469 [37:20<00:00,  4.78s/it]\n",
      "🔍 chunk_00817.tsv:  49%|████▉     | 230/469 [20:25<28:34,  7.17s/it]"
     ]
    },
    {
     "name": "stdout",
     "output_type": "stream",
     "text": [
      "✅ Finished: /Volumes/X10 Pro/predicted_chunks/tmp_chunks/chunk_00608.tsv → /Volumes/X10 Pro/predicted_chunks/chunk_00608.tsv\n"
     ]
    },
    {
     "name": "stderr",
     "output_type": "stream",
     "text": [
      "🔍 chunk_00817.tsv: 100%|██████████| 469/469 [43:26<00:00,  5.56s/it] \n",
      "🔍 chunk_00409.tsv:  87%|████████▋ | 409/469 [36:16<06:12,  6.21s/it]"
     ]
    },
    {
     "name": "stdout",
     "output_type": "stream",
     "text": [
      "✅ Finished: /Volumes/X10 Pro/predicted_chunks/tmp_chunks/chunk_00817.tsv → /Volumes/X10 Pro/predicted_chunks/chunk_00817.tsv\n"
     ]
    },
    {
     "name": "stderr",
     "output_type": "stream",
     "text": [
      "🔍 chunk_00409.tsv: 100%|██████████| 469/469 [41:51<00:00,  5.36s/it]\n"
     ]
    },
    {
     "name": "stdout",
     "output_type": "stream",
     "text": [
      "✅ Finished: /Volumes/X10 Pro/predicted_chunks/tmp_chunks/chunk_00409.tsv → /Volumes/X10 Pro/predicted_chunks/chunk_00409.tsv\n"
     ]
    },
    {
     "name": "stderr",
     "output_type": "stream",
     "text": [
      "🔍 chunk_00201.tsv: 100%|██████████| 469/469 [44:34<00:00,  5.70s/it] \n",
      "🔍 chunk_00410.tsv:  33%|███▎      | 155/469 [15:09<24:57,  4.77s/it]"
     ]
    },
    {
     "name": "stdout",
     "output_type": "stream",
     "text": [
      "✅ Finished: /Volumes/X10 Pro/predicted_chunks/tmp_chunks/chunk_00201.tsv → /Volumes/X10 Pro/predicted_chunks/chunk_00201.tsv\n"
     ]
    },
    {
     "name": "stderr",
     "output_type": "stream",
     "text": [
      "🔍 chunk_00609.tsv: 100%|██████████| 469/469 [46:06<00:00,  5.90s/it]\n"
     ]
    },
    {
     "name": "stdout",
     "output_type": "stream",
     "text": [
      "✅ Finished: /Volumes/X10 Pro/predicted_chunks/tmp_chunks/chunk_00609.tsv → /Volumes/X10 Pro/predicted_chunks/chunk_00609.tsv\n"
     ]
    },
    {
     "name": "stderr",
     "output_type": "stream",
     "text": [
      "🔍 chunk_00818.tsv: 100%|██████████| 469/469 [37:32<00:00,  4.80s/it]\n",
      "🔍 chunk_00610.tsv:  47%|████▋     | 221/469 [14:09<14:59,  3.63s/it]"
     ]
    },
    {
     "name": "stdout",
     "output_type": "stream",
     "text": [
      "✅ Finished: /Volumes/X10 Pro/predicted_chunks/tmp_chunks/chunk_00818.tsv → /Volumes/X10 Pro/predicted_chunks/chunk_00818.tsv\n"
     ]
    },
    {
     "name": "stderr",
     "output_type": "stream",
     "text": [
      "🔍 chunk_00410.tsv: 100%|██████████| 469/469 [35:44<00:00,  4.57s/it]\n"
     ]
    },
    {
     "name": "stdout",
     "output_type": "stream",
     "text": [
      "✅ Finished: /Volumes/X10 Pro/predicted_chunks/tmp_chunks/chunk_00410.tsv → /Volumes/X10 Pro/predicted_chunks/chunk_00410.tsv\n"
     ]
    },
    {
     "name": "stderr",
     "output_type": "stream",
     "text": [
      "🔍 chunk_00202.tsv: 100%|██████████| 469/469 [31:33<00:00,  4.04s/it]\n",
      "🔍 chunk_00411.tsv:  33%|███▎      | 154/469 [10:59<21:16,  4.05s/it]"
     ]
    },
    {
     "name": "stdout",
     "output_type": "stream",
     "text": [
      "✅ Finished: /Volumes/X10 Pro/predicted_chunks/tmp_chunks/chunk_00202.tsv → /Volumes/X10 Pro/predicted_chunks/chunk_00202.tsv\n"
     ]
    },
    {
     "name": "stderr",
     "output_type": "stream",
     "text": [
      "🔍 chunk_00610.tsv: 100%|██████████| 469/469 [31:35<00:00,  4.04s/it]\n",
      "🔍 chunk_00819.tsv:  51%|█████     | 240/469 [17:24<17:03,  4.47s/it]"
     ]
    },
    {
     "name": "stdout",
     "output_type": "stream",
     "text": [
      "✅ Finished: /Volumes/X10 Pro/predicted_chunks/tmp_chunks/chunk_00610.tsv → /Volumes/X10 Pro/predicted_chunks/chunk_00610.tsv\n"
     ]
    },
    {
     "name": "stderr",
     "output_type": "stream",
     "text": [
      "🔍 chunk_00819.tsv: 100%|██████████| 469/469 [34:55<00:00,  4.47s/it]\n"
     ]
    },
    {
     "name": "stdout",
     "output_type": "stream",
     "text": [
      "✅ Finished: /Volumes/X10 Pro/predicted_chunks/tmp_chunks/chunk_00819.tsv → /Volumes/X10 Pro/predicted_chunks/chunk_00819.tsv\n"
     ]
    },
    {
     "name": "stderr",
     "output_type": "stream",
     "text": [
      "🔍 chunk_00411.tsv: 100%|██████████| 469/469 [35:01<00:00,  4.48s/it]\n"
     ]
    },
    {
     "name": "stdout",
     "output_type": "stream",
     "text": [
      "✅ Finished: /Volumes/X10 Pro/predicted_chunks/tmp_chunks/chunk_00411.tsv → /Volumes/X10 Pro/predicted_chunks/chunk_00411.tsv\n"
     ]
    },
    {
     "name": "stderr",
     "output_type": "stream",
     "text": [
      "🔍 chunk_00203.tsv: 100%|██████████| 469/469 [13:14:32<00:00, 101.65s/it]it]  \n",
      "🔍 chunk_00820.tsv:  39%|███▉      | 184/469 [12:54:22<25:12:48, 318.49s/it]"
     ]
    },
    {
     "name": "stdout",
     "output_type": "stream",
     "text": [
      "✅ Finished: /Volumes/X10 Pro/predicted_chunks/tmp_chunks/chunk_00203.tsv → /Volumes/X10 Pro/predicted_chunks/chunk_00203.tsv\n"
     ]
    },
    {
     "name": "stderr",
     "output_type": "stream",
     "text": [
      "🔍 chunk_00611.tsv: 100%|██████████| 469/469 [13:48:29<00:00, 105.99s/it]]  \n",
      "🔍 chunk_00204.tsv:  10%|█         | 49/469 [36:36<5:08:32, 44.08s/it]/it]"
     ]
    },
    {
     "name": "stdout",
     "output_type": "stream",
     "text": [
      "✅ Finished: /Volumes/X10 Pro/predicted_chunks/tmp_chunks/chunk_00611.tsv → /Volumes/X10 Pro/predicted_chunks/chunk_00611.tsv\n"
     ]
    },
    {
     "name": "stderr",
     "output_type": "stream",
     "text": [
      "🔍 chunk_00820.tsv: 100%|██████████| 469/469 [13:53:26<00:00, 106.62s/it] \n",
      "🔍 chunk_00204.tsv:  62%|██████▏   | 292/469 [58:59<16:59,  5.76s/it]"
     ]
    },
    {
     "name": "stdout",
     "output_type": "stream",
     "text": [
      "✅ Finished: /Volumes/X10 Pro/predicted_chunks/tmp_chunks/chunk_00820.tsv → /Volumes/X10 Pro/predicted_chunks/chunk_00820.tsv\n"
     ]
    },
    {
     "name": "stderr",
     "output_type": "stream",
     "text": [
      "🔍 chunk_00412.tsv: 100%|██████████| 469/469 [13:52:46<00:00, 106.54s/it]\n"
     ]
    },
    {
     "name": "stdout",
     "output_type": "stream",
     "text": [
      "✅ Finished: /Volumes/X10 Pro/predicted_chunks/tmp_chunks/chunk_00412.tsv → /Volumes/X10 Pro/predicted_chunks/chunk_00412.tsv\n"
     ]
    },
    {
     "name": "stderr",
     "output_type": "stream",
     "text": [
      "🔍 chunk_00204.tsv: 100%|██████████| 469/469 [1:14:02<00:00,  9.47s/it]\n",
      "🔍 chunk_00413.tsv:  30%|███       | 141/469 [11:43<27:57,  5.11s/it]"
     ]
    },
    {
     "name": "stdout",
     "output_type": "stream",
     "text": [
      "✅ Finished: /Volumes/X10 Pro/predicted_chunks/tmp_chunks/chunk_00204.tsv → /Volumes/X10 Pro/predicted_chunks/chunk_00204.tsv\n"
     ]
    },
    {
     "name": "stderr",
     "output_type": "stream",
     "text": [
      "🔍 chunk_00612.tsv: 100%|██████████| 469/469 [42:16<00:00,  5.41s/it]\n"
     ]
    },
    {
     "name": "stdout",
     "output_type": "stream",
     "text": [
      "✅ Finished: /Volumes/X10 Pro/predicted_chunks/tmp_chunks/chunk_00612.tsv → /Volumes/X10 Pro/predicted_chunks/chunk_00612.tsv\n"
     ]
    },
    {
     "name": "stderr",
     "output_type": "stream",
     "text": [
      "🔍 chunk_00821.tsv: 100%|██████████| 469/469 [42:09<00:00,  5.39s/it]\n"
     ]
    },
    {
     "name": "stdout",
     "output_type": "stream",
     "text": [
      "✅ Finished: /Volumes/X10 Pro/predicted_chunks/tmp_chunks/chunk_00821.tsv → /Volumes/X10 Pro/predicted_chunks/chunk_00821.tsv\n"
     ]
    },
    {
     "name": "stderr",
     "output_type": "stream",
     "text": [
      "🔍 chunk_00413.tsv: 100%|██████████| 469/469 [39:17<00:00,  5.03s/it]\n"
     ]
    },
    {
     "name": "stdout",
     "output_type": "stream",
     "text": [
      "✅ Finished: /Volumes/X10 Pro/predicted_chunks/tmp_chunks/chunk_00413.tsv → /Volumes/X10 Pro/predicted_chunks/chunk_00413.tsv\n"
     ]
    },
    {
     "name": "stderr",
     "output_type": "stream",
     "text": [
      "🔍 chunk_00205.tsv: 100%|██████████| 469/469 [40:25<00:00,  5.17s/it]\n"
     ]
    },
    {
     "name": "stdout",
     "output_type": "stream",
     "text": [
      "✅ Finished: /Volumes/X10 Pro/predicted_chunks/tmp_chunks/chunk_00205.tsv → /Volumes/X10 Pro/predicted_chunks/chunk_00205.tsv\n"
     ]
    },
    {
     "name": "stderr",
     "output_type": "stream",
     "text": [
      "🔍 chunk_00613.tsv: 100%|██████████| 469/469 [41:40<00:00,  5.33s/it]\n"
     ]
    },
    {
     "name": "stdout",
     "output_type": "stream",
     "text": [
      "✅ Finished: /Volumes/X10 Pro/predicted_chunks/tmp_chunks/chunk_00613.tsv → /Volumes/X10 Pro/predicted_chunks/chunk_00613.tsv\n"
     ]
    },
    {
     "name": "stderr",
     "output_type": "stream",
     "text": [
      "🔍 chunk_00414.tsv: 100%|██████████| 469/469 [24:11:37<00:00, 185.71s/it]it]  \n"
     ]
    },
    {
     "name": "stdout",
     "output_type": "stream",
     "text": [
      "✅ Finished: /Volumes/X10 Pro/predicted_chunks/tmp_chunks/chunk_00414.tsv → /Volumes/X10 Pro/predicted_chunks/chunk_00414.tsv\n"
     ]
    },
    {
     "name": "stderr",
     "output_type": "stream",
     "text": [
      "🔍 chunk_00822.tsv: 100%|██████████| 469/469 [28:30:15<00:00, 218.80s/it]]t]\n"
     ]
    },
    {
     "name": "stdout",
     "output_type": "stream",
     "text": [
      "✅ Finished: /Volumes/X10 Pro/predicted_chunks/tmp_chunks/chunk_00822.tsv → /Volumes/X10 Pro/predicted_chunks/chunk_00822.tsv\n"
     ]
    },
    {
     "name": "stderr",
     "output_type": "stream",
     "text": [
      "🔍 chunk_00206.tsv: 100%|██████████| 469/469 [70:18:08<00:00, 539.63s/it]       \n",
      "🔍 chunk_00415.tsv:  32%|███▏      | 151/469 [46:02:07<19:26,  3.67s/it]"
     ]
    },
    {
     "name": "stdout",
     "output_type": "stream",
     "text": [
      "✅ Finished: /Volumes/X10 Pro/predicted_chunks/tmp_chunks/chunk_00206.tsv → /Volumes/X10 Pro/predicted_chunks/chunk_00206.tsv\n"
     ]
    },
    {
     "name": "stderr",
     "output_type": "stream",
     "text": [
      "🔍 chunk_00614.tsv: 100%|██████████| 469/469 [70:17:00<00:00, 539.49s/it]\n",
      "🔍 chunk_00823.tsv:  42%|████▏     | 199/469 [41:48:17<17:01,  3.78s/it]"
     ]
    },
    {
     "name": "stdout",
     "output_type": "stream",
     "text": [
      "✅ Finished: /Volumes/X10 Pro/predicted_chunks/tmp_chunks/chunk_00614.tsv → /Volumes/X10 Pro/predicted_chunks/chunk_00614.tsv\n"
     ]
    },
    {
     "name": "stderr",
     "output_type": "stream",
     "text": [
      "🔍 chunk_00415.tsv: 100%|██████████| 469/469 [46:18:15<00:00, 355.43s/it]\n",
      "🔍 chunk_00615.tsv:  46%|████▌     | 215/469 [10:59<13:58,  3.30s/it]it]"
     ]
    },
    {
     "name": "stdout",
     "output_type": "stream",
     "text": [
      "✅ Finished: /Volumes/X10 Pro/predicted_chunks/tmp_chunks/chunk_00415.tsv → /Volumes/X10 Pro/predicted_chunks/chunk_00415.tsv\n"
     ]
    },
    {
     "name": "stderr",
     "output_type": "stream",
     "text": [
      "🔍 chunk_00823.tsv: 100%|██████████| 469/469 [42:02:34<00:00, 322.72s/it]\n"
     ]
    },
    {
     "name": "stdout",
     "output_type": "stream",
     "text": [
      "✅ Finished: /Volumes/X10 Pro/predicted_chunks/tmp_chunks/chunk_00823.tsv → /Volumes/X10 Pro/predicted_chunks/chunk_00823.tsv\n"
     ]
    },
    {
     "name": "stderr",
     "output_type": "stream",
     "text": [
      "🔍 chunk_00207.tsv: 100%|██████████| 469/469 [24:40<00:00,  3.16s/it]\n",
      "🔍 chunk_00824.tsv:  17%|█▋        | 82/469 [05:15<18:57,  2.94s/it]]"
     ]
    },
    {
     "name": "stdout",
     "output_type": "stream",
     "text": [
      "✅ Finished: /Volumes/X10 Pro/predicted_chunks/tmp_chunks/chunk_00207.tsv → /Volumes/X10 Pro/predicted_chunks/chunk_00207.tsv\n"
     ]
    },
    {
     "name": "stderr",
     "output_type": "stream",
     "text": [
      "🔍 chunk_00615.tsv: 100%|██████████| 469/469 [25:54<00:00,  3.31s/it]\n"
     ]
    },
    {
     "name": "stdout",
     "output_type": "stream",
     "text": [
      "✅ Finished: /Volumes/X10 Pro/predicted_chunks/tmp_chunks/chunk_00615.tsv → /Volumes/X10 Pro/predicted_chunks/chunk_00615.tsv\n"
     ]
    },
    {
     "name": "stderr",
     "output_type": "stream",
     "text": [
      "🔍 chunk_00832.tsv: 100%|██████████| 469/469 [26:41<00:00,  3.41s/it]\n"
     ]
    },
    {
     "name": "stdout",
     "output_type": "stream",
     "text": [
      "✅ Finished: /Volumes/X10 Pro/predicted_chunks/tmp_chunks/chunk_00832.tsv → /Volumes/X10 Pro/predicted_chunks/chunk_00832.tsv\n"
     ]
    },
    {
     "name": "stderr",
     "output_type": "stream",
     "text": [
      "🔍 chunk_00824.tsv: 100%|██████████| 469/469 [28:24<00:00,  3.63s/it]\n",
      "🔍 chunk_00616.tsv:  59%|█████▉    | 279/469 [16:44<09:13,  2.91s/it]"
     ]
    },
    {
     "name": "stdout",
     "output_type": "stream",
     "text": [
      "✅ Finished: /Volumes/X10 Pro/predicted_chunks/tmp_chunks/chunk_00824.tsv → /Volumes/X10 Pro/predicted_chunks/chunk_00824.tsv\n"
     ]
    },
    {
     "name": "stderr",
     "output_type": "stream",
     "text": [
      "🔍 chunk_01040.tsv: 100%|██████████| 469/469 [27:18<00:00,  3.49s/it]\n"
     ]
    },
    {
     "name": "stdout",
     "output_type": "stream",
     "text": [
      "✅ Finished: /Volumes/X10 Pro/predicted_chunks/tmp_chunks/chunk_01040.tsv → /Volumes/X10 Pro/predicted_chunks/chunk_01040.tsv\n"
     ]
    },
    {
     "name": "stderr",
     "output_type": "stream",
     "text": [
      "🔍 chunk_00616.tsv: 100%|██████████| 469/469 [27:40<00:00,  3.54s/it]\n",
      "🔍 chunk_00825.tsv:  39%|███▉      | 185/469 [10:53<14:00,  2.96s/it]"
     ]
    },
    {
     "name": "stdout",
     "output_type": "stream",
     "text": [
      "✅ Finished: /Volumes/X10 Pro/predicted_chunks/tmp_chunks/chunk_00616.tsv → /Volumes/X10 Pro/predicted_chunks/chunk_00616.tsv\n"
     ]
    },
    {
     "name": "stderr",
     "output_type": "stream",
     "text": [
      "🔍 chunk_00833.tsv: 100%|██████████| 469/469 [29:40<00:00,  3.80s/it]\n"
     ]
    },
    {
     "name": "stdout",
     "output_type": "stream",
     "text": [
      "✅ Finished: /Volumes/X10 Pro/predicted_chunks/tmp_chunks/chunk_00833.tsv → /Volumes/X10 Pro/predicted_chunks/chunk_00833.tsv\n"
     ]
    },
    {
     "name": "stderr",
     "output_type": "stream",
     "text": [
      "🔍 chunk_01041.tsv:  66%|██████▌   | 310/469 [20:35<11:52,  4.48s/it]"
     ]
    },
    {
     "ename": "KeyboardInterrupt",
     "evalue": "",
     "output_type": "error",
     "traceback": [
      "\u001b[0;31m---------------------------------------------------------------------------\u001b[0m",
      "\u001b[0;31mKeyboardInterrupt\u001b[0m                         Traceback (most recent call last)",
      "\u001b[1;32m/Users/laurachristoph/Desktop/Bachelorarbeit/code.ipynb Zelle 42\u001b[0m line \u001b[0;36m6\n\u001b[1;32m      <a href='vscode-notebook-cell:/Users/laurachristoph/Desktop/Bachelorarbeit/code.ipynb#Y106sZmlsZQ%3D%3D?line=1'>2</a>\u001b[0m \u001b[39mimport\u001b[39;00m \u001b[39mpandas\u001b[39;00m \u001b[39mas\u001b[39;00m \u001b[39mpd\u001b[39;00m\n\u001b[1;32m      <a href='vscode-notebook-cell:/Users/laurachristoph/Desktop/Bachelorarbeit/code.ipynb#Y106sZmlsZQ%3D%3D?line=2'>3</a>\u001b[0m \u001b[39mimport\u001b[39;00m \u001b[39mglob\u001b[39;00m\n\u001b[0;32m----> <a href='vscode-notebook-cell:/Users/laurachristoph/Desktop/Bachelorarbeit/code.ipynb#Y106sZmlsZQ%3D%3D?line=5'>6</a>\u001b[0m run_parallel_prediction(\n\u001b[1;32m      <a href='vscode-notebook-cell:/Users/laurachristoph/Desktop/Bachelorarbeit/code.ipynb#Y106sZmlsZQ%3D%3D?line=6'>7</a>\u001b[0m     input_file\u001b[39m=\u001b[39;49m\u001b[39m\"\u001b[39;49m\u001b[39m/Volumes/X10 Pro/cleaned_dataset.tsv\u001b[39;49m\u001b[39m\"\u001b[39;49m,\n\u001b[1;32m      <a href='vscode-notebook-cell:/Users/laurachristoph/Desktop/Bachelorarbeit/code.ipynb#Y106sZmlsZQ%3D%3D?line=7'>8</a>\u001b[0m     model_path\u001b[39m=\u001b[39;49m\u001b[39m\"\u001b[39;49m\u001b[39mmini_reli_classifier\u001b[39;49m\u001b[39m\"\u001b[39;49m,\n\u001b[1;32m      <a href='vscode-notebook-cell:/Users/laurachristoph/Desktop/Bachelorarbeit/code.ipynb#Y106sZmlsZQ%3D%3D?line=8'>9</a>\u001b[0m     output_dir\u001b[39m=\u001b[39;49m\u001b[39m\"\u001b[39;49m\u001b[39m/Volumes/X10 Pro/predicted_chunks\u001b[39;49m\u001b[39m\"\u001b[39;49m,\n\u001b[1;32m     <a href='vscode-notebook-cell:/Users/laurachristoph/Desktop/Bachelorarbeit/code.ipynb#Y106sZmlsZQ%3D%3D?line=9'>10</a>\u001b[0m     chunk_size\u001b[39m=\u001b[39;49m\u001b[39m15000\u001b[39;49m,\n\u001b[1;32m     <a href='vscode-notebook-cell:/Users/laurachristoph/Desktop/Bachelorarbeit/code.ipynb#Y106sZmlsZQ%3D%3D?line=10'>11</a>\u001b[0m     batch_size\u001b[39m=\u001b[39;49m\u001b[39m32\u001b[39;49m,\n\u001b[1;32m     <a href='vscode-notebook-cell:/Users/laurachristoph/Desktop/Bachelorarbeit/code.ipynb#Y106sZmlsZQ%3D%3D?line=11'>12</a>\u001b[0m     num_workers\u001b[39m=\u001b[39;49m\u001b[39m4\u001b[39;49m  \u001b[39m# or leave None to auto-pick\u001b[39;49;00m\n\u001b[1;32m     <a href='vscode-notebook-cell:/Users/laurachristoph/Desktop/Bachelorarbeit/code.ipynb#Y106sZmlsZQ%3D%3D?line=12'>13</a>\u001b[0m )\n\u001b[1;32m     <a href='vscode-notebook-cell:/Users/laurachristoph/Desktop/Bachelorarbeit/code.ipynb#Y106sZmlsZQ%3D%3D?line=14'>15</a>\u001b[0m files \u001b[39m=\u001b[39m \u001b[39msorted\u001b[39m(glob\u001b[39m.\u001b[39mglob(\u001b[39m\"\u001b[39m\u001b[39m/Volumes/X10 Pro/predicted_chunks/chunk_*.tsv\u001b[39m\u001b[39m\"\u001b[39m))\n\u001b[1;32m     <a href='vscode-notebook-cell:/Users/laurachristoph/Desktop/Bachelorarbeit/code.ipynb#Y106sZmlsZQ%3D%3D?line=15'>16</a>\u001b[0m dfs \u001b[39m=\u001b[39m [pd\u001b[39m.\u001b[39mread_csv(f, sep\u001b[39m=\u001b[39m\u001b[39m\"\u001b[39m\u001b[39m\\t\u001b[39;00m\u001b[39m\"\u001b[39m) \u001b[39mfor\u001b[39;00m f \u001b[39min\u001b[39;00m files]\n",
      "File \u001b[0;32m~/Desktop/Bachelorarbeit/parallel_predict_religious.py:64\u001b[0m, in \u001b[0;36mrun_parallel_prediction\u001b[0;34m(input_file, model_path, output_dir, chunk_size, batch_size, num_workers)\u001b[0m\n\u001b[1;32m     62\u001b[0m \u001b[39mprint\u001b[39m(\u001b[39mf\u001b[39m\u001b[39m\"\u001b[39m\u001b[39m📦 Split into \u001b[39m\u001b[39m{\u001b[39;00mtotal_chunks\u001b[39m}\u001b[39;00m\u001b[39m chunks. Starting parallel prediction...\u001b[39m\u001b[39m\"\u001b[39m)\n\u001b[1;32m     63\u001b[0m \u001b[39mif\u001b[39;00m num_workers \u001b[39mis\u001b[39;00m \u001b[39mNone\u001b[39;00m:\n\u001b[0;32m---> 64\u001b[0m     num_workers \u001b[39m=\u001b[39m \u001b[39mmax\u001b[39m(\u001b[39m1\u001b[39m, cpu_count() \u001b[39m-\u001b[39m \u001b[39m1\u001b[39m)\n\u001b[1;32m     66\u001b[0m completed \u001b[39m=\u001b[39m \u001b[39m0\u001b[39m\n\u001b[1;32m     67\u001b[0m start_time \u001b[39m=\u001b[39m time\u001b[39m.\u001b[39mtime()\n",
      "File \u001b[0;32m/Library/Frameworks/Python.framework/Versions/3.11/lib/python3.11/multiprocessing/pool.py:367\u001b[0m, in \u001b[0;36mPool.map\u001b[0;34m(self, func, iterable, chunksize)\u001b[0m\n\u001b[1;32m    362\u001b[0m \u001b[39mdef\u001b[39;00m \u001b[39mmap\u001b[39m(\u001b[39mself\u001b[39m, func, iterable, chunksize\u001b[39m=\u001b[39m\u001b[39mNone\u001b[39;00m):\n\u001b[1;32m    363\u001b[0m \u001b[39m    \u001b[39m\u001b[39m'''\u001b[39;00m\n\u001b[1;32m    364\u001b[0m \u001b[39m    Apply `func` to each element in `iterable`, collecting the results\u001b[39;00m\n\u001b[1;32m    365\u001b[0m \u001b[39m    in a list that is returned.\u001b[39;00m\n\u001b[1;32m    366\u001b[0m \u001b[39m    '''\u001b[39;00m\n\u001b[0;32m--> 367\u001b[0m     \u001b[39mreturn\u001b[39;00m \u001b[39mself\u001b[39;49m\u001b[39m.\u001b[39;49m_map_async(func, iterable, mapstar, chunksize)\u001b[39m.\u001b[39;49mget()\n",
      "File \u001b[0;32m/Library/Frameworks/Python.framework/Versions/3.11/lib/python3.11/multiprocessing/pool.py:768\u001b[0m, in \u001b[0;36mApplyResult.get\u001b[0;34m(self, timeout)\u001b[0m\n\u001b[1;32m    767\u001b[0m \u001b[39mdef\u001b[39;00m \u001b[39mget\u001b[39m(\u001b[39mself\u001b[39m, timeout\u001b[39m=\u001b[39m\u001b[39mNone\u001b[39;00m):\n\u001b[0;32m--> 768\u001b[0m     \u001b[39mself\u001b[39;49m\u001b[39m.\u001b[39;49mwait(timeout)\n\u001b[1;32m    769\u001b[0m     \u001b[39mif\u001b[39;00m \u001b[39mnot\u001b[39;00m \u001b[39mself\u001b[39m\u001b[39m.\u001b[39mready():\n\u001b[1;32m    770\u001b[0m         \u001b[39mraise\u001b[39;00m \u001b[39mTimeoutError\u001b[39;00m\n",
      "File \u001b[0;32m/Library/Frameworks/Python.framework/Versions/3.11/lib/python3.11/multiprocessing/pool.py:765\u001b[0m, in \u001b[0;36mApplyResult.wait\u001b[0;34m(self, timeout)\u001b[0m\n\u001b[1;32m    764\u001b[0m \u001b[39mdef\u001b[39;00m \u001b[39mwait\u001b[39m(\u001b[39mself\u001b[39m, timeout\u001b[39m=\u001b[39m\u001b[39mNone\u001b[39;00m):\n\u001b[0;32m--> 765\u001b[0m     \u001b[39mself\u001b[39;49m\u001b[39m.\u001b[39;49m_event\u001b[39m.\u001b[39;49mwait(timeout)\n",
      "File \u001b[0;32m/Library/Frameworks/Python.framework/Versions/3.11/lib/python3.11/threading.py:622\u001b[0m, in \u001b[0;36mEvent.wait\u001b[0;34m(self, timeout)\u001b[0m\n\u001b[1;32m    620\u001b[0m signaled \u001b[39m=\u001b[39m \u001b[39mself\u001b[39m\u001b[39m.\u001b[39m_flag\n\u001b[1;32m    621\u001b[0m \u001b[39mif\u001b[39;00m \u001b[39mnot\u001b[39;00m signaled:\n\u001b[0;32m--> 622\u001b[0m     signaled \u001b[39m=\u001b[39m \u001b[39mself\u001b[39;49m\u001b[39m.\u001b[39;49m_cond\u001b[39m.\u001b[39;49mwait(timeout)\n\u001b[1;32m    623\u001b[0m \u001b[39mreturn\u001b[39;00m signaled\n",
      "File \u001b[0;32m/Library/Frameworks/Python.framework/Versions/3.11/lib/python3.11/threading.py:320\u001b[0m, in \u001b[0;36mCondition.wait\u001b[0;34m(self, timeout)\u001b[0m\n\u001b[1;32m    318\u001b[0m \u001b[39mtry\u001b[39;00m:    \u001b[39m# restore state no matter what (e.g., KeyboardInterrupt)\u001b[39;00m\n\u001b[1;32m    319\u001b[0m     \u001b[39mif\u001b[39;00m timeout \u001b[39mis\u001b[39;00m \u001b[39mNone\u001b[39;00m:\n\u001b[0;32m--> 320\u001b[0m         waiter\u001b[39m.\u001b[39;49macquire()\n\u001b[1;32m    321\u001b[0m         gotit \u001b[39m=\u001b[39m \u001b[39mTrue\u001b[39;00m\n\u001b[1;32m    322\u001b[0m     \u001b[39melse\u001b[39;00m:\n",
      "\u001b[0;31mKeyboardInterrupt\u001b[0m: "
     ]
    }
   ],
   "source": [
    "from parallel_predict_religious import run_parallel_prediction\n",
    "import pandas as pd\n",
    "import glob\n",
    "\n",
    "\n",
    "run_parallel_prediction(\n",
    "    input_file=\"/Volumes/X10 Pro/cleaned_dataset.tsv\",\n",
    "    model_path=\"mini_reli_classifier\",\n",
    "    output_dir=\"/Volumes/X10 Pro/predicted_chunks\",\n",
    "    chunk_size=15000,\n",
    "    batch_size=32,\n",
    "    num_workers=4  # or leave None to auto-pick\n",
    ")\n",
    "\n",
    "files = sorted(glob.glob(\"/Volumes/X10 Pro/predicted_chunks/chunk_*.tsv\"))\n",
    "dfs = [pd.read_csv(f, sep=\"\\t\") for f in files]\n",
    "pd.concat(dfs).to_csv(\"/Volumes/X10 Pro/complete_relipred_miniclassifier.tsv\", sep=\"\\t\", index=False)"
   ]
  },
  {
   "cell_type": "markdown",
   "metadata": {},
   "source": []
  },
  {
   "cell_type": "code",
   "execution_count": null,
   "metadata": {},
   "outputs": [],
   "source": [
    "import pandas as pd\n",
    "import glob\n",
    "\n",
    "# Get a sorted list of all chunk file paths\n",
    "files = sorted(glob.glob(\"/Volumes/X10 Pro/predicted_chunks/chunk_*.tsv\"))\n",
    "\n",
    "# Read each file (Pandas automatically uses the first row as the header)\n",
    "dfs = [pd.read_csv(f, sep=\"\\t\") for f in files]\n",
    "\n",
    "# Concatenate all DataFrames; the headers are not repeated in the data\n",
    "merged_df = pd.concat(dfs, ignore_index=True)\n",
    "\n",
    "# Save the merged DataFrame to a new TSV file with a single header\n",
    "merged_df.to_csv(\"/Volumes/X10 Pro/merged_predicted_chunks.tsv\", sep=\"\\t\", index=False)\n",
    "\n",
    "print(\"Merged file saved as '/Volumes/X10 Pro/merged_reli_chunks_2603.tsv'\")"
   ]
  }
 ],
 "metadata": {
  "kernelspec": {
   "display_name": "Python 3",
   "language": "python",
   "name": "python3"
  },
  "language_info": {
   "codemirror_mode": {
    "name": "ipython",
    "version": 3
   },
   "file_extension": ".py",
   "mimetype": "text/x-python",
   "name": "python",
   "nbconvert_exporter": "python",
   "pygments_lexer": "ipython3",
   "version": "3.11.3"
  }
 },
 "nbformat": 4,
 "nbformat_minor": 2
}
